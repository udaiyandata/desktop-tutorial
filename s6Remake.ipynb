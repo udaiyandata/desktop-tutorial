{
 "cells": [
  {
   "cell_type": "code",
   "execution_count": 97,
   "metadata": {},
   "outputs": [],
   "source": [
    "#selenium is used for extract data from website\n",
    "#using google chrome\n",
    "#trak.in website is used and the search button is used search  for user words\n",
    "\n",
    "import pandas as pd\n",
    "import selenium\n",
    "from selenium import webdriver\n",
    "import time\n",
    "from selenium.common.exceptions import NoSuchElementException"
   ]
  },
  {
   "cell_type": "code",
   "execution_count": 98,
   "metadata": {},
   "outputs": [],
   "source": [
    "driver = webdriver.Chrome(\"Chromedriver.exe\")"
   ]
  },
  {
   "cell_type": "code",
   "execution_count": 99,
   "metadata": {},
   "outputs": [],
   "source": [
    "url = 'https://trak.in/'\n",
    "driver.get(url)"
   ]
  },
  {
   "cell_type": "code",
   "execution_count": null,
   "metadata": {},
   "outputs": [],
   "source": []
  },
  {
   "cell_type": "code",
   "execution_count": 100,
   "metadata": {},
   "outputs": [],
   "source": [
    "#clicking the funding button\n",
    "search_job = driver.find_element_by_id(\"menu-item-51510\")\n",
    "search_job.click()"
   ]
  },
  {
   "cell_type": "code",
   "execution_count": 101,
   "metadata": {},
   "outputs": [],
   "source": [
    "#extract the value for july20\n",
    "july=driver.find_elements_by_xpath('//table[@id=\"tablepress-48\"]/tbody/tr/td[2]')"
   ]
  },
  {
   "cell_type": "code",
   "execution_count": 102,
   "metadata": {},
   "outputs": [],
   "source": []
  },
  {
   "cell_type": "code",
   "execution_count": 103,
   "metadata": {},
   "outputs": [
    {
     "data": {
      "text/plain": [
       "[<selenium.webdriver.remote.webelement.WebElement (session=\"b5c2eb5da253d2bd1afb44450b85affd\", element=\"5d7d24af-5862-4d24-8178-826f9c04d700\")>,\n",
       " <selenium.webdriver.remote.webelement.WebElement (session=\"b5c2eb5da253d2bd1afb44450b85affd\", element=\"29a71338-0925-4382-ab9f-88bb3eeb854b\")>,\n",
       " <selenium.webdriver.remote.webelement.WebElement (session=\"b5c2eb5da253d2bd1afb44450b85affd\", element=\"5917d3f3-f9d1-47de-a709-99bf80f44262\")>,\n",
       " <selenium.webdriver.remote.webelement.WebElement (session=\"b5c2eb5da253d2bd1afb44450b85affd\", element=\"253f5538-9ce4-4fef-beaf-4995fb370f37\")>,\n",
       " <selenium.webdriver.remote.webelement.WebElement (session=\"b5c2eb5da253d2bd1afb44450b85affd\", element=\"65a6af41-600c-4027-9e43-0b1de9db3c8a\")>,\n",
       " <selenium.webdriver.remote.webelement.WebElement (session=\"b5c2eb5da253d2bd1afb44450b85affd\", element=\"372f2275-f588-4ff6-9834-b62f9a92957f\")>,\n",
       " <selenium.webdriver.remote.webelement.WebElement (session=\"b5c2eb5da253d2bd1afb44450b85affd\", element=\"12739517-322e-4d10-b3fd-e9b1fc3f16eb\")>,\n",
       " <selenium.webdriver.remote.webelement.WebElement (session=\"b5c2eb5da253d2bd1afb44450b85affd\", element=\"bf4ab2f0-ced1-436b-b1b4-c514bc6f18e8\")>,\n",
       " <selenium.webdriver.remote.webelement.WebElement (session=\"b5c2eb5da253d2bd1afb44450b85affd\", element=\"71f78ea2-206f-4603-b250-20c850825a82\")>,\n",
       " <selenium.webdriver.remote.webelement.WebElement (session=\"b5c2eb5da253d2bd1afb44450b85affd\", element=\"8a03aca8-f4bd-4d22-860d-c74a3580a087\")>]"
      ]
     },
     "execution_count": 103,
     "metadata": {},
     "output_type": "execute_result"
    }
   ],
   "source": [
    "july"
   ]
  },
  {
   "cell_type": "code",
   "execution_count": 104,
   "metadata": {},
   "outputs": [
    {
     "data": {
      "text/plain": [
       "['15/07/2020',\n",
       " '16/07/2020',\n",
       " '16/07/2020',\n",
       " '14/07/2020',\n",
       " '13/07/2020',\n",
       " '09/07/2020',\n",
       " '10/07/2020',\n",
       " '15/07/2020',\n",
       " '14/07/2020',\n",
       " '13/07/2020']"
      ]
     },
     "execution_count": 104,
     "metadata": {},
     "output_type": "execute_result"
    }
   ],
   "source": [
    "day = []\n",
    "for i in july:\n",
    "    day.append(i.text)\n",
    "day"
   ]
  },
  {
   "cell_type": "code",
   "execution_count": 105,
   "metadata": {},
   "outputs": [],
   "source": [
    "julystartup=driver.find_elements_by_xpath('//*[@id=\"tablepress-48\"]/tbody/tr/td[3]')"
   ]
  },
  {
   "cell_type": "code",
   "execution_count": 106,
   "metadata": {},
   "outputs": [
    {
     "data": {
      "text/plain": [
       "['Flipkart',\n",
       " 'Vedantu',\n",
       " 'Crio',\n",
       " 'goDutch',\n",
       " 'Mystifly',\n",
       " 'JetSynthesys',\n",
       " 'gigIndia',\n",
       " 'PumPumPum',\n",
       " 'FLYX',\n",
       " 'Open Appliances Pvt. Ltd.']"
      ]
     },
     "execution_count": 106,
     "metadata": {},
     "output_type": "execute_result"
    }
   ],
   "source": [
    "startup = []\n",
    "for i in julystartup:\n",
    "    startup.append(i.text)\n",
    "startup"
   ]
  },
  {
   "cell_type": "code",
   "execution_count": null,
   "metadata": {
    "scrolled": true
   },
   "outputs": [],
   "source": [
    "\n",
    "\n",
    "\n"
   ]
  },
  {
   "cell_type": "code",
   "execution_count": 107,
   "metadata": {},
   "outputs": [],
   "source": [
    "#getting value july2020 value\n",
    "industry=driver.find_elements_by_xpath('//*[@id=\"tablepress-48\"]/tbody/tr/td[4]')\n",
    "sub=driver.find_elements_by_xpath('//*[@id=\"tablepress-48\"]/tbody/tr/td[5]')\n",
    "city=driver.find_elements_by_xpath('//*[@id=\"tablepress-48\"]/tbody/tr/td[6]')\n",
    "investor=driver.find_elements_by_xpath('//*[@id=\"tablepress-48\"]/tbody/tr/td[7]')\n",
    "investment=driver.find_elements_by_xpath('//*[@id=\"tablepress-48\"]/tbody/tr/td[8]')\n",
    "amount=driver.find_elements_by_xpath('//*[@id=\"tablepress-48\"]/tbody/tr/td[9]')"
   ]
  },
  {
   "cell_type": "code",
   "execution_count": 108,
   "metadata": {},
   "outputs": [
    {
     "data": {
      "text/plain": [
       "[<selenium.webdriver.remote.webelement.WebElement (session=\"b5c2eb5da253d2bd1afb44450b85affd\", element=\"1dcc17d7-2b9f-414a-92f6-b0d8f97dd881\")>,\n",
       " <selenium.webdriver.remote.webelement.WebElement (session=\"b5c2eb5da253d2bd1afb44450b85affd\", element=\"94a1638c-a056-44cc-9b6f-9b2948734ebe\")>,\n",
       " <selenium.webdriver.remote.webelement.WebElement (session=\"b5c2eb5da253d2bd1afb44450b85affd\", element=\"a065e455-e135-446f-97f2-1581b1891bd3\")>,\n",
       " <selenium.webdriver.remote.webelement.WebElement (session=\"b5c2eb5da253d2bd1afb44450b85affd\", element=\"9ef22eac-0332-47d1-9805-462254c69ed2\")>,\n",
       " <selenium.webdriver.remote.webelement.WebElement (session=\"b5c2eb5da253d2bd1afb44450b85affd\", element=\"1c2ab13d-9260-41c7-aa79-32786d10585a\")>,\n",
       " <selenium.webdriver.remote.webelement.WebElement (session=\"b5c2eb5da253d2bd1afb44450b85affd\", element=\"ef557b27-f8ce-4811-9dd9-5ab0bcbceb5b\")>,\n",
       " <selenium.webdriver.remote.webelement.WebElement (session=\"b5c2eb5da253d2bd1afb44450b85affd\", element=\"793cb1f8-a4fc-4cce-b738-88062e22ee32\")>,\n",
       " <selenium.webdriver.remote.webelement.WebElement (session=\"b5c2eb5da253d2bd1afb44450b85affd\", element=\"2ca4ff92-abd8-46ed-be1a-96242a10b2ee\")>,\n",
       " <selenium.webdriver.remote.webelement.WebElement (session=\"b5c2eb5da253d2bd1afb44450b85affd\", element=\"e56c029a-4e57-4117-9eed-94c12147112c\")>,\n",
       " <selenium.webdriver.remote.webelement.WebElement (session=\"b5c2eb5da253d2bd1afb44450b85affd\", element=\"bdd2caa0-6bc9-4ed0-b562-d19b2868ed85\")>]"
      ]
     },
     "execution_count": 108,
     "metadata": {},
     "output_type": "execute_result"
    }
   ],
   "source": [
    "industry"
   ]
  },
  {
   "cell_type": "code",
   "execution_count": 109,
   "metadata": {},
   "outputs": [
    {
     "data": {
      "text/plain": [
       "['E-commerce',\n",
       " 'EduTech',\n",
       " 'EduTech',\n",
       " 'FinTech',\n",
       " 'Airfare Marketplace',\n",
       " 'Gaming and Entertainment',\n",
       " 'Marketplace',\n",
       " 'Automotive Rental',\n",
       " 'OTT Player',\n",
       " 'Information Technology']"
      ]
     },
     "execution_count": 109,
     "metadata": {},
     "output_type": "execute_result"
    }
   ],
   "source": [
    "industry_vertical = []\n",
    "for i in industry:\n",
    "    industry_vertical.append(i.text)\n",
    "industry_vertical\n",
    "\n",
    "\n"
   ]
  },
  {
   "cell_type": "code",
   "execution_count": 110,
   "metadata": {},
   "outputs": [
    {
     "data": {
      "text/plain": [
       "['E-commerce',\n",
       " 'Online Tutoring',\n",
       " 'Learning Platform for Developers',\n",
       " 'Group Payments',\n",
       " 'Ticketing, Airline Retailing, and Post-Ticketing Services',\n",
       " 'Gaming and Entertainment',\n",
       " 'Crowd Sourcing, Freelance',\n",
       " 'Used Car-leasing platform',\n",
       " 'Streaming Social Network',\n",
       " 'Internet-of-Things Security Solutions']"
      ]
     },
     "execution_count": 110,
     "metadata": {},
     "output_type": "execute_result"
    }
   ],
   "source": [
    "sub_vertical = []\n",
    "for i in sub:\n",
    "    sub_vertical.append(i.text)\n",
    "sub_vertical"
   ]
  },
  {
   "cell_type": "code",
   "execution_count": 111,
   "metadata": {},
   "outputs": [
    {
     "data": {
      "text/plain": [
       "['Bangalore',\n",
       " 'Bangalore',\n",
       " 'Bangalore',\n",
       " 'Mumbai',\n",
       " 'Singapore and Bangalore',\n",
       " 'Pune',\n",
       " 'Pune',\n",
       " 'Gurgaon',\n",
       " 'New York and Delhi',\n",
       " 'Bangalore']"
      ]
     },
     "execution_count": 111,
     "metadata": {},
     "output_type": "execute_result"
    }
   ],
   "source": [
    "city_location = []\n",
    "for i in city:\n",
    "    city_location.append(i.text)\n",
    "city_location"
   ]
  },
  {
   "cell_type": "code",
   "execution_count": 112,
   "metadata": {},
   "outputs": [
    {
     "data": {
      "text/plain": [
       "['Walmart Inc',\n",
       " 'Coatue Management',\n",
       " '021 Capital',\n",
       " 'Matrix India,Y Combinator, Global Founders Capital, Soma Capital, and VentureSouq.',\n",
       " 'Recruit Co. Ltd.',\n",
       " 'Adar Poonawalla and Kris Gopalakrishnan.',\n",
       " 'Incubate Fund India and Beyond Next Ventures',\n",
       " 'Early Adapters Syndicate',\n",
       " 'Raj Mishra, founder of AIT Global Inc',\n",
       " 'Unicorn India Ventures']"
      ]
     },
     "execution_count": 112,
     "metadata": {},
     "output_type": "execute_result"
    }
   ],
   "source": [
    "investor_name = []\n",
    "for i in investor:\n",
    "    investor_name.append(i.text)\n",
    "investor_name"
   ]
  },
  {
   "cell_type": "code",
   "execution_count": 113,
   "metadata": {},
   "outputs": [
    {
     "data": {
      "text/plain": [
       "['M&A',\n",
       " 'Series D',\n",
       " 'pre-Series A',\n",
       " 'Seed',\n",
       " 'pre-Series B',\n",
       " 'Venture-Series Unknown',\n",
       " 'pre-Series A',\n",
       " 'Seed',\n",
       " 'pre-Seed',\n",
       " 'Venture-Series Unknown']"
      ]
     },
     "execution_count": 113,
     "metadata": {},
     "output_type": "execute_result"
    }
   ],
   "source": [
    "investment_type = []\n",
    "for i in investment:\n",
    "    investment_type.append(i.text)\n",
    "investment_type"
   ]
  },
  {
   "cell_type": "code",
   "execution_count": 114,
   "metadata": {},
   "outputs": [
    {
     "data": {
      "text/plain": [
       "['1,200,000,000',\n",
       " '100,000,000',\n",
       " '934,160',\n",
       " '1,700,000',\n",
       " '3,300,000',\n",
       " '400,000',\n",
       " '974,200',\n",
       " '292,800',\n",
       " '200,000',\n",
       " '500,000']"
      ]
     },
     "execution_count": 114,
     "metadata": {},
     "output_type": "execute_result"
    }
   ],
   "source": [
    "amount_in_usd = []\n",
    "for i in amount:\n",
    "    amount_in_usd.append(i.text)\n",
    "amount_in_usd"
   ]
  },
  {
   "cell_type": "code",
   "execution_count": 115,
   "metadata": {},
   "outputs": [
    {
     "name": "stdout",
     "output_type": "stream",
     "text": [
      "10\n",
      "10\n",
      "10\n",
      "10\n",
      "10\n",
      "10\n",
      "10\n"
     ]
    }
   ],
   "source": [
    "print(len(day))\n",
    "print(len(startup))\n",
    "print(len(sub_vertical))\n",
    "print(len(city_location))\n",
    "print(len(investor_name))\n",
    "print(len(investment_type))\n",
    "print(len(amount_in_usd))\n"
   ]
  },
  {
   "cell_type": "code",
   "execution_count": 116,
   "metadata": {},
   "outputs": [],
   "source": [
    "df=pd.DataFrame({})\n",
    "df['day']=day\n",
    "df['startup']=startup\n",
    "df['city_location']=city_location\n",
    "df['investor_name']=investor_name\n",
    "df['investment_type']=investment_type\n",
    "df['amount_in_usd']=amount_in_usd\n",
    "\n",
    "\n",
    "\n"
   ]
  },
  {
   "cell_type": "code",
   "execution_count": 117,
   "metadata": {},
   "outputs": [],
   "source": [
    " July20=df"
   ]
  },
  {
   "cell_type": "code",
   "execution_count": 126,
   "metadata": {},
   "outputs": [],
   "source": [
    " #July20"
   ]
  },
  {
   "cell_type": "code",
   "execution_count": null,
   "metadata": {},
   "outputs": [],
   "source": []
  },
  {
   "cell_type": "code",
   "execution_count": 120,
   "metadata": {},
   "outputs": [],
   "source": [
    "#getting value September20 value\n",
    "july=driver.find_elements_by_xpath('//table[@id=\"tablepress-50\"]/tbody/tr/td[2]')\n",
    "julystartup=driver.find_elements_by_xpath('//*[@id=\"tablepress-50\"]/tbody/tr/td[3]')\n",
    "industry=driver.find_elements_by_xpath('//*[@id=\"tablepress-50\"]/tbody/tr/td[4]')\n",
    "sub=driver.find_elements_by_xpath('//*[@id=\"tablepress-50\"]/tbody/tr/td[5]')\n",
    "city=driver.find_elements_by_xpath('//*[@id=\"tablepress-50\"]/tbody/tr/td[6]')\n",
    "investor=driver.find_elements_by_xpath('//*[@id=\"tablepress-50\"]/tbody/tr/td[7]')\n",
    "investment=driver.find_elements_by_xpath('//*[@id=\"tablepress-50\"]/tbody/tr/td[8]')\n",
    "amount=driver.find_elements_by_xpath('//*[@id=\"tablepress-50\"]/tbody/tr/td[9]')"
   ]
  },
  {
   "cell_type": "code",
   "execution_count": 121,
   "metadata": {},
   "outputs": [
    {
     "data": {
      "text/plain": [
       "['08/09/2020',\n",
       " '12/09/2020',\n",
       " '09/09/2020',\n",
       " '02/09/2020',\n",
       " '09/09/2020',\n",
       " '07/09/2020',\n",
       " '07/09/2020',\n",
       " '31/08/2020',\n",
       " '31/08/2020',\n",
       " '03/09/2020']"
      ]
     },
     "execution_count": 121,
     "metadata": {},
     "output_type": "execute_result"
    }
   ],
   "source": [
    "day = []\n",
    "for i in july:\n",
    "    day.append(i.text)\n",
    "day"
   ]
  },
  {
   "cell_type": "code",
   "execution_count": 122,
   "metadata": {},
   "outputs": [
    {
     "name": "stdout",
     "output_type": "stream",
     "text": [
      "10\n",
      "10\n",
      "10\n",
      "10\n",
      "10\n",
      "10\n",
      "10\n"
     ]
    }
   ],
   "source": [
    "startup = []\n",
    "for i in julystartup:\n",
    "    startup.append(i.text)\n",
    "startup\n",
    "\n",
    "industry_vertical = []\n",
    "for i in industry:\n",
    "    industry_vertical.append(i.text)\n",
    "industry_vertical\n",
    "\n",
    "sub_vertical = []\n",
    "for i in sub:\n",
    "    sub_vertical.append(i.text)\n",
    "sub_vertical\n",
    "\n",
    "city_location = []\n",
    "for i in city:\n",
    "    city_location.append(i.text)\n",
    "city_location\n",
    "\n",
    "investor_name = []\n",
    "for i in investor:\n",
    "    investor_name.append(i.text)\n",
    "investor_name\n",
    "\n",
    "investment_type = []\n",
    "for i in investment:\n",
    "    investment_type.append(i.text)\n",
    "investment_type\n",
    "\n",
    "amount_in_usd = []\n",
    "for i in amount:\n",
    "    amount_in_usd.append(i.text)\n",
    "amount_in_usd\n",
    "\n",
    "print(len(day))\n",
    "print(len(startup))\n",
    "print(len(sub_vertical))\n",
    "print(len(city_location))\n",
    "print(len(investor_name))\n",
    "print(len(investment_type))\n",
    "print(len(amount_in_usd))\n",
    "\n",
    "df=pd.DataFrame({})\n",
    "df['day']=day\n",
    "df['startup']=startup\n",
    "df['city_location']=city_location\n",
    "df['investor_name']=investor_name\n",
    "df['investment_type']=investment_type\n",
    "df['amount_in_usd']=amount_in_usd\n",
    "\n",
    "September20=df\n",
    "\n",
    "\n"
   ]
  },
  {
   "cell_type": "code",
   "execution_count": 123,
   "metadata": {},
   "outputs": [
    {
     "data": {
      "text/html": [
       "<div>\n",
       "<style scoped>\n",
       "    .dataframe tbody tr th:only-of-type {\n",
       "        vertical-align: middle;\n",
       "    }\n",
       "\n",
       "    .dataframe tbody tr th {\n",
       "        vertical-align: top;\n",
       "    }\n",
       "\n",
       "    .dataframe thead th {\n",
       "        text-align: right;\n",
       "    }\n",
       "</style>\n",
       "<table border=\"1\" class=\"dataframe\">\n",
       "  <thead>\n",
       "    <tr style=\"text-align: right;\">\n",
       "      <th></th>\n",
       "      <th>day</th>\n",
       "      <th>startup</th>\n",
       "      <th>city_location</th>\n",
       "      <th>investor_name</th>\n",
       "      <th>investment_type</th>\n",
       "      <th>amount_in_usd</th>\n",
       "    </tr>\n",
       "  </thead>\n",
       "  <tbody>\n",
       "    <tr>\n",
       "      <th>0</th>\n",
       "      <td>08/09/2020</td>\n",
       "      <td>Byju’s</td>\n",
       "      <td>Bangalore</td>\n",
       "      <td>Silver Lake, Tiger Global, General Atlantic an...</td>\n",
       "      <td>Private Equity</td>\n",
       "      <td>500,000,000</td>\n",
       "    </tr>\n",
       "    <tr>\n",
       "      <th>1</th>\n",
       "      <td>12/09/2020</td>\n",
       "      <td>mCaffeine</td>\n",
       "      <td>Mumbai</td>\n",
       "      <td>Amicus Capital Private Equity I LLP, Amicus Ca...</td>\n",
       "      <td>Series B</td>\n",
       "      <td>3,000,000</td>\n",
       "    </tr>\n",
       "    <tr>\n",
       "      <th>2</th>\n",
       "      <td>09/09/2020</td>\n",
       "      <td>Qshala</td>\n",
       "      <td>Bangalore</td>\n",
       "      <td>Rainmatter Capital</td>\n",
       "      <td>Angel</td>\n",
       "      <td>370,000</td>\n",
       "    </tr>\n",
       "    <tr>\n",
       "      <th>3</th>\n",
       "      <td>02/09/2020</td>\n",
       "      <td>Winzo</td>\n",
       "      <td>New Delhi</td>\n",
       "      <td>Kalaari Capital Partners, IndigoEdge Managemen...</td>\n",
       "      <td>Series B</td>\n",
       "      <td>15,500,000</td>\n",
       "    </tr>\n",
       "    <tr>\n",
       "      <th>4</th>\n",
       "      <td>09/09/2020</td>\n",
       "      <td>Hippo Video</td>\n",
       "      <td>Newark, Delaware, United States of Amercia</td>\n",
       "      <td>Alpha Wave Incubation, Exfinity Venture Partne...</td>\n",
       "      <td>Series A</td>\n",
       "      <td>4,500,000</td>\n",
       "    </tr>\n",
       "    <tr>\n",
       "      <th>5</th>\n",
       "      <td>07/09/2020</td>\n",
       "      <td>Melorra</td>\n",
       "      <td>Bangalore</td>\n",
       "      <td>Shadow Holdings, Lightbox.</td>\n",
       "      <td>Debt Financing</td>\n",
       "      <td>upto 8,900,000</td>\n",
       "    </tr>\n",
       "    <tr>\n",
       "      <th>6</th>\n",
       "      <td>07/09/2020</td>\n",
       "      <td>1mg</td>\n",
       "      <td>Gurgaon</td>\n",
       "      <td>Gaja Capital, Tata Capital, Partners Group</td>\n",
       "      <td>In Progress</td>\n",
       "      <td>100,000,000</td>\n",
       "    </tr>\n",
       "    <tr>\n",
       "      <th>7</th>\n",
       "      <td>31/08/2020</td>\n",
       "      <td>mfine</td>\n",
       "      <td>Bangalore</td>\n",
       "      <td>Caretech Pte Inc</td>\n",
       "      <td>Series B</td>\n",
       "      <td>5,400,000</td>\n",
       "    </tr>\n",
       "    <tr>\n",
       "      <th>8</th>\n",
       "      <td>31/08/2020</td>\n",
       "      <td>Apna</td>\n",
       "      <td>Bangalore</td>\n",
       "      <td>Lightspeed India and Sequoia Capital India</td>\n",
       "      <td>Series A</td>\n",
       "      <td>8,000,000</td>\n",
       "    </tr>\n",
       "    <tr>\n",
       "      <th>9</th>\n",
       "      <td>03/09/2020</td>\n",
       "      <td>Railofy</td>\n",
       "      <td>Mumbai</td>\n",
       "      <td>Chiratae Ventures</td>\n",
       "      <td>Seed</td>\n",
       "      <td>950,000</td>\n",
       "    </tr>\n",
       "  </tbody>\n",
       "</table>\n",
       "</div>"
      ],
      "text/plain": [
       "          day      startup                               city_location  \\\n",
       "0  08/09/2020       Byju’s                                   Bangalore   \n",
       "1  12/09/2020    mCaffeine                                      Mumbai   \n",
       "2  09/09/2020       Qshala                                   Bangalore   \n",
       "3  02/09/2020        Winzo                                   New Delhi   \n",
       "4  09/09/2020  Hippo Video  Newark, Delaware, United States of Amercia   \n",
       "5  07/09/2020      Melorra                                   Bangalore   \n",
       "6  07/09/2020          1mg                                     Gurgaon   \n",
       "7  31/08/2020        mfine                                   Bangalore   \n",
       "8  31/08/2020         Apna                                   Bangalore   \n",
       "9  03/09/2020      Railofy                                      Mumbai   \n",
       "\n",
       "                                       investor_name investment_type  \\\n",
       "0  Silver Lake, Tiger Global, General Atlantic an...  Private Equity   \n",
       "1  Amicus Capital Private Equity I LLP, Amicus Ca...        Series B   \n",
       "2                                 Rainmatter Capital           Angel   \n",
       "3  Kalaari Capital Partners, IndigoEdge Managemen...        Series B   \n",
       "4  Alpha Wave Incubation, Exfinity Venture Partne...        Series A   \n",
       "5                         Shadow Holdings, Lightbox.  Debt Financing   \n",
       "6         Gaja Capital, Tata Capital, Partners Group     In Progress   \n",
       "7                                   Caretech Pte Inc        Series B   \n",
       "8         Lightspeed India and Sequoia Capital India        Series A   \n",
       "9                                  Chiratae Ventures            Seed   \n",
       "\n",
       "    amount_in_usd  \n",
       "0     500,000,000  \n",
       "1       3,000,000  \n",
       "2         370,000  \n",
       "3      15,500,000  \n",
       "4       4,500,000  \n",
       "5  upto 8,900,000  \n",
       "6     100,000,000  \n",
       "7       5,400,000  \n",
       "8       8,000,000  \n",
       "9         950,000  "
      ]
     },
     "execution_count": 123,
     "metadata": {},
     "output_type": "execute_result"
    }
   ],
   "source": [
    "September20"
   ]
  },
  {
   "cell_type": "code",
   "execution_count": 125,
   "metadata": {},
   "outputs": [
    {
     "data": {
      "text/html": [
       "<div>\n",
       "<style scoped>\n",
       "    .dataframe tbody tr th:only-of-type {\n",
       "        vertical-align: middle;\n",
       "    }\n",
       "\n",
       "    .dataframe tbody tr th {\n",
       "        vertical-align: top;\n",
       "    }\n",
       "\n",
       "    .dataframe thead th {\n",
       "        text-align: right;\n",
       "    }\n",
       "</style>\n",
       "<table border=\"1\" class=\"dataframe\">\n",
       "  <thead>\n",
       "    <tr style=\"text-align: right;\">\n",
       "      <th></th>\n",
       "      <th>day</th>\n",
       "      <th>startup</th>\n",
       "      <th>city_location</th>\n",
       "      <th>investor_name</th>\n",
       "      <th>investment_type</th>\n",
       "      <th>amount_in_usd</th>\n",
       "    </tr>\n",
       "  </thead>\n",
       "  <tbody>\n",
       "    <tr>\n",
       "      <th>0</th>\n",
       "      <td>15/07/2020</td>\n",
       "      <td>Flipkart</td>\n",
       "      <td>Bangalore</td>\n",
       "      <td>Walmart Inc</td>\n",
       "      <td>M&amp;A</td>\n",
       "      <td>1,200,000,000</td>\n",
       "    </tr>\n",
       "    <tr>\n",
       "      <th>1</th>\n",
       "      <td>16/07/2020</td>\n",
       "      <td>Vedantu</td>\n",
       "      <td>Bangalore</td>\n",
       "      <td>Coatue Management</td>\n",
       "      <td>Series D</td>\n",
       "      <td>100,000,000</td>\n",
       "    </tr>\n",
       "    <tr>\n",
       "      <th>2</th>\n",
       "      <td>16/07/2020</td>\n",
       "      <td>Crio</td>\n",
       "      <td>Bangalore</td>\n",
       "      <td>021 Capital</td>\n",
       "      <td>pre-Series A</td>\n",
       "      <td>934,160</td>\n",
       "    </tr>\n",
       "    <tr>\n",
       "      <th>3</th>\n",
       "      <td>14/07/2020</td>\n",
       "      <td>goDutch</td>\n",
       "      <td>Mumbai</td>\n",
       "      <td>Matrix India,Y Combinator, Global Founders Cap...</td>\n",
       "      <td>Seed</td>\n",
       "      <td>1,700,000</td>\n",
       "    </tr>\n",
       "    <tr>\n",
       "      <th>4</th>\n",
       "      <td>13/07/2020</td>\n",
       "      <td>Mystifly</td>\n",
       "      <td>Singapore and Bangalore</td>\n",
       "      <td>Recruit Co. Ltd.</td>\n",
       "      <td>pre-Series B</td>\n",
       "      <td>3,300,000</td>\n",
       "    </tr>\n",
       "    <tr>\n",
       "      <th>5</th>\n",
       "      <td>09/07/2020</td>\n",
       "      <td>JetSynthesys</td>\n",
       "      <td>Pune</td>\n",
       "      <td>Adar Poonawalla and Kris Gopalakrishnan.</td>\n",
       "      <td>Venture-Series Unknown</td>\n",
       "      <td>400,000</td>\n",
       "    </tr>\n",
       "    <tr>\n",
       "      <th>6</th>\n",
       "      <td>10/07/2020</td>\n",
       "      <td>gigIndia</td>\n",
       "      <td>Pune</td>\n",
       "      <td>Incubate Fund India and Beyond Next Ventures</td>\n",
       "      <td>pre-Series A</td>\n",
       "      <td>974,200</td>\n",
       "    </tr>\n",
       "    <tr>\n",
       "      <th>7</th>\n",
       "      <td>15/07/2020</td>\n",
       "      <td>PumPumPum</td>\n",
       "      <td>Gurgaon</td>\n",
       "      <td>Early Adapters Syndicate</td>\n",
       "      <td>Seed</td>\n",
       "      <td>292,800</td>\n",
       "    </tr>\n",
       "    <tr>\n",
       "      <th>8</th>\n",
       "      <td>14/07/2020</td>\n",
       "      <td>FLYX</td>\n",
       "      <td>New York and Delhi</td>\n",
       "      <td>Raj Mishra, founder of AIT Global Inc</td>\n",
       "      <td>pre-Seed</td>\n",
       "      <td>200,000</td>\n",
       "    </tr>\n",
       "    <tr>\n",
       "      <th>9</th>\n",
       "      <td>13/07/2020</td>\n",
       "      <td>Open Appliances Pvt. Ltd.</td>\n",
       "      <td>Bangalore</td>\n",
       "      <td>Unicorn India Ventures</td>\n",
       "      <td>Venture-Series Unknown</td>\n",
       "      <td>500,000</td>\n",
       "    </tr>\n",
       "  </tbody>\n",
       "</table>\n",
       "</div>"
      ],
      "text/plain": [
       "          day                    startup            city_location  \\\n",
       "0  15/07/2020                   Flipkart                Bangalore   \n",
       "1  16/07/2020                    Vedantu                Bangalore   \n",
       "2  16/07/2020                       Crio                Bangalore   \n",
       "3  14/07/2020                    goDutch                   Mumbai   \n",
       "4  13/07/2020                   Mystifly  Singapore and Bangalore   \n",
       "5  09/07/2020               JetSynthesys                     Pune   \n",
       "6  10/07/2020                   gigIndia                     Pune   \n",
       "7  15/07/2020                  PumPumPum                  Gurgaon   \n",
       "8  14/07/2020                       FLYX       New York and Delhi   \n",
       "9  13/07/2020  Open Appliances Pvt. Ltd.                Bangalore   \n",
       "\n",
       "                                       investor_name         investment_type  \\\n",
       "0                                        Walmart Inc                     M&A   \n",
       "1                                  Coatue Management                Series D   \n",
       "2                                        021 Capital            pre-Series A   \n",
       "3  Matrix India,Y Combinator, Global Founders Cap...                    Seed   \n",
       "4                                   Recruit Co. Ltd.            pre-Series B   \n",
       "5           Adar Poonawalla and Kris Gopalakrishnan.  Venture-Series Unknown   \n",
       "6       Incubate Fund India and Beyond Next Ventures            pre-Series A   \n",
       "7                           Early Adapters Syndicate                    Seed   \n",
       "8              Raj Mishra, founder of AIT Global Inc                pre-Seed   \n",
       "9                             Unicorn India Ventures  Venture-Series Unknown   \n",
       "\n",
       "   amount_in_usd  \n",
       "0  1,200,000,000  \n",
       "1    100,000,000  \n",
       "2        934,160  \n",
       "3      1,700,000  \n",
       "4      3,300,000  \n",
       "5        400,000  \n",
       "6        974,200  \n",
       "7        292,800  \n",
       "8        200,000  \n",
       "9        500,000  "
      ]
     },
     "execution_count": 125,
     "metadata": {},
     "output_type": "execute_result"
    }
   ],
   "source": [
    " July20"
   ]
  },
  {
   "cell_type": "code",
   "execution_count": null,
   "metadata": {},
   "outputs": [],
   "source": []
  },
  {
   "cell_type": "code",
   "execution_count": null,
   "metadata": {},
   "outputs": [],
   "source": []
  },
  {
   "cell_type": "code",
   "execution_count": null,
   "metadata": {},
   "outputs": [],
   "source": []
  },
  {
   "cell_type": "code",
   "execution_count": null,
   "metadata": {},
   "outputs": [],
   "source": []
  },
  {
   "cell_type": "code",
   "execution_count": null,
   "metadata": {},
   "outputs": [],
   "source": []
  }
 ],
 "metadata": {
  "kernelspec": {
   "display_name": "Python 3",
   "language": "python",
   "name": "python3"
  },
  "language_info": {
   "codemirror_mode": {
    "name": "ipython",
    "version": 3
   },
   "file_extension": ".py",
   "mimetype": "text/x-python",
   "name": "python",
   "nbconvert_exporter": "python",
   "pygments_lexer": "ipython3",
   "version": "3.8.5"
  }
 },
 "nbformat": 4,
 "nbformat_minor": 4
}
