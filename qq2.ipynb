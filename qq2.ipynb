{
 "cells": [
  {
   "cell_type": "code",
   "execution_count": 1,
   "metadata": {},
   "outputs": [],
   "source": [
    "##using selenium for webscraping and also using the exception handling\n",
    "import pandas as pd\n",
    "import selenium\n",
    "from selenium import webdriver\n",
    "import time\n",
    "from selenium.common.exceptions import NoSuchElementException"
   ]
  },
  {
   "cell_type": "code",
   "execution_count": 2,
   "metadata": {},
   "outputs": [],
   "source": [
    "#chromeweb browser is used\n",
    "driver = webdriver.Chrome(\"Chromedriver.exe\")"
   ]
  },
  {
   "cell_type": "code",
   "execution_count": 3,
   "metadata": {},
   "outputs": [],
   "source": [
    "#bcci\n",
    "url = 'https://www.bcci.tv/'\n",
    "driver.get(url)"
   ]
  },
  {
   "cell_type": "code",
   "execution_count": 4,
   "metadata": {},
   "outputs": [],
   "source": [
    "inter = driver.find_elements_by_xpath('/html/body/div[3]/div/div[2]/div[2]/nav/ul/li[1]')[0]\n",
    "\n",
    "#international button is clicked"
   ]
  },
  {
   "cell_type": "code",
   "execution_count": 5,
   "metadata": {},
   "outputs": [],
   "source": [
    "inter.click()"
   ]
  },
  {
   "cell_type": "code",
   "execution_count": 6,
   "metadata": {},
   "outputs": [],
   "source": [
    "#fixture button is clicked\n",
    "\n",
    "interfix = driver.find_elements_by_xpath('/html/body/div[3]/div/div[2]/div[2]/nav/ul/li[1]/div[2]/div/ul/li[1]/a')[0]"
   ]
  },
  {
   "cell_type": "code",
   "execution_count": 7,
   "metadata": {},
   "outputs": [],
   "source": [
    "interfix.click()"
   ]
  },
  {
   "cell_type": "code",
   "execution_count": 11,
   "metadata": {},
   "outputs": [],
   "source": [
    "\n",
    "\n",
    "\n",
    "matchtitle = driver.find_elements_by_xpath('/html/body/div[4]/div/div/div[2]/section/div/div/a/div[2]/div[1]/span[2]')"
   ]
  },
  {
   "cell_type": "code",
   "execution_count": 12,
   "metadata": {},
   "outputs": [
    {
     "data": {
      "text/plain": [
       "[<selenium.webdriver.remote.webelement.WebElement (session=\"b847668ac0fe711c4229af1c513d1052\", element=\"81d7bba6-432a-4619-895c-6436ea95338b\")>,\n",
       " <selenium.webdriver.remote.webelement.WebElement (session=\"b847668ac0fe711c4229af1c513d1052\", element=\"8db38fe0-0111-456c-9dcf-76be20a43639\")>,\n",
       " <selenium.webdriver.remote.webelement.WebElement (session=\"b847668ac0fe711c4229af1c513d1052\", element=\"67c73618-14f8-4a63-b710-5cf70870e301\")>,\n",
       " <selenium.webdriver.remote.webelement.WebElement (session=\"b847668ac0fe711c4229af1c513d1052\", element=\"a0762564-a076-4db3-8964-874bb3f20d3e\")>,\n",
       " <selenium.webdriver.remote.webelement.WebElement (session=\"b847668ac0fe711c4229af1c513d1052\", element=\"c99ec87d-7e42-4be9-88dd-10c176793798\")>,\n",
       " <selenium.webdriver.remote.webelement.WebElement (session=\"b847668ac0fe711c4229af1c513d1052\", element=\"e5509a44-d92d-4d82-987e-390ce2092f29\")>,\n",
       " <selenium.webdriver.remote.webelement.WebElement (session=\"b847668ac0fe711c4229af1c513d1052\", element=\"ab9c0be3-c91a-4c28-a51d-1966ecb584ac\")>,\n",
       " <selenium.webdriver.remote.webelement.WebElement (session=\"b847668ac0fe711c4229af1c513d1052\", element=\"388ef69d-b170-4f08-bc04-5501b3ab0d1b\")>,\n",
       " <selenium.webdriver.remote.webelement.WebElement (session=\"b847668ac0fe711c4229af1c513d1052\", element=\"56dba2f0-a195-4d93-8644-302d4aefb044\")>,\n",
       " <selenium.webdriver.remote.webelement.WebElement (session=\"b847668ac0fe711c4229af1c513d1052\", element=\"3f3e5f63-7de3-448c-aee8-cc46edcf71d3\")>,\n",
       " <selenium.webdriver.remote.webelement.WebElement (session=\"b847668ac0fe711c4229af1c513d1052\", element=\"a8d43e54-1856-4816-8660-349b2ba1a98c\")>,\n",
       " <selenium.webdriver.remote.webelement.WebElement (session=\"b847668ac0fe711c4229af1c513d1052\", element=\"7b180668-74db-4488-bf35-5d8758f8a46b\")>]"
      ]
     },
     "execution_count": 12,
     "metadata": {},
     "output_type": "execute_result"
    }
   ],
   "source": [
    "matchtitle"
   ]
  },
  {
   "cell_type": "code",
   "execution_count": 13,
   "metadata": {},
   "outputs": [
    {
     "data": {
      "text/plain": [
       "['ICC WORLD TEST CHAMPIONSHIP',\n",
       " 'SRI LANKA V INDIA 2021',\n",
       " 'SRI LANKA V INDIA 2021',\n",
       " 'SRI LANKA V INDIA 2021',\n",
       " 'SRI LANKA V INDIA 2021',\n",
       " 'SRI LANKA V INDIA 2021',\n",
       " 'SRI LANKA V INDIA 2021',\n",
       " 'ENGLAND V INDIA 2021',\n",
       " 'ENGLAND V INDIA 2021',\n",
       " 'ENGLAND V INDIA 2021',\n",
       " 'ENGLAND V INDIA 2021',\n",
       " 'ENGLAND V INDIA 2021']"
      ]
     },
     "execution_count": 13,
     "metadata": {},
     "output_type": "execute_result"
    }
   ],
   "source": [
    "matchtitle1 = []\n",
    "for i in matchtitle:\n",
    "    matchtitle1.append(i.text)\n",
    "matchtitle1\n",
    "#matchtitle is scraped"
   ]
  },
  {
   "cell_type": "code",
   "execution_count": 14,
   "metadata": {},
   "outputs": [
    {
     "data": {
      "text/plain": [
       "12"
      ]
     },
     "execution_count": 14,
     "metadata": {},
     "output_type": "execute_result"
    }
   ],
   "source": [
    "len(matchtitle1)"
   ]
  },
  {
   "cell_type": "code",
   "execution_count": 15,
   "metadata": {},
   "outputs": [],
   "source": [
    "\n",
    "\n",
    "place = driver.find_elements_by_xpath('/html/body/div[4]/div/div/div[2]/section/div/div/a/div[2]/div[2]/p/span')"
   ]
  },
  {
   "cell_type": "code",
   "execution_count": 16,
   "metadata": {},
   "outputs": [
    {
     "data": {
      "text/plain": [
       "[<selenium.webdriver.remote.webelement.WebElement (session=\"b847668ac0fe711c4229af1c513d1052\", element=\"0d38e637-7155-44d8-921e-c981298e1924\")>,\n",
       " <selenium.webdriver.remote.webelement.WebElement (session=\"b847668ac0fe711c4229af1c513d1052\", element=\"73a5d060-f830-4682-aeb7-8140a0f4c113\")>,\n",
       " <selenium.webdriver.remote.webelement.WebElement (session=\"b847668ac0fe711c4229af1c513d1052\", element=\"731f606e-12a9-46b7-98e5-37d014527ed3\")>,\n",
       " <selenium.webdriver.remote.webelement.WebElement (session=\"b847668ac0fe711c4229af1c513d1052\", element=\"a1d95a66-42e0-4b5b-bc24-b7336031b870\")>,\n",
       " <selenium.webdriver.remote.webelement.WebElement (session=\"b847668ac0fe711c4229af1c513d1052\", element=\"117e1b7b-f482-451b-a421-f19e9080d073\")>,\n",
       " <selenium.webdriver.remote.webelement.WebElement (session=\"b847668ac0fe711c4229af1c513d1052\", element=\"09324ad0-0930-4c79-a44a-dd27a91156de\")>,\n",
       " <selenium.webdriver.remote.webelement.WebElement (session=\"b847668ac0fe711c4229af1c513d1052\", element=\"e297986c-14d6-4e13-9cd9-f85142897ec6\")>,\n",
       " <selenium.webdriver.remote.webelement.WebElement (session=\"b847668ac0fe711c4229af1c513d1052\", element=\"b7833d4d-8bb5-4cd7-83b7-ce452d452032\")>,\n",
       " <selenium.webdriver.remote.webelement.WebElement (session=\"b847668ac0fe711c4229af1c513d1052\", element=\"4636e702-c1d2-49e0-a49f-112c9d1353df\")>,\n",
       " <selenium.webdriver.remote.webelement.WebElement (session=\"b847668ac0fe711c4229af1c513d1052\", element=\"bb21f92f-a695-4226-bd94-e0b688e92810\")>,\n",
       " <selenium.webdriver.remote.webelement.WebElement (session=\"b847668ac0fe711c4229af1c513d1052\", element=\"f897fab1-c011-44fd-8850-bb744436a4ea\")>,\n",
       " <selenium.webdriver.remote.webelement.WebElement (session=\"b847668ac0fe711c4229af1c513d1052\", element=\"03ceb5e6-04b6-4c9e-b17c-dfe2e6c6aed8\")>]"
      ]
     },
     "execution_count": 16,
     "metadata": {},
     "output_type": "execute_result"
    }
   ],
   "source": [
    "place"
   ]
  },
  {
   "cell_type": "code",
   "execution_count": 17,
   "metadata": {},
   "outputs": [
    {
     "data": {
      "text/plain": [
       "['The Ageas Bowl, Southampton',\n",
       " 'R Premadasa Stadium, Colombo',\n",
       " 'R Premadasa Stadium, Colombo',\n",
       " 'R Premadasa Stadium, Colombo',\n",
       " 'R Premadasa Stadium, Colombo',\n",
       " 'R Premadasa Stadium, Colombo',\n",
       " 'R Premadasa Stadium, Colombo',\n",
       " 'Trent Bridge, Nottingham',\n",
       " \"Lord's, London\",\n",
       " 'Headingley, Leeds',\n",
       " 'The Oval, London',\n",
       " 'Old Trafford, Manchester']"
      ]
     },
     "execution_count": 17,
     "metadata": {},
     "output_type": "execute_result"
    }
   ],
   "source": [
    "place1 = []\n",
    "for i in place:\n",
    "    place1.append(i.text)\n",
    "place1\n",
    "#place have been scraped"
   ]
  },
  {
   "cell_type": "code",
   "execution_count": 18,
   "metadata": {},
   "outputs": [
    {
     "data": {
      "text/plain": [
       "12"
      ]
     },
     "execution_count": 18,
     "metadata": {},
     "output_type": "execute_result"
    }
   ],
   "source": [
    "len(place1)"
   ]
  },
  {
   "cell_type": "code",
   "execution_count": 23,
   "metadata": {},
   "outputs": [],
   "source": [
    "#data scraped\n",
    "date = driver.find_elements_by_xpath('//span[@class=\"fixture__datetime tablet-only\"]')"
   ]
  },
  {
   "cell_type": "code",
   "execution_count": 24,
   "metadata": {},
   "outputs": [
    {
     "data": {
      "text/plain": [
       "['Friday 18th June 15:00 IST',\n",
       " 'Tuesday 13th July 14:30 IST',\n",
       " 'Friday 16th July 14:30 IST',\n",
       " 'Sunday 18th July 14:30 IST',\n",
       " 'Wednesday 21st July 19:00 IST',\n",
       " 'Friday 23rd July 19:00 IST',\n",
       " 'Sunday 25th July 19:00 IST',\n",
       " 'Wednesday 4th August 15:30 IST',\n",
       " 'Thursday 12th August 15:30 IST',\n",
       " 'Wednesday 25th August 15:30 IST',\n",
       " 'Thursday 2nd September 15:30 IST',\n",
       " 'Friday 10th September 15:30 IST']"
      ]
     },
     "execution_count": 24,
     "metadata": {},
     "output_type": "execute_result"
    }
   ],
   "source": [
    "date1 = []\n",
    "for i in date:\n",
    "    date1.append(i.text)\n",
    "date1"
   ]
  },
  {
   "cell_type": "code",
   "execution_count": 25,
   "metadata": {},
   "outputs": [
    {
     "data": {
      "text/plain": [
       "12"
      ]
     },
     "execution_count": 25,
     "metadata": {},
     "output_type": "execute_result"
    }
   ],
   "source": [
    "len(date1)"
   ]
  },
  {
   "cell_type": "code",
   "execution_count": 28,
   "metadata": {},
   "outputs": [],
   "source": [
    "inter = driver.find_elements_by_xpath('/html/body/div[3]/div/div[2]/div[2]/nav/ul/li[1]')[0]\n",
    "\n",
    "\n"
   ]
  },
  {
   "cell_type": "code",
   "execution_count": 29,
   "metadata": {},
   "outputs": [],
   "source": [
    "inter.click()"
   ]
  },
  {
   "cell_type": "code",
   "execution_count": 30,
   "metadata": {},
   "outputs": [],
   "source": [
    "series = driver.find_elements_by_xpath('/html/body/div[3]/div/div[2]/div[2]/nav/ul/li[1]/div[2]/div/ul/li[3]/a')[0]"
   ]
  },
  {
   "cell_type": "code",
   "execution_count": 31,
   "metadata": {},
   "outputs": [],
   "source": [
    "series.click()"
   ]
  },
  {
   "cell_type": "code",
   "execution_count": 34,
   "metadata": {},
   "outputs": [],
   "source": [
    "seri = driver.find_elements_by_xpath('//h2[@class=\"tournament-item__title\"]')"
   ]
  },
  {
   "cell_type": "code",
   "execution_count": 35,
   "metadata": {},
   "outputs": [
    {
     "data": {
      "text/plain": [
       "['ICC WORLD TEST CHAMPIONSHIP',\n",
       " 'SRI LANKA V INDIA 2021',\n",
       " 'ENGLAND V INDIA 2021']"
      ]
     },
     "execution_count": 35,
     "metadata": {},
     "output_type": "execute_result"
    }
   ],
   "source": [
    "seri1 = []\n",
    "for i in seri:\n",
    "    seri1.append(i.text)\n",
    "seri1"
   ]
  },
  {
   "cell_type": "code",
   "execution_count": 36,
   "metadata": {},
   "outputs": [
    {
     "data": {
      "text/plain": [
       "3"
      ]
     },
     "execution_count": 36,
     "metadata": {},
     "output_type": "execute_result"
    }
   ],
   "source": [
    "len(seri1)"
   ]
  },
  {
   "cell_type": "code",
   "execution_count": 39,
   "metadata": {},
   "outputs": [],
   "source": [
    "df = pd.DataFrame({})\n",
    "df['matchtitle1'] = matchtitle1\n",
    "df['place'] = place1\n",
    "df['date & time'] = date1\n",
    "#df['seri'] = seri1\n"
   ]
  },
  {
   "cell_type": "code",
   "execution_count": 40,
   "metadata": {},
   "outputs": [
    {
     "data": {
      "text/html": [
       "<div>\n",
       "<style scoped>\n",
       "    .dataframe tbody tr th:only-of-type {\n",
       "        vertical-align: middle;\n",
       "    }\n",
       "\n",
       "    .dataframe tbody tr th {\n",
       "        vertical-align: top;\n",
       "    }\n",
       "\n",
       "    .dataframe thead th {\n",
       "        text-align: right;\n",
       "    }\n",
       "</style>\n",
       "<table border=\"1\" class=\"dataframe\">\n",
       "  <thead>\n",
       "    <tr style=\"text-align: right;\">\n",
       "      <th></th>\n",
       "      <th>matchtitle1</th>\n",
       "      <th>place</th>\n",
       "      <th>date &amp; time</th>\n",
       "    </tr>\n",
       "  </thead>\n",
       "  <tbody>\n",
       "    <tr>\n",
       "      <th>0</th>\n",
       "      <td>ICC WORLD TEST CHAMPIONSHIP</td>\n",
       "      <td>The Ageas Bowl, Southampton</td>\n",
       "      <td>Friday 18th June 15:00 IST</td>\n",
       "    </tr>\n",
       "    <tr>\n",
       "      <th>1</th>\n",
       "      <td>SRI LANKA V INDIA 2021</td>\n",
       "      <td>R Premadasa Stadium, Colombo</td>\n",
       "      <td>Tuesday 13th July 14:30 IST</td>\n",
       "    </tr>\n",
       "    <tr>\n",
       "      <th>2</th>\n",
       "      <td>SRI LANKA V INDIA 2021</td>\n",
       "      <td>R Premadasa Stadium, Colombo</td>\n",
       "      <td>Friday 16th July 14:30 IST</td>\n",
       "    </tr>\n",
       "    <tr>\n",
       "      <th>3</th>\n",
       "      <td>SRI LANKA V INDIA 2021</td>\n",
       "      <td>R Premadasa Stadium, Colombo</td>\n",
       "      <td>Sunday 18th July 14:30 IST</td>\n",
       "    </tr>\n",
       "    <tr>\n",
       "      <th>4</th>\n",
       "      <td>SRI LANKA V INDIA 2021</td>\n",
       "      <td>R Premadasa Stadium, Colombo</td>\n",
       "      <td>Wednesday 21st July 19:00 IST</td>\n",
       "    </tr>\n",
       "    <tr>\n",
       "      <th>5</th>\n",
       "      <td>SRI LANKA V INDIA 2021</td>\n",
       "      <td>R Premadasa Stadium, Colombo</td>\n",
       "      <td>Friday 23rd July 19:00 IST</td>\n",
       "    </tr>\n",
       "    <tr>\n",
       "      <th>6</th>\n",
       "      <td>SRI LANKA V INDIA 2021</td>\n",
       "      <td>R Premadasa Stadium, Colombo</td>\n",
       "      <td>Sunday 25th July 19:00 IST</td>\n",
       "    </tr>\n",
       "    <tr>\n",
       "      <th>7</th>\n",
       "      <td>ENGLAND V INDIA 2021</td>\n",
       "      <td>Trent Bridge, Nottingham</td>\n",
       "      <td>Wednesday 4th August 15:30 IST</td>\n",
       "    </tr>\n",
       "    <tr>\n",
       "      <th>8</th>\n",
       "      <td>ENGLAND V INDIA 2021</td>\n",
       "      <td>Lord's, London</td>\n",
       "      <td>Thursday 12th August 15:30 IST</td>\n",
       "    </tr>\n",
       "    <tr>\n",
       "      <th>9</th>\n",
       "      <td>ENGLAND V INDIA 2021</td>\n",
       "      <td>Headingley, Leeds</td>\n",
       "      <td>Wednesday 25th August 15:30 IST</td>\n",
       "    </tr>\n",
       "    <tr>\n",
       "      <th>10</th>\n",
       "      <td>ENGLAND V INDIA 2021</td>\n",
       "      <td>The Oval, London</td>\n",
       "      <td>Thursday 2nd September 15:30 IST</td>\n",
       "    </tr>\n",
       "    <tr>\n",
       "      <th>11</th>\n",
       "      <td>ENGLAND V INDIA 2021</td>\n",
       "      <td>Old Trafford, Manchester</td>\n",
       "      <td>Friday 10th September 15:30 IST</td>\n",
       "    </tr>\n",
       "  </tbody>\n",
       "</table>\n",
       "</div>"
      ],
      "text/plain": [
       "                    matchtitle1                         place  \\\n",
       "0   ICC WORLD TEST CHAMPIONSHIP   The Ageas Bowl, Southampton   \n",
       "1        SRI LANKA V INDIA 2021  R Premadasa Stadium, Colombo   \n",
       "2        SRI LANKA V INDIA 2021  R Premadasa Stadium, Colombo   \n",
       "3        SRI LANKA V INDIA 2021  R Premadasa Stadium, Colombo   \n",
       "4        SRI LANKA V INDIA 2021  R Premadasa Stadium, Colombo   \n",
       "5        SRI LANKA V INDIA 2021  R Premadasa Stadium, Colombo   \n",
       "6        SRI LANKA V INDIA 2021  R Premadasa Stadium, Colombo   \n",
       "7          ENGLAND V INDIA 2021      Trent Bridge, Nottingham   \n",
       "8          ENGLAND V INDIA 2021                Lord's, London   \n",
       "9          ENGLAND V INDIA 2021             Headingley, Leeds   \n",
       "10         ENGLAND V INDIA 2021              The Oval, London   \n",
       "11         ENGLAND V INDIA 2021      Old Trafford, Manchester   \n",
       "\n",
       "                         date & time  \n",
       "0         Friday 18th June 15:00 IST  \n",
       "1        Tuesday 13th July 14:30 IST  \n",
       "2         Friday 16th July 14:30 IST  \n",
       "3         Sunday 18th July 14:30 IST  \n",
       "4      Wednesday 21st July 19:00 IST  \n",
       "5         Friday 23rd July 19:00 IST  \n",
       "6         Sunday 25th July 19:00 IST  \n",
       "7     Wednesday 4th August 15:30 IST  \n",
       "8     Thursday 12th August 15:30 IST  \n",
       "9    Wednesday 25th August 15:30 IST  \n",
       "10  Thursday 2nd September 15:30 IST  \n",
       "11   Friday 10th September 15:30 IST  "
      ]
     },
     "execution_count": 40,
     "metadata": {},
     "output_type": "execute_result"
    }
   ],
   "source": [
    "df"
   ]
  },
  {
   "cell_type": "code",
   "execution_count": null,
   "metadata": {},
   "outputs": [],
   "source": []
  }
 ],
 "metadata": {
  "kernelspec": {
   "display_name": "Python 3",
   "language": "python",
   "name": "python3"
  },
  "language_info": {
   "codemirror_mode": {
    "name": "ipython",
    "version": 3
   },
   "file_extension": ".py",
   "mimetype": "text/x-python",
   "name": "python",
   "nbconvert_exporter": "python",
   "pygments_lexer": "ipython3",
   "version": "3.8.5"
  }
 },
 "nbformat": 4,
 "nbformat_minor": 4
}
