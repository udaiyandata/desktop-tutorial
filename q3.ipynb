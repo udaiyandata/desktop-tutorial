{
 "cells": [
  {
   "cell_type": "markdown",
   "metadata": {},
   "source": [
    "# python program to scrape data for “Data Scientist” Job position in “Bangalore” location. "
   ]
  },
  {
   "cell_type": "code",
   "execution_count": 1,
   "metadata": {},
   "outputs": [],
   "source": [
    "#by using selenium and webdriver we are extract the data from website\n",
    "import pandas as pd\n",
    "import selenium\n",
    "from selenium import webdriver"
   ]
  },
  {
   "cell_type": "code",
   "execution_count": 2,
   "metadata": {},
   "outputs": [],
   "source": [
    "#we are using chrome browser as default\n",
    "driver = webdriver.Chrome(\"Chromedriver.exe\")"
   ]
  },
  {
   "cell_type": "code",
   "execution_count": 3,
   "metadata": {},
   "outputs": [],
   "source": [
    "#nakuri website\n",
    "url = 'https://www.naukri.com/'\n",
    "driver.get(url)"
   ]
  },
  {
   "cell_type": "code",
   "execution_count": 4,
   "metadata": {},
   "outputs": [
    {
     "data": {
      "text/plain": [
       "<selenium.webdriver.remote.webelement.WebElement (session=\"e62aa475e1981e6a778def7c378664d1\", element=\"b518ccc4-59e0-4df4-b08f-c6b17552290e\")>"
      ]
     },
     "execution_count": 4,
     "metadata": {},
     "output_type": "execute_result"
    }
   ],
   "source": [
    "#in the search  place we are going to search any word\n",
    "search_job=driver.find_element_by_id(\"qsb-keyword-sugg\")\n",
    "search_job"
   ]
  },
  {
   "cell_type": "code",
   "execution_count": 5,
   "metadata": {},
   "outputs": [],
   "source": [
    "#we sending words for searching\n",
    "search_job.send_keys(\"Data Scientist\")"
   ]
  },
  {
   "cell_type": "code",
   "execution_count": 6,
   "metadata": {},
   "outputs": [],
   "source": [
    "#we using button to click button\n",
    "search_btn = driver.find_element_by_xpath(\"//button[@class='btn']\")\n",
    "search_btn.click()"
   ]
  },
  {
   "cell_type": "code",
   "execution_count": 7,
   "metadata": {},
   "outputs": [],
   "source": [
    "#filter button to filter the delhi\n",
    "filter_button=driver.find_elements_by_xpath(\"//p[@class='grey-text lH20 fleft ml-8 txtLbl']/span\")\n",
    "for i in filter_button:\n",
    "    if i.text=='Delhi / NCR':\n",
    "        i.click()\n",
    "        break"
   ]
  },
  {
   "cell_type": "code",
   "execution_count": 8,
   "metadata": {},
   "outputs": [],
   "source": [
    "#filter button to filter the 3-6 lakhs\n",
    "filter_button=driver.find_elements_by_xpath(\"//p[@class='grey-text lH20 fleft ml-8 txtLbl']/span\")\n",
    "for i in filter_button:\n",
    "    if i.text=='3-6 Lakhs':\n",
    "        i.click()\n",
    "        break"
   ]
  },
  {
   "cell_type": "code",
   "execution_count": 9,
   "metadata": {},
   "outputs": [
    {
     "data": {
      "text/plain": [
       "[<selenium.webdriver.remote.webelement.WebElement (session=\"e62aa475e1981e6a778def7c378664d1\", element=\"70e22a53-2ff0-4de3-a6ee-e8b17cb0e090\")>,\n",
       " <selenium.webdriver.remote.webelement.WebElement (session=\"e62aa475e1981e6a778def7c378664d1\", element=\"abfa8f57-eb90-40a3-b426-47b2a12aa736\")>,\n",
       " <selenium.webdriver.remote.webelement.WebElement (session=\"e62aa475e1981e6a778def7c378664d1\", element=\"7ad0fe23-40d1-43c9-9c09-7620de50f18c\")>,\n",
       " <selenium.webdriver.remote.webelement.WebElement (session=\"e62aa475e1981e6a778def7c378664d1\", element=\"ca0ac6cf-eb00-42e3-a44c-b0d9743425c8\")>,\n",
       " <selenium.webdriver.remote.webelement.WebElement (session=\"e62aa475e1981e6a778def7c378664d1\", element=\"ef4ea8f4-561c-49f2-8b1c-b998c49ddf8b\")>,\n",
       " <selenium.webdriver.remote.webelement.WebElement (session=\"e62aa475e1981e6a778def7c378664d1\", element=\"b15d8622-3eb4-4941-b90f-d0d42c642f33\")>,\n",
       " <selenium.webdriver.remote.webelement.WebElement (session=\"e62aa475e1981e6a778def7c378664d1\", element=\"1a51a5a3-8b6c-4eea-ad12-60c41231082b\")>,\n",
       " <selenium.webdriver.remote.webelement.WebElement (session=\"e62aa475e1981e6a778def7c378664d1\", element=\"94d0a4b6-aff7-4889-b91f-0e279ec6104b\")>,\n",
       " <selenium.webdriver.remote.webelement.WebElement (session=\"e62aa475e1981e6a778def7c378664d1\", element=\"d985def1-d936-493e-bbb3-9cb0a5c76eb8\")>,\n",
       " <selenium.webdriver.remote.webelement.WebElement (session=\"e62aa475e1981e6a778def7c378664d1\", element=\"c8e09525-f28f-46d4-8865-823940960f0a\")>,\n",
       " <selenium.webdriver.remote.webelement.WebElement (session=\"e62aa475e1981e6a778def7c378664d1\", element=\"1cb06daf-a57e-4c6c-9831-f1d3ee23223f\")>,\n",
       " <selenium.webdriver.remote.webelement.WebElement (session=\"e62aa475e1981e6a778def7c378664d1\", element=\"dcb0948c-fe0a-4109-b9f8-4e706612752a\")>,\n",
       " <selenium.webdriver.remote.webelement.WebElement (session=\"e62aa475e1981e6a778def7c378664d1\", element=\"97d7352e-3820-4582-99f6-52e35b7d674e\")>,\n",
       " <selenium.webdriver.remote.webelement.WebElement (session=\"e62aa475e1981e6a778def7c378664d1\", element=\"eae182e7-47b4-403c-8b4c-22db2c2e4ed0\")>,\n",
       " <selenium.webdriver.remote.webelement.WebElement (session=\"e62aa475e1981e6a778def7c378664d1\", element=\"588c4a35-92e1-4cb7-9e72-5e7b13efdd88\")>,\n",
       " <selenium.webdriver.remote.webelement.WebElement (session=\"e62aa475e1981e6a778def7c378664d1\", element=\"116d5c65-4acc-405c-96b0-4892b5898365\")>,\n",
       " <selenium.webdriver.remote.webelement.WebElement (session=\"e62aa475e1981e6a778def7c378664d1\", element=\"9f75b214-4c30-453b-8999-66f297ebd2f7\")>,\n",
       " <selenium.webdriver.remote.webelement.WebElement (session=\"e62aa475e1981e6a778def7c378664d1\", element=\"2e279e39-eb54-41ce-91b6-cedaa8868604\")>,\n",
       " <selenium.webdriver.remote.webelement.WebElement (session=\"e62aa475e1981e6a778def7c378664d1\", element=\"3687c0bd-81bb-477a-9f88-b7dfc4eff39c\")>,\n",
       " <selenium.webdriver.remote.webelement.WebElement (session=\"e62aa475e1981e6a778def7c378664d1\", element=\"d933fa14-9ef4-4b38-aac4-9b4f4bfbdeba\")>]"
      ]
     },
     "execution_count": 9,
     "metadata": {},
     "output_type": "execute_result"
    }
   ],
   "source": [
    "#title to get the title data from website\n",
    "title_tags=driver.find_elements_by_xpath(\"//a[@class='title fw500 ellipsis']\")\n",
    "title_tags"
   ]
  },
  {
   "cell_type": "code",
   "execution_count": 10,
   "metadata": {},
   "outputs": [
    {
     "data": {
      "text/plain": [
       "['Data Scientist / Data Analyst -Business Analyst',\n",
       " 'Business Analyst- Data Scientist',\n",
       " 'Data Scientist - High growth VC backed Influencer Marketplace',\n",
       " 'Data Scientist',\n",
       " 'DATA Scientist – Gurgaon (Exp 3-6 years)',\n",
       " 'DATA Scientist – Gurgaon (Exp 3-6 years)',\n",
       " 'Data Scientist - Noida',\n",
       " 'Data Scientist',\n",
       " 'Data Scientist',\n",
       " 'Data Scientist',\n",
       " 'Senior Data Scientist II 5+ yrs II Gurgaon',\n",
       " 'Senior Data Scientist',\n",
       " 'Data Scientist',\n",
       " 'Data Scientist Machine Learning',\n",
       " 'Data Scientist',\n",
       " 'Data Scientist',\n",
       " 'Data Scientist',\n",
       " 'Data Scientist',\n",
       " 'Data Scientist',\n",
       " 'Associate Data Scientist']"
      ]
     },
     "execution_count": 10,
     "metadata": {},
     "output_type": "execute_result"
    }
   ],
   "source": [
    "job_title=[]\n",
    "for i in title_tags:\n",
    "    job_title.append(i.text)\n",
    "job_title"
   ]
  },
  {
   "cell_type": "code",
   "execution_count": 11,
   "metadata": {},
   "outputs": [
    {
     "data": {
      "text/plain": [
       "[<selenium.webdriver.remote.webelement.WebElement (session=\"e62aa475e1981e6a778def7c378664d1\", element=\"8776f54a-5ba7-40bb-8eab-b166f5bd9727\")>,\n",
       " <selenium.webdriver.remote.webelement.WebElement (session=\"e62aa475e1981e6a778def7c378664d1\", element=\"78917f96-8813-4dc1-b78f-528ff45f352a\")>,\n",
       " <selenium.webdriver.remote.webelement.WebElement (session=\"e62aa475e1981e6a778def7c378664d1\", element=\"d91231c0-6176-407e-86dd-b8e53acb6c7d\")>,\n",
       " <selenium.webdriver.remote.webelement.WebElement (session=\"e62aa475e1981e6a778def7c378664d1\", element=\"0f696131-430b-47af-9387-75c402163d0b\")>,\n",
       " <selenium.webdriver.remote.webelement.WebElement (session=\"e62aa475e1981e6a778def7c378664d1\", element=\"fb814d0c-9074-4489-ba23-b200d24d6d27\")>,\n",
       " <selenium.webdriver.remote.webelement.WebElement (session=\"e62aa475e1981e6a778def7c378664d1\", element=\"880be94f-6f04-4506-a990-bd73dafe0188\")>,\n",
       " <selenium.webdriver.remote.webelement.WebElement (session=\"e62aa475e1981e6a778def7c378664d1\", element=\"397000c0-b6bf-49f4-9c2a-9cf9516991f9\")>,\n",
       " <selenium.webdriver.remote.webelement.WebElement (session=\"e62aa475e1981e6a778def7c378664d1\", element=\"3ee67644-13ea-4041-9317-8ab8974cacbc\")>,\n",
       " <selenium.webdriver.remote.webelement.WebElement (session=\"e62aa475e1981e6a778def7c378664d1\", element=\"4f9e2e8b-7848-4b2a-a9d9-6f2b7cd65e82\")>,\n",
       " <selenium.webdriver.remote.webelement.WebElement (session=\"e62aa475e1981e6a778def7c378664d1\", element=\"43f6342c-eafa-46a5-b58e-77d4a016ace3\")>,\n",
       " <selenium.webdriver.remote.webelement.WebElement (session=\"e62aa475e1981e6a778def7c378664d1\", element=\"967aa04a-2d18-4775-b5d9-d9a8f129a1ee\")>,\n",
       " <selenium.webdriver.remote.webelement.WebElement (session=\"e62aa475e1981e6a778def7c378664d1\", element=\"e0e9f63d-3aac-4f51-a424-5a42f7dc9535\")>,\n",
       " <selenium.webdriver.remote.webelement.WebElement (session=\"e62aa475e1981e6a778def7c378664d1\", element=\"811af1c1-55f2-495c-b9b5-4f686a9a0ceb\")>,\n",
       " <selenium.webdriver.remote.webelement.WebElement (session=\"e62aa475e1981e6a778def7c378664d1\", element=\"ccc1293d-fe78-438b-88bb-71869c93ccb5\")>,\n",
       " <selenium.webdriver.remote.webelement.WebElement (session=\"e62aa475e1981e6a778def7c378664d1\", element=\"2ee61789-2174-4069-86bb-3b6c146743ce\")>,\n",
       " <selenium.webdriver.remote.webelement.WebElement (session=\"e62aa475e1981e6a778def7c378664d1\", element=\"e4e59d70-6666-409d-b997-c0ea9442bbdd\")>,\n",
       " <selenium.webdriver.remote.webelement.WebElement (session=\"e62aa475e1981e6a778def7c378664d1\", element=\"68577375-87e1-4c37-ad03-df14911e1035\")>,\n",
       " <selenium.webdriver.remote.webelement.WebElement (session=\"e62aa475e1981e6a778def7c378664d1\", element=\"63e10a1d-a29b-403f-abf8-2b4943f0c059\")>,\n",
       " <selenium.webdriver.remote.webelement.WebElement (session=\"e62aa475e1981e6a778def7c378664d1\", element=\"b8286e9e-2f7d-4391-97b3-75e951f38c53\")>,\n",
       " <selenium.webdriver.remote.webelement.WebElement (session=\"e62aa475e1981e6a778def7c378664d1\", element=\"9b2913fd-f530-446d-9bcc-ae8c6af2050f\")>]"
      ]
     },
     "execution_count": 11,
     "metadata": {},
     "output_type": "execute_result"
    }
   ],
   "source": [
    "#title to get the company data from website\n",
    "company_tage=driver.find_elements_by_xpath(\"//a[@class='subTitle ellipsis fleft']\")\n",
    "company_tage"
   ]
  },
  {
   "cell_type": "code",
   "execution_count": 12,
   "metadata": {},
   "outputs": [
    {
     "data": {
      "text/plain": [
       "['Inflexion Analytix Private Limited',\n",
       " 'Wipro',\n",
       " 'Ravgins International Pvt. Ltd.',\n",
       " 'Mobikwik',\n",
       " 'CRESCENDO GLOBAL LEADERSHIP HIRING INDIA PRIVATE L IMITED',\n",
       " 'CRESCENDO GLOBAL LEADERSHIP HIRING INDIA PRIVATE L IMITED',\n",
       " 'Optum Global Solutions (India) Private Limited',\n",
       " 'IBM India Pvt. Limited',\n",
       " 'Blitz Jobs',\n",
       " 'Country Veggie',\n",
       " 'Zenatix Solutions Private Limited',\n",
       " 'iNICU',\n",
       " 'BlackBuck',\n",
       " 'Delhivery',\n",
       " 'Sentieo',\n",
       " 'Mahajan Imaging',\n",
       " 'Mahajan Imaging',\n",
       " 'VBPO India Pvt Ltd.',\n",
       " 'itForte Staffing Services Private Ltd.',\n",
       " 'Blow Trumpet Solutions']"
      ]
     },
     "execution_count": 12,
     "metadata": {},
     "output_type": "execute_result"
    }
   ],
   "source": [
    "job_company=[]\n",
    "for i in company_tage:\n",
    "    job_company.append(i.text)\n",
    "job_company"
   ]
  },
  {
   "cell_type": "code",
   "execution_count": 13,
   "metadata": {},
   "outputs": [
    {
     "data": {
      "text/plain": [
       "[<selenium.webdriver.remote.webelement.WebElement (session=\"e62aa475e1981e6a778def7c378664d1\", element=\"55d355ee-effb-4ba8-8515-37539b1f48e2\")>,\n",
       " <selenium.webdriver.remote.webelement.WebElement (session=\"e62aa475e1981e6a778def7c378664d1\", element=\"84e4598a-ba6b-48ea-82a2-9ae4df3d6a7a\")>,\n",
       " <selenium.webdriver.remote.webelement.WebElement (session=\"e62aa475e1981e6a778def7c378664d1\", element=\"20f76e19-ef12-4bd7-891d-0c890b7ee2c2\")>,\n",
       " <selenium.webdriver.remote.webelement.WebElement (session=\"e62aa475e1981e6a778def7c378664d1\", element=\"05e2263a-a5f1-4e83-a710-af978dbf01ea\")>,\n",
       " <selenium.webdriver.remote.webelement.WebElement (session=\"e62aa475e1981e6a778def7c378664d1\", element=\"c8b186a9-50bd-41e2-948c-9ec20216f081\")>,\n",
       " <selenium.webdriver.remote.webelement.WebElement (session=\"e62aa475e1981e6a778def7c378664d1\", element=\"30e7cae3-b728-47bc-b635-b9e2031033a7\")>,\n",
       " <selenium.webdriver.remote.webelement.WebElement (session=\"e62aa475e1981e6a778def7c378664d1\", element=\"4f0aefa0-ac53-4ba2-83ff-38c5c841f389\")>,\n",
       " <selenium.webdriver.remote.webelement.WebElement (session=\"e62aa475e1981e6a778def7c378664d1\", element=\"2ed9425d-d5a1-4474-88fb-dbc89e5a3165\")>,\n",
       " <selenium.webdriver.remote.webelement.WebElement (session=\"e62aa475e1981e6a778def7c378664d1\", element=\"56da9e99-08da-4bb7-b5c8-8df80f2fa12f\")>,\n",
       " <selenium.webdriver.remote.webelement.WebElement (session=\"e62aa475e1981e6a778def7c378664d1\", element=\"c9791c78-3bdf-4ca2-be48-e721012394de\")>,\n",
       " <selenium.webdriver.remote.webelement.WebElement (session=\"e62aa475e1981e6a778def7c378664d1\", element=\"66195e33-fd4e-49d6-a69f-2601aec6ae7b\")>,\n",
       " <selenium.webdriver.remote.webelement.WebElement (session=\"e62aa475e1981e6a778def7c378664d1\", element=\"5250fe98-cfe8-4635-a8f6-09c7bef38f85\")>,\n",
       " <selenium.webdriver.remote.webelement.WebElement (session=\"e62aa475e1981e6a778def7c378664d1\", element=\"10dd71f0-6382-4f59-a6ea-ecebfdc5b3fb\")>,\n",
       " <selenium.webdriver.remote.webelement.WebElement (session=\"e62aa475e1981e6a778def7c378664d1\", element=\"1b4f6a74-433a-44ee-9f23-c899cd6c07fc\")>,\n",
       " <selenium.webdriver.remote.webelement.WebElement (session=\"e62aa475e1981e6a778def7c378664d1\", element=\"4e3d7952-2e09-437e-af1b-132c25d3c387\")>,\n",
       " <selenium.webdriver.remote.webelement.WebElement (session=\"e62aa475e1981e6a778def7c378664d1\", element=\"09de7bb6-2ed6-4cdd-b493-87e7534f980b\")>,\n",
       " <selenium.webdriver.remote.webelement.WebElement (session=\"e62aa475e1981e6a778def7c378664d1\", element=\"92345f75-5162-4b10-95ef-3aa2d9304f6c\")>,\n",
       " <selenium.webdriver.remote.webelement.WebElement (session=\"e62aa475e1981e6a778def7c378664d1\", element=\"577a8ac4-8a33-449d-9123-33466ad8cba6\")>,\n",
       " <selenium.webdriver.remote.webelement.WebElement (session=\"e62aa475e1981e6a778def7c378664d1\", element=\"a3696ab7-0964-42ec-8783-04eb7eb15e74\")>,\n",
       " <selenium.webdriver.remote.webelement.WebElement (session=\"e62aa475e1981e6a778def7c378664d1\", element=\"3826129f-725f-43ff-a116-634a15b96fb4\")>]"
      ]
     },
     "execution_count": 13,
     "metadata": {},
     "output_type": "execute_result"
    }
   ],
   "source": [
    "exprience_tage=driver.find_elements_by_xpath(\"//li[@class='fleft grey-text br2 placeHolderLi experience']\")\n",
    "exprience_tage"
   ]
  },
  {
   "cell_type": "code",
   "execution_count": 14,
   "metadata": {},
   "outputs": [
    {
     "data": {
      "text/plain": [
       "['0-3 Yrs',\n",
       " '2-5 Yrs',\n",
       " '3-5 Yrs',\n",
       " '3-5 Yrs',\n",
       " '3-6 Yrs',\n",
       " '3-6 Yrs',\n",
       " '3-5 Yrs',\n",
       " '4-9 Yrs',\n",
       " '3-5 Yrs',\n",
       " '1-3 Yrs',\n",
       " '5-10 Yrs',\n",
       " '1-5 Yrs',\n",
       " '3-7 Yrs',\n",
       " '1-3 Yrs',\n",
       " '2-7 Yrs',\n",
       " '2-6 Yrs',\n",
       " '2-6 Yrs',\n",
       " '3-6 Yrs',\n",
       " '3-8 Yrs',\n",
       " '1-5 Yrs']"
      ]
     },
     "execution_count": 14,
     "metadata": {},
     "output_type": "execute_result"
    }
   ],
   "source": [
    "job_exp=[]\n",
    "for i in exprience_tage:\n",
    "    job_exp.append(i.text)\n",
    "job_exp"
   ]
  },
  {
   "cell_type": "code",
   "execution_count": 15,
   "metadata": {},
   "outputs": [
    {
     "data": {
      "text/plain": [
       "[<selenium.webdriver.remote.webelement.WebElement (session=\"e62aa475e1981e6a778def7c378664d1\", element=\"2051d77a-7145-4a37-b12b-ec4481fce4c7\")>,\n",
       " <selenium.webdriver.remote.webelement.WebElement (session=\"e62aa475e1981e6a778def7c378664d1\", element=\"6002309e-b81c-49af-b2c5-0e3e99af477c\")>,\n",
       " <selenium.webdriver.remote.webelement.WebElement (session=\"e62aa475e1981e6a778def7c378664d1\", element=\"6b2e4df7-7791-4c50-b7b1-49bac492f94e\")>,\n",
       " <selenium.webdriver.remote.webelement.WebElement (session=\"e62aa475e1981e6a778def7c378664d1\", element=\"26279884-baf6-47c5-b510-00442befa554\")>,\n",
       " <selenium.webdriver.remote.webelement.WebElement (session=\"e62aa475e1981e6a778def7c378664d1\", element=\"04e70b09-6546-4e79-bf48-84f4facaa7b1\")>,\n",
       " <selenium.webdriver.remote.webelement.WebElement (session=\"e62aa475e1981e6a778def7c378664d1\", element=\"283e7a1d-db13-4812-9c81-4ed15e47721e\")>,\n",
       " <selenium.webdriver.remote.webelement.WebElement (session=\"e62aa475e1981e6a778def7c378664d1\", element=\"449ff938-a9ee-48fa-b7d1-3a710e60264e\")>,\n",
       " <selenium.webdriver.remote.webelement.WebElement (session=\"e62aa475e1981e6a778def7c378664d1\", element=\"6c179abb-d379-44d6-a127-f23db56ce71b\")>,\n",
       " <selenium.webdriver.remote.webelement.WebElement (session=\"e62aa475e1981e6a778def7c378664d1\", element=\"0d6733a2-86a3-4dbe-a756-538008f52d04\")>,\n",
       " <selenium.webdriver.remote.webelement.WebElement (session=\"e62aa475e1981e6a778def7c378664d1\", element=\"8cb971d0-39ca-4664-8639-548fa5f5ae8a\")>,\n",
       " <selenium.webdriver.remote.webelement.WebElement (session=\"e62aa475e1981e6a778def7c378664d1\", element=\"a3b14480-ec52-4b09-be64-af25f58cd34d\")>,\n",
       " <selenium.webdriver.remote.webelement.WebElement (session=\"e62aa475e1981e6a778def7c378664d1\", element=\"8a06c801-f2a1-4e21-befb-6715d235ddd7\")>,\n",
       " <selenium.webdriver.remote.webelement.WebElement (session=\"e62aa475e1981e6a778def7c378664d1\", element=\"9a62a57c-d081-45a2-b524-c546d7b10a9d\")>,\n",
       " <selenium.webdriver.remote.webelement.WebElement (session=\"e62aa475e1981e6a778def7c378664d1\", element=\"6fec4b1b-d2b9-446f-9dde-77c61519f6de\")>,\n",
       " <selenium.webdriver.remote.webelement.WebElement (session=\"e62aa475e1981e6a778def7c378664d1\", element=\"b2c2b879-de03-43b2-ae18-a5d608279c9e\")>,\n",
       " <selenium.webdriver.remote.webelement.WebElement (session=\"e62aa475e1981e6a778def7c378664d1\", element=\"60020c05-d0d7-4ad2-b751-126bf650157d\")>,\n",
       " <selenium.webdriver.remote.webelement.WebElement (session=\"e62aa475e1981e6a778def7c378664d1\", element=\"d6ec2083-51ba-4ba8-9281-40870a81ad28\")>,\n",
       " <selenium.webdriver.remote.webelement.WebElement (session=\"e62aa475e1981e6a778def7c378664d1\", element=\"df3f9d2d-7a8e-4580-b7b2-5902055b7e23\")>,\n",
       " <selenium.webdriver.remote.webelement.WebElement (session=\"e62aa475e1981e6a778def7c378664d1\", element=\"fc029932-4a32-4265-ae3c-c420a524df4e\")>,\n",
       " <selenium.webdriver.remote.webelement.WebElement (session=\"e62aa475e1981e6a778def7c378664d1\", element=\"ff98d2a4-83d3-4af8-9559-67cba92e3436\")>]"
      ]
     },
     "execution_count": 15,
     "metadata": {},
     "output_type": "execute_result"
    }
   ],
   "source": [
    "#title to get the location data from website\n",
    "location_tage=driver.find_elements_by_xpath(\"//li[@class='fleft grey-text br2 placeHolderLi location']/span\")\n",
    "location_tage"
   ]
  },
  {
   "cell_type": "code",
   "execution_count": 16,
   "metadata": {},
   "outputs": [
    {
     "data": {
      "text/plain": [
       "['Mumbai, Hyderabad/Secunderabad, Pune, Gurgaon/Gurugram, Chennai, Bangalore/Bengaluru',\n",
       " 'Noida, Gurgaon/Gurugram',\n",
       " 'Bangalore/Bengaluru, Delhi / NCR, Mumbai (All Areas)',\n",
       " 'New Delhi, Gurgaon/Gurugram, Delhi / NCR',\n",
       " 'Gurgaon/Gurugram, Delhi / NCR',\n",
       " 'Gurgaon/Gurugram, Delhi / NCR',\n",
       " 'Noida',\n",
       " 'Noida, Hyderabad/Secunderabad, Bangalore/Bengaluru',\n",
       " 'Noida',\n",
       " 'Bharuch, Jaipur, Bhopal, Mumbai, Jhansi, Nagpur, Ghaziabad, Jaunpur, Kanpur, New Delhi, Lucknow, Agra, Gurgaon/Gurugram, Rajkot, Bangalore/Bengaluru',\n",
       " 'Gurgaon/Gurugram',\n",
       " 'Delhi',\n",
       " 'Gurgaon/Gurugram, Bangalore/Bengaluru',\n",
       " 'Gurgaon/Gurugram',\n",
       " 'Delhi',\n",
       " 'New Delhi',\n",
       " 'Delhi',\n",
       " 'Mumbai, Delhi / NCR',\n",
       " 'Gurgaon',\n",
       " 'New Delhi']"
      ]
     },
     "execution_count": 16,
     "metadata": {},
     "output_type": "execute_result"
    }
   ],
   "source": [
    "job_location=[]\n",
    "for i in location_tage:\n",
    "    job_location.append(i.text)\n",
    "job_location"
   ]
  },
  {
   "cell_type": "code",
   "execution_count": 17,
   "metadata": {},
   "outputs": [
    {
     "name": "stdout",
     "output_type": "stream",
     "text": [
      "20 20 20 20\n"
     ]
    }
   ],
   "source": [
    "print(len(job_title),len(job_company),len(job_exp),len(job_location))"
   ]
  },
  {
   "cell_type": "code",
   "execution_count": 18,
   "metadata": {},
   "outputs": [],
   "source": [
    "jobs=pd.DataFrame({})\n",
    "jobs['title']=job_title\n",
    "jobs['company']=job_company\n",
    "jobs['exprience']=job_exp\n",
    "jobs['location']=job_location"
   ]
  },
  {
   "cell_type": "code",
   "execution_count": 23,
   "metadata": {},
   "outputs": [],
   "source": [
    "df=jobs"
   ]
  },
  {
   "cell_type": "code",
   "execution_count": 24,
   "metadata": {},
   "outputs": [],
   "source": [
    "df1=df.head(10)"
   ]
  },
  {
   "cell_type": "code",
   "execution_count": 25,
   "metadata": {},
   "outputs": [
    {
     "data": {
      "text/html": [
       "<div>\n",
       "<style scoped>\n",
       "    .dataframe tbody tr th:only-of-type {\n",
       "        vertical-align: middle;\n",
       "    }\n",
       "\n",
       "    .dataframe tbody tr th {\n",
       "        vertical-align: top;\n",
       "    }\n",
       "\n",
       "    .dataframe thead th {\n",
       "        text-align: right;\n",
       "    }\n",
       "</style>\n",
       "<table border=\"1\" class=\"dataframe\">\n",
       "  <thead>\n",
       "    <tr style=\"text-align: right;\">\n",
       "      <th></th>\n",
       "      <th>title</th>\n",
       "      <th>company</th>\n",
       "      <th>exprience</th>\n",
       "      <th>location</th>\n",
       "    </tr>\n",
       "  </thead>\n",
       "  <tbody>\n",
       "    <tr>\n",
       "      <th>0</th>\n",
       "      <td>Data Scientist / Data Analyst -Business Analyst</td>\n",
       "      <td>Inflexion Analytix Private Limited</td>\n",
       "      <td>0-3 Yrs</td>\n",
       "      <td>Mumbai, Hyderabad/Secunderabad, Pune, Gurgaon/...</td>\n",
       "    </tr>\n",
       "    <tr>\n",
       "      <th>1</th>\n",
       "      <td>Business Analyst- Data Scientist</td>\n",
       "      <td>Wipro</td>\n",
       "      <td>2-5 Yrs</td>\n",
       "      <td>Noida, Gurgaon/Gurugram</td>\n",
       "    </tr>\n",
       "    <tr>\n",
       "      <th>2</th>\n",
       "      <td>Data Scientist - High growth VC backed Influen...</td>\n",
       "      <td>Ravgins International Pvt. Ltd.</td>\n",
       "      <td>3-5 Yrs</td>\n",
       "      <td>Bangalore/Bengaluru, Delhi / NCR, Mumbai (All ...</td>\n",
       "    </tr>\n",
       "    <tr>\n",
       "      <th>3</th>\n",
       "      <td>Data Scientist</td>\n",
       "      <td>Mobikwik</td>\n",
       "      <td>3-5 Yrs</td>\n",
       "      <td>New Delhi, Gurgaon/Gurugram, Delhi / NCR</td>\n",
       "    </tr>\n",
       "    <tr>\n",
       "      <th>4</th>\n",
       "      <td>DATA Scientist – Gurgaon (Exp 3-6 years)</td>\n",
       "      <td>CRESCENDO GLOBAL LEADERSHIP HIRING INDIA PRIVA...</td>\n",
       "      <td>3-6 Yrs</td>\n",
       "      <td>Gurgaon/Gurugram, Delhi / NCR</td>\n",
       "    </tr>\n",
       "    <tr>\n",
       "      <th>5</th>\n",
       "      <td>DATA Scientist – Gurgaon (Exp 3-6 years)</td>\n",
       "      <td>CRESCENDO GLOBAL LEADERSHIP HIRING INDIA PRIVA...</td>\n",
       "      <td>3-6 Yrs</td>\n",
       "      <td>Gurgaon/Gurugram, Delhi / NCR</td>\n",
       "    </tr>\n",
       "    <tr>\n",
       "      <th>6</th>\n",
       "      <td>Data Scientist - Noida</td>\n",
       "      <td>Optum Global Solutions (India) Private Limited</td>\n",
       "      <td>3-5 Yrs</td>\n",
       "      <td>Noida</td>\n",
       "    </tr>\n",
       "    <tr>\n",
       "      <th>7</th>\n",
       "      <td>Data Scientist</td>\n",
       "      <td>IBM India Pvt. Limited</td>\n",
       "      <td>4-9 Yrs</td>\n",
       "      <td>Noida, Hyderabad/Secunderabad, Bangalore/Benga...</td>\n",
       "    </tr>\n",
       "    <tr>\n",
       "      <th>8</th>\n",
       "      <td>Data Scientist</td>\n",
       "      <td>Blitz Jobs</td>\n",
       "      <td>3-5 Yrs</td>\n",
       "      <td>Noida</td>\n",
       "    </tr>\n",
       "    <tr>\n",
       "      <th>9</th>\n",
       "      <td>Data Scientist</td>\n",
       "      <td>Country Veggie</td>\n",
       "      <td>1-3 Yrs</td>\n",
       "      <td>Bharuch, Jaipur, Bhopal, Mumbai, Jhansi, Nagpu...</td>\n",
       "    </tr>\n",
       "  </tbody>\n",
       "</table>\n",
       "</div>"
      ],
      "text/plain": [
       "                                               title  \\\n",
       "0    Data Scientist / Data Analyst -Business Analyst   \n",
       "1                   Business Analyst- Data Scientist   \n",
       "2  Data Scientist - High growth VC backed Influen...   \n",
       "3                                     Data Scientist   \n",
       "4           DATA Scientist – Gurgaon (Exp 3-6 years)   \n",
       "5           DATA Scientist – Gurgaon (Exp 3-6 years)   \n",
       "6                             Data Scientist - Noida   \n",
       "7                                     Data Scientist   \n",
       "8                                     Data Scientist   \n",
       "9                                     Data Scientist   \n",
       "\n",
       "                                             company exprience  \\\n",
       "0                 Inflexion Analytix Private Limited   0-3 Yrs   \n",
       "1                                              Wipro   2-5 Yrs   \n",
       "2                    Ravgins International Pvt. Ltd.   3-5 Yrs   \n",
       "3                                           Mobikwik   3-5 Yrs   \n",
       "4  CRESCENDO GLOBAL LEADERSHIP HIRING INDIA PRIVA...   3-6 Yrs   \n",
       "5  CRESCENDO GLOBAL LEADERSHIP HIRING INDIA PRIVA...   3-6 Yrs   \n",
       "6     Optum Global Solutions (India) Private Limited   3-5 Yrs   \n",
       "7                             IBM India Pvt. Limited   4-9 Yrs   \n",
       "8                                         Blitz Jobs   3-5 Yrs   \n",
       "9                                     Country Veggie   1-3 Yrs   \n",
       "\n",
       "                                            location  \n",
       "0  Mumbai, Hyderabad/Secunderabad, Pune, Gurgaon/...  \n",
       "1                            Noida, Gurgaon/Gurugram  \n",
       "2  Bangalore/Bengaluru, Delhi / NCR, Mumbai (All ...  \n",
       "3           New Delhi, Gurgaon/Gurugram, Delhi / NCR  \n",
       "4                      Gurgaon/Gurugram, Delhi / NCR  \n",
       "5                      Gurgaon/Gurugram, Delhi / NCR  \n",
       "6                                              Noida  \n",
       "7  Noida, Hyderabad/Secunderabad, Bangalore/Benga...  \n",
       "8                                              Noida  \n",
       "9  Bharuch, Jaipur, Bhopal, Mumbai, Jhansi, Nagpu...  "
      ]
     },
     "execution_count": 25,
     "metadata": {},
     "output_type": "execute_result"
    }
   ],
   "source": [
    "df1"
   ]
  },
  {
   "cell_type": "code",
   "execution_count": null,
   "metadata": {},
   "outputs": [],
   "source": []
  },
  {
   "cell_type": "code",
   "execution_count": null,
   "metadata": {},
   "outputs": [],
   "source": []
  }
 ],
 "metadata": {
  "kernelspec": {
   "display_name": "Python 3",
   "language": "python",
   "name": "python3"
  },
  "language_info": {
   "codemirror_mode": {
    "name": "ipython",
    "version": 3
   },
   "file_extension": ".py",
   "mimetype": "text/x-python",
   "name": "python",
   "nbconvert_exporter": "python",
   "pygments_lexer": "ipython3",
   "version": "3.8.5"
  }
 },
 "nbformat": 4,
 "nbformat_minor": 4
}
