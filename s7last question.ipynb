{
 "cells": [
  {
   "cell_type": "code",
   "execution_count": 13,
   "metadata": {},
   "outputs": [],
   "source": [
    "#using webdriver i am going to extract the data from website\n",
    "# i have used exception \n",
    "import pandas as pd\n",
    "import selenium\n",
    "from selenium import webdriver\n",
    "import time\n",
    "from selenium.common.exceptions import NoSuchElementException\n",
    "\n",
    "from selenium.webdriver.common.by import By\n",
    "from selenium.webdriver.common.keys import Keys\n"
   ]
  },
  {
   "cell_type": "code",
   "execution_count": 14,
   "metadata": {},
   "outputs": [],
   "source": [
    "#i have used google chrome\n",
    "\n",
    "driver = webdriver.Chrome(\"Chromedriver.exe\")\n",
    "url = 'https://www.digit.in/'\n",
    "driver.get(url)"
   ]
  },
  {
   "cell_type": "markdown",
   "metadata": {},
   "source": [
    "### Reaching top 10  laptop page"
   ]
  },
  {
   "cell_type": "code",
   "execution_count": 15,
   "metadata": {},
   "outputs": [],
   "source": [
    "#clickng on top 10 option \n",
    "top_10=driver.find_element_by_xpath(\"//div[@class='menu']/ul/li[3]/a\")\n",
    "top_10.click()\n",
    "time.sleep(2)\n",
    "\n",
    "#clicking on laptops option\n",
    "laptops=driver.find_element_by_xpath(\"//ul[@class='list-unstyled sidebar-list']/li[10]\")\n",
    "laptops.click()\n",
    "time.sleep(2)\n"
   ]
  },
  {
   "cell_type": "code",
   "execution_count": null,
   "metadata": {},
   "outputs": [],
   "source": []
  },
  {
   "cell_type": "code",
   "execution_count": null,
   "metadata": {},
   "outputs": [],
   "source": []
  },
  {
   "cell_type": "code",
   "execution_count": 16,
   "metadata": {},
   "outputs": [
    {
     "data": {
      "text/plain": [
       "[<selenium.webdriver.remote.webelement.WebElement (session=\"eddab36abd5b9b4d0c4e5a9452d1ebfc\", element=\"8cecee35-51e4-4222-bd19-54df839b4a40\")>,\n",
       " <selenium.webdriver.remote.webelement.WebElement (session=\"eddab36abd5b9b4d0c4e5a9452d1ebfc\", element=\"bb861d9a-7bbb-4b01-afd2-5db5f36bdd38\")>,\n",
       " <selenium.webdriver.remote.webelement.WebElement (session=\"eddab36abd5b9b4d0c4e5a9452d1ebfc\", element=\"b37d492e-10d0-4632-b2b0-7753180c77a2\")>,\n",
       " <selenium.webdriver.remote.webelement.WebElement (session=\"eddab36abd5b9b4d0c4e5a9452d1ebfc\", element=\"d4eb304e-3526-47c2-8982-982ce1473c1b\")>,\n",
       " <selenium.webdriver.remote.webelement.WebElement (session=\"eddab36abd5b9b4d0c4e5a9452d1ebfc\", element=\"54a34b7f-2305-45a8-b355-a1d4b566dfa3\")>,\n",
       " <selenium.webdriver.remote.webelement.WebElement (session=\"eddab36abd5b9b4d0c4e5a9452d1ebfc\", element=\"ad007c0c-e239-429f-b759-310051b231a2\")>,\n",
       " <selenium.webdriver.remote.webelement.WebElement (session=\"eddab36abd5b9b4d0c4e5a9452d1ebfc\", element=\"b107c1ee-5814-47e3-b313-503e97535ad2\")>]"
      ]
     },
     "execution_count": 16,
     "metadata": {},
     "output_type": "execute_result"
    }
   ],
   "source": [
    "laptop_name=driver.find_elements_by_xpath(\"//div[@class='TopNumbeHeading active sticky-footer']\")\n",
    "laptop_name\n"
   ]
  },
  {
   "cell_type": "code",
   "execution_count": 17,
   "metadata": {},
   "outputs": [
    {
     "data": {
      "text/plain": [
       "['1.ALIENWARE AREA 51M R2',\n",
       " '2.ALIENWARE M15 R3',\n",
       " '3.ASUS ROG STRIX SCAR 15',\n",
       " '4.ASUS ROG ZEPHYRUS G14',\n",
       " '5.LENOVO LEGION 5I',\n",
       " '6.ASUS ROG ZEPHYRUS DUO 15',\n",
       " '7.ACER ASPIRE 7 GAMING']"
      ]
     },
     "execution_count": 17,
     "metadata": {},
     "output_type": "execute_result"
    }
   ],
   "source": [
    "name_of_laptop = []\n",
    "for i in laptop_name:\n",
    "    name_of_laptop.append(i.text.replace('\\n',''))\n",
    "name_of_laptop\n"
   ]
  },
  {
   "cell_type": "code",
   "execution_count": 18,
   "metadata": {},
   "outputs": [],
   "source": [
    "os=driver.find_elements_by_xpath(\"//div[@class='product-detail']/div/ul/li[1]/div/div\")\n",
    "\n",
    "#//div[@class='product-detail']/div/ul/li[1]/div/div\n"
   ]
  },
  {
   "cell_type": "code",
   "execution_count": 19,
   "metadata": {},
   "outputs": [
    {
     "data": {
      "text/plain": [
       "[<selenium.webdriver.remote.webelement.WebElement (session=\"eddab36abd5b9b4d0c4e5a9452d1ebfc\", element=\"505f1a81-79e9-4a0d-b816-497778834096\")>,\n",
       " <selenium.webdriver.remote.webelement.WebElement (session=\"eddab36abd5b9b4d0c4e5a9452d1ebfc\", element=\"c4d9d240-a3ea-4560-82fb-1c372032b099\")>,\n",
       " <selenium.webdriver.remote.webelement.WebElement (session=\"eddab36abd5b9b4d0c4e5a9452d1ebfc\", element=\"3b47be7b-16ee-437c-8adf-7cfcb4164760\")>,\n",
       " <selenium.webdriver.remote.webelement.WebElement (session=\"eddab36abd5b9b4d0c4e5a9452d1ebfc\", element=\"99421b67-e807-4a41-a469-2dcf91896b31\")>,\n",
       " <selenium.webdriver.remote.webelement.WebElement (session=\"eddab36abd5b9b4d0c4e5a9452d1ebfc\", element=\"4d15220f-7010-40e2-86e0-12ab4f693e4b\")>,\n",
       " <selenium.webdriver.remote.webelement.WebElement (session=\"eddab36abd5b9b4d0c4e5a9452d1ebfc\", element=\"7f10c3bb-22fc-46a8-88cf-03f19b38dbd4\")>,\n",
       " <selenium.webdriver.remote.webelement.WebElement (session=\"eddab36abd5b9b4d0c4e5a9452d1ebfc\", element=\"2d40d39e-5a59-42b0-b650-6f6a71e01f85\")>]"
      ]
     },
     "execution_count": 19,
     "metadata": {},
     "output_type": "execute_result"
    }
   ],
   "source": [
    "os"
   ]
  },
  {
   "cell_type": "code",
   "execution_count": 20,
   "metadata": {},
   "outputs": [
    {
     "data": {
      "text/plain": [
       "['WINDOWS 10 HOME',\n",
       " 'WINDOWS 10 HOME',\n",
       " 'WINDOWS 10 HOME',\n",
       " 'WINDOWS 10 HOME',\n",
       " 'WINDOWS 10 PRO',\n",
       " 'WINDOWS 10',\n",
       " 'WINDOWS 10 HOME']"
      ]
     },
     "execution_count": 20,
     "metadata": {},
     "output_type": "execute_result"
    }
   ],
   "source": [
    "name_of_os = []\n",
    "for i in os:\n",
    "    name_of_os.append(i.text)\n",
    "name_of_os"
   ]
  },
  {
   "cell_type": "code",
   "execution_count": 21,
   "metadata": {},
   "outputs": [],
   "source": [
    "display=driver.find_elements_by_xpath(\"//div[@class='product-detail']/div/ul/li[2]/div/div\")\n",
    "\n",
    "#display=driver.find_elements_by_xpath(\"/html/body/div[3]/div[1]/div[4]/div[2]/div[2]/div[1]/ul/li[2]/div/div\")"
   ]
  },
  {
   "cell_type": "code",
   "execution_count": 22,
   "metadata": {},
   "outputs": [],
   "source": [
    "#processor = driver.find_elements_by_xpath(\"/html/body/div[3]/div[1]/div[4]/div[2]/div[2]/div[1]/ul/li[3]/div/div\")"
   ]
  },
  {
   "cell_type": "code",
   "execution_count": 23,
   "metadata": {},
   "outputs": [
    {
     "data": {
      "text/plain": [
       "[<selenium.webdriver.remote.webelement.WebElement (session=\"eddab36abd5b9b4d0c4e5a9452d1ebfc\", element=\"230ad4f5-970a-428c-b71e-86d83bc5e96e\")>,\n",
       " <selenium.webdriver.remote.webelement.WebElement (session=\"eddab36abd5b9b4d0c4e5a9452d1ebfc\", element=\"54fe227c-9f21-476b-b206-d00979fd620c\")>,\n",
       " <selenium.webdriver.remote.webelement.WebElement (session=\"eddab36abd5b9b4d0c4e5a9452d1ebfc\", element=\"8ccf9fba-5dd9-40b5-a374-9552418e6b3c\")>,\n",
       " <selenium.webdriver.remote.webelement.WebElement (session=\"eddab36abd5b9b4d0c4e5a9452d1ebfc\", element=\"d8af1fed-cc6a-4802-bae3-cf32dfb83098\")>,\n",
       " <selenium.webdriver.remote.webelement.WebElement (session=\"eddab36abd5b9b4d0c4e5a9452d1ebfc\", element=\"dc13d129-a638-412b-8021-bfcb016e1efb\")>,\n",
       " <selenium.webdriver.remote.webelement.WebElement (session=\"eddab36abd5b9b4d0c4e5a9452d1ebfc\", element=\"f3098fd4-3931-4f04-8280-357564ba1eec\")>,\n",
       " <selenium.webdriver.remote.webelement.WebElement (session=\"eddab36abd5b9b4d0c4e5a9452d1ebfc\", element=\"62374c1d-5bb9-40f8-88ea-00815b9c1d2e\")>]"
      ]
     },
     "execution_count": 23,
     "metadata": {},
     "output_type": "execute_result"
    }
   ],
   "source": [
    "display"
   ]
  },
  {
   "cell_type": "code",
   "execution_count": 24,
   "metadata": {},
   "outputs": [
    {
     "data": {
      "text/plain": [
       "['17.3\" (1920 X 1080)',\n",
       " '15.6\" (3840 X 2160)',\n",
       " '15.6\" (1920 X 1080)',\n",
       " '14\" (1920 X 1080)',\n",
       " '15.6\" (1920 X 1080)',\n",
       " '15.6\" (3840 X 1100)',\n",
       " '15.6\" (1920 X 1080)']"
      ]
     },
     "execution_count": 24,
     "metadata": {},
     "output_type": "execute_result"
    }
   ],
   "source": [
    "name_of_dispaly = []\n",
    "for i in display:\n",
    "    name_of_dispaly.append(i.text)\n",
    "name_of_dispaly"
   ]
  },
  {
   "cell_type": "code",
   "execution_count": 25,
   "metadata": {},
   "outputs": [],
   "source": [
    "processor=driver.find_elements_by_xpath(\"//div[@class='product-detail']/div/ul/li[3]/div/div\")"
   ]
  },
  {
   "cell_type": "code",
   "execution_count": 26,
   "metadata": {},
   "outputs": [
    {
     "data": {
      "text/plain": [
       "[<selenium.webdriver.remote.webelement.WebElement (session=\"eddab36abd5b9b4d0c4e5a9452d1ebfc\", element=\"6654346f-6780-4343-a920-4d78f4ad7505\")>,\n",
       " <selenium.webdriver.remote.webelement.WebElement (session=\"eddab36abd5b9b4d0c4e5a9452d1ebfc\", element=\"0aad0565-f76d-4e46-9cc2-4474a97f89c7\")>,\n",
       " <selenium.webdriver.remote.webelement.WebElement (session=\"eddab36abd5b9b4d0c4e5a9452d1ebfc\", element=\"edb52d73-acb6-4a2d-9894-575db32731f2\")>,\n",
       " <selenium.webdriver.remote.webelement.WebElement (session=\"eddab36abd5b9b4d0c4e5a9452d1ebfc\", element=\"a2816fc2-d69c-4da0-809f-86a49c0951d6\")>,\n",
       " <selenium.webdriver.remote.webelement.WebElement (session=\"eddab36abd5b9b4d0c4e5a9452d1ebfc\", element=\"f92bd67d-9861-411e-9402-2cbb57953d82\")>,\n",
       " <selenium.webdriver.remote.webelement.WebElement (session=\"eddab36abd5b9b4d0c4e5a9452d1ebfc\", element=\"3929b74b-8d82-47a4-979c-bbb61e8747a6\")>,\n",
       " <selenium.webdriver.remote.webelement.WebElement (session=\"eddab36abd5b9b4d0c4e5a9452d1ebfc\", element=\"09cae66d-33dc-450c-be15-be28c6a6a066\")>]"
      ]
     },
     "execution_count": 26,
     "metadata": {},
     "output_type": "execute_result"
    }
   ],
   "source": [
    "processor"
   ]
  },
  {
   "cell_type": "code",
   "execution_count": 27,
   "metadata": {},
   "outputs": [
    {
     "data": {
      "text/plain": [
       "['10TH GENERATION INTEL® CORE™ I7-10700 | 2.90 GHZ',\n",
       " '10TH GENERATION INTEL® CORE™ I9-10980HK | NA',\n",
       " 'AMD RYZEN™ 9 5900HX | 3.3 GHZ',\n",
       " 'AMD 3RD GENERATION RYZEN 9 | 3.3 GHZ',\n",
       " '10TH GENERATION INTEL® CORE™ I5-10300H | 2.50 GHZ',\n",
       " 'INTEL CORE I7 10TH GEN 10875H | NA',\n",
       " 'AMD RYZEN™ 5-5500U HEXA-CORE | NA']"
      ]
     },
     "execution_count": 27,
     "metadata": {},
     "output_type": "execute_result"
    }
   ],
   "source": [
    "name_of_processor = []\n",
    "for i in processor:\n",
    "    name_of_processor.append(i.text)\n",
    "name_of_processor"
   ]
  },
  {
   "cell_type": "code",
   "execution_count": 28,
   "metadata": {},
   "outputs": [],
   "source": [
    "memeory=driver.find_elements_by_xpath(\"//div[@class='product-detail']/div/ul/li[4]/div/div\")"
   ]
  },
  {
   "cell_type": "code",
   "execution_count": 29,
   "metadata": {},
   "outputs": [
    {
     "data": {
      "text/plain": [
       "[<selenium.webdriver.remote.webelement.WebElement (session=\"eddab36abd5b9b4d0c4e5a9452d1ebfc\", element=\"01e06e0d-f4a2-426f-9ff6-f783519a539d\")>,\n",
       " <selenium.webdriver.remote.webelement.WebElement (session=\"eddab36abd5b9b4d0c4e5a9452d1ebfc\", element=\"775be66a-035a-4ea4-aed6-b2d8ec06e04c\")>,\n",
       " <selenium.webdriver.remote.webelement.WebElement (session=\"eddab36abd5b9b4d0c4e5a9452d1ebfc\", element=\"19496843-97d3-41c3-837b-e78674e93301\")>,\n",
       " <selenium.webdriver.remote.webelement.WebElement (session=\"eddab36abd5b9b4d0c4e5a9452d1ebfc\", element=\"c7646aca-237b-41ab-833f-e8822a3c002b\")>,\n",
       " <selenium.webdriver.remote.webelement.WebElement (session=\"eddab36abd5b9b4d0c4e5a9452d1ebfc\", element=\"85b8b6d2-1f96-4db0-ac31-167bec67040a\")>,\n",
       " <selenium.webdriver.remote.webelement.WebElement (session=\"eddab36abd5b9b4d0c4e5a9452d1ebfc\", element=\"c4038a35-fb27-4854-a379-c34e57fede24\")>,\n",
       " <selenium.webdriver.remote.webelement.WebElement (session=\"eddab36abd5b9b4d0c4e5a9452d1ebfc\", element=\"974df671-0f3a-4a4c-94b1-2f0c1977bf49\")>]"
      ]
     },
     "execution_count": 29,
     "metadata": {},
     "output_type": "execute_result"
    }
   ],
   "source": [
    "memeory"
   ]
  },
  {
   "cell_type": "code",
   "execution_count": 30,
   "metadata": {},
   "outputs": [
    {
     "data": {
      "text/plain": [
       "['1 TB SSD/16 GBGB DDR4',\n",
       " '1 TB SSD/16 GBGB DDR4',\n",
       " '1 TB SSD/16 GBGB DDR4',\n",
       " '1 TB SSD/16 GBGB DDR4',\n",
       " '1 TB SSD/16 GBGB DDR4',\n",
       " '512 GB SSD/4 GBGB DDR4',\n",
       " '512 GB SSD/8 GBGB DDR4']"
      ]
     },
     "execution_count": 30,
     "metadata": {},
     "output_type": "execute_result"
    }
   ],
   "source": [
    "name_of_memory = []\n",
    "for i in memeory:\n",
    "    name_of_memory.append(i.text)\n",
    "name_of_memory"
   ]
  },
  {
   "cell_type": "code",
   "execution_count": 31,
   "metadata": {},
   "outputs": [
    {
     "name": "stdout",
     "output_type": "stream",
     "text": [
      "7\n",
      "7\n",
      "7\n",
      "7\n"
     ]
    }
   ],
   "source": [
    "print(len(name_of_laptop))\n",
    "print(len(name_of_os))\n",
    "print(len(name_of_processor))\n",
    "print(len(name_of_memory))"
   ]
  },
  {
   "cell_type": "code",
   "execution_count": 32,
   "metadata": {},
   "outputs": [],
   "source": [
    "#getting data frame\n",
    "laptop=pd.DataFrame({})\n",
    "laptop['name_of_laptop']=name_of_laptop\n",
    "laptop['name_of_os']=name_of_os\n",
    "laptop['name_of_processor']=name_of_processor\n",
    "laptop['name_of_memory']=name_of_memory"
   ]
  },
  {
   "cell_type": "code",
   "execution_count": 33,
   "metadata": {},
   "outputs": [],
   "source": [
    "df=laptop"
   ]
  },
  {
   "cell_type": "code",
   "execution_count": 34,
   "metadata": {},
   "outputs": [
    {
     "data": {
      "text/html": [
       "<div>\n",
       "<style scoped>\n",
       "    .dataframe tbody tr th:only-of-type {\n",
       "        vertical-align: middle;\n",
       "    }\n",
       "\n",
       "    .dataframe tbody tr th {\n",
       "        vertical-align: top;\n",
       "    }\n",
       "\n",
       "    .dataframe thead th {\n",
       "        text-align: right;\n",
       "    }\n",
       "</style>\n",
       "<table border=\"1\" class=\"dataframe\">\n",
       "  <thead>\n",
       "    <tr style=\"text-align: right;\">\n",
       "      <th></th>\n",
       "      <th>name_of_laptop</th>\n",
       "      <th>name_of_os</th>\n",
       "      <th>name_of_processor</th>\n",
       "      <th>name_of_memory</th>\n",
       "    </tr>\n",
       "  </thead>\n",
       "  <tbody>\n",
       "    <tr>\n",
       "      <th>0</th>\n",
       "      <td>1.ALIENWARE AREA 51M R2</td>\n",
       "      <td>WINDOWS 10 HOME</td>\n",
       "      <td>10TH GENERATION INTEL® CORE™ I7-10700 | 2.90 GHZ</td>\n",
       "      <td>1 TB SSD/16 GBGB DDR4</td>\n",
       "    </tr>\n",
       "    <tr>\n",
       "      <th>1</th>\n",
       "      <td>2.ALIENWARE M15 R3</td>\n",
       "      <td>WINDOWS 10 HOME</td>\n",
       "      <td>10TH GENERATION INTEL® CORE™ I9-10980HK | NA</td>\n",
       "      <td>1 TB SSD/16 GBGB DDR4</td>\n",
       "    </tr>\n",
       "    <tr>\n",
       "      <th>2</th>\n",
       "      <td>3.ASUS ROG STRIX SCAR 15</td>\n",
       "      <td>WINDOWS 10 HOME</td>\n",
       "      <td>AMD RYZEN™ 9 5900HX | 3.3 GHZ</td>\n",
       "      <td>1 TB SSD/16 GBGB DDR4</td>\n",
       "    </tr>\n",
       "    <tr>\n",
       "      <th>3</th>\n",
       "      <td>4.ASUS ROG ZEPHYRUS G14</td>\n",
       "      <td>WINDOWS 10 HOME</td>\n",
       "      <td>AMD 3RD GENERATION RYZEN 9 | 3.3 GHZ</td>\n",
       "      <td>1 TB SSD/16 GBGB DDR4</td>\n",
       "    </tr>\n",
       "    <tr>\n",
       "      <th>4</th>\n",
       "      <td>5.LENOVO LEGION 5I</td>\n",
       "      <td>WINDOWS 10 PRO</td>\n",
       "      <td>10TH GENERATION INTEL® CORE™ I5-10300H | 2.50 GHZ</td>\n",
       "      <td>1 TB SSD/16 GBGB DDR4</td>\n",
       "    </tr>\n",
       "    <tr>\n",
       "      <th>5</th>\n",
       "      <td>6.ASUS ROG ZEPHYRUS DUO 15</td>\n",
       "      <td>WINDOWS 10</td>\n",
       "      <td>INTEL CORE I7 10TH GEN 10875H | NA</td>\n",
       "      <td>512 GB SSD/4 GBGB DDR4</td>\n",
       "    </tr>\n",
       "    <tr>\n",
       "      <th>6</th>\n",
       "      <td>7.ACER ASPIRE 7 GAMING</td>\n",
       "      <td>WINDOWS 10 HOME</td>\n",
       "      <td>AMD RYZEN™ 5-5500U HEXA-CORE | NA</td>\n",
       "      <td>512 GB SSD/8 GBGB DDR4</td>\n",
       "    </tr>\n",
       "  </tbody>\n",
       "</table>\n",
       "</div>"
      ],
      "text/plain": [
       "               name_of_laptop       name_of_os  \\\n",
       "0     1.ALIENWARE AREA 51M R2  WINDOWS 10 HOME   \n",
       "1          2.ALIENWARE M15 R3  WINDOWS 10 HOME   \n",
       "2    3.ASUS ROG STRIX SCAR 15  WINDOWS 10 HOME   \n",
       "3     4.ASUS ROG ZEPHYRUS G14  WINDOWS 10 HOME   \n",
       "4          5.LENOVO LEGION 5I   WINDOWS 10 PRO   \n",
       "5  6.ASUS ROG ZEPHYRUS DUO 15       WINDOWS 10   \n",
       "6      7.ACER ASPIRE 7 GAMING  WINDOWS 10 HOME   \n",
       "\n",
       "                                   name_of_processor          name_of_memory  \n",
       "0   10TH GENERATION INTEL® CORE™ I7-10700 | 2.90 GHZ   1 TB SSD/16 GBGB DDR4  \n",
       "1       10TH GENERATION INTEL® CORE™ I9-10980HK | NA   1 TB SSD/16 GBGB DDR4  \n",
       "2                      AMD RYZEN™ 9 5900HX | 3.3 GHZ   1 TB SSD/16 GBGB DDR4  \n",
       "3               AMD 3RD GENERATION RYZEN 9 | 3.3 GHZ   1 TB SSD/16 GBGB DDR4  \n",
       "4  10TH GENERATION INTEL® CORE™ I5-10300H | 2.50 GHZ   1 TB SSD/16 GBGB DDR4  \n",
       "5                 INTEL CORE I7 10TH GEN 10875H | NA  512 GB SSD/4 GBGB DDR4  \n",
       "6                  AMD RYZEN™ 5-5500U HEXA-CORE | NA  512 GB SSD/8 GBGB DDR4  "
      ]
     },
     "execution_count": 34,
     "metadata": {},
     "output_type": "execute_result"
    }
   ],
   "source": [
    "df"
   ]
  },
  {
   "cell_type": "code",
   "execution_count": null,
   "metadata": {},
   "outputs": [],
   "source": []
  }
 ],
 "metadata": {
  "kernelspec": {
   "display_name": "Python 3",
   "language": "python",
   "name": "python3"
  },
  "language_info": {
   "codemirror_mode": {
    "name": "ipython",
    "version": 3
   },
   "file_extension": ".py",
   "mimetype": "text/x-python",
   "name": "python",
   "nbconvert_exporter": "python",
   "pygments_lexer": "ipython3",
   "version": "3.8.5"
  }
 },
 "nbformat": 4,
 "nbformat_minor": 4
}
