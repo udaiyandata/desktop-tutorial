{
 "cells": [
  {
   "cell_type": "code",
   "execution_count": 50,
   "metadata": {},
   "outputs": [],
   "source": [
    "#using selenium for webscraping and also using the exception handling\n",
    "import pandas as pd\n",
    "import selenium\n",
    "from selenium import webdriver\n",
    "import time\n",
    "from selenium.common.exceptions import NoSuchElementException"
   ]
  },
  {
   "cell_type": "code",
   "execution_count": 51,
   "metadata": {},
   "outputs": [],
   "source": [
    "#chromeweb browser is used\n",
    "driver = webdriver.Chrome(\"Chromedriver.exe\")"
   ]
  },
  {
   "cell_type": "code",
   "execution_count": 52,
   "metadata": {},
   "outputs": [],
   "source": [
    "#github is used\n",
    "url = 'https://github.com/'\n",
    "driver.get(url)"
   ]
  },
  {
   "cell_type": "code",
   "execution_count": 53,
   "metadata": {},
   "outputs": [],
   "source": [
    "#button is clicked\n",
    "button = driver.find_elements_by_xpath('/html/body/div[1]/header/div/div[2]/nav/ul/li[4]/details/summary')[0]"
   ]
  },
  {
   "cell_type": "code",
   "execution_count": 54,
   "metadata": {},
   "outputs": [],
   "source": [
    "button.click()"
   ]
  },
  {
   "cell_type": "code",
   "execution_count": 55,
   "metadata": {},
   "outputs": [],
   "source": [
    "#button is clicked\n",
    "\n",
    "button = driver.find_elements_by_xpath('/html/body/div[1]/header/div/div[2]/nav/ul/li[4]/details/div/ul[2]/li[3]/a')[0]"
   ]
  },
  {
   "cell_type": "code",
   "execution_count": 56,
   "metadata": {},
   "outputs": [],
   "source": [
    "button.click()"
   ]
  },
  {
   "cell_type": "code",
   "execution_count": 66,
   "metadata": {},
   "outputs": [],
   "source": [
    "#getting the url \n",
    "urls=[]\n",
    "for i in driver.find_elements_by_xpath('//*[@id=\"js-pjax-container\"]/div[3]/div/div[2]/article/h1/a'):\n",
    "    urls.append(i.get_attribute(\"href\"))"
   ]
  },
  {
   "cell_type": "code",
   "execution_count": 67,
   "metadata": {},
   "outputs": [
    {
     "data": {
      "text/plain": [
       "['https://github.com/zzanehip/The-OldOS-Project',\n",
       " 'https://github.com/PaperMC/Paper',\n",
       " 'https://github.com/madMAx43v3r/chia-plotter',\n",
       " 'https://github.com/actions/virtual-environments',\n",
       " 'https://github.com/pytorch/fairseq',\n",
       " 'https://github.com/actions/starter-workflows',\n",
       " 'https://github.com/981011512/--',\n",
       " 'https://github.com/chrxh/alien',\n",
       " 'https://github.com/maziarraissi/Applied-Deep-Learning',\n",
       " 'https://github.com/yangtingxiao/QuantumultX',\n",
       " 'https://github.com/jwasham/coding-interview-university',\n",
       " 'https://github.com/peng-zhihui/XUAN-Bike',\n",
       " 'https://github.com/microsoft/vscode',\n",
       " 'https://github.com/EbookFoundation/free-programming-books',\n",
       " 'https://github.com/liupan1890/aliyunpan',\n",
       " 'https://github.com/florinpop17/app-ideas',\n",
       " 'https://github.com/whittlem/pycryptobot',\n",
       " 'https://github.com/danistefanovic/build-your-own-x',\n",
       " 'https://github.com/OAI/OpenAPI-Specification',\n",
       " 'https://github.com/Air14/HyperHide',\n",
       " 'https://github.com/Charmve/computer-vision-in-action',\n",
       " 'https://github.com/wuzhi04/MyActions',\n",
       " 'https://github.com/tensorflow/tensorflow',\n",
       " 'https://github.com/kubeflow/pipelines',\n",
       " 'https://github.com/spring-projects/spring-boot']"
      ]
     },
     "execution_count": 67,
     "metadata": {},
     "output_type": "execute_result"
    }
   ],
   "source": [
    "urls"
   ]
  },
  {
   "cell_type": "code",
   "execution_count": 68,
   "metadata": {},
   "outputs": [],
   "source": [
    "#declare the array\n",
    "Repository_title = []\n",
    "Repository_description = []\n",
    "Contributors_count = []\n",
    "Language_used = []"
   ]
  },
  {
   "cell_type": "code",
   "execution_count": 70,
   "metadata": {},
   "outputs": [],
   "source": [
    "#using for loop webscrapinf the data using exception handling\n",
    "for i in urls[:10]:\n",
    "    driver.get(i)\n",
    "    time.sleep(3)\n",
    "    \n",
    "    try:\n",
    "        jobs=driver.find_element_by_xpath('//*[@id=\"js-repo-pjax-container\"]/div[1]/div[1]/div/h1/span[1]/a')\n",
    "        Repository_title.append(jobs.text)\n",
    "    except NoSuchElementException:\n",
    "        Repository_title.append(\"-\")\n",
    "        \n",
    "    try:\n",
    "        jobs_des=driver.find_element_by_xpath('//*[@id=\"repo-content-pjax-container\"]/div/div[2]/div[2]/div/div[1]/div/p')\n",
    "        Repository_description.append(jobs_des.text)\n",
    "    except NoSuchElementException:\n",
    "        Repository_description.append(\"-\")\n",
    "        \n",
    "    try:\n",
    "        jobs_com=driver.find_element_by_xpath('//*[@id=\"repo-content-pjax-container\"]/div/div[2]/div[2]/div/div[4]/div/h2/a/span')\n",
    "        Contributors_count.append(jobs_com.text)\n",
    "    except NoSuchElementException:\n",
    "        Contributors_count.append(\"-\")\n",
    "    \n",
    "    try:\n",
    "        jobs_loc=driver.find_element_by_xpath('//*[@id=\"repo-content-pjax-container\"]/div/div[2]/div[2]/div/div[5]/div/ul/li[1]/a/span[1]')\n",
    "        Language_used.append(jobs_loc.text)\n",
    "    except NoSuchElementException:\n",
    "        Language_used.append(\"-\")\n"
   ]
  },
  {
   "cell_type": "code",
   "execution_count": 71,
   "metadata": {},
   "outputs": [
    {
     "name": "stdout",
     "output_type": "stream",
     "text": [
      "10\n",
      "10\n",
      "10\n",
      "10\n"
     ]
    }
   ],
   "source": [
    "print(len(Repository_title))\n",
    "print(len(Repository_description))\n",
    "print(len(Contributors_count))\n",
    "print(len(Language_used))"
   ]
  },
  {
   "cell_type": "code",
   "execution_count": 72,
   "metadata": {},
   "outputs": [],
   "source": [
    "#dataframe is used\n",
    "df = pd.DataFrame({})\n",
    "\n",
    "df['Repository_title']=Repository_title\n",
    "df['Repository_description']=Repository_description\n",
    "df['Contributors_count']=Contributors_count\n",
    "df['Language_used']=Language_used"
   ]
  },
  {
   "cell_type": "code",
   "execution_count": 73,
   "metadata": {},
   "outputs": [
    {
     "data": {
      "text/html": [
       "<div>\n",
       "<style scoped>\n",
       "    .dataframe tbody tr th:only-of-type {\n",
       "        vertical-align: middle;\n",
       "    }\n",
       "\n",
       "    .dataframe tbody tr th {\n",
       "        vertical-align: top;\n",
       "    }\n",
       "\n",
       "    .dataframe thead th {\n",
       "        text-align: right;\n",
       "    }\n",
       "</style>\n",
       "<table border=\"1\" class=\"dataframe\">\n",
       "  <thead>\n",
       "    <tr style=\"text-align: right;\">\n",
       "      <th></th>\n",
       "      <th>Repository_title</th>\n",
       "      <th>Repository_description</th>\n",
       "      <th>Contributors_count</th>\n",
       "      <th>Language_used</th>\n",
       "    </tr>\n",
       "  </thead>\n",
       "  <tbody>\n",
       "    <tr>\n",
       "      <th>0</th>\n",
       "      <td>zzanehip</td>\n",
       "      <td>Recreating a fully functional version of iOS 4...</td>\n",
       "      <td>5</td>\n",
       "      <td>Swift</td>\n",
       "    </tr>\n",
       "    <tr>\n",
       "      <th>1</th>\n",
       "      <td>PaperMC</td>\n",
       "      <td>High performance Spigot fork that aims to fix ...</td>\n",
       "      <td>-</td>\n",
       "      <td>-</td>\n",
       "    </tr>\n",
       "    <tr>\n",
       "      <th>2</th>\n",
       "      <td>madMAx43v3r</td>\n",
       "      <td>-</td>\n",
       "      <td>12</td>\n",
       "      <td>C</td>\n",
       "    </tr>\n",
       "    <tr>\n",
       "      <th>3</th>\n",
       "      <td>actions</td>\n",
       "      <td>GitHub Actions virtual environments</td>\n",
       "      <td>149</td>\n",
       "      <td>PowerShell</td>\n",
       "    </tr>\n",
       "    <tr>\n",
       "      <th>4</th>\n",
       "      <td>pytorch</td>\n",
       "      <td>Facebook AI Research Sequence-to-Sequence Tool...</td>\n",
       "      <td>395</td>\n",
       "      <td>-</td>\n",
       "    </tr>\n",
       "    <tr>\n",
       "      <th>5</th>\n",
       "      <td>actions</td>\n",
       "      <td>Accelerating new GitHub Actions workflows</td>\n",
       "      <td>-</td>\n",
       "      <td>-</td>\n",
       "    </tr>\n",
       "    <tr>\n",
       "      <th>6</th>\n",
       "      <td>981011512</td>\n",
       "      <td>停车场系统源码，停车场小程序，智能停车，Parking system，【功能介绍】：①兼容市...</td>\n",
       "      <td>-</td>\n",
       "      <td>Java</td>\n",
       "    </tr>\n",
       "    <tr>\n",
       "      <th>7</th>\n",
       "      <td>chrxh</td>\n",
       "      <td>alien is a GPU-accelerated artificial life sim...</td>\n",
       "      <td>-</td>\n",
       "      <td>C++</td>\n",
       "    </tr>\n",
       "    <tr>\n",
       "      <th>8</th>\n",
       "      <td>maziarraissi</td>\n",
       "      <td>Applied Deep Learning</td>\n",
       "      <td>-</td>\n",
       "      <td>-</td>\n",
       "    </tr>\n",
       "    <tr>\n",
       "      <th>9</th>\n",
       "      <td>yangtingxiao</td>\n",
       "      <td>脚本，自用</td>\n",
       "      <td>-</td>\n",
       "      <td>-</td>\n",
       "    </tr>\n",
       "  </tbody>\n",
       "</table>\n",
       "</div>"
      ],
      "text/plain": [
       "  Repository_title                             Repository_description  \\\n",
       "0         zzanehip  Recreating a fully functional version of iOS 4...   \n",
       "1          PaperMC  High performance Spigot fork that aims to fix ...   \n",
       "2      madMAx43v3r                                                  -   \n",
       "3          actions                GitHub Actions virtual environments   \n",
       "4          pytorch  Facebook AI Research Sequence-to-Sequence Tool...   \n",
       "5          actions          Accelerating new GitHub Actions workflows   \n",
       "6        981011512  停车场系统源码，停车场小程序，智能停车，Parking system，【功能介绍】：①兼容市...   \n",
       "7            chrxh  alien is a GPU-accelerated artificial life sim...   \n",
       "8     maziarraissi                              Applied Deep Learning   \n",
       "9     yangtingxiao                                              脚本，自用   \n",
       "\n",
       "  Contributors_count Language_used  \n",
       "0                  5         Swift  \n",
       "1                  -             -  \n",
       "2                 12             C  \n",
       "3                149    PowerShell  \n",
       "4                395             -  \n",
       "5                  -             -  \n",
       "6                  -          Java  \n",
       "7                  -           C++  \n",
       "8                  -             -  \n",
       "9                  -             -  "
      ]
     },
     "execution_count": 73,
     "metadata": {},
     "output_type": "execute_result"
    }
   ],
   "source": [
    "df"
   ]
  },
  {
   "cell_type": "code",
   "execution_count": null,
   "metadata": {},
   "outputs": [],
   "source": []
  }
 ],
 "metadata": {
  "kernelspec": {
   "display_name": "Python 3",
   "language": "python",
   "name": "python3"
  },
  "language_info": {
   "codemirror_mode": {
    "name": "ipython",
    "version": 3
   },
   "file_extension": ".py",
   "mimetype": "text/x-python",
   "name": "python",
   "nbconvert_exporter": "python",
   "pygments_lexer": "ipython3",
   "version": "3.8.5"
  }
 },
 "nbformat": 4,
 "nbformat_minor": 4
}
