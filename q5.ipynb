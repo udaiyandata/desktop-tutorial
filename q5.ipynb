{
 "cells": [
  {
   "cell_type": "code",
   "execution_count": 14,
   "metadata": {
    "scrolled": true
   },
   "outputs": [],
   "source": [
    "#by using selenium and webdriver we are extract the data from website\n",
    "import pandas as pd\n",
    "import selenium\n",
    "from selenium import webdriver"
   ]
  },
  {
   "cell_type": "code",
   "execution_count": 15,
   "metadata": {
    "scrolled": true
   },
   "outputs": [],
   "source": [
    "driver = webdriver.Chrome(\"Chromedriver.exe\")\n",
    "#we are using chrome browser as default"
   ]
  },
  {
   "cell_type": "code",
   "execution_count": 16,
   "metadata": {
    "scrolled": true
   },
   "outputs": [],
   "source": [
    "#we are using glass door website\n",
    "url = ' https://www.glassdoor.co.in/Salaries/new-delhi-data-scientist-salary-SRCH_IL.0,9_IM1083_KO10,24.htm?clickSource=searchBtn'\n",
    "driver.get(url)"
   ]
  },
  {
   "cell_type": "code",
   "execution_count": 17,
   "metadata": {
    "scrolled": true
   },
   "outputs": [
    {
     "data": {
      "text/plain": [
       "[<selenium.webdriver.remote.webelement.WebElement (session=\"b9bb5c002bf39f70de64cbc795de7544\", element=\"30371203-70cb-470e-a94e-8513828da31d\")>,\n",
       " <selenium.webdriver.remote.webelement.WebElement (session=\"b9bb5c002bf39f70de64cbc795de7544\", element=\"d7bde0f6-1b2c-4514-8255-0fa321a28526\")>,\n",
       " <selenium.webdriver.remote.webelement.WebElement (session=\"b9bb5c002bf39f70de64cbc795de7544\", element=\"770c2f9e-d6c4-47b1-a0d7-d745048fb2f1\")>,\n",
       " <selenium.webdriver.remote.webelement.WebElement (session=\"b9bb5c002bf39f70de64cbc795de7544\", element=\"1930fc10-6396-4499-bc80-a194b128a4e3\")>,\n",
       " <selenium.webdriver.remote.webelement.WebElement (session=\"b9bb5c002bf39f70de64cbc795de7544\", element=\"a55f4231-5bae-4ce0-b5c4-943692dceb9c\")>,\n",
       " <selenium.webdriver.remote.webelement.WebElement (session=\"b9bb5c002bf39f70de64cbc795de7544\", element=\"a18dda09-23b6-4009-a199-a1cbfcf04d1a\")>,\n",
       " <selenium.webdriver.remote.webelement.WebElement (session=\"b9bb5c002bf39f70de64cbc795de7544\", element=\"7e942fc4-0f80-4957-8d4a-f493eb7276c4\")>,\n",
       " <selenium.webdriver.remote.webelement.WebElement (session=\"b9bb5c002bf39f70de64cbc795de7544\", element=\"3bba52a6-0fc7-4f87-9a93-3d6694aaf003\")>,\n",
       " <selenium.webdriver.remote.webelement.WebElement (session=\"b9bb5c002bf39f70de64cbc795de7544\", element=\"5ce94c17-d86d-4e04-a775-eb4a8efd2320\")>,\n",
       " <selenium.webdriver.remote.webelement.WebElement (session=\"b9bb5c002bf39f70de64cbc795de7544\", element=\"f0ee66a3-69f6-42fa-9bc9-dce6ce351c09\")>,\n",
       " <selenium.webdriver.remote.webelement.WebElement (session=\"b9bb5c002bf39f70de64cbc795de7544\", element=\"1ad1df47-5d9f-4732-9dbb-338f2d3d8886\")>,\n",
       " <selenium.webdriver.remote.webelement.WebElement (session=\"b9bb5c002bf39f70de64cbc795de7544\", element=\"6d8f2572-61ba-4818-9797-9e681dc89702\")>,\n",
       " <selenium.webdriver.remote.webelement.WebElement (session=\"b9bb5c002bf39f70de64cbc795de7544\", element=\"dc2e9942-527c-4994-aae3-b1f4572a4bdd\")>,\n",
       " <selenium.webdriver.remote.webelement.WebElement (session=\"b9bb5c002bf39f70de64cbc795de7544\", element=\"99e8c419-89af-4faf-83ef-b3c6ba99dcdd\")>,\n",
       " <selenium.webdriver.remote.webelement.WebElement (session=\"b9bb5c002bf39f70de64cbc795de7544\", element=\"90b7bd16-dcf1-486f-8543-2df8f3725444\")>,\n",
       " <selenium.webdriver.remote.webelement.WebElement (session=\"b9bb5c002bf39f70de64cbc795de7544\", element=\"4864fe12-2243-4025-8f4d-0a65909a8d61\")>,\n",
       " <selenium.webdriver.remote.webelement.WebElement (session=\"b9bb5c002bf39f70de64cbc795de7544\", element=\"e6c85a15-914b-45f8-b755-66b50e671460\")>,\n",
       " <selenium.webdriver.remote.webelement.WebElement (session=\"b9bb5c002bf39f70de64cbc795de7544\", element=\"7fc744e6-aa91-4b3a-b0ce-facfe74a89a9\")>,\n",
       " <selenium.webdriver.remote.webelement.WebElement (session=\"b9bb5c002bf39f70de64cbc795de7544\", element=\"49446910-8969-4a07-bfe5-f2f84b2fe8dc\")>,\n",
       " <selenium.webdriver.remote.webelement.WebElement (session=\"b9bb5c002bf39f70de64cbc795de7544\", element=\"1fb66820-83a4-443e-b0d3-924a99486874\")>]"
      ]
     },
     "execution_count": 17,
     "metadata": {},
     "output_type": "execute_result"
    }
   ],
   "source": [
    "#number of salary from the website\n",
    "no_of_salary = driver.find_elements_by_xpath('//p[@class=\"css-1uyte9r css-1kuy7z7 m-0 \"]')\n",
    "no_of_salary"
   ]
  },
  {
   "cell_type": "code",
   "execution_count": 18,
   "metadata": {
    "scrolled": true
   },
   "outputs": [
    {
     "data": {
      "text/plain": [
       "['17 salaries',\n",
       " '15 salaries',\n",
       " '14 salaries',\n",
       " '14 salaries',\n",
       " '14 salaries',\n",
       " '11 salaries',\n",
       " '9 salaries',\n",
       " '8 salaries',\n",
       " '8 salaries',\n",
       " '8 salaries',\n",
       " '8 salaries',\n",
       " '6 salaries',\n",
       " '6 salaries',\n",
       " '5 salaries',\n",
       " '5 salaries',\n",
       " '5 salaries',\n",
       " '5 salaries',\n",
       " '5 salaries',\n",
       " '5 salaries',\n",
       " '4 salaries']"
      ]
     },
     "execution_count": 18,
     "metadata": {},
     "output_type": "execute_result"
    }
   ],
   "source": [
    "nos=[]\n",
    "for i in no_of_salary:\n",
    "    nos.append(i.text)\n",
    "nos"
   ]
  },
  {
   "cell_type": "code",
   "execution_count": 23,
   "metadata": {},
   "outputs": [
    {
     "data": {
      "text/plain": [
       "20"
      ]
     },
     "execution_count": 23,
     "metadata": {},
     "output_type": "execute_result"
    }
   ],
   "source": [
    "len(nos)"
   ]
  },
  {
   "cell_type": "code",
   "execution_count": 20,
   "metadata": {
    "scrolled": true
   },
   "outputs": [
    {
     "data": {
      "text/plain": [
       "[<selenium.webdriver.remote.webelement.WebElement (session=\"b9bb5c002bf39f70de64cbc795de7544\", element=\"0ffe268a-60ba-465e-a178-3d68d8b87452\")>,\n",
       " <selenium.webdriver.remote.webelement.WebElement (session=\"b9bb5c002bf39f70de64cbc795de7544\", element=\"af9f5213-32a7-4d03-943a-93d971f1fcf4\")>,\n",
       " <selenium.webdriver.remote.webelement.WebElement (session=\"b9bb5c002bf39f70de64cbc795de7544\", element=\"91562159-87b7-4c71-a452-96af187696d5\")>,\n",
       " <selenium.webdriver.remote.webelement.WebElement (session=\"b9bb5c002bf39f70de64cbc795de7544\", element=\"1ebf23f6-630b-4558-8567-562b1bb6ec9d\")>,\n",
       " <selenium.webdriver.remote.webelement.WebElement (session=\"b9bb5c002bf39f70de64cbc795de7544\", element=\"1509f25b-b65b-4ce8-968b-6b14dcd85d1c\")>,\n",
       " <selenium.webdriver.remote.webelement.WebElement (session=\"b9bb5c002bf39f70de64cbc795de7544\", element=\"1c50963a-3711-4bc1-920c-9236716825b9\")>,\n",
       " <selenium.webdriver.remote.webelement.WebElement (session=\"b9bb5c002bf39f70de64cbc795de7544\", element=\"1abb7067-eb89-4b11-a9e9-65f1389a8006\")>,\n",
       " <selenium.webdriver.remote.webelement.WebElement (session=\"b9bb5c002bf39f70de64cbc795de7544\", element=\"6decf62a-9f72-4f8b-beae-a076a55ee720\")>,\n",
       " <selenium.webdriver.remote.webelement.WebElement (session=\"b9bb5c002bf39f70de64cbc795de7544\", element=\"685e1866-a2e3-4b3d-86d5-00ee1dd74092\")>,\n",
       " <selenium.webdriver.remote.webelement.WebElement (session=\"b9bb5c002bf39f70de64cbc795de7544\", element=\"1ae8f9b7-319e-4acf-8312-00204a7e055c\")>,\n",
       " <selenium.webdriver.remote.webelement.WebElement (session=\"b9bb5c002bf39f70de64cbc795de7544\", element=\"950028c4-6324-4b76-b2ad-b91d0ff1dc2c\")>,\n",
       " <selenium.webdriver.remote.webelement.WebElement (session=\"b9bb5c002bf39f70de64cbc795de7544\", element=\"87f39e15-261c-4ad6-8e5e-fdd9215b314f\")>,\n",
       " <selenium.webdriver.remote.webelement.WebElement (session=\"b9bb5c002bf39f70de64cbc795de7544\", element=\"241ff805-8e63-4b10-84ac-63b964beaa6a\")>,\n",
       " <selenium.webdriver.remote.webelement.WebElement (session=\"b9bb5c002bf39f70de64cbc795de7544\", element=\"ae37ba2f-3361-4480-a492-d431f201e782\")>,\n",
       " <selenium.webdriver.remote.webelement.WebElement (session=\"b9bb5c002bf39f70de64cbc795de7544\", element=\"9e92c6d1-caa6-4741-b3ab-77dccd2b58dc\")>,\n",
       " <selenium.webdriver.remote.webelement.WebElement (session=\"b9bb5c002bf39f70de64cbc795de7544\", element=\"1dd3bb90-25d8-4a71-b0ee-729606ff014f\")>,\n",
       " <selenium.webdriver.remote.webelement.WebElement (session=\"b9bb5c002bf39f70de64cbc795de7544\", element=\"4a683e8c-bc98-4f31-96ba-16c06ed24c30\")>,\n",
       " <selenium.webdriver.remote.webelement.WebElement (session=\"b9bb5c002bf39f70de64cbc795de7544\", element=\"0def80bb-1843-4353-abfb-c8aea6ab4cac\")>,\n",
       " <selenium.webdriver.remote.webelement.WebElement (session=\"b9bb5c002bf39f70de64cbc795de7544\", element=\"6f703b2b-77c6-49ba-b7e6-b6a7a8ae7149\")>,\n",
       " <selenium.webdriver.remote.webelement.WebElement (session=\"b9bb5c002bf39f70de64cbc795de7544\", element=\"486f4661-c8ff-4643-a6c9-42d877ea83a9\")>]"
      ]
     },
     "execution_count": 20,
     "metadata": {},
     "output_type": "execute_result"
    }
   ],
   "source": [
    "#number of company name in the website\n",
    "company_name = driver.find_elements_by_xpath('//p[@class=\"m-0 \"]')\n",
    "company_name"
   ]
  },
  {
   "cell_type": "code",
   "execution_count": 21,
   "metadata": {
    "scrolled": true
   },
   "outputs": [
    {
     "data": {
      "text/plain": [
       "['Tata Consultancy Services',\n",
       " 'IBM',\n",
       " 'Accenture',\n",
       " 'Ericsson-Worldwide',\n",
       " 'Delhivery',\n",
       " 'UnitedHealth Group',\n",
       " 'Valiance Solutions',\n",
       " 'ZS Associates',\n",
       " 'EXL Service',\n",
       " 'Optum Global Solutions',\n",
       " 'Innovaccer',\n",
       " 'Cognizant Technology Solutions',\n",
       " 'Optum',\n",
       " 'Tech Mahindra',\n",
       " 'OYO',\n",
       " 'Nagarro',\n",
       " 'dunnhumby',\n",
       " 'Vidooly Media Tech',\n",
       " 'Algo8.ai',\n",
       " 'Amazon']"
      ]
     },
     "execution_count": 21,
     "metadata": {},
     "output_type": "execute_result"
    }
   ],
   "source": [
    "com=[]\n",
    "for i in no_of_salary:\n",
    "    com.append(i.text)\n",
    "com"
   ]
  },
  {
   "cell_type": "code",
   "execution_count": 22,
   "metadata": {},
   "outputs": [
    {
     "data": {
      "text/plain": [
       "20"
      ]
     },
     "execution_count": 22,
     "metadata": {},
     "output_type": "execute_result"
    }
   ],
   "source": [
    "len(com)"
   ]
  },
  {
   "cell_type": "code",
   "execution_count": 24,
   "metadata": {},
   "outputs": [
    {
     "data": {
      "text/plain": [
       "[<selenium.webdriver.remote.webelement.WebElement (session=\"b9bb5c002bf39f70de64cbc795de7544\", element=\"c423dfcb-0dcb-43f8-a240-ac6759da2397\")>,\n",
       " <selenium.webdriver.remote.webelement.WebElement (session=\"b9bb5c002bf39f70de64cbc795de7544\", element=\"afc382b0-3973-496a-ba49-f030b7ca3567\")>,\n",
       " <selenium.webdriver.remote.webelement.WebElement (session=\"b9bb5c002bf39f70de64cbc795de7544\", element=\"61962719-df77-40ef-84a6-f9acc4655956\")>,\n",
       " <selenium.webdriver.remote.webelement.WebElement (session=\"b9bb5c002bf39f70de64cbc795de7544\", element=\"5f9a688a-8e36-433f-8188-60eabdf0bc6d\")>,\n",
       " <selenium.webdriver.remote.webelement.WebElement (session=\"b9bb5c002bf39f70de64cbc795de7544\", element=\"385e6421-b472-488a-8b84-69077f92868d\")>,\n",
       " <selenium.webdriver.remote.webelement.WebElement (session=\"b9bb5c002bf39f70de64cbc795de7544\", element=\"4107cd68-599e-4a1c-afd9-47cd5ce024bb\")>,\n",
       " <selenium.webdriver.remote.webelement.WebElement (session=\"b9bb5c002bf39f70de64cbc795de7544\", element=\"b514e6ab-b230-463b-9720-724c6714940e\")>,\n",
       " <selenium.webdriver.remote.webelement.WebElement (session=\"b9bb5c002bf39f70de64cbc795de7544\", element=\"a9e32ea1-8407-4e0b-88ae-7cec55596c2b\")>,\n",
       " <selenium.webdriver.remote.webelement.WebElement (session=\"b9bb5c002bf39f70de64cbc795de7544\", element=\"55f9cc9f-1f60-465e-afb5-8099cfb42db2\")>,\n",
       " <selenium.webdriver.remote.webelement.WebElement (session=\"b9bb5c002bf39f70de64cbc795de7544\", element=\"25eb2157-d635-4a69-a085-ba3a0be34b7c\")>,\n",
       " <selenium.webdriver.remote.webelement.WebElement (session=\"b9bb5c002bf39f70de64cbc795de7544\", element=\"5a64f0ab-7509-4d73-bf10-8c1856444aa2\")>,\n",
       " <selenium.webdriver.remote.webelement.WebElement (session=\"b9bb5c002bf39f70de64cbc795de7544\", element=\"f20cc555-9e8c-45f3-aed3-574eb52e1199\")>,\n",
       " <selenium.webdriver.remote.webelement.WebElement (session=\"b9bb5c002bf39f70de64cbc795de7544\", element=\"f8ac2449-3c3f-439e-984c-b738709bf0d5\")>,\n",
       " <selenium.webdriver.remote.webelement.WebElement (session=\"b9bb5c002bf39f70de64cbc795de7544\", element=\"1a0ecd14-dad6-4fa2-b588-4a2675b32cce\")>,\n",
       " <selenium.webdriver.remote.webelement.WebElement (session=\"b9bb5c002bf39f70de64cbc795de7544\", element=\"0b96291f-7982-4f92-bd9c-fa163c4d4f1e\")>,\n",
       " <selenium.webdriver.remote.webelement.WebElement (session=\"b9bb5c002bf39f70de64cbc795de7544\", element=\"7ca22f5c-25bb-41a5-b2ce-e273dc646315\")>,\n",
       " <selenium.webdriver.remote.webelement.WebElement (session=\"b9bb5c002bf39f70de64cbc795de7544\", element=\"82adc330-9432-422a-bf7f-e633615e3623\")>,\n",
       " <selenium.webdriver.remote.webelement.WebElement (session=\"b9bb5c002bf39f70de64cbc795de7544\", element=\"fb92c525-346c-4bfc-9879-805c68a18d20\")>,\n",
       " <selenium.webdriver.remote.webelement.WebElement (session=\"b9bb5c002bf39f70de64cbc795de7544\", element=\"eb507df5-6f7e-4c84-91e6-d08708210f53\")>,\n",
       " <selenium.webdriver.remote.webelement.WebElement (session=\"b9bb5c002bf39f70de64cbc795de7544\", element=\"781c1af5-4723-40f7-86ee-b7ed62dda809\")>]"
      ]
     },
     "execution_count": 24,
     "metadata": {},
     "output_type": "execute_result"
    }
   ],
   "source": [
    "#average salary\n",
    "average = driver.find_elements_by_xpath('//p[@class=\"d-block d-md-none m-0\"]')\n",
    "average"
   ]
  },
  {
   "cell_type": "code",
   "execution_count": 25,
   "metadata": {},
   "outputs": [
    {
     "data": {
      "text/plain": [
       "['₹ 6,14,306/yr',\n",
       " '₹ 9,00,000/yr',\n",
       " '₹ 11,46,533/yr',\n",
       " '₹ 7,38,057/yr',\n",
       " '₹ 12,39,781/yr',\n",
       " '₹ 13,36,142/yr',\n",
       " '₹ 8,15,192/yr',\n",
       " '₹ 11,35,221/yr',\n",
       " '₹ 11,44,243/yr',\n",
       " '₹ 14,13,288/yr',\n",
       " '₹ 12,07,110/yr',\n",
       " '₹ 10,07,410/yr',\n",
       " '₹ 13,18,851/yr',\n",
       " '₹ 10,52,718/yr',\n",
       " '₹ 14,13,078/yr',\n",
       " '₹ 9,61,653/yr',\n",
       " '₹ 11,00,000/yr',\n",
       " '₹ 15,887/mo',\n",
       " '₹ 6,75,000/yr',\n",
       " '₹ 15,00,000/yr']"
      ]
     },
     "execution_count": 25,
     "metadata": {},
     "output_type": "execute_result"
    }
   ],
   "source": [
    "avg1=[]\n",
    "for i in average:\n",
    "    avg1.append(i.text)\n",
    "avg1"
   ]
  },
  {
   "cell_type": "code",
   "execution_count": 26,
   "metadata": {},
   "outputs": [
    {
     "data": {
      "text/plain": [
       "[<selenium.webdriver.remote.webelement.WebElement (session=\"b9bb5c002bf39f70de64cbc795de7544\", element=\"92434ebc-9269-4140-8952-c72fb9a8a608\")>,\n",
       " <selenium.webdriver.remote.webelement.WebElement (session=\"b9bb5c002bf39f70de64cbc795de7544\", element=\"85a205a3-9136-404e-859b-2597fb278506\")>,\n",
       " <selenium.webdriver.remote.webelement.WebElement (session=\"b9bb5c002bf39f70de64cbc795de7544\", element=\"2a131f71-bd39-44fa-bb4e-42ef1158da07\")>,\n",
       " <selenium.webdriver.remote.webelement.WebElement (session=\"b9bb5c002bf39f70de64cbc795de7544\", element=\"16d1e2db-85bc-4009-a033-0277a3c1adfe\")>,\n",
       " <selenium.webdriver.remote.webelement.WebElement (session=\"b9bb5c002bf39f70de64cbc795de7544\", element=\"cc3de6c1-ccb4-4a10-9873-efc02ea49983\")>,\n",
       " <selenium.webdriver.remote.webelement.WebElement (session=\"b9bb5c002bf39f70de64cbc795de7544\", element=\"84114446-62cd-46cd-a031-c7e54542e087\")>,\n",
       " <selenium.webdriver.remote.webelement.WebElement (session=\"b9bb5c002bf39f70de64cbc795de7544\", element=\"3ee5e9dc-d73d-4956-b45b-58b15f314c94\")>,\n",
       " <selenium.webdriver.remote.webelement.WebElement (session=\"b9bb5c002bf39f70de64cbc795de7544\", element=\"769b1366-5594-4d85-9004-2bc5b597e365\")>,\n",
       " <selenium.webdriver.remote.webelement.WebElement (session=\"b9bb5c002bf39f70de64cbc795de7544\", element=\"30973319-8fcb-46dc-b79d-195adc7bd84b\")>,\n",
       " <selenium.webdriver.remote.webelement.WebElement (session=\"b9bb5c002bf39f70de64cbc795de7544\", element=\"5a6e7499-0c53-4f0b-88ca-bd08524e8d07\")>,\n",
       " <selenium.webdriver.remote.webelement.WebElement (session=\"b9bb5c002bf39f70de64cbc795de7544\", element=\"90d7b507-ed6b-4160-a507-dbe66429d705\")>,\n",
       " <selenium.webdriver.remote.webelement.WebElement (session=\"b9bb5c002bf39f70de64cbc795de7544\", element=\"b22b9a6b-94dd-49fb-acd4-8b12e6aefb6f\")>,\n",
       " <selenium.webdriver.remote.webelement.WebElement (session=\"b9bb5c002bf39f70de64cbc795de7544\", element=\"64711e42-99b8-489e-a4d5-dca705dbae31\")>,\n",
       " <selenium.webdriver.remote.webelement.WebElement (session=\"b9bb5c002bf39f70de64cbc795de7544\", element=\"4307d753-06ed-4cd3-bdc0-7d0d234c76fc\")>,\n",
       " <selenium.webdriver.remote.webelement.WebElement (session=\"b9bb5c002bf39f70de64cbc795de7544\", element=\"3ee05655-ab32-4984-a152-91c178ec0f46\")>,\n",
       " <selenium.webdriver.remote.webelement.WebElement (session=\"b9bb5c002bf39f70de64cbc795de7544\", element=\"e81a222f-7075-4472-a5c0-70b975137925\")>,\n",
       " <selenium.webdriver.remote.webelement.WebElement (session=\"b9bb5c002bf39f70de64cbc795de7544\", element=\"dcb20a1f-75c4-46b7-b4ef-aee763b5bbf4\")>,\n",
       " <selenium.webdriver.remote.webelement.WebElement (session=\"b9bb5c002bf39f70de64cbc795de7544\", element=\"2ce47390-7d9e-4112-aaab-2f2cb64b91fa\")>,\n",
       " <selenium.webdriver.remote.webelement.WebElement (session=\"b9bb5c002bf39f70de64cbc795de7544\", element=\"9790ea97-4306-45a1-b817-0b37d7582a4b\")>,\n",
       " <selenium.webdriver.remote.webelement.WebElement (session=\"b9bb5c002bf39f70de64cbc795de7544\", element=\"2a6ee7cf-3638-4eab-a9b3-0eb460d19bc2\")>]"
      ]
     },
     "execution_count": 26,
     "metadata": {},
     "output_type": "execute_result"
    }
   ],
   "source": [
    "#average salary minium salary and maxium salary\n",
    "average_min_max = driver.find_elements_by_xpath('//div[@class=\"common__RangeBarStyle__values d-flex justify-content-between \"]')\n",
    "average_min_max"
   ]
  },
  {
   "cell_type": "code",
   "execution_count": 28,
   "metadata": {},
   "outputs": [
    {
     "data": {
      "text/plain": [
       "['₹343K₹1,250K',\n",
       " '₹586K₹2,730K',\n",
       " '₹577K₹2,213K',\n",
       " '₹355K₹1,613K',\n",
       " '₹450K₹11,622K',\n",
       " '₹1,069K₹1,520K',\n",
       " '₹502K₹1,465K',\n",
       " '₹202K₹1,809K',\n",
       " '₹575K₹1,520K',\n",
       " '₹1,014K₹2,149K',\n",
       " '₹620K₹1,695K',\n",
       " '₹792K₹1,263K',\n",
       " '₹807K₹1,986K',\n",
       " '₹405K₹1,703K',\n",
       " '₹971K₹1,883K',\n",
       " '₹400K₹1,124K',\n",
       " '₹817K₹2,006K',\n",
       " '₹12K₹63K',\n",
       " '₹86K₹1,358K',\n",
       " '₹772K₹2,091K']"
      ]
     },
     "execution_count": 28,
     "metadata": {},
     "output_type": "execute_result"
    }
   ],
   "source": [
    "avg2=[]\n",
    "for i in average_min_max:\n",
    "    avg2.append(i.text.replace('\\n',''))\n",
    "avg2"
   ]
  },
  {
   "cell_type": "code",
   "execution_count": 29,
   "metadata": {},
   "outputs": [
    {
     "data": {
      "text/plain": [
       "20"
      ]
     },
     "execution_count": 29,
     "metadata": {},
     "output_type": "execute_result"
    }
   ],
   "source": [
    "len(avg2)"
   ]
  },
  {
   "cell_type": "code",
   "execution_count": 31,
   "metadata": {},
   "outputs": [],
   "source": [
    "job=pd.DataFrame({})\n",
    "job['no of salary']=nos\n",
    "job['company name']=com\n",
    "job['average']=avg2\n",
    "job['average maxium and minium']=avg2"
   ]
  },
  {
   "cell_type": "code",
   "execution_count": 33,
   "metadata": {},
   "outputs": [],
   "source": [
    "df=job.head(10)"
   ]
  },
  {
   "cell_type": "code",
   "execution_count": 34,
   "metadata": {},
   "outputs": [
    {
     "data": {
      "text/html": [
       "<div>\n",
       "<style scoped>\n",
       "    .dataframe tbody tr th:only-of-type {\n",
       "        vertical-align: middle;\n",
       "    }\n",
       "\n",
       "    .dataframe tbody tr th {\n",
       "        vertical-align: top;\n",
       "    }\n",
       "\n",
       "    .dataframe thead th {\n",
       "        text-align: right;\n",
       "    }\n",
       "</style>\n",
       "<table border=\"1\" class=\"dataframe\">\n",
       "  <thead>\n",
       "    <tr style=\"text-align: right;\">\n",
       "      <th></th>\n",
       "      <th>no of salary</th>\n",
       "      <th>company name</th>\n",
       "      <th>average</th>\n",
       "      <th>average maxium and minium</th>\n",
       "    </tr>\n",
       "  </thead>\n",
       "  <tbody>\n",
       "    <tr>\n",
       "      <th>0</th>\n",
       "      <td>17 salaries</td>\n",
       "      <td>Tata Consultancy Services</td>\n",
       "      <td>₹343K₹1,250K</td>\n",
       "      <td>₹343K₹1,250K</td>\n",
       "    </tr>\n",
       "    <tr>\n",
       "      <th>1</th>\n",
       "      <td>15 salaries</td>\n",
       "      <td>IBM</td>\n",
       "      <td>₹586K₹2,730K</td>\n",
       "      <td>₹586K₹2,730K</td>\n",
       "    </tr>\n",
       "    <tr>\n",
       "      <th>2</th>\n",
       "      <td>14 salaries</td>\n",
       "      <td>Accenture</td>\n",
       "      <td>₹577K₹2,213K</td>\n",
       "      <td>₹577K₹2,213K</td>\n",
       "    </tr>\n",
       "    <tr>\n",
       "      <th>3</th>\n",
       "      <td>14 salaries</td>\n",
       "      <td>Ericsson-Worldwide</td>\n",
       "      <td>₹355K₹1,613K</td>\n",
       "      <td>₹355K₹1,613K</td>\n",
       "    </tr>\n",
       "    <tr>\n",
       "      <th>4</th>\n",
       "      <td>14 salaries</td>\n",
       "      <td>Delhivery</td>\n",
       "      <td>₹450K₹11,622K</td>\n",
       "      <td>₹450K₹11,622K</td>\n",
       "    </tr>\n",
       "    <tr>\n",
       "      <th>5</th>\n",
       "      <td>11 salaries</td>\n",
       "      <td>UnitedHealth Group</td>\n",
       "      <td>₹1,069K₹1,520K</td>\n",
       "      <td>₹1,069K₹1,520K</td>\n",
       "    </tr>\n",
       "    <tr>\n",
       "      <th>6</th>\n",
       "      <td>9 salaries</td>\n",
       "      <td>Valiance Solutions</td>\n",
       "      <td>₹502K₹1,465K</td>\n",
       "      <td>₹502K₹1,465K</td>\n",
       "    </tr>\n",
       "    <tr>\n",
       "      <th>7</th>\n",
       "      <td>8 salaries</td>\n",
       "      <td>ZS Associates</td>\n",
       "      <td>₹202K₹1,809K</td>\n",
       "      <td>₹202K₹1,809K</td>\n",
       "    </tr>\n",
       "    <tr>\n",
       "      <th>8</th>\n",
       "      <td>8 salaries</td>\n",
       "      <td>EXL Service</td>\n",
       "      <td>₹575K₹1,520K</td>\n",
       "      <td>₹575K₹1,520K</td>\n",
       "    </tr>\n",
       "    <tr>\n",
       "      <th>9</th>\n",
       "      <td>8 salaries</td>\n",
       "      <td>Optum Global Solutions</td>\n",
       "      <td>₹1,014K₹2,149K</td>\n",
       "      <td>₹1,014K₹2,149K</td>\n",
       "    </tr>\n",
       "  </tbody>\n",
       "</table>\n",
       "</div>"
      ],
      "text/plain": [
       "  no of salary               company name         average  \\\n",
       "0  17 salaries  Tata Consultancy Services    ₹343K₹1,250K   \n",
       "1  15 salaries                        IBM    ₹586K₹2,730K   \n",
       "2  14 salaries                  Accenture    ₹577K₹2,213K   \n",
       "3  14 salaries         Ericsson-Worldwide    ₹355K₹1,613K   \n",
       "4  14 salaries                  Delhivery   ₹450K₹11,622K   \n",
       "5  11 salaries         UnitedHealth Group  ₹1,069K₹1,520K   \n",
       "6   9 salaries         Valiance Solutions    ₹502K₹1,465K   \n",
       "7   8 salaries              ZS Associates    ₹202K₹1,809K   \n",
       "8   8 salaries                EXL Service    ₹575K₹1,520K   \n",
       "9   8 salaries     Optum Global Solutions  ₹1,014K₹2,149K   \n",
       "\n",
       "  average maxium and minium  \n",
       "0              ₹343K₹1,250K  \n",
       "1              ₹586K₹2,730K  \n",
       "2              ₹577K₹2,213K  \n",
       "3              ₹355K₹1,613K  \n",
       "4             ₹450K₹11,622K  \n",
       "5            ₹1,069K₹1,520K  \n",
       "6              ₹502K₹1,465K  \n",
       "7              ₹202K₹1,809K  \n",
       "8              ₹575K₹1,520K  \n",
       "9            ₹1,014K₹2,149K  "
      ]
     },
     "execution_count": 34,
     "metadata": {},
     "output_type": "execute_result"
    }
   ],
   "source": [
    "df"
   ]
  },
  {
   "cell_type": "code",
   "execution_count": null,
   "metadata": {},
   "outputs": [],
   "source": []
  }
 ],
 "metadata": {
  "kernelspec": {
   "display_name": "Python 3",
   "language": "python",
   "name": "python3"
  },
  "language_info": {
   "codemirror_mode": {
    "name": "ipython",
    "version": 3
   },
   "file_extension": ".py",
   "mimetype": "text/x-python",
   "name": "python",
   "nbconvert_exporter": "python",
   "pygments_lexer": "ipython3",
   "version": "3.8.5"
  }
 },
 "nbformat": 4,
 "nbformat_minor": 4
}
