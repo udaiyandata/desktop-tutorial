{
 "cells": [
  {
   "cell_type": "code",
   "execution_count": 135,
   "metadata": {},
   "outputs": [],
   "source": [
    "#by using selenium and webdriver we are extract the data from website\n",
    "import pandas as pd\n",
    "import selenium\n",
    "from selenium import webdriver"
   ]
  },
  {
   "cell_type": "code",
   "execution_count": 136,
   "metadata": {},
   "outputs": [],
   "source": [
    "driver = webdriver.Chrome(\"Chromedriver.exe\")\n",
    "#we are using chrome browser as default"
   ]
  },
  {
   "cell_type": "code",
   "execution_count": 137,
   "metadata": {},
   "outputs": [],
   "source": [
    "#we are using glass door website\n",
    "url = 'https://www.glassdoor.co.in/index.htm'\n",
    "driver.get(url)"
   ]
  },
  {
   "cell_type": "code",
   "execution_count": 138,
   "metadata": {},
   "outputs": [],
   "source": [
    "##we using button to click button for sign in\n",
    "click_btn = driver.find_element_by_xpath(\"//button[@class='d-none d-lg-block p-0 LockedHomeHeaderStyles__signInButton']\")\n",
    "click_btn.click()"
   ]
  },
  {
   "cell_type": "code",
   "execution_count": 139,
   "metadata": {},
   "outputs": [],
   "source": [
    "#now we are entering the user name and password\n",
    "driver.find_element_by_id(\"userEmail\").send_keys(\"udaiyansher@gmail.com\")\n",
    "driver.find_element_by_id(\"userPassword\").send_keys(\"jesushelpudaiyan\")\n",
    "search_btn = driver.find_element_by_xpath(\"//button[@class='gd-ui-button minWidthBtn css-8i7bc2']\")\n",
    "search_btn.click()"
   ]
  },
  {
   "cell_type": "code",
   "execution_count": 140,
   "metadata": {},
   "outputs": [
    {
     "data": {
      "text/plain": [
       "<selenium.webdriver.remote.webelement.WebElement (session=\"0d79a6b69a335052fd71c66d19cba870\", element=\"43b8f34b-da91-4ac5-b98b-e0e6c84a681a\")>"
      ]
     },
     "execution_count": 140,
     "metadata": {},
     "output_type": "execute_result"
    }
   ],
   "source": [
    "##we using id for search the keyword\n",
    "search_job=driver.find_element_by_id(\"sc.keyword\")\n",
    "search_job"
   ]
  },
  {
   "cell_type": "code",
   "execution_count": 141,
   "metadata": {},
   "outputs": [],
   "source": [
    "#we are typing the which word we want to search\n",
    "search_job.send_keys(\"data scientist\")"
   ]
  },
  {
   "cell_type": "code",
   "execution_count": 142,
   "metadata": {},
   "outputs": [
    {
     "data": {
      "text/plain": [
       "<selenium.webdriver.remote.webelement.WebElement (session=\"0d79a6b69a335052fd71c66d19cba870\", element=\"dc1b663f-401a-41e8-8d45-697ccdcf52cf\")>"
      ]
     },
     "execution_count": 142,
     "metadata": {},
     "output_type": "execute_result"
    }
   ],
   "source": [
    "search_job=driver.find_element_by_id(\"sc.location\")\n",
    "search_job"
   ]
  },
  {
   "cell_type": "code",
   "execution_count": 143,
   "metadata": {},
   "outputs": [],
   "source": [
    "#search_job.send_keys(\"nodia\")\n",
    "#search_job1=driver.find_element_by_id(\"sc.location\")\n",
    "#search_job1.send_keys(\"nodia delhi\")\n",
    "#search_job1.clear()"
   ]
  },
  {
   "cell_type": "code",
   "execution_count": 144,
   "metadata": {},
   "outputs": [],
   "source": [
    "#search_job1.send_keys(\"nodia delhi\")"
   ]
  },
  {
   "cell_type": "code",
   "execution_count": 145,
   "metadata": {},
   "outputs": [],
   "source": [
    "##we using button to click button \n",
    "click_btn = driver.find_element_by_xpath(\"//button[@class='gd-ui-button ml-std col-auto SearchStyles__newSearchButton css-iixdfr']\")\n",
    "click_btn.click()"
   ]
  },
  {
   "cell_type": "code",
   "execution_count": 146,
   "metadata": {},
   "outputs": [
    {
     "data": {
      "text/plain": [
       "[<selenium.webdriver.remote.webelement.WebElement (session=\"0d79a6b69a335052fd71c66d19cba870\", element=\"37de706f-7c16-40f9-92bb-d5f2af7bedad\")>,\n",
       " <selenium.webdriver.remote.webelement.WebElement (session=\"0d79a6b69a335052fd71c66d19cba870\", element=\"36457f19-fc83-4f4d-ba70-e06ce3296e8a\")>,\n",
       " <selenium.webdriver.remote.webelement.WebElement (session=\"0d79a6b69a335052fd71c66d19cba870\", element=\"e5dc19d5-c534-4dc9-80ce-bd7f337b868a\")>,\n",
       " <selenium.webdriver.remote.webelement.WebElement (session=\"0d79a6b69a335052fd71c66d19cba870\", element=\"06b9268a-5002-4688-a016-d1893a5c6a23\")>,\n",
       " <selenium.webdriver.remote.webelement.WebElement (session=\"0d79a6b69a335052fd71c66d19cba870\", element=\"f6b8fad8-ae96-4348-8a46-ad641347e650\")>,\n",
       " <selenium.webdriver.remote.webelement.WebElement (session=\"0d79a6b69a335052fd71c66d19cba870\", element=\"c7cc0f88-a719-4b38-8478-ad5cca303e19\")>,\n",
       " <selenium.webdriver.remote.webelement.WebElement (session=\"0d79a6b69a335052fd71c66d19cba870\", element=\"75dd94b2-cbd8-40da-a2cb-5b49e808917d\")>,\n",
       " <selenium.webdriver.remote.webelement.WebElement (session=\"0d79a6b69a335052fd71c66d19cba870\", element=\"76b9fe50-49b6-487a-9b9d-56b3f0701108\")>,\n",
       " <selenium.webdriver.remote.webelement.WebElement (session=\"0d79a6b69a335052fd71c66d19cba870\", element=\"743831e3-d928-4b01-bd1a-85d0e7767ee0\")>,\n",
       " <selenium.webdriver.remote.webelement.WebElement (session=\"0d79a6b69a335052fd71c66d19cba870\", element=\"10c42677-a7ac-4b8e-bb28-1de36a9327c6\")>,\n",
       " <selenium.webdriver.remote.webelement.WebElement (session=\"0d79a6b69a335052fd71c66d19cba870\", element=\"3ee3630a-91e4-4b81-bcf8-4207aac4393e\")>,\n",
       " <selenium.webdriver.remote.webelement.WebElement (session=\"0d79a6b69a335052fd71c66d19cba870\", element=\"d87b350b-c18a-41c2-925d-f769801e2750\")>,\n",
       " <selenium.webdriver.remote.webelement.WebElement (session=\"0d79a6b69a335052fd71c66d19cba870\", element=\"f60ae643-a1ce-4914-aa56-f5e5645597ec\")>,\n",
       " <selenium.webdriver.remote.webelement.WebElement (session=\"0d79a6b69a335052fd71c66d19cba870\", element=\"c854c140-3a06-4b57-819d-fedd8111697a\")>,\n",
       " <selenium.webdriver.remote.webelement.WebElement (session=\"0d79a6b69a335052fd71c66d19cba870\", element=\"9f97c5dd-8fa3-4fe8-a077-62d78a1e6e13\")>,\n",
       " <selenium.webdriver.remote.webelement.WebElement (session=\"0d79a6b69a335052fd71c66d19cba870\", element=\"10e38bdf-62d0-49c1-bf17-e002c43e1102\")>,\n",
       " <selenium.webdriver.remote.webelement.WebElement (session=\"0d79a6b69a335052fd71c66d19cba870\", element=\"7b33d508-d57c-4556-904e-71ee00688029\")>,\n",
       " <selenium.webdriver.remote.webelement.WebElement (session=\"0d79a6b69a335052fd71c66d19cba870\", element=\"cb55fa47-8c7d-4304-ab9f-555a27ba29ee\")>,\n",
       " <selenium.webdriver.remote.webelement.WebElement (session=\"0d79a6b69a335052fd71c66d19cba870\", element=\"ff6d6702-5fc1-458b-abfb-a7d1f2dffa38\")>,\n",
       " <selenium.webdriver.remote.webelement.WebElement (session=\"0d79a6b69a335052fd71c66d19cba870\", element=\"8f4c0a7b-09e8-467d-abca-af4383a21560\")>,\n",
       " <selenium.webdriver.remote.webelement.WebElement (session=\"0d79a6b69a335052fd71c66d19cba870\", element=\"bf17db71-78cb-48c5-bc85-9578325702d4\")>,\n",
       " <selenium.webdriver.remote.webelement.WebElement (session=\"0d79a6b69a335052fd71c66d19cba870\", element=\"9678b549-ebc8-4433-b9b9-c04dd1cff0eb\")>,\n",
       " <selenium.webdriver.remote.webelement.WebElement (session=\"0d79a6b69a335052fd71c66d19cba870\", element=\"f6b8eaff-0b30-4d95-93a7-a078fe91d33b\")>,\n",
       " <selenium.webdriver.remote.webelement.WebElement (session=\"0d79a6b69a335052fd71c66d19cba870\", element=\"bfdea71a-6c6e-47c5-97c6-a7e7b129b6dd\")>,\n",
       " <selenium.webdriver.remote.webelement.WebElement (session=\"0d79a6b69a335052fd71c66d19cba870\", element=\"af74e1cd-a527-4acb-87bf-fd1b919f8795\")>,\n",
       " <selenium.webdriver.remote.webelement.WebElement (session=\"0d79a6b69a335052fd71c66d19cba870\", element=\"bc09abd2-7760-4b2e-a58b-5f0272898376\")>,\n",
       " <selenium.webdriver.remote.webelement.WebElement (session=\"0d79a6b69a335052fd71c66d19cba870\", element=\"1385fd56-f5e5-48f8-b2a4-0ac902399078\")>,\n",
       " <selenium.webdriver.remote.webelement.WebElement (session=\"0d79a6b69a335052fd71c66d19cba870\", element=\"73908544-2214-4b19-a52e-a22aecdda8ae\")>,\n",
       " <selenium.webdriver.remote.webelement.WebElement (session=\"0d79a6b69a335052fd71c66d19cba870\", element=\"16049b21-141c-473a-a00e-24c3d9d62325\")>,\n",
       " <selenium.webdriver.remote.webelement.WebElement (session=\"0d79a6b69a335052fd71c66d19cba870\", element=\"4ad63062-fd51-4b1d-b2ca-e728a31127fb\")>]"
      ]
     },
     "execution_count": 146,
     "metadata": {},
     "output_type": "execute_result"
    }
   ],
   "source": [
    "#company name \n",
    "title_tags=driver.find_elements_by_xpath(\"//a[@class=' css-l2wjgv e1n63ojh0 jobLink']\")\n",
    "title_tags"
   ]
  },
  {
   "cell_type": "code",
   "execution_count": 147,
   "metadata": {},
   "outputs": [
    {
     "data": {
      "text/plain": [
       "['Oportun Inc',\n",
       " 'Ideas2IT Technologies',\n",
       " 'Trimble',\n",
       " '',\n",
       " 'Tata Group',\n",
       " 'BSRI Solutions Pvt Ltd.,',\n",
       " 'HDFC Bank',\n",
       " 'freshworks',\n",
       " 'ECS',\n",
       " 'Inspirisys Solutions',\n",
       " 'Kanini Software Solutions',\n",
       " 'Rambøll',\n",
       " 'IDP Education Ltd',\n",
       " 'Phoenix Human Capital Private Limited',\n",
       " 'Aspire Systems',\n",
       " 'Applied Data Finance',\n",
       " 'Diverse Lynx India',\n",
       " 'EMVEE Information Technologies Private Limited',\n",
       " 'Culturelligence Pvt. Ltd.',\n",
       " 'ASM Technologies Limited',\n",
       " 'Ganit',\n",
       " 'Standard Chartered',\n",
       " 'Shell',\n",
       " 'IBM',\n",
       " '2COMs',\n",
       " 'PayPal',\n",
       " 'PayPal',\n",
       " 'Randstad',\n",
       " 'HDFC Bank',\n",
       " 'Shell']"
      ]
     },
     "execution_count": 147,
     "metadata": {},
     "output_type": "execute_result"
    }
   ],
   "source": [
    "job_title=[]\n",
    "for i in title_tags:\n",
    "    job_title.append(i.text)\n",
    "job_title"
   ]
  },
  {
   "cell_type": "code",
   "execution_count": 148,
   "metadata": {},
   "outputs": [
    {
     "data": {
      "text/plain": [
       "[<selenium.webdriver.remote.webelement.WebElement (session=\"0d79a6b69a335052fd71c66d19cba870\", element=\"81928192-3ada-4fec-8b8c-666af16b42e3\")>,\n",
       " <selenium.webdriver.remote.webelement.WebElement (session=\"0d79a6b69a335052fd71c66d19cba870\", element=\"d8c5e1fd-28e8-4dca-b13d-c1ae30df6679\")>,\n",
       " <selenium.webdriver.remote.webelement.WebElement (session=\"0d79a6b69a335052fd71c66d19cba870\", element=\"108a4a24-d9f6-44bc-afa1-b77987a428b8\")>,\n",
       " <selenium.webdriver.remote.webelement.WebElement (session=\"0d79a6b69a335052fd71c66d19cba870\", element=\"a73b8968-edb5-4c8b-b8a8-f6aac84f6051\")>,\n",
       " <selenium.webdriver.remote.webelement.WebElement (session=\"0d79a6b69a335052fd71c66d19cba870\", element=\"8075290b-903d-4f75-ba37-3aa06b1af362\")>,\n",
       " <selenium.webdriver.remote.webelement.WebElement (session=\"0d79a6b69a335052fd71c66d19cba870\", element=\"b1be1e21-62d5-4865-b914-815f8bef5b4d\")>,\n",
       " <selenium.webdriver.remote.webelement.WebElement (session=\"0d79a6b69a335052fd71c66d19cba870\", element=\"6521293a-c6a3-48b2-b71a-ceea5e6e5b7e\")>,\n",
       " <selenium.webdriver.remote.webelement.WebElement (session=\"0d79a6b69a335052fd71c66d19cba870\", element=\"4f6a686a-4698-4eb6-8dd3-fb2922e4520d\")>,\n",
       " <selenium.webdriver.remote.webelement.WebElement (session=\"0d79a6b69a335052fd71c66d19cba870\", element=\"93af52f0-af31-4702-b416-a9479e88769b\")>,\n",
       " <selenium.webdriver.remote.webelement.WebElement (session=\"0d79a6b69a335052fd71c66d19cba870\", element=\"5014a82f-abfa-4de3-afb6-51994222fcbc\")>,\n",
       " <selenium.webdriver.remote.webelement.WebElement (session=\"0d79a6b69a335052fd71c66d19cba870\", element=\"5e8a1b24-772b-477b-bd84-751d0b459e7d\")>,\n",
       " <selenium.webdriver.remote.webelement.WebElement (session=\"0d79a6b69a335052fd71c66d19cba870\", element=\"7304ee30-4cd7-4d40-9703-5e57c4b34c32\")>,\n",
       " <selenium.webdriver.remote.webelement.WebElement (session=\"0d79a6b69a335052fd71c66d19cba870\", element=\"a5a25923-f427-4770-a629-85e80bda7167\")>,\n",
       " <selenium.webdriver.remote.webelement.WebElement (session=\"0d79a6b69a335052fd71c66d19cba870\", element=\"fb16cf88-ef08-4755-b0b9-1bb308a39993\")>,\n",
       " <selenium.webdriver.remote.webelement.WebElement (session=\"0d79a6b69a335052fd71c66d19cba870\", element=\"d115ca66-ab8f-40a2-b7da-1ae35fcc7545\")>,\n",
       " <selenium.webdriver.remote.webelement.WebElement (session=\"0d79a6b69a335052fd71c66d19cba870\", element=\"a839fd7f-d8f2-49ab-9bc3-fbf4ea3fc382\")>,\n",
       " <selenium.webdriver.remote.webelement.WebElement (session=\"0d79a6b69a335052fd71c66d19cba870\", element=\"fdb34509-4dc2-48aa-beb7-a74ab280250a\")>,\n",
       " <selenium.webdriver.remote.webelement.WebElement (session=\"0d79a6b69a335052fd71c66d19cba870\", element=\"bd957e75-4086-44ed-b1a4-098cc45cd414\")>,\n",
       " <selenium.webdriver.remote.webelement.WebElement (session=\"0d79a6b69a335052fd71c66d19cba870\", element=\"bcc8144b-b63a-4ef3-87db-e538e9c5d633\")>,\n",
       " <selenium.webdriver.remote.webelement.WebElement (session=\"0d79a6b69a335052fd71c66d19cba870\", element=\"ae006181-f26d-4fe2-8e9f-d58ad6472f21\")>,\n",
       " <selenium.webdriver.remote.webelement.WebElement (session=\"0d79a6b69a335052fd71c66d19cba870\", element=\"b502ee16-3945-4b69-8110-b55bbf883b40\")>,\n",
       " <selenium.webdriver.remote.webelement.WebElement (session=\"0d79a6b69a335052fd71c66d19cba870\", element=\"ac15d57b-592d-4e5c-9e6c-e53efdb4d4ae\")>,\n",
       " <selenium.webdriver.remote.webelement.WebElement (session=\"0d79a6b69a335052fd71c66d19cba870\", element=\"0c66778a-fe22-4193-adb3-e469939032bd\")>,\n",
       " <selenium.webdriver.remote.webelement.WebElement (session=\"0d79a6b69a335052fd71c66d19cba870\", element=\"3f110f41-dc23-4bbf-b134-c6ffda5ba2c7\")>,\n",
       " <selenium.webdriver.remote.webelement.WebElement (session=\"0d79a6b69a335052fd71c66d19cba870\", element=\"ceb793ce-dc15-4b82-98f9-cc6245bca29c\")>,\n",
       " <selenium.webdriver.remote.webelement.WebElement (session=\"0d79a6b69a335052fd71c66d19cba870\", element=\"901fcac0-c214-4f42-8ff2-3459eae9a1f8\")>,\n",
       " <selenium.webdriver.remote.webelement.WebElement (session=\"0d79a6b69a335052fd71c66d19cba870\", element=\"572f76f7-889c-45c1-b1ab-60cae7fcf244\")>,\n",
       " <selenium.webdriver.remote.webelement.WebElement (session=\"0d79a6b69a335052fd71c66d19cba870\", element=\"1774d3bc-386d-46b0-92c1-621525271187\")>,\n",
       " <selenium.webdriver.remote.webelement.WebElement (session=\"0d79a6b69a335052fd71c66d19cba870\", element=\"c52f5338-f03c-4f99-af78-efc2f6405cd8\")>,\n",
       " <selenium.webdriver.remote.webelement.WebElement (session=\"0d79a6b69a335052fd71c66d19cba870\", element=\"7a837bcd-4913-4796-8584-6bcecc00c8fc\")>]"
      ]
     },
     "execution_count": 148,
     "metadata": {},
     "output_type": "execute_result"
    }
   ],
   "source": [
    "#number days posted\n",
    "no_of_d=driver.find_elements_by_xpath(\"//div[@class='d-flex align-items-end pl-std css-mi55ob']\")\n",
    "no_of_d"
   ]
  },
  {
   "cell_type": "code",
   "execution_count": 149,
   "metadata": {},
   "outputs": [
    {
     "data": {
      "text/plain": [
       "['24h',\n",
       " '6d',\n",
       " '13d',\n",
       " '22d',\n",
       " '4d',\n",
       " '8d',\n",
       " '3d',\n",
       " '12d',\n",
       " '14d',\n",
       " '6d',\n",
       " '15d',\n",
       " '7d',\n",
       " '4d',\n",
       " '18d',\n",
       " '15d',\n",
       " '24h',\n",
       " '27d',\n",
       " '11d',\n",
       " '7d',\n",
       " '3d',\n",
       " '17d',\n",
       " '24h',\n",
       " '21d',\n",
       " '8d',\n",
       " '8d',\n",
       " '20d',\n",
       " '24d',\n",
       " '4d',\n",
       " '26d',\n",
       " '15d']"
      ]
     },
     "execution_count": 149,
     "metadata": {},
     "output_type": "execute_result"
    }
   ],
   "source": [
    "job_title1=[]\n",
    "for i in no_of_d:\n",
    "    job_title1.append(i.text)\n",
    "job_title1"
   ]
  },
  {
   "cell_type": "code",
   "execution_count": 154,
   "metadata": {},
   "outputs": [
    {
     "data": {
      "text/plain": [
       "[<selenium.webdriver.remote.webelement.WebElement (session=\"0d79a6b69a335052fd71c66d19cba870\", element=\"b8601671-fff1-4eb2-9eb0-64f73ba255aa\")>,\n",
       " <selenium.webdriver.remote.webelement.WebElement (session=\"0d79a6b69a335052fd71c66d19cba870\", element=\"9381348b-8f30-4bb9-a0bf-a03e54b50917\")>,\n",
       " <selenium.webdriver.remote.webelement.WebElement (session=\"0d79a6b69a335052fd71c66d19cba870\", element=\"5d95ff4f-a9f3-48ca-be7f-4d823d03589c\")>,\n",
       " <selenium.webdriver.remote.webelement.WebElement (session=\"0d79a6b69a335052fd71c66d19cba870\", element=\"bd3d7a34-c4c6-417c-aaeb-4c309b592b23\")>,\n",
       " <selenium.webdriver.remote.webelement.WebElement (session=\"0d79a6b69a335052fd71c66d19cba870\", element=\"c3d273b4-147d-4fce-9826-3ff3ec3b3253\")>,\n",
       " <selenium.webdriver.remote.webelement.WebElement (session=\"0d79a6b69a335052fd71c66d19cba870\", element=\"a774d110-3c82-48fb-8e45-faa66fed4196\")>,\n",
       " <selenium.webdriver.remote.webelement.WebElement (session=\"0d79a6b69a335052fd71c66d19cba870\", element=\"e98f6e96-7dba-4c1f-93fe-27609373e0a8\")>,\n",
       " <selenium.webdriver.remote.webelement.WebElement (session=\"0d79a6b69a335052fd71c66d19cba870\", element=\"49172174-143a-43bb-a59e-d6991f8de146\")>,\n",
       " <selenium.webdriver.remote.webelement.WebElement (session=\"0d79a6b69a335052fd71c66d19cba870\", element=\"edf9c01d-ac08-48b1-8bb9-55d71427f7ac\")>,\n",
       " <selenium.webdriver.remote.webelement.WebElement (session=\"0d79a6b69a335052fd71c66d19cba870\", element=\"12f951ee-e085-46e8-b043-d9e10465274c\")>,\n",
       " <selenium.webdriver.remote.webelement.WebElement (session=\"0d79a6b69a335052fd71c66d19cba870\", element=\"068375ea-151d-401f-b64a-811bb9cfaebb\")>,\n",
       " <selenium.webdriver.remote.webelement.WebElement (session=\"0d79a6b69a335052fd71c66d19cba870\", element=\"556bb010-98be-400f-8a0d-934e9867d3ce\")>,\n",
       " <selenium.webdriver.remote.webelement.WebElement (session=\"0d79a6b69a335052fd71c66d19cba870\", element=\"b08d3c3c-ba56-4d0a-ba99-cd0a3fa20076\")>,\n",
       " <selenium.webdriver.remote.webelement.WebElement (session=\"0d79a6b69a335052fd71c66d19cba870\", element=\"ddb03bba-c778-4cde-8aa4-506255519d50\")>,\n",
       " <selenium.webdriver.remote.webelement.WebElement (session=\"0d79a6b69a335052fd71c66d19cba870\", element=\"a237a11c-12f9-465e-bdb5-03c2fc123aaa\")>,\n",
       " <selenium.webdriver.remote.webelement.WebElement (session=\"0d79a6b69a335052fd71c66d19cba870\", element=\"39263f10-6851-4ac6-ac91-5f4a7be4cdf7\")>,\n",
       " <selenium.webdriver.remote.webelement.WebElement (session=\"0d79a6b69a335052fd71c66d19cba870\", element=\"548324b5-47b3-4893-b473-cdc5ee955b70\")>,\n",
       " <selenium.webdriver.remote.webelement.WebElement (session=\"0d79a6b69a335052fd71c66d19cba870\", element=\"255c6b93-ac0a-4d02-a4f3-8d04676f9657\")>,\n",
       " <selenium.webdriver.remote.webelement.WebElement (session=\"0d79a6b69a335052fd71c66d19cba870\", element=\"902a4018-8c63-4aba-9aa0-98015fc61670\")>,\n",
       " <selenium.webdriver.remote.webelement.WebElement (session=\"0d79a6b69a335052fd71c66d19cba870\", element=\"69ba1118-11f6-47cb-852b-285d1f4f9073\")>,\n",
       " <selenium.webdriver.remote.webelement.WebElement (session=\"0d79a6b69a335052fd71c66d19cba870\", element=\"0af4d8e9-5e2b-47e4-b13b-4dd341498e3d\")>,\n",
       " <selenium.webdriver.remote.webelement.WebElement (session=\"0d79a6b69a335052fd71c66d19cba870\", element=\"28f8e56b-0b46-495a-8f68-6bb235c91852\")>,\n",
       " <selenium.webdriver.remote.webelement.WebElement (session=\"0d79a6b69a335052fd71c66d19cba870\", element=\"f71f78cc-233a-4da2-a7c5-b807c455ebd0\")>,\n",
       " <selenium.webdriver.remote.webelement.WebElement (session=\"0d79a6b69a335052fd71c66d19cba870\", element=\"163351c1-9a47-49b8-9d5c-342836cdb2f1\")>,\n",
       " <selenium.webdriver.remote.webelement.WebElement (session=\"0d79a6b69a335052fd71c66d19cba870\", element=\"ba84ae37-28f6-49a7-b067-5587837068e9\")>,\n",
       " <selenium.webdriver.remote.webelement.WebElement (session=\"0d79a6b69a335052fd71c66d19cba870\", element=\"fb1509c5-ed2d-44e7-bb82-94990aded13a\")>,\n",
       " <selenium.webdriver.remote.webelement.WebElement (session=\"0d79a6b69a335052fd71c66d19cba870\", element=\"4d00cf94-1a90-4281-a21b-19eedcb0d649\")>,\n",
       " <selenium.webdriver.remote.webelement.WebElement (session=\"0d79a6b69a335052fd71c66d19cba870\", element=\"fade8294-7f15-4f37-aa97-7f8d6dc28c49\")>,\n",
       " <selenium.webdriver.remote.webelement.WebElement (session=\"0d79a6b69a335052fd71c66d19cba870\", element=\"c3d06b37-b56c-4f29-b29e-06d1e7c7c5a4\")>,\n",
       " <selenium.webdriver.remote.webelement.WebElement (session=\"0d79a6b69a335052fd71c66d19cba870\", element=\"81908599-2f1d-4260-b68e-afa265808568\")>]"
      ]
     },
     "execution_count": 154,
     "metadata": {},
     "output_type": "execute_result"
    }
   ],
   "source": [
    "#rating\n",
    "rating=driver.find_elements_by_xpath(\"//div[@class='d-flex flex-column css-x75kgh e1rrn5ka3']\")\n",
    "rating"
   ]
  },
  {
   "cell_type": "code",
   "execution_count": 155,
   "metadata": {},
   "outputs": [
    {
     "data": {
      "text/plain": [
       "['',\n",
       " '4.3',\n",
       " '',\n",
       " '4.2',\n",
       " '',\n",
       " '',\n",
       " '',\n",
       " '4.3',\n",
       " '',\n",
       " '3.6',\n",
       " '',\n",
       " '',\n",
       " '4.0',\n",
       " '4.7',\n",
       " '4.0',\n",
       " '4.6',\n",
       " '3.8',\n",
       " '',\n",
       " '',\n",
       " '',\n",
       " '3.6',\n",
       " '',\n",
       " '4.1',\n",
       " '3.9',\n",
       " '4.0',\n",
       " '4.2',\n",
       " '4.2',\n",
       " '',\n",
       " '',\n",
       " '4.1']"
      ]
     },
     "execution_count": 155,
     "metadata": {},
     "output_type": "execute_result"
    }
   ],
   "source": [
    "job_title2=[]\n",
    "for i in rating:\n",
    "    job_title2.append(i.text)\n",
    "job_title2"
   ]
  },
  {
   "cell_type": "code",
   "execution_count": 156,
   "metadata": {},
   "outputs": [
    {
     "data": {
      "text/plain": [
       "30"
      ]
     },
     "execution_count": 156,
     "metadata": {},
     "output_type": "execute_result"
    }
   ],
   "source": [
    "len(job_title2)"
   ]
  },
  {
   "cell_type": "code",
   "execution_count": 157,
   "metadata": {},
   "outputs": [
    {
     "name": "stdout",
     "output_type": "stream",
     "text": [
      "30 30 30\n"
     ]
    }
   ],
   "source": [
    "print(len(job_title),len(job_title1),len(job_title2))"
   ]
  },
  {
   "cell_type": "code",
   "execution_count": 164,
   "metadata": {},
   "outputs": [],
   "source": [
    "jobs=pd.DataFrame({})\n",
    "jobs['company name']=job_title\n",
    "jobs['date_posted']=job_title1\n",
    "jobs['rating']=job_title2\n"
   ]
  },
  {
   "cell_type": "code",
   "execution_count": 167,
   "metadata": {},
   "outputs": [],
   "source": [
    "df=jobs.head(10)"
   ]
  },
  {
   "cell_type": "code",
   "execution_count": 168,
   "metadata": {},
   "outputs": [
    {
     "data": {
      "text/html": [
       "<div>\n",
       "<style scoped>\n",
       "    .dataframe tbody tr th:only-of-type {\n",
       "        vertical-align: middle;\n",
       "    }\n",
       "\n",
       "    .dataframe tbody tr th {\n",
       "        vertical-align: top;\n",
       "    }\n",
       "\n",
       "    .dataframe thead th {\n",
       "        text-align: right;\n",
       "    }\n",
       "</style>\n",
       "<table border=\"1\" class=\"dataframe\">\n",
       "  <thead>\n",
       "    <tr style=\"text-align: right;\">\n",
       "      <th></th>\n",
       "      <th>company name</th>\n",
       "      <th>date_posted</th>\n",
       "      <th>rating</th>\n",
       "    </tr>\n",
       "  </thead>\n",
       "  <tbody>\n",
       "    <tr>\n",
       "      <th>0</th>\n",
       "      <td>Oportun Inc</td>\n",
       "      <td>24h</td>\n",
       "      <td></td>\n",
       "    </tr>\n",
       "    <tr>\n",
       "      <th>1</th>\n",
       "      <td>Ideas2IT Technologies</td>\n",
       "      <td>6d</td>\n",
       "      <td>4.3</td>\n",
       "    </tr>\n",
       "    <tr>\n",
       "      <th>2</th>\n",
       "      <td>Trimble</td>\n",
       "      <td>13d</td>\n",
       "      <td></td>\n",
       "    </tr>\n",
       "    <tr>\n",
       "      <th>3</th>\n",
       "      <td></td>\n",
       "      <td>22d</td>\n",
       "      <td>4.2</td>\n",
       "    </tr>\n",
       "    <tr>\n",
       "      <th>4</th>\n",
       "      <td>Tata Group</td>\n",
       "      <td>4d</td>\n",
       "      <td></td>\n",
       "    </tr>\n",
       "    <tr>\n",
       "      <th>5</th>\n",
       "      <td>BSRI Solutions Pvt Ltd.,</td>\n",
       "      <td>8d</td>\n",
       "      <td></td>\n",
       "    </tr>\n",
       "    <tr>\n",
       "      <th>6</th>\n",
       "      <td>HDFC Bank</td>\n",
       "      <td>3d</td>\n",
       "      <td></td>\n",
       "    </tr>\n",
       "    <tr>\n",
       "      <th>7</th>\n",
       "      <td>freshworks</td>\n",
       "      <td>12d</td>\n",
       "      <td>4.3</td>\n",
       "    </tr>\n",
       "    <tr>\n",
       "      <th>8</th>\n",
       "      <td>ECS</td>\n",
       "      <td>14d</td>\n",
       "      <td></td>\n",
       "    </tr>\n",
       "    <tr>\n",
       "      <th>9</th>\n",
       "      <td>Inspirisys Solutions</td>\n",
       "      <td>6d</td>\n",
       "      <td>3.6</td>\n",
       "    </tr>\n",
       "  </tbody>\n",
       "</table>\n",
       "</div>"
      ],
      "text/plain": [
       "               company name date_posted rating\n",
       "0               Oportun Inc         24h       \n",
       "1     Ideas2IT Technologies          6d    4.3\n",
       "2                   Trimble         13d       \n",
       "3                                   22d    4.2\n",
       "4                Tata Group          4d       \n",
       "5  BSRI Solutions Pvt Ltd.,          8d       \n",
       "6                 HDFC Bank          3d       \n",
       "7                freshworks         12d    4.3\n",
       "8                       ECS         14d       \n",
       "9      Inspirisys Solutions          6d    3.6"
      ]
     },
     "execution_count": 168,
     "metadata": {},
     "output_type": "execute_result"
    }
   ],
   "source": [
    "df"
   ]
  },
  {
   "cell_type": "code",
   "execution_count": null,
   "metadata": {},
   "outputs": [],
   "source": []
  }
 ],
 "metadata": {
  "kernelspec": {
   "display_name": "Python 3",
   "language": "python",
   "name": "python3"
  },
  "language_info": {
   "codemirror_mode": {
    "name": "ipython",
    "version": 3
   },
   "file_extension": ".py",
   "mimetype": "text/x-python",
   "name": "python",
   "nbconvert_exporter": "python",
   "pygments_lexer": "ipython3",
   "version": "3.8.5"
  }
 },
 "nbformat": 4,
 "nbformat_minor": 4
}
