{
 "cells": [
  {
   "cell_type": "code",
   "execution_count": 35,
   "metadata": {},
   "outputs": [],
   "source": [
    "#by using selenium and webdriver we are extract the data from website\n",
    "import pandas as pd\n",
    "import selenium\n",
    "from selenium import webdriver\n",
    "import time\n",
    "from selenium.common.exceptions import NoSuchElementException"
   ]
  },
  {
   "cell_type": "code",
   "execution_count": 36,
   "metadata": {},
   "outputs": [],
   "source": [
    "#we are using chrome browser as default\n",
    "driver = webdriver.Chrome(\"Chromedriver.exe\")"
   ]
  },
  {
   "cell_type": "code",
   "execution_count": 37,
   "metadata": {},
   "outputs": [],
   "source": [
    "#nakuri website\n",
    "url = 'https://www.naukri.com/'\n",
    "driver.get(url)"
   ]
  },
  {
   "cell_type": "code",
   "execution_count": 38,
   "metadata": {},
   "outputs": [
    {
     "data": {
      "text/plain": [
       "<selenium.webdriver.remote.webelement.WebElement (session=\"6a99c04788e6c0d27a944bf77152d5bb\", element=\"0d71b5f0-4f9f-4048-8956-21e2f142c3d1\")>"
      ]
     },
     "execution_count": 38,
     "metadata": {},
     "output_type": "execute_result"
    }
   ],
   "source": [
    "#in the search  place we are going to search any word\n",
    "search_job = driver.find_element_by_id(\"qsb-keyword-sugg\")\n",
    "search_job"
   ]
  },
  {
   "cell_type": "code",
   "execution_count": 39,
   "metadata": {},
   "outputs": [],
   "source": [
    "#we sending words for searching\n",
    "search_job.send_keys(\"Data Scientist\")"
   ]
  },
  {
   "cell_type": "code",
   "execution_count": 40,
   "metadata": {},
   "outputs": [
    {
     "data": {
      "text/plain": [
       "<selenium.webdriver.remote.webelement.WebElement (session=\"6a99c04788e6c0d27a944bf77152d5bb\", element=\"5eefc92a-eec4-498d-8483-886b396bc9ee\")>"
      ]
     },
     "execution_count": 40,
     "metadata": {},
     "output_type": "execute_result"
    }
   ],
   "source": [
    "#in the search  place we are going to search any word\n",
    "search_location=driver.find_element_by_id(\"qsb-location-sugg\")\n",
    "search_location"
   ]
  },
  {
   "cell_type": "code",
   "execution_count": 41,
   "metadata": {},
   "outputs": [],
   "source": [
    "#we sending words for searching\n",
    "search_location.send_keys('Banagalore')"
   ]
  },
  {
   "cell_type": "code",
   "execution_count": 42,
   "metadata": {},
   "outputs": [],
   "source": [
    "search_btn = driver.find_element_by_xpath(\"//button[@class='btn']\")\n",
    "search_btn.click()"
   ]
  },
  {
   "cell_type": "code",
   "execution_count": 45,
   "metadata": {},
   "outputs": [],
   "source": [
    "#getting all the url\n",
    "urls=[]\n",
    "for i in driver.find_elements_by_xpath(\"//a[@class='title fw500 ellipsis']\"):\n",
    "    urls.append(i.get_attribute(\"href\"))"
   ]
  },
  {
   "cell_type": "code",
   "execution_count": 46,
   "metadata": {},
   "outputs": [
    {
     "data": {
      "text/plain": [
       "['https://www.naukri.com/job-listings-data-scientist-data-analyst-business-analyst-inflexion-analytix-private-limited-mumbai-hyderabad-secunderabad-pune-gurgaon-gurugram-chennai-bangalore-bengaluru-0-to-3-years-100521000368?src=jobsearchDesk&sid=16215198205593793&xp=1&px=1',\n",
       " 'https://www.naukri.com/job-listings-senior-data-scientist-modeling-nielsen-kolkata-gurgaon-gurugram-bangalore-bengaluru-vadodara-baroda-mumbai-all-areas-3-to-7-years-280421003878?src=jobsearchDesk&sid=16215198205593793&xp=2&px=1',\n",
       " 'https://www.naukri.com/job-listings-big-data-data-scientist-xoriant-solutions-pvt-ltd-kochi-cochin-indore-hyderabad-secunderabad-pune-ahmedabad-bangalore-bengaluru-mumbai-all-areas-1-to-3-years-130521005018?src=jobsearchDesk&sid=16215198205593793&xp=3&px=1',\n",
       " 'https://www.naukri.com/job-listings-specialist-i-data-scientist-philips-india-limited-bangalore-bengaluru-4-to-7-years-170521500993?src=jobsearchDesk&sid=16215198205593793&xp=4&px=1',\n",
       " 'https://www.naukri.com/job-listings-data-scientist-ibm-india-pvt-limited-bangalore-bengaluru-6-to-8-years-110521907352?src=jobsearchDesk&sid=16215198205593793&xp=5&px=1',\n",
       " 'https://www.naukri.com/job-listings-lead-data-scientist-intel-technology-india-pvt-ltd-bangalore-bengaluru-6-to-10-years-070521500578?src=jobsearchDesk&sid=16215198205593793&xp=6&px=1',\n",
       " 'https://www.naukri.com/job-listings-data-scientist-oracle-india-pvt-ltd-bangalore-bengaluru-6-to-10-years-190521008276?src=jobsearchDesk&sid=16215198205593793&xp=7&px=1',\n",
       " 'https://www.naukri.com/job-listings-sde-lead-data-scientist-l3-huawei-technologies-india-pvt-ltd-bangalore-bengaluru-5-to-8-years-120521901434?src=jobsearchDesk&sid=16215198205593793&xp=8&px=1',\n",
       " 'https://www.naukri.com/job-listings-computational-design-lead-data-scientist-l3-huawei-technologies-india-pvt-ltd-bangalore-bengaluru-5-to-8-years-120521901329?src=jobsearchDesk&sid=16215198205593793&xp=9&px=1',\n",
       " 'https://www.naukri.com/job-listings-hiring-for-data-scientist-on-contract-basis-3-6-months-globaledx-learning-and-technology-solution-pvt-ltd-hyderabad-secunderabad-bangalore-bengaluru-mumbai-all-areas-3-to-8-years-170521003581?src=jobsearchDesk&sid=16215198205593793&xp=10&px=1',\n",
       " 'https://www.naukri.com/job-listings-senior-data-scientist-go-jek-india-bangalore-bengaluru-4-to-11-years-190521500736?src=jobsearchDesk&sid=16215198205593793&xp=11&px=1',\n",
       " 'https://www.naukri.com/job-listings-senior-data-scientist-chatbot-nlp-gojek-tech-bangalore-bengaluru-3-to-7-years-060521500524?src=jobsearchDesk&sid=16215198205593793&xp=12&px=1',\n",
       " 'https://www.naukri.com/job-listings-senior-data-scientist-chatbot-nlp-go-jek-india-bangalore-bengaluru-5-to-10-years-050521500478?src=jobsearchDesk&sid=16215198205593793&xp=13&px=1',\n",
       " 'https://www.naukri.com/job-listings-senior-data-scientist-nanobi-data-and-analytics-private-limited-bangalore-bengaluru-7-to-9-years-190521501055?src=jobsearchDesk&sid=16215198205593793&xp=14&px=1',\n",
       " 'https://www.naukri.com/job-listings-sr-data-scientist-valiance-analytics-private-limited-bangalore-bengaluru-delhi-ncr-6-to-8-years-180521006944?src=jobsearchDesk&sid=16215198205593793&xp=15&px=1',\n",
       " 'https://www.naukri.com/job-listings-senior-data-scientist-bankbazaar-com-a-a-dukaan-financial-services-pvt-ltd-bangalore-bengaluru-4-to-6-years-040321006895?src=jobsearchDesk&sid=16215198205593793&xp=16&px=1',\n",
       " 'https://www.naukri.com/job-listings-senior-associate-team-lead-data-scientist-consulting-analytics-india-magazine-bangalore-bengaluru-3-to-5-years-200521900965?src=jobsearchDesk&sid=16215198205593793&xp=17&px=1',\n",
       " 'https://www.naukri.com/job-listings-data-scientist-applied-materials-india-private-limited-bangalore-bengaluru-2-to-4-years-070521901521?src=jobsearchDesk&sid=16215198205593793&xp=18&px=1',\n",
       " 'https://www.naukri.com/job-listings-hiring-for-lead-data-scientist-for-bangalore-location-societe-generale-global-solution-centre-pvt-ltd-bangalore-bengaluru-5-to-9-years-130521000901?src=jobsearchDesk&sid=16215198205593793&xp=19&px=1',\n",
       " 'https://www.naukri.com/job-listings-principal-data-scientist-netapp-india-private-limited-bangalore-bengaluru-10-to-15-years-070521906988?src=jobsearchDesk&sid=16215198205593793&xp=20&px=1']"
      ]
     },
     "execution_count": 46,
     "metadata": {},
     "output_type": "execute_result"
    }
   ],
   "source": [
    "urls"
   ]
  },
  {
   "cell_type": "code",
   "execution_count": 47,
   "metadata": {},
   "outputs": [],
   "source": [
    "job_title=[]\n",
    "job_descripition=[]\n",
    "job_company=[]\n",
    "job_location=[]"
   ]
  },
  {
   "cell_type": "code",
   "execution_count": 48,
   "metadata": {},
   "outputs": [],
   "source": [
    "#getting all the value\n",
    "for i in urls[:10]:\n",
    "    driver.get(i)\n",
    "    time.sleep(3)\n",
    "    \n",
    "    try:\n",
    "        jobs=driver.find_element_by_xpath(\"//h1[@class='jd-header-title']\")\n",
    "        job_title.append(jobs.text)\n",
    "    except NoSuchElementException:\n",
    "        job_title.append(\"-\")\n",
    "        \n",
    "    try:\n",
    "        jobs_des=driver.find_element_by_xpath(\"//section[@class='job-desc']\")\n",
    "        job_descripition.append(jobs_des.text)\n",
    "    except NoSuchElementException:\n",
    "        job_descripition.append(\"-\")\n",
    "        \n",
    "    try:\n",
    "        jobs_com=driver.find_element_by_xpath(\"//div[@class='jd-header-comp-name']\")\n",
    "        job_company.append(jobs_com.text)\n",
    "    except NoSuchElementException:\n",
    "        job_company.append(\"-\")\n",
    "    \n",
    "    try:\n",
    "        jobs_loc=driver.find_element_by_xpath(\"//span[@class='location ']\")\n",
    "        job_location.append(jobs_loc.text)\n",
    "    except NoSuchElementException:\n",
    "        job_location.append(\"-\")\n",
    "        "
   ]
  },
  {
   "cell_type": "code",
   "execution_count": 49,
   "metadata": {},
   "outputs": [
    {
     "name": "stdout",
     "output_type": "stream",
     "text": [
      "10\n",
      "10\n",
      "10\n",
      "10\n"
     ]
    }
   ],
   "source": [
    "print(len(job_title))\n",
    "print(len(job_descripition))\n",
    "print(len(job_company))\n",
    "print(len(job_location))"
   ]
  },
  {
   "cell_type": "code",
   "execution_count": 53,
   "metadata": {},
   "outputs": [],
   "source": [
    "#getting data frame\n",
    "jobs=pd.DataFrame({})\n",
    "jobs['job title']=job_title\n",
    "jobs['job description']=job_descripition\n",
    "jobs['company name']=job_company\n",
    "jobs['location']=job_location"
   ]
  },
  {
   "cell_type": "code",
   "execution_count": 54,
   "metadata": {},
   "outputs": [],
   "source": [
    "df=jobs"
   ]
  },
  {
   "cell_type": "code",
   "execution_count": 55,
   "metadata": {},
   "outputs": [
    {
     "data": {
      "text/html": [
       "<div>\n",
       "<style scoped>\n",
       "    .dataframe tbody tr th:only-of-type {\n",
       "        vertical-align: middle;\n",
       "    }\n",
       "\n",
       "    .dataframe tbody tr th {\n",
       "        vertical-align: top;\n",
       "    }\n",
       "\n",
       "    .dataframe thead th {\n",
       "        text-align: right;\n",
       "    }\n",
       "</style>\n",
       "<table border=\"1\" class=\"dataframe\">\n",
       "  <thead>\n",
       "    <tr style=\"text-align: right;\">\n",
       "      <th></th>\n",
       "      <th>job title</th>\n",
       "      <th>job description</th>\n",
       "      <th>company name</th>\n",
       "      <th>location</th>\n",
       "    </tr>\n",
       "  </thead>\n",
       "  <tbody>\n",
       "    <tr>\n",
       "      <th>0</th>\n",
       "      <td>Data Scientist / Data Analyst -Business Analyst</td>\n",
       "      <td>Job description\\nJob Role : Data Scientist/Dat...</td>\n",
       "      <td>Inflexion Analytix Private Limited</td>\n",
       "      <td>Mumbai, Hyderabad/Secunderabad, Pune, Gurgaon/...</td>\n",
       "    </tr>\n",
       "    <tr>\n",
       "      <th>1</th>\n",
       "      <td>Senior Data Scientist, Modeling</td>\n",
       "      <td>Job description\\nWe wont say we can predict th...</td>\n",
       "      <td>Nielsen3.8(475 Reviews)</td>\n",
       "      <td>Kolkata, Gurgaon/Gurugram, Bangalore/Bengaluru...</td>\n",
       "    </tr>\n",
       "    <tr>\n",
       "      <th>2</th>\n",
       "      <td>-</td>\n",
       "      <td>-</td>\n",
       "      <td>-</td>\n",
       "      <td>-</td>\n",
       "    </tr>\n",
       "    <tr>\n",
       "      <th>3</th>\n",
       "      <td>Specialist I - Data Scientist</td>\n",
       "      <td>Job description\\nResponsibilities and Key Resu...</td>\n",
       "      <td>Philips India Limited4.0(533 Reviews)</td>\n",
       "      <td>Bangalore/Bengaluru</td>\n",
       "    </tr>\n",
       "    <tr>\n",
       "      <th>4</th>\n",
       "      <td>-</td>\n",
       "      <td>-</td>\n",
       "      <td>-</td>\n",
       "      <td>-</td>\n",
       "    </tr>\n",
       "    <tr>\n",
       "      <th>5</th>\n",
       "      <td>Lead Data Scientist</td>\n",
       "      <td>Job description\\n\\n\\nWe are seeking an outstan...</td>\n",
       "      <td>Intel Technology India Pvt Ltd4.2(235 Reviews)</td>\n",
       "      <td>Bangalore/Bengaluru</td>\n",
       "    </tr>\n",
       "    <tr>\n",
       "      <th>6</th>\n",
       "      <td>-</td>\n",
       "      <td>-</td>\n",
       "      <td>-</td>\n",
       "      <td>-</td>\n",
       "    </tr>\n",
       "    <tr>\n",
       "      <th>7</th>\n",
       "      <td>SDE Lead Data Scientist-L3</td>\n",
       "      <td>Job description\\nBusiness &amp; Team overview:\\nFo...</td>\n",
       "      <td>Huawei Technologies India Pvt Ltd3.7(1323 Revi...</td>\n",
       "      <td>Bangalore/Bengaluru</td>\n",
       "    </tr>\n",
       "    <tr>\n",
       "      <th>8</th>\n",
       "      <td>Computational Design Lead Data Scientist-L3</td>\n",
       "      <td>Job description\\nBusiness &amp; Team overview:\\nFo...</td>\n",
       "      <td>Huawei Technologies India Pvt Ltd3.7(1323 Revi...</td>\n",
       "      <td>Bangalore/Bengaluru</td>\n",
       "    </tr>\n",
       "    <tr>\n",
       "      <th>9</th>\n",
       "      <td>Hiring For DATA Scientist - ON Contract Basis ...</td>\n",
       "      <td>Job description\\nDear Aspirant,\\n\\nGreetings f...</td>\n",
       "      <td>GlobalEdx Learning and Technology Solution Pvt...</td>\n",
       "      <td>Hyderabad/Secunderabad, Bangalore/Bengaluru, M...</td>\n",
       "    </tr>\n",
       "  </tbody>\n",
       "</table>\n",
       "</div>"
      ],
      "text/plain": [
       "                                           job title  \\\n",
       "0    Data Scientist / Data Analyst -Business Analyst   \n",
       "1                    Senior Data Scientist, Modeling   \n",
       "2                                                  -   \n",
       "3                      Specialist I - Data Scientist   \n",
       "4                                                  -   \n",
       "5                                Lead Data Scientist   \n",
       "6                                                  -   \n",
       "7                         SDE Lead Data Scientist-L3   \n",
       "8        Computational Design Lead Data Scientist-L3   \n",
       "9  Hiring For DATA Scientist - ON Contract Basis ...   \n",
       "\n",
       "                                     job description  \\\n",
       "0  Job description\\nJob Role : Data Scientist/Dat...   \n",
       "1  Job description\\nWe wont say we can predict th...   \n",
       "2                                                  -   \n",
       "3  Job description\\nResponsibilities and Key Resu...   \n",
       "4                                                  -   \n",
       "5  Job description\\n\\n\\nWe are seeking an outstan...   \n",
       "6                                                  -   \n",
       "7  Job description\\nBusiness & Team overview:\\nFo...   \n",
       "8  Job description\\nBusiness & Team overview:\\nFo...   \n",
       "9  Job description\\nDear Aspirant,\\n\\nGreetings f...   \n",
       "\n",
       "                                        company name  \\\n",
       "0                 Inflexion Analytix Private Limited   \n",
       "1                            Nielsen3.8(475 Reviews)   \n",
       "2                                                  -   \n",
       "3              Philips India Limited4.0(533 Reviews)   \n",
       "4                                                  -   \n",
       "5     Intel Technology India Pvt Ltd4.2(235 Reviews)   \n",
       "6                                                  -   \n",
       "7  Huawei Technologies India Pvt Ltd3.7(1323 Revi...   \n",
       "8  Huawei Technologies India Pvt Ltd3.7(1323 Revi...   \n",
       "9  GlobalEdx Learning and Technology Solution Pvt...   \n",
       "\n",
       "                                            location  \n",
       "0  Mumbai, Hyderabad/Secunderabad, Pune, Gurgaon/...  \n",
       "1  Kolkata, Gurgaon/Gurugram, Bangalore/Bengaluru...  \n",
       "2                                                  -  \n",
       "3                                Bangalore/Bengaluru  \n",
       "4                                                  -  \n",
       "5                                Bangalore/Bengaluru  \n",
       "6                                                  -  \n",
       "7                                Bangalore/Bengaluru  \n",
       "8                                Bangalore/Bengaluru  \n",
       "9  Hyderabad/Secunderabad, Bangalore/Bengaluru, M...  "
      ]
     },
     "execution_count": 55,
     "metadata": {},
     "output_type": "execute_result"
    }
   ],
   "source": [
    "df"
   ]
  },
  {
   "cell_type": "code",
   "execution_count": null,
   "metadata": {},
   "outputs": [],
   "source": []
  },
  {
   "cell_type": "code",
   "execution_count": null,
   "metadata": {},
   "outputs": [],
   "source": []
  },
  {
   "cell_type": "code",
   "execution_count": null,
   "metadata": {},
   "outputs": [],
   "source": []
  }
 ],
 "metadata": {
  "kernelspec": {
   "display_name": "Python 3",
   "language": "python",
   "name": "python3"
  },
  "language_info": {
   "codemirror_mode": {
    "name": "ipython",
    "version": 3
   },
   "file_extension": ".py",
   "mimetype": "text/x-python",
   "name": "python",
   "nbconvert_exporter": "python",
   "pygments_lexer": "ipython3",
   "version": "3.8.5"
  }
 },
 "nbformat": 4,
 "nbformat_minor": 4
}
