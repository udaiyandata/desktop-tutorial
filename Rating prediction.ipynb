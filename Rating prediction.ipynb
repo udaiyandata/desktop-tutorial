{
 "cells": [
  {
   "cell_type": "code",
   "execution_count": 1,
   "metadata": {},
   "outputs": [],
   "source": [
    "#import library\n",
    "import numpy as np\n",
    "import pandas as pd\n",
    "\n",
    "import matplotlib.pyplot as plt\n",
    "import seaborn as sns"
   ]
  },
  {
   "cell_type": "code",
   "execution_count": 2,
   "metadata": {},
   "outputs": [],
   "source": [
    "#reading the file\n",
    "df = pd.read_csv('file.csv')"
   ]
  },
  {
   "cell_type": "code",
   "execution_count": 3,
   "metadata": {},
   "outputs": [],
   "source": [
    "#converting into excel file\n",
    "df.to_excel(\"Rating .xlsx\")"
   ]
  },
  {
   "cell_type": "code",
   "execution_count": 4,
   "metadata": {},
   "outputs": [
    {
     "data": {
      "text/html": [
       "<div>\n",
       "<style scoped>\n",
       "    .dataframe tbody tr th:only-of-type {\n",
       "        vertical-align: middle;\n",
       "    }\n",
       "\n",
       "    .dataframe tbody tr th {\n",
       "        vertical-align: top;\n",
       "    }\n",
       "\n",
       "    .dataframe thead th {\n",
       "        text-align: right;\n",
       "    }\n",
       "</style>\n",
       "<table border=\"1\" class=\"dataframe\">\n",
       "  <thead>\n",
       "    <tr style=\"text-align: right;\">\n",
       "      <th></th>\n",
       "      <th>Unnamed: 0</th>\n",
       "      <th>Rating</th>\n",
       "      <th>review_of_product</th>\n",
       "    </tr>\n",
       "  </thead>\n",
       "  <tbody>\n",
       "    <tr>\n",
       "      <th>0</th>\n",
       "      <td>0</td>\n",
       "      <td>3.8 out of 5</td>\n",
       "      <td>Very solow speed and hang laptop bad</td>\n",
       "    </tr>\n",
       "    <tr>\n",
       "      <th>1</th>\n",
       "      <td>1</td>\n",
       "      <td>3.9 out of 5</td>\n",
       "      <td>No backlit keyboard</td>\n",
       "    </tr>\n",
       "    <tr>\n",
       "      <th>2</th>\n",
       "      <td>2</td>\n",
       "      <td>3.5 out of 5</td>\n",
       "      <td>Not working also visited hp service centere</td>\n",
       "    </tr>\n",
       "    <tr>\n",
       "      <th>3</th>\n",
       "      <td>3</td>\n",
       "      <td>3.4 out of 5</td>\n",
       "      <td>Bad product</td>\n",
       "    </tr>\n",
       "    <tr>\n",
       "      <th>4</th>\n",
       "      <td>4</td>\n",
       "      <td>3.3 out of 5</td>\n",
       "      <td>Best Budget</td>\n",
       "    </tr>\n",
       "    <tr>\n",
       "      <th>...</th>\n",
       "      <td>...</td>\n",
       "      <td>...</td>\n",
       "      <td>...</td>\n",
       "    </tr>\n",
       "    <tr>\n",
       "      <th>1511</th>\n",
       "      <td>202</td>\n",
       "      <td>4 out of 5</td>\n",
       "      <td>Avoid purchasing it if u have better options!</td>\n",
       "    </tr>\n",
       "    <tr>\n",
       "      <th>1512</th>\n",
       "      <td>203</td>\n",
       "      <td>4.2 out of 5</td>\n",
       "      <td>Nice</td>\n",
       "    </tr>\n",
       "    <tr>\n",
       "      <th>1513</th>\n",
       "      <td>204</td>\n",
       "      <td>-</td>\n",
       "      <td>-</td>\n",
       "    </tr>\n",
       "    <tr>\n",
       "      <th>1514</th>\n",
       "      <td>205</td>\n",
       "      <td>-</td>\n",
       "      <td>-</td>\n",
       "    </tr>\n",
       "    <tr>\n",
       "      <th>1515</th>\n",
       "      <td>206</td>\n",
       "      <td>4.3 out of 5</td>\n",
       "      <td>Really Working for LHS616W</td>\n",
       "    </tr>\n",
       "  </tbody>\n",
       "</table>\n",
       "<p>1516 rows × 3 columns</p>\n",
       "</div>"
      ],
      "text/plain": [
       "      Unnamed: 0        Rating                              review_of_product\n",
       "0              0  3.8 out of 5           Very solow speed and hang laptop bad\n",
       "1              1  3.9 out of 5                            No backlit keyboard\n",
       "2              2  3.5 out of 5    Not working also visited hp service centere\n",
       "3              3  3.4 out of 5                                    Bad product\n",
       "4              4  3.3 out of 5                                    Best Budget\n",
       "...          ...           ...                                            ...\n",
       "1511         202    4 out of 5  Avoid purchasing it if u have better options!\n",
       "1512         203  4.2 out of 5                                           Nice\n",
       "1513         204             -                                              -\n",
       "1514         205             -                                              -\n",
       "1515         206  4.3 out of 5                     Really Working for LHS616W\n",
       "\n",
       "[1516 rows x 3 columns]"
      ]
     },
     "execution_count": 4,
     "metadata": {},
     "output_type": "execute_result"
    }
   ],
   "source": [
    "df\n"
   ]
  },
  {
   "cell_type": "code",
   "execution_count": 5,
   "metadata": {},
   "outputs": [
    {
     "data": {
      "text/plain": [
       "(1516, 3)"
      ]
     },
     "execution_count": 5,
     "metadata": {},
     "output_type": "execute_result"
    }
   ],
   "source": [
    "#shape of the value\n",
    "df.shape"
   ]
  },
  {
   "cell_type": "code",
   "execution_count": 6,
   "metadata": {},
   "outputs": [
    {
     "data": {
      "text/html": [
       "<div>\n",
       "<style scoped>\n",
       "    .dataframe tbody tr th:only-of-type {\n",
       "        vertical-align: middle;\n",
       "    }\n",
       "\n",
       "    .dataframe tbody tr th {\n",
       "        vertical-align: top;\n",
       "    }\n",
       "\n",
       "    .dataframe thead th {\n",
       "        text-align: right;\n",
       "    }\n",
       "</style>\n",
       "<table border=\"1\" class=\"dataframe\">\n",
       "  <thead>\n",
       "    <tr style=\"text-align: right;\">\n",
       "      <th></th>\n",
       "      <th>Rating</th>\n",
       "      <th>review_of_product</th>\n",
       "    </tr>\n",
       "  </thead>\n",
       "  <tbody>\n",
       "    <tr>\n",
       "      <th>0</th>\n",
       "      <td>3.8 out of 5</td>\n",
       "      <td>Very solow speed and hang laptop bad</td>\n",
       "    </tr>\n",
       "    <tr>\n",
       "      <th>1</th>\n",
       "      <td>3.9 out of 5</td>\n",
       "      <td>No backlit keyboard</td>\n",
       "    </tr>\n",
       "    <tr>\n",
       "      <th>2</th>\n",
       "      <td>3.5 out of 5</td>\n",
       "      <td>Not working also visited hp service centere</td>\n",
       "    </tr>\n",
       "    <tr>\n",
       "      <th>3</th>\n",
       "      <td>3.4 out of 5</td>\n",
       "      <td>Bad product</td>\n",
       "    </tr>\n",
       "    <tr>\n",
       "      <th>4</th>\n",
       "      <td>3.3 out of 5</td>\n",
       "      <td>Best Budget</td>\n",
       "    </tr>\n",
       "    <tr>\n",
       "      <th>...</th>\n",
       "      <td>...</td>\n",
       "      <td>...</td>\n",
       "    </tr>\n",
       "    <tr>\n",
       "      <th>1511</th>\n",
       "      <td>4 out of 5</td>\n",
       "      <td>Avoid purchasing it if u have better options!</td>\n",
       "    </tr>\n",
       "    <tr>\n",
       "      <th>1512</th>\n",
       "      <td>4.2 out of 5</td>\n",
       "      <td>Nice</td>\n",
       "    </tr>\n",
       "    <tr>\n",
       "      <th>1513</th>\n",
       "      <td>-</td>\n",
       "      <td>-</td>\n",
       "    </tr>\n",
       "    <tr>\n",
       "      <th>1514</th>\n",
       "      <td>-</td>\n",
       "      <td>-</td>\n",
       "    </tr>\n",
       "    <tr>\n",
       "      <th>1515</th>\n",
       "      <td>4.3 out of 5</td>\n",
       "      <td>Really Working for LHS616W</td>\n",
       "    </tr>\n",
       "  </tbody>\n",
       "</table>\n",
       "<p>1516 rows × 2 columns</p>\n",
       "</div>"
      ],
      "text/plain": [
       "            Rating                              review_of_product\n",
       "0     3.8 out of 5           Very solow speed and hang laptop bad\n",
       "1     3.9 out of 5                            No backlit keyboard\n",
       "2     3.5 out of 5    Not working also visited hp service centere\n",
       "3     3.4 out of 5                                    Bad product\n",
       "4     3.3 out of 5                                    Best Budget\n",
       "...            ...                                            ...\n",
       "1511    4 out of 5  Avoid purchasing it if u have better options!\n",
       "1512  4.2 out of 5                                           Nice\n",
       "1513             -                                              -\n",
       "1514             -                                              -\n",
       "1515  4.3 out of 5                     Really Working for LHS616W\n",
       "\n",
       "[1516 rows x 2 columns]"
      ]
     },
     "execution_count": 6,
     "metadata": {},
     "output_type": "execute_result"
    }
   ],
   "source": [
    "#unnamed column droped\n",
    "df.drop(['Unnamed: 0'], axis = 1)"
   ]
  },
  {
   "cell_type": "code",
   "execution_count": 7,
   "metadata": {},
   "outputs": [
    {
     "data": {
      "text/plain": [
       "(1516, 3)"
      ]
     },
     "execution_count": 7,
     "metadata": {},
     "output_type": "execute_result"
    }
   ],
   "source": [
    "df.shape"
   ]
  },
  {
   "cell_type": "code",
   "execution_count": 8,
   "metadata": {},
   "outputs": [
    {
     "data": {
      "text/plain": [
       "<bound method DataFrame.info of       Unnamed: 0        Rating                              review_of_product\n",
       "0              0  3.8 out of 5           Very solow speed and hang laptop bad\n",
       "1              1  3.9 out of 5                            No backlit keyboard\n",
       "2              2  3.5 out of 5    Not working also visited hp service centere\n",
       "3              3  3.4 out of 5                                    Bad product\n",
       "4              4  3.3 out of 5                                    Best Budget\n",
       "...          ...           ...                                            ...\n",
       "1511         202    4 out of 5  Avoid purchasing it if u have better options!\n",
       "1512         203  4.2 out of 5                                           Nice\n",
       "1513         204             -                                              -\n",
       "1514         205             -                                              -\n",
       "1515         206  4.3 out of 5                     Really Working for LHS616W\n",
       "\n",
       "[1516 rows x 3 columns]>"
      ]
     },
     "execution_count": 8,
     "metadata": {},
     "output_type": "execute_result"
    }
   ],
   "source": [
    "df.info"
   ]
  },
  {
   "cell_type": "code",
   "execution_count": 9,
   "metadata": {},
   "outputs": [
    {
     "data": {
      "text/plain": [
       "<bound method NDFrame.head of       Unnamed: 0        Rating                              review_of_product\n",
       "0              0  3.8 out of 5           Very solow speed and hang laptop bad\n",
       "1              1  3.9 out of 5                            No backlit keyboard\n",
       "2              2  3.5 out of 5    Not working also visited hp service centere\n",
       "3              3  3.4 out of 5                                    Bad product\n",
       "4              4  3.3 out of 5                                    Best Budget\n",
       "...          ...           ...                                            ...\n",
       "1511         202    4 out of 5  Avoid purchasing it if u have better options!\n",
       "1512         203  4.2 out of 5                                           Nice\n",
       "1513         204             -                                              -\n",
       "1514         205             -                                              -\n",
       "1515         206  4.3 out of 5                     Really Working for LHS616W\n",
       "\n",
       "[1516 rows x 3 columns]>"
      ]
     },
     "execution_count": 9,
     "metadata": {},
     "output_type": "execute_result"
    }
   ],
   "source": [
    "df.head"
   ]
  },
  {
   "cell_type": "code",
   "execution_count": 10,
   "metadata": {},
   "outputs": [
    {
     "data": {
      "text/html": [
       "<div>\n",
       "<style scoped>\n",
       "    .dataframe tbody tr th:only-of-type {\n",
       "        vertical-align: middle;\n",
       "    }\n",
       "\n",
       "    .dataframe tbody tr th {\n",
       "        vertical-align: top;\n",
       "    }\n",
       "\n",
       "    .dataframe thead th {\n",
       "        text-align: right;\n",
       "    }\n",
       "</style>\n",
       "<table border=\"1\" class=\"dataframe\">\n",
       "  <thead>\n",
       "    <tr style=\"text-align: right;\">\n",
       "      <th></th>\n",
       "      <th>Unnamed: 0</th>\n",
       "      <th>Rating</th>\n",
       "      <th>review_of_product</th>\n",
       "    </tr>\n",
       "  </thead>\n",
       "  <tbody>\n",
       "    <tr>\n",
       "      <th>1511</th>\n",
       "      <td>202</td>\n",
       "      <td>4 out of 5</td>\n",
       "      <td>Avoid purchasing it if u have better options!</td>\n",
       "    </tr>\n",
       "    <tr>\n",
       "      <th>1512</th>\n",
       "      <td>203</td>\n",
       "      <td>4.2 out of 5</td>\n",
       "      <td>Nice</td>\n",
       "    </tr>\n",
       "    <tr>\n",
       "      <th>1513</th>\n",
       "      <td>204</td>\n",
       "      <td>-</td>\n",
       "      <td>-</td>\n",
       "    </tr>\n",
       "    <tr>\n",
       "      <th>1514</th>\n",
       "      <td>205</td>\n",
       "      <td>-</td>\n",
       "      <td>-</td>\n",
       "    </tr>\n",
       "    <tr>\n",
       "      <th>1515</th>\n",
       "      <td>206</td>\n",
       "      <td>4.3 out of 5</td>\n",
       "      <td>Really Working for LHS616W</td>\n",
       "    </tr>\n",
       "  </tbody>\n",
       "</table>\n",
       "</div>"
      ],
      "text/plain": [
       "      Unnamed: 0        Rating                              review_of_product\n",
       "1511         202    4 out of 5  Avoid purchasing it if u have better options!\n",
       "1512         203  4.2 out of 5                                           Nice\n",
       "1513         204             -                                              -\n",
       "1514         205             -                                              -\n",
       "1515         206  4.3 out of 5                     Really Working for LHS616W"
      ]
     },
     "execution_count": 10,
     "metadata": {},
     "output_type": "execute_result"
    }
   ],
   "source": [
    "df.tail()"
   ]
  },
  {
   "cell_type": "code",
   "execution_count": 11,
   "metadata": {},
   "outputs": [
    {
     "data": {
      "text/html": [
       "<div>\n",
       "<style scoped>\n",
       "    .dataframe tbody tr th:only-of-type {\n",
       "        vertical-align: middle;\n",
       "    }\n",
       "\n",
       "    .dataframe tbody tr th {\n",
       "        vertical-align: top;\n",
       "    }\n",
       "\n",
       "    .dataframe thead th {\n",
       "        text-align: right;\n",
       "    }\n",
       "</style>\n",
       "<table border=\"1\" class=\"dataframe\">\n",
       "  <thead>\n",
       "    <tr style=\"text-align: right;\">\n",
       "      <th></th>\n",
       "      <th>Unnamed: 0</th>\n",
       "    </tr>\n",
       "  </thead>\n",
       "  <tbody>\n",
       "    <tr>\n",
       "      <th>count</th>\n",
       "      <td>1516.000000</td>\n",
       "    </tr>\n",
       "    <tr>\n",
       "      <th>mean</th>\n",
       "      <td>155.179420</td>\n",
       "    </tr>\n",
       "    <tr>\n",
       "      <th>std</th>\n",
       "      <td>114.012064</td>\n",
       "    </tr>\n",
       "    <tr>\n",
       "      <th>min</th>\n",
       "      <td>0.000000</td>\n",
       "    </tr>\n",
       "    <tr>\n",
       "      <th>25%</th>\n",
       "      <td>63.000000</td>\n",
       "    </tr>\n",
       "    <tr>\n",
       "      <th>50%</th>\n",
       "      <td>130.500000</td>\n",
       "    </tr>\n",
       "    <tr>\n",
       "      <th>75%</th>\n",
       "      <td>228.250000</td>\n",
       "    </tr>\n",
       "    <tr>\n",
       "      <th>max</th>\n",
       "      <td>425.000000</td>\n",
       "    </tr>\n",
       "  </tbody>\n",
       "</table>\n",
       "</div>"
      ],
      "text/plain": [
       "        Unnamed: 0\n",
       "count  1516.000000\n",
       "mean    155.179420\n",
       "std     114.012064\n",
       "min       0.000000\n",
       "25%      63.000000\n",
       "50%     130.500000\n",
       "75%     228.250000\n",
       "max     425.000000"
      ]
     },
     "execution_count": 11,
     "metadata": {},
     "output_type": "execute_result"
    }
   ],
   "source": [
    "#describe the data\n",
    "df.describe()"
   ]
  },
  {
   "cell_type": "code",
   "execution_count": 12,
   "metadata": {},
   "outputs": [
    {
     "data": {
      "text/plain": [
       "(1516, 4)"
      ]
     },
     "execution_count": 12,
     "metadata": {},
     "output_type": "execute_result"
    }
   ],
   "source": [
    "df['length'] = df['review_of_product'].apply(len)\n",
    "\n",
    "df.shape\n"
   ]
  },
  {
   "cell_type": "code",
   "execution_count": 13,
   "metadata": {},
   "outputs": [
    {
     "data": {
      "text/html": [
       "<div>\n",
       "<style scoped>\n",
       "    .dataframe tbody tr th:only-of-type {\n",
       "        vertical-align: middle;\n",
       "    }\n",
       "\n",
       "    .dataframe tbody tr th {\n",
       "        vertical-align: top;\n",
       "    }\n",
       "\n",
       "    .dataframe thead th {\n",
       "        text-align: right;\n",
       "    }\n",
       "</style>\n",
       "<table border=\"1\" class=\"dataframe\">\n",
       "  <thead>\n",
       "    <tr style=\"text-align: right;\">\n",
       "      <th></th>\n",
       "      <th>Unnamed: 0</th>\n",
       "      <th>Rating</th>\n",
       "      <th>review_of_product</th>\n",
       "      <th>length</th>\n",
       "    </tr>\n",
       "  </thead>\n",
       "  <tbody>\n",
       "    <tr>\n",
       "      <th>0</th>\n",
       "      <td>0</td>\n",
       "      <td>3.8 out of 5</td>\n",
       "      <td>Very solow speed and hang laptop bad</td>\n",
       "      <td>36</td>\n",
       "    </tr>\n",
       "    <tr>\n",
       "      <th>1</th>\n",
       "      <td>1</td>\n",
       "      <td>3.9 out of 5</td>\n",
       "      <td>No backlit keyboard</td>\n",
       "      <td>19</td>\n",
       "    </tr>\n",
       "    <tr>\n",
       "      <th>2</th>\n",
       "      <td>2</td>\n",
       "      <td>3.5 out of 5</td>\n",
       "      <td>Not working also visited hp service centere</td>\n",
       "      <td>43</td>\n",
       "    </tr>\n",
       "    <tr>\n",
       "      <th>3</th>\n",
       "      <td>3</td>\n",
       "      <td>3.4 out of 5</td>\n",
       "      <td>Bad product</td>\n",
       "      <td>11</td>\n",
       "    </tr>\n",
       "    <tr>\n",
       "      <th>4</th>\n",
       "      <td>4</td>\n",
       "      <td>3.3 out of 5</td>\n",
       "      <td>Best Budget</td>\n",
       "      <td>11</td>\n",
       "    </tr>\n",
       "    <tr>\n",
       "      <th>...</th>\n",
       "      <td>...</td>\n",
       "      <td>...</td>\n",
       "      <td>...</td>\n",
       "      <td>...</td>\n",
       "    </tr>\n",
       "    <tr>\n",
       "      <th>1511</th>\n",
       "      <td>202</td>\n",
       "      <td>4 out of 5</td>\n",
       "      <td>Avoid purchasing it if u have better options!</td>\n",
       "      <td>45</td>\n",
       "    </tr>\n",
       "    <tr>\n",
       "      <th>1512</th>\n",
       "      <td>203</td>\n",
       "      <td>4.2 out of 5</td>\n",
       "      <td>Nice</td>\n",
       "      <td>4</td>\n",
       "    </tr>\n",
       "    <tr>\n",
       "      <th>1513</th>\n",
       "      <td>204</td>\n",
       "      <td>-</td>\n",
       "      <td>-</td>\n",
       "      <td>1</td>\n",
       "    </tr>\n",
       "    <tr>\n",
       "      <th>1514</th>\n",
       "      <td>205</td>\n",
       "      <td>-</td>\n",
       "      <td>-</td>\n",
       "      <td>1</td>\n",
       "    </tr>\n",
       "    <tr>\n",
       "      <th>1515</th>\n",
       "      <td>206</td>\n",
       "      <td>4.3 out of 5</td>\n",
       "      <td>Really Working for LHS616W</td>\n",
       "      <td>26</td>\n",
       "    </tr>\n",
       "  </tbody>\n",
       "</table>\n",
       "<p>1516 rows × 4 columns</p>\n",
       "</div>"
      ],
      "text/plain": [
       "      Unnamed: 0        Rating                              review_of_product  \\\n",
       "0              0  3.8 out of 5           Very solow speed and hang laptop bad   \n",
       "1              1  3.9 out of 5                            No backlit keyboard   \n",
       "2              2  3.5 out of 5    Not working also visited hp service centere   \n",
       "3              3  3.4 out of 5                                    Bad product   \n",
       "4              4  3.3 out of 5                                    Best Budget   \n",
       "...          ...           ...                                            ...   \n",
       "1511         202    4 out of 5  Avoid purchasing it if u have better options!   \n",
       "1512         203  4.2 out of 5                                           Nice   \n",
       "1513         204             -                                              -   \n",
       "1514         205             -                                              -   \n",
       "1515         206  4.3 out of 5                     Really Working for LHS616W   \n",
       "\n",
       "      length  \n",
       "0         36  \n",
       "1         19  \n",
       "2         43  \n",
       "3         11  \n",
       "4         11  \n",
       "...      ...  \n",
       "1511      45  \n",
       "1512       4  \n",
       "1513       1  \n",
       "1514       1  \n",
       "1515      26  \n",
       "\n",
       "[1516 rows x 4 columns]"
      ]
     },
     "execution_count": 13,
     "metadata": {},
     "output_type": "execute_result"
    }
   ],
   "source": [
    "df"
   ]
  },
  {
   "cell_type": "code",
   "execution_count": 14,
   "metadata": {},
   "outputs": [
    {
     "data": {
      "text/html": [
       "<div>\n",
       "<style scoped>\n",
       "    .dataframe tbody tr th:only-of-type {\n",
       "        vertical-align: middle;\n",
       "    }\n",
       "\n",
       "    .dataframe tbody tr th {\n",
       "        vertical-align: top;\n",
       "    }\n",
       "\n",
       "    .dataframe thead tr th {\n",
       "        text-align: left;\n",
       "    }\n",
       "\n",
       "    .dataframe thead tr:last-of-type th {\n",
       "        text-align: right;\n",
       "    }\n",
       "</style>\n",
       "<table border=\"1\" class=\"dataframe\">\n",
       "  <thead>\n",
       "    <tr>\n",
       "      <th></th>\n",
       "      <th colspan=\"8\" halign=\"left\">Unnamed: 0</th>\n",
       "      <th colspan=\"8\" halign=\"left\">length</th>\n",
       "    </tr>\n",
       "    <tr>\n",
       "      <th></th>\n",
       "      <th>count</th>\n",
       "      <th>mean</th>\n",
       "      <th>std</th>\n",
       "      <th>min</th>\n",
       "      <th>25%</th>\n",
       "      <th>50%</th>\n",
       "      <th>75%</th>\n",
       "      <th>max</th>\n",
       "      <th>count</th>\n",
       "      <th>mean</th>\n",
       "      <th>std</th>\n",
       "      <th>min</th>\n",
       "      <th>25%</th>\n",
       "      <th>50%</th>\n",
       "      <th>75%</th>\n",
       "      <th>max</th>\n",
       "    </tr>\n",
       "    <tr>\n",
       "      <th>Rating</th>\n",
       "      <th></th>\n",
       "      <th></th>\n",
       "      <th></th>\n",
       "      <th></th>\n",
       "      <th></th>\n",
       "      <th></th>\n",
       "      <th></th>\n",
       "      <th></th>\n",
       "      <th></th>\n",
       "      <th></th>\n",
       "      <th></th>\n",
       "      <th></th>\n",
       "      <th></th>\n",
       "      <th></th>\n",
       "      <th></th>\n",
       "      <th></th>\n",
       "    </tr>\n",
       "  </thead>\n",
       "  <tbody>\n",
       "    <tr>\n",
       "      <th>-</th>\n",
       "      <td>198.0</td>\n",
       "      <td>175.681818</td>\n",
       "      <td>109.293229</td>\n",
       "      <td>0.0</td>\n",
       "      <td>93.25</td>\n",
       "      <td>153.5</td>\n",
       "      <td>241.75</td>\n",
       "      <td>416.0</td>\n",
       "      <td>198.0</td>\n",
       "      <td>1.000000</td>\n",
       "      <td>0.000000</td>\n",
       "      <td>1.0</td>\n",
       "      <td>1.00</td>\n",
       "      <td>1.0</td>\n",
       "      <td>1.00</td>\n",
       "      <td>1.0</td>\n",
       "    </tr>\n",
       "    <tr>\n",
       "      <th>1 out of 5</th>\n",
       "      <td>15.0</td>\n",
       "      <td>172.733333</td>\n",
       "      <td>129.313278</td>\n",
       "      <td>13.0</td>\n",
       "      <td>64.00</td>\n",
       "      <td>116.0</td>\n",
       "      <td>312.50</td>\n",
       "      <td>374.0</td>\n",
       "      <td>15.0</td>\n",
       "      <td>24.466667</td>\n",
       "      <td>24.639882</td>\n",
       "      <td>1.0</td>\n",
       "      <td>6.50</td>\n",
       "      <td>22.0</td>\n",
       "      <td>32.00</td>\n",
       "      <td>95.0</td>\n",
       "    </tr>\n",
       "    <tr>\n",
       "      <th>1.4 out of 5</th>\n",
       "      <td>1.0</td>\n",
       "      <td>144.000000</td>\n",
       "      <td>NaN</td>\n",
       "      <td>144.0</td>\n",
       "      <td>144.00</td>\n",
       "      <td>144.0</td>\n",
       "      <td>144.00</td>\n",
       "      <td>144.0</td>\n",
       "      <td>1.0</td>\n",
       "      <td>14.000000</td>\n",
       "      <td>NaN</td>\n",
       "      <td>14.0</td>\n",
       "      <td>14.00</td>\n",
       "      <td>14.0</td>\n",
       "      <td>14.00</td>\n",
       "      <td>14.0</td>\n",
       "    </tr>\n",
       "    <tr>\n",
       "      <th>2 out of 5</th>\n",
       "      <td>5.0</td>\n",
       "      <td>103.800000</td>\n",
       "      <td>67.521848</td>\n",
       "      <td>49.0</td>\n",
       "      <td>50.00</td>\n",
       "      <td>82.0</td>\n",
       "      <td>128.00</td>\n",
       "      <td>210.0</td>\n",
       "      <td>5.0</td>\n",
       "      <td>21.000000</td>\n",
       "      <td>14.983324</td>\n",
       "      <td>1.0</td>\n",
       "      <td>16.00</td>\n",
       "      <td>18.0</td>\n",
       "      <td>29.00</td>\n",
       "      <td>41.0</td>\n",
       "    </tr>\n",
       "    <tr>\n",
       "      <th>2.1 out of 5</th>\n",
       "      <td>1.0</td>\n",
       "      <td>82.000000</td>\n",
       "      <td>NaN</td>\n",
       "      <td>82.0</td>\n",
       "      <td>82.00</td>\n",
       "      <td>82.0</td>\n",
       "      <td>82.00</td>\n",
       "      <td>82.0</td>\n",
       "      <td>1.0</td>\n",
       "      <td>24.000000</td>\n",
       "      <td>NaN</td>\n",
       "      <td>24.0</td>\n",
       "      <td>24.00</td>\n",
       "      <td>24.0</td>\n",
       "      <td>24.00</td>\n",
       "      <td>24.0</td>\n",
       "    </tr>\n",
       "    <tr>\n",
       "      <th>2.4 out of 5</th>\n",
       "      <td>2.0</td>\n",
       "      <td>206.500000</td>\n",
       "      <td>176.069589</td>\n",
       "      <td>82.0</td>\n",
       "      <td>144.25</td>\n",
       "      <td>206.5</td>\n",
       "      <td>268.75</td>\n",
       "      <td>331.0</td>\n",
       "      <td>2.0</td>\n",
       "      <td>24.000000</td>\n",
       "      <td>8.485281</td>\n",
       "      <td>18.0</td>\n",
       "      <td>21.00</td>\n",
       "      <td>24.0</td>\n",
       "      <td>27.00</td>\n",
       "      <td>30.0</td>\n",
       "    </tr>\n",
       "    <tr>\n",
       "      <th>2.5 out of 5</th>\n",
       "      <td>5.0</td>\n",
       "      <td>164.800000</td>\n",
       "      <td>144.451376</td>\n",
       "      <td>51.0</td>\n",
       "      <td>87.00</td>\n",
       "      <td>97.0</td>\n",
       "      <td>180.00</td>\n",
       "      <td>409.0</td>\n",
       "      <td>5.0</td>\n",
       "      <td>26.000000</td>\n",
       "      <td>16.985288</td>\n",
       "      <td>13.0</td>\n",
       "      <td>15.00</td>\n",
       "      <td>18.0</td>\n",
       "      <td>30.00</td>\n",
       "      <td>54.0</td>\n",
       "    </tr>\n",
       "    <tr>\n",
       "      <th>2.7 out of 5</th>\n",
       "      <td>5.0</td>\n",
       "      <td>146.600000</td>\n",
       "      <td>95.481935</td>\n",
       "      <td>84.0</td>\n",
       "      <td>88.00</td>\n",
       "      <td>120.0</td>\n",
       "      <td>127.00</td>\n",
       "      <td>314.0</td>\n",
       "      <td>5.0</td>\n",
       "      <td>16.800000</td>\n",
       "      <td>4.147288</td>\n",
       "      <td>11.0</td>\n",
       "      <td>15.00</td>\n",
       "      <td>17.0</td>\n",
       "      <td>19.00</td>\n",
       "      <td>22.0</td>\n",
       "    </tr>\n",
       "    <tr>\n",
       "      <th>2.8 out of 5</th>\n",
       "      <td>5.0</td>\n",
       "      <td>181.000000</td>\n",
       "      <td>80.103059</td>\n",
       "      <td>51.0</td>\n",
       "      <td>176.00</td>\n",
       "      <td>185.0</td>\n",
       "      <td>238.00</td>\n",
       "      <td>255.0</td>\n",
       "      <td>5.0</td>\n",
       "      <td>24.200000</td>\n",
       "      <td>8.288546</td>\n",
       "      <td>13.0</td>\n",
       "      <td>19.00</td>\n",
       "      <td>26.0</td>\n",
       "      <td>29.00</td>\n",
       "      <td>34.0</td>\n",
       "    </tr>\n",
       "    <tr>\n",
       "      <th>2.9 out of 5</th>\n",
       "      <td>18.0</td>\n",
       "      <td>161.722222</td>\n",
       "      <td>130.614298</td>\n",
       "      <td>15.0</td>\n",
       "      <td>41.25</td>\n",
       "      <td>139.0</td>\n",
       "      <td>295.25</td>\n",
       "      <td>377.0</td>\n",
       "      <td>18.0</td>\n",
       "      <td>22.722222</td>\n",
       "      <td>12.800761</td>\n",
       "      <td>8.0</td>\n",
       "      <td>12.25</td>\n",
       "      <td>19.0</td>\n",
       "      <td>30.75</td>\n",
       "      <td>50.0</td>\n",
       "    </tr>\n",
       "    <tr>\n",
       "      <th>3 out of 5</th>\n",
       "      <td>22.0</td>\n",
       "      <td>124.772727</td>\n",
       "      <td>96.018318</td>\n",
       "      <td>13.0</td>\n",
       "      <td>54.25</td>\n",
       "      <td>111.5</td>\n",
       "      <td>155.00</td>\n",
       "      <td>343.0</td>\n",
       "      <td>22.0</td>\n",
       "      <td>27.090909</td>\n",
       "      <td>20.358476</td>\n",
       "      <td>1.0</td>\n",
       "      <td>14.25</td>\n",
       "      <td>22.5</td>\n",
       "      <td>38.00</td>\n",
       "      <td>72.0</td>\n",
       "    </tr>\n",
       "    <tr>\n",
       "      <th>3.1 out of 5</th>\n",
       "      <td>22.0</td>\n",
       "      <td>160.863636</td>\n",
       "      <td>115.882245</td>\n",
       "      <td>9.0</td>\n",
       "      <td>64.75</td>\n",
       "      <td>166.5</td>\n",
       "      <td>243.25</td>\n",
       "      <td>383.0</td>\n",
       "      <td>22.0</td>\n",
       "      <td>28.318182</td>\n",
       "      <td>23.072115</td>\n",
       "      <td>2.0</td>\n",
       "      <td>11.25</td>\n",
       "      <td>26.0</td>\n",
       "      <td>36.50</td>\n",
       "      <td>86.0</td>\n",
       "    </tr>\n",
       "    <tr>\n",
       "      <th>3.2 out of 5</th>\n",
       "      <td>13.0</td>\n",
       "      <td>113.692308</td>\n",
       "      <td>85.388704</td>\n",
       "      <td>5.0</td>\n",
       "      <td>38.00</td>\n",
       "      <td>104.0</td>\n",
       "      <td>152.00</td>\n",
       "      <td>309.0</td>\n",
       "      <td>13.0</td>\n",
       "      <td>29.538462</td>\n",
       "      <td>20.903012</td>\n",
       "      <td>7.0</td>\n",
       "      <td>12.00</td>\n",
       "      <td>29.0</td>\n",
       "      <td>39.00</td>\n",
       "      <td>71.0</td>\n",
       "    </tr>\n",
       "    <tr>\n",
       "      <th>3.3 out of 5</th>\n",
       "      <td>40.0</td>\n",
       "      <td>144.575000</td>\n",
       "      <td>110.734352</td>\n",
       "      <td>4.0</td>\n",
       "      <td>66.75</td>\n",
       "      <td>99.0</td>\n",
       "      <td>199.25</td>\n",
       "      <td>368.0</td>\n",
       "      <td>40.0</td>\n",
       "      <td>22.975000</td>\n",
       "      <td>20.142426</td>\n",
       "      <td>2.0</td>\n",
       "      <td>11.00</td>\n",
       "      <td>15.5</td>\n",
       "      <td>26.25</td>\n",
       "      <td>93.0</td>\n",
       "    </tr>\n",
       "    <tr>\n",
       "      <th>3.4 out of 5</th>\n",
       "      <td>42.0</td>\n",
       "      <td>127.880952</td>\n",
       "      <td>114.867305</td>\n",
       "      <td>3.0</td>\n",
       "      <td>47.50</td>\n",
       "      <td>97.0</td>\n",
       "      <td>157.75</td>\n",
       "      <td>415.0</td>\n",
       "      <td>42.0</td>\n",
       "      <td>25.500000</td>\n",
       "      <td>18.034182</td>\n",
       "      <td>1.0</td>\n",
       "      <td>14.25</td>\n",
       "      <td>22.5</td>\n",
       "      <td>31.50</td>\n",
       "      <td>89.0</td>\n",
       "    </tr>\n",
       "    <tr>\n",
       "      <th>3.5 out of 5</th>\n",
       "      <td>61.0</td>\n",
       "      <td>151.475410</td>\n",
       "      <td>116.123154</td>\n",
       "      <td>0.0</td>\n",
       "      <td>60.00</td>\n",
       "      <td>122.0</td>\n",
       "      <td>246.00</td>\n",
       "      <td>420.0</td>\n",
       "      <td>61.0</td>\n",
       "      <td>42.819672</td>\n",
       "      <td>32.005993</td>\n",
       "      <td>1.0</td>\n",
       "      <td>15.00</td>\n",
       "      <td>30.0</td>\n",
       "      <td>85.00</td>\n",
       "      <td>100.0</td>\n",
       "    </tr>\n",
       "    <tr>\n",
       "      <th>3.6 out of 5</th>\n",
       "      <td>61.0</td>\n",
       "      <td>136.016393</td>\n",
       "      <td>101.705374</td>\n",
       "      <td>3.0</td>\n",
       "      <td>64.00</td>\n",
       "      <td>115.0</td>\n",
       "      <td>184.00</td>\n",
       "      <td>404.0</td>\n",
       "      <td>61.0</td>\n",
       "      <td>28.688525</td>\n",
       "      <td>16.861733</td>\n",
       "      <td>1.0</td>\n",
       "      <td>15.00</td>\n",
       "      <td>26.0</td>\n",
       "      <td>37.00</td>\n",
       "      <td>73.0</td>\n",
       "    </tr>\n",
       "    <tr>\n",
       "      <th>3.7 out of 5</th>\n",
       "      <td>67.0</td>\n",
       "      <td>195.611940</td>\n",
       "      <td>122.272294</td>\n",
       "      <td>12.0</td>\n",
       "      <td>83.00</td>\n",
       "      <td>184.0</td>\n",
       "      <td>296.00</td>\n",
       "      <td>422.0</td>\n",
       "      <td>67.0</td>\n",
       "      <td>31.731343</td>\n",
       "      <td>17.178724</td>\n",
       "      <td>1.0</td>\n",
       "      <td>17.50</td>\n",
       "      <td>34.0</td>\n",
       "      <td>37.00</td>\n",
       "      <td>85.0</td>\n",
       "    </tr>\n",
       "    <tr>\n",
       "      <th>3.8 out of 5</th>\n",
       "      <td>74.0</td>\n",
       "      <td>144.486486</td>\n",
       "      <td>119.593976</td>\n",
       "      <td>0.0</td>\n",
       "      <td>38.25</td>\n",
       "      <td>126.0</td>\n",
       "      <td>193.75</td>\n",
       "      <td>408.0</td>\n",
       "      <td>74.0</td>\n",
       "      <td>28.486486</td>\n",
       "      <td>18.147224</td>\n",
       "      <td>1.0</td>\n",
       "      <td>14.25</td>\n",
       "      <td>26.5</td>\n",
       "      <td>40.25</td>\n",
       "      <td>76.0</td>\n",
       "    </tr>\n",
       "    <tr>\n",
       "      <th>3.9 out of 5</th>\n",
       "      <td>138.0</td>\n",
       "      <td>169.340580</td>\n",
       "      <td>120.964282</td>\n",
       "      <td>1.0</td>\n",
       "      <td>69.50</td>\n",
       "      <td>151.0</td>\n",
       "      <td>270.00</td>\n",
       "      <td>423.0</td>\n",
       "      <td>138.0</td>\n",
       "      <td>28.942029</td>\n",
       "      <td>19.985677</td>\n",
       "      <td>1.0</td>\n",
       "      <td>13.00</td>\n",
       "      <td>23.0</td>\n",
       "      <td>46.75</td>\n",
       "      <td>97.0</td>\n",
       "    </tr>\n",
       "    <tr>\n",
       "      <th>4 out of 5</th>\n",
       "      <td>126.0</td>\n",
       "      <td>148.539683</td>\n",
       "      <td>109.460981</td>\n",
       "      <td>1.0</td>\n",
       "      <td>58.50</td>\n",
       "      <td>132.0</td>\n",
       "      <td>203.50</td>\n",
       "      <td>425.0</td>\n",
       "      <td>126.0</td>\n",
       "      <td>33.769841</td>\n",
       "      <td>24.300177</td>\n",
       "      <td>1.0</td>\n",
       "      <td>14.25</td>\n",
       "      <td>29.5</td>\n",
       "      <td>46.00</td>\n",
       "      <td>88.0</td>\n",
       "    </tr>\n",
       "    <tr>\n",
       "      <th>4.1 out of 5</th>\n",
       "      <td>140.0</td>\n",
       "      <td>142.450000</td>\n",
       "      <td>113.747184</td>\n",
       "      <td>1.0</td>\n",
       "      <td>52.00</td>\n",
       "      <td>110.0</td>\n",
       "      <td>196.00</td>\n",
       "      <td>421.0</td>\n",
       "      <td>140.0</td>\n",
       "      <td>37.035714</td>\n",
       "      <td>19.957657</td>\n",
       "      <td>4.0</td>\n",
       "      <td>21.00</td>\n",
       "      <td>35.5</td>\n",
       "      <td>47.00</td>\n",
       "      <td>98.0</td>\n",
       "    </tr>\n",
       "    <tr>\n",
       "      <th>4.2 out of 5</th>\n",
       "      <td>106.0</td>\n",
       "      <td>134.669811</td>\n",
       "      <td>113.657021</td>\n",
       "      <td>0.0</td>\n",
       "      <td>47.00</td>\n",
       "      <td>103.5</td>\n",
       "      <td>173.75</td>\n",
       "      <td>417.0</td>\n",
       "      <td>106.0</td>\n",
       "      <td>27.754717</td>\n",
       "      <td>18.224427</td>\n",
       "      <td>1.0</td>\n",
       "      <td>14.00</td>\n",
       "      <td>27.0</td>\n",
       "      <td>34.75</td>\n",
       "      <td>99.0</td>\n",
       "    </tr>\n",
       "    <tr>\n",
       "      <th>4.3 out of 5</th>\n",
       "      <td>87.0</td>\n",
       "      <td>166.482759</td>\n",
       "      <td>120.195757</td>\n",
       "      <td>5.0</td>\n",
       "      <td>75.00</td>\n",
       "      <td>134.0</td>\n",
       "      <td>263.00</td>\n",
       "      <td>424.0</td>\n",
       "      <td>87.0</td>\n",
       "      <td>30.804598</td>\n",
       "      <td>20.526126</td>\n",
       "      <td>1.0</td>\n",
       "      <td>13.00</td>\n",
       "      <td>28.0</td>\n",
       "      <td>42.00</td>\n",
       "      <td>88.0</td>\n",
       "    </tr>\n",
       "    <tr>\n",
       "      <th>4.4 out of 5</th>\n",
       "      <td>76.0</td>\n",
       "      <td>132.210526</td>\n",
       "      <td>108.303809</td>\n",
       "      <td>2.0</td>\n",
       "      <td>36.75</td>\n",
       "      <td>117.0</td>\n",
       "      <td>176.25</td>\n",
       "      <td>385.0</td>\n",
       "      <td>76.0</td>\n",
       "      <td>31.789474</td>\n",
       "      <td>16.492678</td>\n",
       "      <td>4.0</td>\n",
       "      <td>21.00</td>\n",
       "      <td>31.5</td>\n",
       "      <td>40.00</td>\n",
       "      <td>100.0</td>\n",
       "    </tr>\n",
       "    <tr>\n",
       "      <th>4.5 out of 5</th>\n",
       "      <td>76.0</td>\n",
       "      <td>158.157895</td>\n",
       "      <td>121.221676</td>\n",
       "      <td>0.0</td>\n",
       "      <td>60.25</td>\n",
       "      <td>130.0</td>\n",
       "      <td>240.00</td>\n",
       "      <td>410.0</td>\n",
       "      <td>76.0</td>\n",
       "      <td>30.578947</td>\n",
       "      <td>19.726303</td>\n",
       "      <td>1.0</td>\n",
       "      <td>14.00</td>\n",
       "      <td>24.0</td>\n",
       "      <td>41.50</td>\n",
       "      <td>100.0</td>\n",
       "    </tr>\n",
       "    <tr>\n",
       "      <th>4.6 out of 5</th>\n",
       "      <td>24.0</td>\n",
       "      <td>143.125000</td>\n",
       "      <td>105.921756</td>\n",
       "      <td>18.0</td>\n",
       "      <td>63.25</td>\n",
       "      <td>118.0</td>\n",
       "      <td>186.25</td>\n",
       "      <td>406.0</td>\n",
       "      <td>24.0</td>\n",
       "      <td>32.125000</td>\n",
       "      <td>22.369063</td>\n",
       "      <td>1.0</td>\n",
       "      <td>13.50</td>\n",
       "      <td>27.5</td>\n",
       "      <td>47.00</td>\n",
       "      <td>91.0</td>\n",
       "    </tr>\n",
       "    <tr>\n",
       "      <th>4.7 out of 5</th>\n",
       "      <td>9.0</td>\n",
       "      <td>125.555556</td>\n",
       "      <td>57.591473</td>\n",
       "      <td>37.0</td>\n",
       "      <td>83.00</td>\n",
       "      <td>123.0</td>\n",
       "      <td>178.00</td>\n",
       "      <td>210.0</td>\n",
       "      <td>9.0</td>\n",
       "      <td>27.666667</td>\n",
       "      <td>21.805962</td>\n",
       "      <td>1.0</td>\n",
       "      <td>13.00</td>\n",
       "      <td>28.0</td>\n",
       "      <td>34.00</td>\n",
       "      <td>75.0</td>\n",
       "    </tr>\n",
       "    <tr>\n",
       "      <th>4.8 out of 5</th>\n",
       "      <td>8.0</td>\n",
       "      <td>191.250000</td>\n",
       "      <td>137.184703</td>\n",
       "      <td>42.0</td>\n",
       "      <td>67.50</td>\n",
       "      <td>177.0</td>\n",
       "      <td>284.00</td>\n",
       "      <td>398.0</td>\n",
       "      <td>8.0</td>\n",
       "      <td>31.000000</td>\n",
       "      <td>18.708287</td>\n",
       "      <td>1.0</td>\n",
       "      <td>21.75</td>\n",
       "      <td>28.0</td>\n",
       "      <td>46.50</td>\n",
       "      <td>54.0</td>\n",
       "    </tr>\n",
       "    <tr>\n",
       "      <th>4.9 out of 5</th>\n",
       "      <td>1.0</td>\n",
       "      <td>66.000000</td>\n",
       "      <td>NaN</td>\n",
       "      <td>66.0</td>\n",
       "      <td>66.00</td>\n",
       "      <td>66.0</td>\n",
       "      <td>66.00</td>\n",
       "      <td>66.0</td>\n",
       "      <td>1.0</td>\n",
       "      <td>16.000000</td>\n",
       "      <td>NaN</td>\n",
       "      <td>16.0</td>\n",
       "      <td>16.00</td>\n",
       "      <td>16.0</td>\n",
       "      <td>16.00</td>\n",
       "      <td>16.0</td>\n",
       "    </tr>\n",
       "    <tr>\n",
       "      <th>5 out of 5</th>\n",
       "      <td>68.0</td>\n",
       "      <td>177.617647</td>\n",
       "      <td>104.153164</td>\n",
       "      <td>4.0</td>\n",
       "      <td>88.00</td>\n",
       "      <td>164.5</td>\n",
       "      <td>253.75</td>\n",
       "      <td>399.0</td>\n",
       "      <td>68.0</td>\n",
       "      <td>16.058824</td>\n",
       "      <td>20.008120</td>\n",
       "      <td>1.0</td>\n",
       "      <td>1.00</td>\n",
       "      <td>9.0</td>\n",
       "      <td>19.75</td>\n",
       "      <td>95.0</td>\n",
       "    </tr>\n",
       "  </tbody>\n",
       "</table>\n",
       "</div>"
      ],
      "text/plain": [
       "             Unnamed: 0                                                        \\\n",
       "                  count        mean         std    min     25%    50%     75%   \n",
       "Rating                                                                          \n",
       "-                 198.0  175.681818  109.293229    0.0   93.25  153.5  241.75   \n",
       "1 out of 5         15.0  172.733333  129.313278   13.0   64.00  116.0  312.50   \n",
       "1.4 out of 5        1.0  144.000000         NaN  144.0  144.00  144.0  144.00   \n",
       "2 out of 5          5.0  103.800000   67.521848   49.0   50.00   82.0  128.00   \n",
       "2.1 out of 5        1.0   82.000000         NaN   82.0   82.00   82.0   82.00   \n",
       "2.4 out of 5        2.0  206.500000  176.069589   82.0  144.25  206.5  268.75   \n",
       "2.5 out of 5        5.0  164.800000  144.451376   51.0   87.00   97.0  180.00   \n",
       "2.7 out of 5        5.0  146.600000   95.481935   84.0   88.00  120.0  127.00   \n",
       "2.8 out of 5        5.0  181.000000   80.103059   51.0  176.00  185.0  238.00   \n",
       "2.9 out of 5       18.0  161.722222  130.614298   15.0   41.25  139.0  295.25   \n",
       "3 out of 5         22.0  124.772727   96.018318   13.0   54.25  111.5  155.00   \n",
       "3.1 out of 5       22.0  160.863636  115.882245    9.0   64.75  166.5  243.25   \n",
       "3.2 out of 5       13.0  113.692308   85.388704    5.0   38.00  104.0  152.00   \n",
       "3.3 out of 5       40.0  144.575000  110.734352    4.0   66.75   99.0  199.25   \n",
       "3.4 out of 5       42.0  127.880952  114.867305    3.0   47.50   97.0  157.75   \n",
       "3.5 out of 5       61.0  151.475410  116.123154    0.0   60.00  122.0  246.00   \n",
       "3.6 out of 5       61.0  136.016393  101.705374    3.0   64.00  115.0  184.00   \n",
       "3.7 out of 5       67.0  195.611940  122.272294   12.0   83.00  184.0  296.00   \n",
       "3.8 out of 5       74.0  144.486486  119.593976    0.0   38.25  126.0  193.75   \n",
       "3.9 out of 5      138.0  169.340580  120.964282    1.0   69.50  151.0  270.00   \n",
       "4 out of 5        126.0  148.539683  109.460981    1.0   58.50  132.0  203.50   \n",
       "4.1 out of 5      140.0  142.450000  113.747184    1.0   52.00  110.0  196.00   \n",
       "4.2 out of 5      106.0  134.669811  113.657021    0.0   47.00  103.5  173.75   \n",
       "4.3 out of 5       87.0  166.482759  120.195757    5.0   75.00  134.0  263.00   \n",
       "4.4 out of 5       76.0  132.210526  108.303809    2.0   36.75  117.0  176.25   \n",
       "4.5 out of 5       76.0  158.157895  121.221676    0.0   60.25  130.0  240.00   \n",
       "4.6 out of 5       24.0  143.125000  105.921756   18.0   63.25  118.0  186.25   \n",
       "4.7 out of 5        9.0  125.555556   57.591473   37.0   83.00  123.0  178.00   \n",
       "4.8 out of 5        8.0  191.250000  137.184703   42.0   67.50  177.0  284.00   \n",
       "4.9 out of 5        1.0   66.000000         NaN   66.0   66.00   66.0   66.00   \n",
       "5 out of 5         68.0  177.617647  104.153164    4.0   88.00  164.5  253.75   \n",
       "\n",
       "                    length                                                  \\\n",
       "                max  count       mean        std   min    25%   50%    75%   \n",
       "Rating                                                                       \n",
       "-             416.0  198.0   1.000000   0.000000   1.0   1.00   1.0   1.00   \n",
       "1 out of 5    374.0   15.0  24.466667  24.639882   1.0   6.50  22.0  32.00   \n",
       "1.4 out of 5  144.0    1.0  14.000000        NaN  14.0  14.00  14.0  14.00   \n",
       "2 out of 5    210.0    5.0  21.000000  14.983324   1.0  16.00  18.0  29.00   \n",
       "2.1 out of 5   82.0    1.0  24.000000        NaN  24.0  24.00  24.0  24.00   \n",
       "2.4 out of 5  331.0    2.0  24.000000   8.485281  18.0  21.00  24.0  27.00   \n",
       "2.5 out of 5  409.0    5.0  26.000000  16.985288  13.0  15.00  18.0  30.00   \n",
       "2.7 out of 5  314.0    5.0  16.800000   4.147288  11.0  15.00  17.0  19.00   \n",
       "2.8 out of 5  255.0    5.0  24.200000   8.288546  13.0  19.00  26.0  29.00   \n",
       "2.9 out of 5  377.0   18.0  22.722222  12.800761   8.0  12.25  19.0  30.75   \n",
       "3 out of 5    343.0   22.0  27.090909  20.358476   1.0  14.25  22.5  38.00   \n",
       "3.1 out of 5  383.0   22.0  28.318182  23.072115   2.0  11.25  26.0  36.50   \n",
       "3.2 out of 5  309.0   13.0  29.538462  20.903012   7.0  12.00  29.0  39.00   \n",
       "3.3 out of 5  368.0   40.0  22.975000  20.142426   2.0  11.00  15.5  26.25   \n",
       "3.4 out of 5  415.0   42.0  25.500000  18.034182   1.0  14.25  22.5  31.50   \n",
       "3.5 out of 5  420.0   61.0  42.819672  32.005993   1.0  15.00  30.0  85.00   \n",
       "3.6 out of 5  404.0   61.0  28.688525  16.861733   1.0  15.00  26.0  37.00   \n",
       "3.7 out of 5  422.0   67.0  31.731343  17.178724   1.0  17.50  34.0  37.00   \n",
       "3.8 out of 5  408.0   74.0  28.486486  18.147224   1.0  14.25  26.5  40.25   \n",
       "3.9 out of 5  423.0  138.0  28.942029  19.985677   1.0  13.00  23.0  46.75   \n",
       "4 out of 5    425.0  126.0  33.769841  24.300177   1.0  14.25  29.5  46.00   \n",
       "4.1 out of 5  421.0  140.0  37.035714  19.957657   4.0  21.00  35.5  47.00   \n",
       "4.2 out of 5  417.0  106.0  27.754717  18.224427   1.0  14.00  27.0  34.75   \n",
       "4.3 out of 5  424.0   87.0  30.804598  20.526126   1.0  13.00  28.0  42.00   \n",
       "4.4 out of 5  385.0   76.0  31.789474  16.492678   4.0  21.00  31.5  40.00   \n",
       "4.5 out of 5  410.0   76.0  30.578947  19.726303   1.0  14.00  24.0  41.50   \n",
       "4.6 out of 5  406.0   24.0  32.125000  22.369063   1.0  13.50  27.5  47.00   \n",
       "4.7 out of 5  210.0    9.0  27.666667  21.805962   1.0  13.00  28.0  34.00   \n",
       "4.8 out of 5  398.0    8.0  31.000000  18.708287   1.0  21.75  28.0  46.50   \n",
       "4.9 out of 5   66.0    1.0  16.000000        NaN  16.0  16.00  16.0  16.00   \n",
       "5 out of 5    399.0   68.0  16.058824  20.008120   1.0   1.00   9.0  19.75   \n",
       "\n",
       "                     \n",
       "                max  \n",
       "Rating               \n",
       "-               1.0  \n",
       "1 out of 5     95.0  \n",
       "1.4 out of 5   14.0  \n",
       "2 out of 5     41.0  \n",
       "2.1 out of 5   24.0  \n",
       "2.4 out of 5   30.0  \n",
       "2.5 out of 5   54.0  \n",
       "2.7 out of 5   22.0  \n",
       "2.8 out of 5   34.0  \n",
       "2.9 out of 5   50.0  \n",
       "3 out of 5     72.0  \n",
       "3.1 out of 5   86.0  \n",
       "3.2 out of 5   71.0  \n",
       "3.3 out of 5   93.0  \n",
       "3.4 out of 5   89.0  \n",
       "3.5 out of 5  100.0  \n",
       "3.6 out of 5   73.0  \n",
       "3.7 out of 5   85.0  \n",
       "3.8 out of 5   76.0  \n",
       "3.9 out of 5   97.0  \n",
       "4 out of 5     88.0  \n",
       "4.1 out of 5   98.0  \n",
       "4.2 out of 5   99.0  \n",
       "4.3 out of 5   88.0  \n",
       "4.4 out of 5  100.0  \n",
       "4.5 out of 5  100.0  \n",
       "4.6 out of 5   91.0  \n",
       "4.7 out of 5   75.0  \n",
       "4.8 out of 5   54.0  \n",
       "4.9 out of 5   16.0  \n",
       "5 out of 5     95.0  "
      ]
     },
     "execution_count": 14,
     "metadata": {},
     "output_type": "execute_result"
    }
   ],
   "source": [
    "#grouping the rating\n",
    "df.groupby('Rating').describe()"
   ]
  },
  {
   "cell_type": "code",
   "execution_count": 15,
   "metadata": {},
   "outputs": [
    {
     "data": {
      "image/png": "[encoded data removed]",
      "text/plain": [
       "<Figure size 432x288 with 1 Axes>"
      ]
     },
     "metadata": {
      "needs_background": "light"
     },
     "output_type": "display_data"
    }
   ],
   "source": [
    "#visual the rating data\n",
    "df['Rating'].value_counts().plot.bar(color = 'magenta')\n",
    "plt.title('Visualizing the ratings dist.')\n",
    "plt.xlabel('Rating')\n",
    "plt.ylabel('count')\n",
    "plt.show()"
   ]
  },
  {
   "cell_type": "code",
   "execution_count": 16,
   "metadata": {},
   "outputs": [
    {
     "data": {
      "text/plain": [
       "-               198\n",
       "4.1 out of 5    140\n",
       "3.9 out of 5    138\n",
       "4 out of 5      126\n",
       "4.2 out of 5    106\n",
       "4.3 out of 5     87\n",
       "4.5 out of 5     76\n",
       "4.4 out of 5     76\n",
       "3.8 out of 5     74\n",
       "5 out of 5       68\n",
       "3.7 out of 5     67\n",
       "3.5 out of 5     61\n",
       "3.6 out of 5     61\n",
       "3.4 out of 5     42\n",
       "3.3 out of 5     40\n",
       "4.6 out of 5     24\n",
       "3.1 out of 5     22\n",
       "3 out of 5       22\n",
       "2.9 out of 5     18\n",
       "1 out of 5       15\n",
       "3.2 out of 5     13\n",
       "4.7 out of 5      9\n",
       "4.8 out of 5      8\n",
       "2 out of 5        5\n",
       "2.7 out of 5      5\n",
       "2.8 out of 5      5\n",
       "2.5 out of 5      5\n",
       "2.4 out of 5      2\n",
       "4.9 out of 5      1\n",
       "2.1 out of 5      1\n",
       "1.4 out of 5      1\n",
       "Name: Rating, dtype: int64"
      ]
     },
     "execution_count": 16,
     "metadata": {},
     "output_type": "execute_result"
    }
   ],
   "source": [
    "#rating counting value\n",
    "df['Rating'].value_counts()"
   ]
  },
  {
   "cell_type": "code",
   "execution_count": 17,
   "metadata": {},
   "outputs": [
    {
     "data": {
      "image/png": "[encoded data removed]",
      "text/plain": [
       "<Figure size 432x288 with 1 Axes>"
      ]
     },
     "metadata": {},
     "output_type": "display_data"
    }
   ],
   "source": [
    "#pie chart of the rating\n",
    "labels = '5', '4', '3', '2', '1'\n",
    "sizes = [2286, 455, 161, 152, 96]\n",
    "colors = ['cyan', 'magenta', 'pink', 'yellow', 'red']\n",
    "explode = [0.001, 0.001, 0.001, 0.001, 0.001]\n",
    "\n",
    "plt.pie(sizes, labels = labels, colors = colors, explode = explode, shadow = True)\n",
    "plt.title(' pie chart representing ratings occuposition')\n",
    "plt.show()"
   ]
  },
  {
   "cell_type": "code",
   "execution_count": 18,
   "metadata": {},
   "outputs": [
    {
     "data": {
      "image/png": "[encoded data removed]",
      "text/plain": [
       "<Figure size 864x360 with 1 Axes>"
      ]
     },
     "metadata": {
      "needs_background": "light"
     },
     "output_type": "display_data"
    }
   ],
   "source": [
    "#lenght of count\n",
    "df['length'].value_counts().plot.hist(color = 'pink', figsize = (12, 5), bins = 50)\n",
    "plt.title('Visualizing the length dist.')\n",
    "plt.xlabel('lengths')\n",
    "plt.ylabel('count')\n",
    "plt.show()"
   ]
  },
  {
   "cell_type": "code",
   "execution_count": 19,
   "metadata": {},
   "outputs": [
    {
     "data": {
      "text/plain": [
       "count    1516.000000\n",
       "mean       26.293536\n",
       "std        21.877734\n",
       "min         1.000000\n",
       "25%        11.000000\n",
       "50%        21.000000\n",
       "75%        38.000000\n",
       "max       100.000000\n",
       "Name: length, dtype: float64"
      ]
     },
     "execution_count": 19,
     "metadata": {},
     "output_type": "execute_result"
    }
   ],
   "source": [
    "df.length.describe()"
   ]
  },
  {
   "cell_type": "code",
   "execution_count": 20,
   "metadata": {},
   "outputs": [
    {
     "data": {
      "text/plain": [
       "'-'"
      ]
     },
     "execution_count": 20,
     "metadata": {},
     "output_type": "execute_result"
    }
   ],
   "source": [
    "df[df['length'] == 1]['review_of_product'].iloc[0]"
   ]
  },
  {
   "cell_type": "code",
   "execution_count": 21,
   "metadata": {},
   "outputs": [
    {
     "data": {
      "text/plain": [
       "'Not a good one to buy'"
      ]
     },
     "execution_count": 21,
     "metadata": {},
     "output_type": "execute_result"
    }
   ],
   "source": [
    "df[df['length'] == 21]['review_of_product'].iloc[0]"
   ]
  },
  {
   "cell_type": "code",
   "execution_count": 22,
   "metadata": {},
   "outputs": [
    {
     "data": {
      "text/plain": [
       "'The computer keeps on freezing when busy using it.'"
      ]
     },
     "execution_count": 22,
     "metadata": {},
     "output_type": "execute_result"
    }
   ],
   "source": [
    "df[df['length'] == 50]['review_of_product'].iloc[0]"
   ]
  },
  {
   "cell_type": "code",
   "execution_count": 23,
   "metadata": {},
   "outputs": [
    {
     "data": {
      "text/plain": [
       "'DETAILED Review after 1 Month of Use + Battery Performance Stats + Comparison with Apple watch 4 !!!'"
      ]
     },
     "execution_count": 23,
     "metadata": {},
     "output_type": "execute_result"
    }
   ],
   "source": [
    "df[df['length'] == 100]['review_of_product'].iloc[0]"
   ]
  },
  {
   "cell_type": "code",
   "execution_count": 24,
   "metadata": {},
   "outputs": [
    {
     "data": {
      "text/plain": [
       "Text(0.5, 1.0, 'Most Frequently Occuring Words - Top 20')"
      ]
     },
     "execution_count": 24,
     "metadata": {},
     "output_type": "execute_result"
    },
    {
     "data": {
      "image/png": "[encoded data removed]",
      "text/plain": [
       "<Figure size 1080x504 with 1 Axes>"
      ]
     },
     "metadata": {
      "needs_background": "light"
     },
     "output_type": "display_data"
    }
   ],
   "source": [
    "#each word that occurs in the entire text \n",
    "from sklearn.feature_extraction.text import CountVectorizer\n",
    "\n",
    "\n",
    "cv = CountVectorizer(stop_words = 'english')\n",
    "words = cv.fit_transform(df.review_of_product)\n",
    "sum_words = words.sum(axis=0)\n",
    "\n",
    "\n",
    "words_freq = [(word, sum_words[0, idx]) for word, idx in cv.vocabulary_.items()]\n",
    "words_freq = sorted(words_freq, key = lambda x: x[1], reverse = True)\n",
    "frequency = pd.DataFrame(words_freq, columns=['word', 'freq'])\n",
    "\n",
    "\n",
    "frequency.head(20).plot(x='word', y='freq', kind='bar', figsize=(15, 7), color = 'lightgreen')\n",
    "plt.title(\"Most Frequently Occuring Words - Top 20\")\n"
   ]
  },
  {
   "cell_type": "code",
   "execution_count": 25,
   "metadata": {},
   "outputs": [],
   "source": [
    "#pip install wordcloud"
   ]
  },
  {
   "cell_type": "code",
   "execution_count": 26,
   "metadata": {},
   "outputs": [
    {
     "data": {
      "text/plain": [
       "Text(0.5, 1.0, 'WordCloud - Vocabulary from Reviews')"
      ]
     },
     "execution_count": 26,
     "metadata": {},
     "output_type": "execute_result"
    },
    {
     "data": {
      "image/png": "[encoded data removed]",
      "text/plain": [
       "<Figure size 720x576 with 1 Axes>"
      ]
     },
     "metadata": {
      "needs_background": "light"
     },
     "output_type": "display_data"
    }
   ],
   "source": [
    "#words that appear more frequently in a source text\n",
    "from wordcloud import WordCloud\n",
    "\n",
    "wordcloud = WordCloud(background_color = 'lightcyan', width = 1200, height = 700).generate_from_frequencies(dict(words_freq))\n",
    "\n",
    "plt.figure(figsize=(10,8))\n",
    "plt.imshow(wordcloud)\n",
    "plt.title(\"WordCloud - Vocabulary from Reviews\", fontsize = 22)"
   ]
  },
  {
   "cell_type": "code",
   "execution_count": 27,
   "metadata": {},
   "outputs": [
    {
     "name": "stderr",
     "output_type": "stream",
     "text": [
      "[nltk_data] Downloading package stopwords to\n",
      "[nltk_data]     C:\\Users\\jesus\\AppData\\Roaming\\nltk_data...\n",
      "[nltk_data]   Package stopwords is already up-to-date!\n"
     ]
    }
   ],
   "source": [
    "# cleaning the texts\n",
    "# importing the libraries for Natural Language Processing\n",
    "\n",
    "import re\n",
    "import nltk\n",
    "nltk.download('stopwords')\n",
    "from nltk.corpus import stopwords\n",
    "from nltk.stem.porter import PorterStemmer"
   ]
  },
  {
   "cell_type": "code",
   "execution_count": null,
   "metadata": {},
   "outputs": [],
   "source": []
  },
  {
   "cell_type": "code",
   "execution_count": null,
   "metadata": {},
   "outputs": [],
   "source": []
  },
  {
   "cell_type": "code",
   "execution_count": null,
   "metadata": {},
   "outputs": [],
   "source": []
  },
  {
   "cell_type": "code",
   "execution_count": null,
   "metadata": {},
   "outputs": [],
   "source": []
  },
  {
   "cell_type": "code",
   "execution_count": 28,
   "metadata": {},
   "outputs": [],
   "source": [
    "\n",
    "corpus = []\n",
    "\n",
    "for i in range(0, 1516):\n",
    "  review = re.sub('[^a-zA-Z]', ' ', df['review_of_product'][i])\n",
    "  review = review.lower()\n",
    "  review = review.split()\n",
    "  ps = PorterStemmer()\n",
    "  review = [ps.stem(word) for word in review if not word in set(stopwords.words('english'))]\n",
    "  review = ' '.join(review)\n",
    "  corpus.append(review)"
   ]
  },
  {
   "cell_type": "code",
   "execution_count": 29,
   "metadata": {},
   "outputs": [
    {
     "name": "stdout",
     "output_type": "stream",
     "text": [
      "(1516, 889)\n",
      "(1516,)\n"
     ]
    }
   ],
   "source": [
    "# creating bag of words\n",
    "\n",
    "from sklearn.feature_extraction.text import CountVectorizer\n",
    "\n",
    "cv = CountVectorizer(max_features = 2500)\n",
    "\n",
    "x = cv.fit_transform(corpus).toarray()\n",
    "\n",
    "y = df.iloc[:, 3].values\n",
    "\n",
    "print(x.shape)\n",
    "print(y.shape)"
   ]
  },
  {
   "cell_type": "code",
   "execution_count": 30,
   "metadata": {},
   "outputs": [
    {
     "name": "stdout",
     "output_type": "stream",
     "text": [
      "(1061, 889)\n",
      "(1061,)\n",
      "(455, 889)\n",
      "(455,)\n"
     ]
    }
   ],
   "source": [
    "from sklearn.model_selection import train_test_split\n",
    "\n",
    "x_train, x_test, y_train, y_test = train_test_split(x, y, test_size = 0.3, random_state = 15)\n",
    "\n",
    "print(x_train.shape)\n",
    "print(y_train.shape)\n",
    "print(x_test.shape)\n",
    "print(y_test.shape)"
   ]
  },
  {
   "cell_type": "code",
   "execution_count": 31,
   "metadata": {},
   "outputs": [],
   "source": [
    "from sklearn.preprocessing import MinMaxScaler\n",
    "\n",
    "mm = MinMaxScaler()\n",
    "\n",
    "x_train = mm.fit_transform(x_train)\n",
    "x_test = mm.transform(x_test)"
   ]
  },
  {
   "cell_type": "code",
   "execution_count": 32,
   "metadata": {},
   "outputs": [
    {
     "name": "stdout",
     "output_type": "stream",
     "text": [
      "Training Accuracy : 0.942507068803016\n",
      "Testing Accuracy : 0.4835164835164835\n",
      "[[76  0  0 ...  0  0  0]\n",
      " [ 1  0  0 ...  0  0  0]\n",
      " [ 5  0  2 ...  0  0  0]\n",
      " ...\n",
      " [ 0  0  0 ...  0  0  0]\n",
      " [ 0  0  0 ...  0  0  0]\n",
      " [ 0  0  0 ...  0  0  0]]\n"
     ]
    }
   ],
   "source": [
    "#using the random forest\n",
    "from sklearn.ensemble import RandomForestClassifier\n",
    "from sklearn.metrics import confusion_matrix\n",
    "\n",
    "model = RandomForestClassifier()\n",
    "model.fit(x_train, y_train)\n",
    "\n",
    "y_pred = model.predict(x_test)\n",
    "\n",
    "print(\"Training Accuracy :\", model.score(x_train, y_train))\n",
    "print(\"Testing Accuracy :\", model.score(x_test, y_test))\n",
    "\n",
    "cm = confusion_matrix(y_test, y_pred)\n",
    "print(cm)"
   ]
  },
  {
   "cell_type": "code",
   "execution_count": 33,
   "metadata": {},
   "outputs": [
    {
     "name": "stderr",
     "output_type": "stream",
     "text": [
      "C:\\Users\\jesus\\anaconda3\\lib\\site-packages\\sklearn\\model_selection\\_split.py:666: UserWarning: The least populated class in y has only 1 members, which is less than n_splits=10.\n",
      "  warnings.warn((\"The least populated class in y has only %d\"\n"
     ]
    },
    {
     "name": "stdout",
     "output_type": "stream",
     "text": [
      "Accuracy : 0.48636924704637624\n",
      "Standard Variance : 0.031545429501507696\n"
     ]
    }
   ],
   "source": [
    "# applying k fold cross validation\n",
    "\n",
    "from sklearn.model_selection import cross_val_score\n",
    "accuracies = cross_val_score(estimator = model, X = x_train, y = y_train, cv = 10)\n",
    "\n",
    "print(\"Accuracy :\", accuracies.mean())\n",
    "print(\"Standard Variance :\", accuracies.std())"
   ]
  },
  {
   "cell_type": "code",
   "execution_count": 34,
   "metadata": {},
   "outputs": [],
   "source": [
    "\n",
    "params = {\n",
    "    'bootstrap': [True],\n",
    "    'max_depth': [80, 100],\n",
    "    'min_samples_split': [8, 12],\n",
    "    'n_estimators': [100, 300]\n",
    "}\n"
   ]
  },
  {
   "cell_type": "code",
   "execution_count": 35,
   "metadata": {},
   "outputs": [
    {
     "name": "stderr",
     "output_type": "stream",
     "text": [
      "C:\\Users\\jesus\\anaconda3\\lib\\site-packages\\sklearn\\model_selection\\_split.py:666: UserWarning: The least populated class in y has only 1 members, which is less than n_splits=2.\n",
      "  warnings.warn((\"The least populated class in y has only %d\"\n"
     ]
    },
    {
     "data": {
      "text/plain": [
       "GridSearchCV(cv=StratifiedKFold(n_splits=2, random_state=None, shuffle=False),\n",
       "             estimator=RandomForestClassifier(),\n",
       "             param_grid={'bootstrap': [True], 'max_depth': [80, 100],\n",
       "                         'min_samples_split': [8, 12],\n",
       "                         'n_estimators': [100, 300]},\n",
       "             return_train_score=True)"
      ]
     },
     "execution_count": 35,
     "metadata": {},
     "output_type": "execute_result"
    }
   ],
   "source": [
    "# applying grid search with stratified folds\n",
    "\n",
    "from sklearn.model_selection import GridSearchCV\n",
    "from sklearn.model_selection import StratifiedKFold\n",
    "\n",
    "cv_object = StratifiedKFold(n_splits = 2)\n",
    "\n",
    "grid = GridSearchCV(estimator = model, param_grid = params, cv = cv_object, verbose = 0, return_train_score = True)\n",
    "grid.fit(x_train, y_train.ravel())"
   ]
  },
  {
   "cell_type": "code",
   "execution_count": 36,
   "metadata": {},
   "outputs": [
    {
     "name": "stdout",
     "output_type": "stream",
     "text": [
      "Best Parameter Combination : {'bootstrap': True, 'max_depth': 100, 'min_samples_split': 8, 'n_estimators': 300}\n"
     ]
    }
   ],
   "source": [
    "print(\"Best Parameter Combination : {}\".format(grid.best_params_))"
   ]
  },
  {
   "cell_type": "code",
   "execution_count": 37,
   "metadata": {},
   "outputs": [
    {
     "name": "stdout",
     "output_type": "stream",
     "text": [
      "Mean Cross Validation Accuracy - Train Set : 87.85437320115126\n",
      "Mean Cross Validation Accuracy - Validation Set : 40.599438581530045\n",
      "Accuracy Score for Test Set : 0.4835164835164835\n"
     ]
    }
   ],
   "source": [
    "\n",
    "print(\"Mean Cross Validation Accuracy - Train Set : {}\".format(grid.cv_results_['mean_train_score'].mean()*100))\n",
    "print(\"Mean Cross Validation Accuracy - Validation Set : {}\".format(grid.cv_results_['mean_test_score'].mean()*100))\n",
    "\n",
    "from sklearn.metrics import accuracy_score\n",
    "print(\"Accuracy Score for Test Set :\", accuracy_score(y_test, y_pred))\n"
   ]
  },
  {
   "cell_type": "code",
   "execution_count": null,
   "metadata": {},
   "outputs": [],
   "source": []
  },
  {
   "cell_type": "code",
   "execution_count": 38,
   "metadata": {},
   "outputs": [
    {
     "name": "stdout",
     "output_type": "stream",
     "text": [
      "Training Accuracy : 0.943449575871819\n",
      "Testing Accuracy : 0.4945054945054945\n",
      "[[76  0  0 ...  0  0  0]\n",
      " [ 1  0  0 ...  0  0  0]\n",
      " [ 5  0  2 ...  0  0  0]\n",
      " ...\n",
      " [ 0  0  0 ...  0  0  0]\n",
      " [ 0  0  0 ...  0  0  0]\n",
      " [ 0  0  0 ...  0  0  0]]\n"
     ]
    }
   ],
   "source": [
    "#Decision Tree classifier\n",
    "from sklearn.tree import DecisionTreeClassifier\n",
    "from sklearn.metrics import confusion_matrix\n",
    "\n",
    "model = DecisionTreeClassifier()\n",
    "model.fit(x_train, y_train)\n",
    "\n",
    "y_pred = model.predict(x_test)\n",
    "\n",
    "print(\"Training Accuracy :\", model.score(x_train, y_train))\n",
    "print(\"Testing Accuracy :\", model.score(x_test, y_test))\n",
    "\n",
    "cm = confusion_matrix(y_test, y_pred)\n",
    "print(cm)"
   ]
  },
  {
   "cell_type": "code",
   "execution_count": 42,
   "metadata": {},
   "outputs": [],
   "source": [
    "parameters ={'max_depth':np.arange(2,15),\n",
    "           'criterion':['gini','entropy']}\n",
    "\n",
    "GCV=GridSearchCV(RandomForestClassifier(),parameters,cv=5)"
   ]
  },
  {
   "cell_type": "code",
   "execution_count": 43,
   "metadata": {},
   "outputs": [
    {
     "name": "stderr",
     "output_type": "stream",
     "text": [
      "C:\\Users\\jesus\\anaconda3\\lib\\site-packages\\sklearn\\model_selection\\_split.py:666: UserWarning: The least populated class in y has only 1 members, which is less than n_splits=5.\n",
      "  warnings.warn((\"The least populated class in y has only %d\"\n"
     ]
    },
    {
     "data": {
      "text/plain": [
       "GridSearchCV(cv=5, estimator=RandomForestClassifier(),\n",
       "             param_grid={'criterion': ['gini', 'entropy'],\n",
       "                         'max_depth': array([ 2,  3,  4,  5,  6,  7,  8,  9, 10, 11, 12, 13, 14])})"
      ]
     },
     "execution_count": 43,
     "metadata": {},
     "output_type": "execute_result"
    }
   ],
   "source": [
    "GCV.fit(x_train,y_train)"
   ]
  },
  {
   "cell_type": "code",
   "execution_count": 44,
   "metadata": {},
   "outputs": [
    {
     "data": {
      "text/plain": [
       "['ratingpredictfinalDTC.pkl']"
      ]
     },
     "execution_count": 44,
     "metadata": {},
     "output_type": "execute_result"
    }
   ],
   "source": [
    "import joblib\n",
    "joblib.dump(GCV.best_estimator_,\"ratingpredictfinalDTC.pkl\")"
   ]
  },
  {
   "cell_type": "code",
   "execution_count": null,
   "metadata": {},
   "outputs": [],
   "source": []
  }
 ],
 "metadata": {
  "kernelspec": {
   "display_name": "Python 3",
   "language": "python",
   "name": "python3"
  },
  "language_info": {
   "codemirror_mode": {
    "name": "ipython",
    "version": 3
   },
   "file_extension": ".py",
   "mimetype": "text/x-python",
   "name": "python",
   "nbconvert_exporter": "python",
   "pygments_lexer": "ipython3",
   "version": "3.8.5"
  }
 },
 "nbformat": 4,
 "nbformat_minor": 4
}
