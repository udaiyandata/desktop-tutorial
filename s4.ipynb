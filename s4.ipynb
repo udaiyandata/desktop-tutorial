{
 "cells": [
  {
   "cell_type": "code",
   "execution_count": 1,
   "metadata": {},
   "outputs": [],
   "source": [
    "import pandas as pd\n",
    "import selenium\n",
    "from selenium import webdriver\n",
    "import time\n",
    "from selenium.common.exceptions import NoSuchElementException\n",
    "\n",
    "driver = webdriver.Chrome(\"Chromedriver.exe\")\n",
    "\n",
    "driver.get('https://www.flipkart.com/')\n",
    "\n",
    "search_btn = driver.find_element_by_xpath(\"//button[@class='_2KpZ6l _2doB4z']\")\n",
    "search_btn.click()\n",
    "\n",
    "search_btn = driver.find_element_by_xpath(\"//div[@class='_3OO5Xc']/input\")\n",
    "search_btn.send_keys(\" Oneplus Nord, pixel 4A\")\n",
    "\n",
    "search_btn = driver.find_element_by_xpath(\"//button[@class='L0Z3Pu']\")\n",
    "search_btn.click()\n",
    "#selenium is used for extract data from website\n",
    "#using google chrome\n",
    "#flipkart website is used and the search button is used search  for user words\n",
    "\n"
   ]
  },
  {
   "cell_type": "code",
   "execution_count": 2,
   "metadata": {},
   "outputs": [],
   "source": [
    "#here we use url to get the data\n",
    "urls=[]\n",
    "for i in driver.find_elements_by_xpath(\"//a[@class='_1fQZEK']\"):\n",
    "    urls.append(i.get_attribute(\"href\"))\n",
    "    "
   ]
  },
  {
   "cell_type": "code",
   "execution_count": 3,
   "metadata": {},
   "outputs": [
    {
     "data": {
      "text/plain": [
       "['https://www.flipkart.com/redmi-9-power-mighty-black-64-gb/p/itm481ab234a6553?pid=MOBFYZ94UWPWQRNF&lid=LSTMOBFYZ94UWPWQRNFD8SF5T&marketplace=FLIPKART&q=+Oneplus+Nord%2C+pixel+4A&store=tyy%2F4io&srno=s_1_1&otracker=search&otracker1=search&fm=SEARCH&iid=902864fc-1490-492e-bc25-8e5074b1f42d.MOBFYZ94UWPWQRNF.SEARCH&ppt=hp&ppn=homepage&ssid=heokwsnk740000001622733666282&qH=c5f5a9dff6a0efa5',\n",
       " 'https://www.flipkart.com/redmi-9-prime-matte-black-64-gb/p/itmeeb1764ec0fcf?pid=MOBFUSCC57HCZGKG&lid=LSTMOBFUSCC57HCZGKGQ6TSNL&marketplace=FLIPKART&q=+Oneplus+Nord%2C+pixel+4A&store=tyy%2F4io&srno=s_1_2&otracker=search&otracker1=search&fm=SEARCH&iid=902864fc-1490-492e-bc25-8e5074b1f42d.MOBFUSCC57HCZGKG.SEARCH&ppt=hp&ppn=homepage&ssid=heokwsnk740000001622733666282&qH=c5f5a9dff6a0efa5',\n",
       " 'https://www.flipkart.com/mi-10i-atlantic-blue-128-gb/p/itmbccde1394b3d4?pid=MOBFZ4RZJMFPQDXH&lid=LSTMOBFZ4RZJMFPQDXHTA1FXK&marketplace=FLIPKART&q=+Oneplus+Nord%2C+pixel+4A&store=tyy%2F4io&srno=s_1_3&otracker=search&otracker1=search&fm=SEARCH&iid=902864fc-1490-492e-bc25-8e5074b1f42d.MOBFZ4RZJMFPQDXH.SEARCH&ppt=hp&ppn=homepage&ssid=heokwsnk740000001622733666282&qH=c5f5a9dff6a0efa5',\n",
       " 'https://www.flipkart.com/panasonic-eluga-i8-charcoal-black-32-gb/p/itm83187d4b25e5f?pid=MOBFS3KXGFGYUZPE&lid=LSTMOBFS3KXGFGYUZPEAILZOH&marketplace=FLIPKART&q=+Oneplus+Nord%2C+pixel+4A&store=tyy%2F4io&srno=s_1_4&otracker=search&otracker1=search&fm=SEARCH&iid=902864fc-1490-492e-bc25-8e5074b1f42d.MOBFS3KXGFGYUZPE.SEARCH&ppt=hp&ppn=homepage&ssid=heokwsnk740000001622733666282&qH=c5f5a9dff6a0efa5',\n",
       " 'https://www.flipkart.com/redmi-note-9-pro-glacier-white-128-gb/p/itma84d60532d415?pid=MOBFUSGFZDDJHWMG&lid=LSTMOBFUSGFZDDJHWMGB7M5OI&marketplace=FLIPKART&q=+Oneplus+Nord%2C+pixel+4A&store=tyy%2F4io&srno=s_1_5&otracker=search&otracker1=search&fm=SEARCH&iid=902864fc-1490-492e-bc25-8e5074b1f42d.MOBFUSGFZDDJHWMG.SEARCH&ppt=hp&ppn=homepage&ssid=heokwsnk740000001622733666282&qH=c5f5a9dff6a0efa5',\n",
       " 'https://www.flipkart.com/redmi-note-9-pro-interstellar-black-64-gb/p/itma84d60532d415?pid=MOBFPZXUJHMYCBFK&lid=LSTMOBFPZXUJHMYCBFKGQC0YQ&marketplace=FLIPKART&q=+Oneplus+Nord%2C+pixel+4A&store=tyy%2F4io&srno=s_1_6&otracker=search&otracker1=search&fm=SEARCH&iid=902864fc-1490-492e-bc25-8e5074b1f42d.MOBFPZXUJHMYCBFK.SEARCH&ppt=hp&ppn=homepage&ssid=heokwsnk740000001622733666282&qH=c5f5a9dff6a0efa5',\n",
       " 'https://www.flipkart.com/panasonic-eluga-i6-black-16-gb/p/itm876e1eeb85ac1?pid=MOBFS3GJ5CR7PVEW&lid=LSTMOBFS3GJ5CR7PVEWNORSVR&marketplace=FLIPKART&q=+Oneplus+Nord%2C+pixel+4A&store=tyy%2F4io&srno=s_1_7&otracker=search&otracker1=search&fm=SEARCH&iid=902864fc-1490-492e-bc25-8e5074b1f42d.MOBFS3GJ5CR7PVEW.SEARCH&ppt=hp&ppn=homepage&ssid=heokwsnk740000001622733666282&qH=c5f5a9dff6a0efa5',\n",
       " 'https://www.flipkart.com/nokia-125-ds/p/itm3f371a7c93488?pid=MOBFVVAEA5ZWATDS&lid=LSTMOBFVVAEA5ZWATDSDC0URG&marketplace=FLIPKART&q=+Oneplus+Nord%2C+pixel+4A&store=tyy%2F4io&srno=s_1_8&otracker=search&otracker1=search&fm=SEARCH&iid=902864fc-1490-492e-bc25-8e5074b1f42d.MOBFVVAEA5ZWATDS.SEARCH&ppt=hp&ppn=homepage&ssid=heokwsnk740000001622733666282&qH=c5f5a9dff6a0efa5',\n",
       " 'https://www.flipkart.com/redmi-note-9-pro-max-glacier-white-64-gb/p/itm03a17f5184345?pid=MOBFTYA2MMQBZKPN&lid=LSTMOBFTYA2MMQBZKPN4HXSAM&marketplace=FLIPKART&q=+Oneplus+Nord%2C+pixel+4A&store=tyy%2F4io&srno=s_1_9&otracker=search&otracker1=search&fm=SEARCH&iid=902864fc-1490-492e-bc25-8e5074b1f42d.MOBFTYA2MMQBZKPN.SEARCH&ppt=hp&ppn=homepage&ssid=heokwsnk740000001622733666282&qH=c5f5a9dff6a0efa5',\n",
       " 'https://www.flipkart.com/redmi-note-9-pro-glacier-white-64-gb/p/itma84d60532d415?pid=MOBFPZXU9QDDSKNU&lid=LSTMOBFPZXU9QDDSKNUZWULL1&marketplace=FLIPKART&q=+Oneplus+Nord%2C+pixel+4A&store=tyy%2F4io&srno=s_1_10&otracker=search&otracker1=search&fm=SEARCH&iid=902864fc-1490-492e-bc25-8e5074b1f42d.MOBFPZXU9QDDSKNU.SEARCH&ppt=hp&ppn=homepage&ssid=heokwsnk740000001622733666282&qH=c5f5a9dff6a0efa5',\n",
       " 'https://www.flipkart.com/redmi-note-9-pro-champagne-gold-64-gb/p/itma84d60532d415?pid=MOBFVSQPKVB8QQJ6&lid=LSTMOBFVSQPKVB8QQJ6T9DHCR&marketplace=FLIPKART&q=+Oneplus+Nord%2C+pixel+4A&store=tyy%2F4io&srno=s_1_11&otracker=search&otracker1=search&fm=SEARCH&iid=902864fc-1490-492e-bc25-8e5074b1f42d.MOBFVSQPKVB8QQJ6.SEARCH&ppt=hp&ppn=homepage&ssid=heokwsnk740000001622733666282&qH=c5f5a9dff6a0efa5',\n",
       " 'https://www.flipkart.com/redmi-note-9-pro-interstellar-black-128-gb/p/itm0418537d115ba?pid=MOBFUZYNSYP64TQK&lid=LSTMOBFUZYNSYP64TQKHKVUHA&marketplace=FLIPKART&q=+Oneplus+Nord%2C+pixel+4A&store=tyy%2F4io&srno=s_1_12&otracker=search&otracker1=search&fm=SEARCH&iid=902864fc-1490-492e-bc25-8e5074b1f42d.MOBFUZYNSYP64TQK.SEARCH&ppt=hp&ppn=homepage&ssid=heokwsnk740000001622733666282&qH=c5f5a9dff6a0efa5',\n",
       " 'https://www.flipkart.com/itel-it5071/p/itmeb879b0458888?pid=MOBFWVS4DE6NGMHE&lid=LSTMOBFWVS4DE6NGMHEKMUSYX&marketplace=FLIPKART&q=+Oneplus+Nord%2C+pixel+4A&store=tyy%2F4io&srno=s_1_13&otracker=search&otracker1=search&fm=SEARCH&iid=902864fc-1490-492e-bc25-8e5074b1f42d.MOBFWVS4DE6NGMHE.SEARCH&ppt=hp&ppn=homepage&ssid=heokwsnk740000001622733666282&qH=c5f5a9dff6a0efa5',\n",
       " 'https://www.flipkart.com/samsung-m01-core-black-32-gb/p/itm608a437cc6d05?pid=MOBFUAEBGXVGX5US&lid=LSTMOBFUAEBGXVGX5USSJAVCF&marketplace=FLIPKART&q=+Oneplus+Nord%2C+pixel+4A&store=tyy%2F4io&srno=s_1_14&otracker=search&otracker1=search&fm=SEARCH&iid=902864fc-1490-492e-bc25-8e5074b1f42d.MOBFUAEBGXVGX5US.SEARCH&ppt=hp&ppn=homepage&ssid=heokwsnk740000001622733666282&qH=c5f5a9dff6a0efa5',\n",
       " 'https://www.flipkart.com/itel-muzik110/p/itmb160b69de42aa?pid=MOBFWYR5MZFTHKXQ&lid=LSTMOBFWYR5MZFTHKXQAP8MRV&marketplace=FLIPKART&q=+Oneplus+Nord%2C+pixel+4A&store=tyy%2F4io&srno=s_1_15&otracker=search&otracker1=search&fm=SEARCH&iid=902864fc-1490-492e-bc25-8e5074b1f42d.MOBFWYR5MZFTHKXQ.SEARCH&ppt=hp&ppn=homepage&ssid=heokwsnk740000001622733666282&qH=c5f5a9dff6a0efa5',\n",
       " 'https://www.flipkart.com/samsung-m31-prime-space-black-128-gb/p/itmc2aa95e9e8b89?pid=MOBFX77NDJXMDZZY&lid=LSTMOBFX77NDJXMDZZYKLQJ4N&marketplace=FLIPKART&q=+Oneplus+Nord%2C+pixel+4A&store=tyy%2F4io&srno=s_1_16&otracker=search&otracker1=search&fm=SEARCH&iid=902864fc-1490-492e-bc25-8e5074b1f42d.MOBFX77NDJXMDZZY.SEARCH&ppt=hp&ppn=homepage&ssid=heokwsnk740000001622733666282&qH=c5f5a9dff6a0efa5',\n",
       " 'https://www.flipkart.com/ismart-i1-supreme-black-32-gb/p/itm1c61a88e2f3b0?pid=MOBFUKH62YH68GUN&lid=LSTMOBFUKH62YH68GUNCAPJAJ&marketplace=FLIPKART&q=+Oneplus+Nord%2C+pixel+4A&store=tyy%2F4io&srno=s_1_17&otracker=search&otracker1=search&fm=SEARCH&iid=902864fc-1490-492e-bc25-8e5074b1f42d.MOBFUKH62YH68GUN.SEARCH&ppt=hp&ppn=homepage&ssid=heokwsnk740000001622733666282&qH=c5f5a9dff6a0efa5',\n",
       " 'https://www.flipkart.com/telefono-s1-interstellar-black-32-gb/p/itm1ebdc760c2883?pid=MOBGYZ8ZYCKJFEWV&lid=LSTMOBGYZ8ZYCKJFEWVPZRLBL&marketplace=FLIPKART&q=+Oneplus+Nord%2C+pixel+4A&store=tyy%2F4io&srno=s_1_18&otracker=search&otracker1=search&fm=SEARCH&iid=902864fc-1490-492e-bc25-8e5074b1f42d.MOBGYZ8ZYCKJFEWV.SEARCH&ppt=hp&ppn=homepage&ssid=heokwsnk740000001622733666282&qH=c5f5a9dff6a0efa5',\n",
       " 'https://www.flipkart.com/kawl-star/p/itm9ff7be6ad8fb1?pid=MOBFZ2M3HESFY3XS&lid=LSTMOBFZ2M3HESFY3XSAJDQK4&marketplace=FLIPKART&q=+Oneplus+Nord%2C+pixel+4A&store=tyy%2F4io&srno=s_1_19&otracker=search&otracker1=search&fm=SEARCH&iid=902864fc-1490-492e-bc25-8e5074b1f42d.MOBFZ2M3HESFY3XS.SEARCH&ppt=hp&ppn=homepage&ssid=heokwsnk740000001622733666282&qH=c5f5a9dff6a0efa5',\n",
       " 'https://www.flipkart.com/redmi-note-9-pro-champagne-gold-128-gb/p/itm812ce2c5ee97d?pid=MOBFVN5JQRXMWYSZ&lid=LSTMOBFVN5JQRXMWYSZZU0GBL&marketplace=FLIPKART&q=+Oneplus+Nord%2C+pixel+4A&store=tyy%2F4io&srno=s_1_20&otracker=search&otracker1=search&fm=SEARCH&iid=902864fc-1490-492e-bc25-8e5074b1f42d.MOBFVN5JQRXMWYSZ.SEARCH&ppt=hp&ppn=homepage&ssid=heokwsnk740000001622733666282&qH=c5f5a9dff6a0efa5',\n",
       " 'https://www.flipkart.com/itel-vision1-gradation-purple-32-gb/p/itmac82252f2c0a9?pid=MOBFP6Z3CJU7YZKC&lid=LSTMOBFP6Z3CJU7YZKCFKSK1Y&marketplace=FLIPKART&q=+Oneplus+Nord%2C+pixel+4A&store=tyy%2F4io&srno=s_1_21&otracker=search&otracker1=search&fm=SEARCH&iid=902864fc-1490-492e-bc25-8e5074b1f42d.MOBFP6Z3CJU7YZKC.SEARCH&ppt=hp&ppn=homepage&ssid=heokwsnk740000001622733666282&qH=c5f5a9dff6a0efa5',\n",
       " 'https://www.flipkart.com/blackzone-m15/p/itm308d9655f27a6?pid=MOBFVNGHKXXHGGCJ&lid=LSTMOBFVNGHKXXHGGCJJHGDCD&marketplace=FLIPKART&q=+Oneplus+Nord%2C+pixel+4A&store=tyy%2F4io&srno=s_1_22&otracker=search&otracker1=search&fm=SEARCH&iid=902864fc-1490-492e-bc25-8e5074b1f42d.MOBFVNGHKXXHGGCJ.SEARCH&ppt=hp&ppn=homepage&ssid=heokwsnk740000001622733666282&qH=c5f5a9dff6a0efa5',\n",
       " 'https://www.flipkart.com/itel-it-5092/p/itm2ab859e3a3213?pid=MOBFSCG2GVHDDPPY&lid=LSTMOBFSCG2GVHDDPPYMDABYP&marketplace=FLIPKART&q=+Oneplus+Nord%2C+pixel+4A&store=tyy%2F4io&srno=s_1_23&otracker=search&otracker1=search&fm=SEARCH&iid=902864fc-1490-492e-bc25-8e5074b1f42d.MOBFSCG2GVHDDPPY.SEARCH&ppt=hp&ppn=homepage&ssid=heokwsnk740000001622733666282&qH=c5f5a9dff6a0efa5',\n",
       " 'https://www.flipkart.com/kall-k450-gold-16-gb/p/itm692761a33a7de?pid=MOBGF8JVHSETAAWH&lid=LSTMOBGF8JVHSETAAWHUBAJ1Y&marketplace=FLIPKART&q=+Oneplus+Nord%2C+pixel+4A&store=tyy%2F4io&srno=s_1_24&otracker=search&otracker1=search&fm=SEARCH&iid=902864fc-1490-492e-bc25-8e5074b1f42d.MOBGF8JVHSETAAWH.SEARCH&ppt=hp&ppn=homepage&ssid=heokwsnk740000001622733666282&qH=c5f5a9dff6a0efa5']"
      ]
     },
     "execution_count": 3,
     "metadata": {},
     "output_type": "execute_result"
    }
   ],
   "source": [
    "urls"
   ]
  },
  {
   "cell_type": "code",
   "execution_count": null,
   "metadata": {},
   "outputs": [],
   "source": []
  },
  {
   "cell_type": "code",
   "execution_count": 4,
   "metadata": {},
   "outputs": [],
   "source": [
    "mobile_title=[]\n",
    "mobile_price=[]\n",
    "mobile_storage1=[]\n",
    "mobile_color=[]\n",
    "mobile_ram1=[]\n",
    "mobile_ram2=[]\n",
    "primary_camera=[]\n",
    "mobile_pc=[]\n",
    "mobile_sc=[]\n",
    "display_size=[]\n",
    "resolution=[]"
   ]
  },
  {
   "cell_type": "code",
   "execution_count": 5,
   "metadata": {},
   "outputs": [],
   "source": [
    "\n",
    "\n",
    "#getting all the value\n",
    "for i in urls[:10]:\n",
    "    driver.get(i)\n",
    "    time.sleep(3)\n",
    "    \n",
    "   \n",
    "    \n",
    "    try:\n",
    "       \n",
    "        jobs=driver.find_element_by_xpath(\"//h1[@class='yhB1nd']\")\n",
    "        mobile_title.append(jobs.text)\n",
    "        \n",
    "    except NoSuchElementException:\n",
    "        mobile_title.append(\"-\")\n",
    "        \n",
    "    try:\n",
    "       \n",
    "        jobs_des=driver.find_element_by_xpath(\"//div[@class='_30jeq3 _16Jk6d']\")\n",
    "        mobile_price.append(jobs_des.text)\n",
    "    except NoSuchElementException:\n",
    "        mobile_price.append(\"-\")\n",
    "        \n",
    "    try:\n",
    "       \n",
    "        jobs=driver.find_element_by_xpath('//*[@id=\"container\"]/div/div[3]/div[1]/div[2]/div[9]/div[4]/div/div[2]/div[1]/div[4]/table/tbody/tr[1]/td[2]/ul/li')\n",
    "        mobile_storage1.append(jobs.text)\n",
    "        \n",
    "    except NoSuchElementException:\n",
    "        mobile_storage1.append(\"-\")\n",
    "        \n",
    "   \n",
    "    try:\n",
    "       \n",
    "        jobs=driver.find_element_by_xpath('//*[@id=\"swatch-1-color\"]/a/div')\n",
    "        mobile_color.append(jobs.text)\n",
    "    except NoSuchElementException:\n",
    "        mobile_color.append(\"-\")\n",
    "    \n",
    "    try:\n",
    "        \n",
    "        jobs=driver.find_element_by_xpath('//*[@id=\"swatch-0-ram\"]/a')\n",
    "        mobile_ram1.append(jobs.text)\n",
    "    except NoSuchElementException:\n",
    "        mobile_ram1.append(\"-\")\n",
    "      \n",
    "    try:\n",
    "       \n",
    "        jobs=driver.find_element_by_xpath(' //*[@id=\"container\"]/div/div[3]/div[1]/div[2]/div[9]/div[4]/div/div[2]/div[1]/div[2]/table/tbody/tr[1]/td[2]/ul/li')\n",
    "        display_size.append(jobs.text)\n",
    "    except NoSuchElementException:\n",
    "        display_size.append(\"-\")\n",
    "        \n",
    "    try:\n",
    "        button_click = driver.find_element_by_xpath('//button[@class=\"_2KpZ6l _1FH0tX\"]').click()\n",
    "        jobs=driver.find_element_by_xpath(' //*[@id=\"container\"]/div/div[3]/div[1]/div[2]/div[9]/div[4]/div/div[2]/div[1]/div[2]/table/tbody/tr[2]/td[2]/ul/li')\n",
    "        resolution.append(jobs.text)\n",
    "    except NoSuchElementException:\n",
    "        resolution.append(\"-\")\n",
    "        \n",
    "         \n",
    "    \n",
    "    \n",
    "    \n",
    "    \n",
    "   \n",
    "        "
   ]
  },
  {
   "cell_type": "code",
   "execution_count": null,
   "metadata": {},
   "outputs": [],
   "source": [
    "\n"
   ]
  },
  {
   "cell_type": "code",
   "execution_count": 6,
   "metadata": {},
   "outputs": [
    {
     "data": {
      "text/plain": [
       "['REDMI 9 Power (Mighty Black, 64 GB)  (4 GB RAM)',\n",
       " 'REDMI 9 Prime (Matte Black, 64 GB)  (4 GB RAM)',\n",
       " 'Mi 10i (Atlantic Blue, 128 GB)  (6 GB RAM)',\n",
       " 'Panasonic Eluga I8 (Charcoal Black, 32 GB)  (3 GB RAM)',\n",
       " 'Redmi Note 9 Pro (Glacier White, 128 GB)  (4 GB RAM)',\n",
       " 'Redmi Note 9 Pro (Interstellar Black, 64 GB)  (4 GB RAM)',\n",
       " 'Panasonic ELUGA I6 (Black, 16 GB)  (2 GB RAM)',\n",
       " 'Nokia 125 DS  (Black)',\n",
       " 'REDMI Note 9 Pro Max (Glacier White, 64 GB)  (6 GB RAM)',\n",
       " 'Redmi Note 9 Pro (Glacier White, 64 GB)  (4 GB RAM)']"
      ]
     },
     "execution_count": 6,
     "metadata": {},
     "output_type": "execute_result"
    }
   ],
   "source": [
    "mobile_title"
   ]
  },
  {
   "cell_type": "code",
   "execution_count": 7,
   "metadata": {},
   "outputs": [
    {
     "data": {
      "text/plain": [
       "['₹10,499',\n",
       " '₹9,999',\n",
       " '₹22,470',\n",
       " '₹6,999',\n",
       " '₹15,499',\n",
       " '₹15,990',\n",
       " '₹5,001',\n",
       " '₹2,299',\n",
       " '₹18,990',\n",
       " '₹14,975']"
      ]
     },
     "execution_count": 7,
     "metadata": {},
     "output_type": "execute_result"
    }
   ],
   "source": [
    "mobile_price"
   ]
  },
  {
   "cell_type": "code",
   "execution_count": 8,
   "metadata": {},
   "outputs": [
    {
     "data": {
      "text/plain": [
       "['', '', '-', '-', '-', '-', '-', '-', '-', '-']"
      ]
     },
     "execution_count": 8,
     "metadata": {},
     "output_type": "execute_result"
    }
   ],
   "source": [
    "mobile_storage1"
   ]
  },
  {
   "cell_type": "code",
   "execution_count": 9,
   "metadata": {},
   "outputs": [
    {
     "data": {
      "text/plain": [
       "['', '', '', '-', '', '', '-', '-', '', '']"
      ]
     },
     "execution_count": 9,
     "metadata": {},
     "output_type": "execute_result"
    }
   ],
   "source": [
    "mobile_color"
   ]
  },
  {
   "cell_type": "code",
   "execution_count": 10,
   "metadata": {},
   "outputs": [
    {
     "data": {
      "text/plain": [
       "['4 GB', '-', '6 GB', '-', '4 GB', '4 GB', '-', '-', '6 GB', '4 GB']"
      ]
     },
     "execution_count": 10,
     "metadata": {},
     "output_type": "execute_result"
    }
   ],
   "source": [
    "mobile_ram1"
   ]
  },
  {
   "cell_type": "code",
   "execution_count": 11,
   "metadata": {},
   "outputs": [
    {
     "data": {
      "text/plain": [
       "[]"
      ]
     },
     "execution_count": 11,
     "metadata": {},
     "output_type": "execute_result"
    }
   ],
   "source": [
    "mobile_pc"
   ]
  },
  {
   "cell_type": "code",
   "execution_count": 12,
   "metadata": {},
   "outputs": [],
   "source": []
  },
  {
   "cell_type": "code",
   "execution_count": 13,
   "metadata": {},
   "outputs": [
    {
     "data": {
      "text/plain": [
       "[]"
      ]
     },
     "execution_count": 13,
     "metadata": {},
     "output_type": "execute_result"
    }
   ],
   "source": [
    "mobile_sc"
   ]
  },
  {
   "cell_type": "code",
   "execution_count": 14,
   "metadata": {},
   "outputs": [
    {
     "data": {
      "text/plain": [
       "['', '', '-', '-', '-', '-', '-', '-', '-', '-']"
      ]
     },
     "execution_count": 14,
     "metadata": {},
     "output_type": "execute_result"
    }
   ],
   "source": [
    "display_size"
   ]
  },
  {
   "cell_type": "code",
   "execution_count": 15,
   "metadata": {},
   "outputs": [
    {
     "data": {
      "text/plain": [
       "['2340 x 1080$$pixel',\n",
       " '2340 x 1080 Pixels',\n",
       " '-',\n",
       " '-',\n",
       " '-',\n",
       " '-',\n",
       " '-',\n",
       " '-',\n",
       " '-',\n",
       " '-']"
      ]
     },
     "execution_count": 15,
     "metadata": {},
     "output_type": "execute_result"
    }
   ],
   "source": [
    "resolution"
   ]
  },
  {
   "cell_type": "code",
   "execution_count": 16,
   "metadata": {},
   "outputs": [],
   "source": [
    "df=pd.DataFrame({})\n",
    "df['mobile title']=mobile_title\n",
    "df['mobile price']=mobile_price\n",
    "df['mobile storage1']=mobile_storage1\n",
    "df['mobile color']=mobile_color\n",
    "df['mobile ram1']=mobile_ram1\n",
    "#df['mobile ram2']=mobile_ram2\n",
    "\n",
    "#df['mobile pc']=mobile_pc\n",
    "#df['mobile sc']=mobile_sc\n",
    "df['display size']=display_size\n",
    "df['resolution']=resolution\n",
    "\n"
   ]
  },
  {
   "cell_type": "code",
   "execution_count": 17,
   "metadata": {},
   "outputs": [
    {
     "data": {
      "text/html": [
       "<div>\n",
       "<style scoped>\n",
       "    .dataframe tbody tr th:only-of-type {\n",
       "        vertical-align: middle;\n",
       "    }\n",
       "\n",
       "    .dataframe tbody tr th {\n",
       "        vertical-align: top;\n",
       "    }\n",
       "\n",
       "    .dataframe thead th {\n",
       "        text-align: right;\n",
       "    }\n",
       "</style>\n",
       "<table border=\"1\" class=\"dataframe\">\n",
       "  <thead>\n",
       "    <tr style=\"text-align: right;\">\n",
       "      <th></th>\n",
       "      <th>mobile title</th>\n",
       "      <th>mobile price</th>\n",
       "      <th>mobile storage1</th>\n",
       "      <th>mobile color</th>\n",
       "      <th>mobile ram1</th>\n",
       "      <th>display size</th>\n",
       "      <th>resolution</th>\n",
       "    </tr>\n",
       "  </thead>\n",
       "  <tbody>\n",
       "    <tr>\n",
       "      <th>0</th>\n",
       "      <td>REDMI 9 Power (Mighty Black, 64 GB)  (4 GB RAM)</td>\n",
       "      <td>₹10,499</td>\n",
       "      <td></td>\n",
       "      <td></td>\n",
       "      <td>4 GB</td>\n",
       "      <td></td>\n",
       "      <td>2340 x 1080$$pixel</td>\n",
       "    </tr>\n",
       "    <tr>\n",
       "      <th>1</th>\n",
       "      <td>REDMI 9 Prime (Matte Black, 64 GB)  (4 GB RAM)</td>\n",
       "      <td>₹9,999</td>\n",
       "      <td></td>\n",
       "      <td></td>\n",
       "      <td>-</td>\n",
       "      <td></td>\n",
       "      <td>2340 x 1080 Pixels</td>\n",
       "    </tr>\n",
       "    <tr>\n",
       "      <th>2</th>\n",
       "      <td>Mi 10i (Atlantic Blue, 128 GB)  (6 GB RAM)</td>\n",
       "      <td>₹22,470</td>\n",
       "      <td>-</td>\n",
       "      <td></td>\n",
       "      <td>6 GB</td>\n",
       "      <td>-</td>\n",
       "      <td>-</td>\n",
       "    </tr>\n",
       "    <tr>\n",
       "      <th>3</th>\n",
       "      <td>Panasonic Eluga I8 (Charcoal Black, 32 GB)  (3...</td>\n",
       "      <td>₹6,999</td>\n",
       "      <td>-</td>\n",
       "      <td>-</td>\n",
       "      <td>-</td>\n",
       "      <td>-</td>\n",
       "      <td>-</td>\n",
       "    </tr>\n",
       "    <tr>\n",
       "      <th>4</th>\n",
       "      <td>Redmi Note 9 Pro (Glacier White, 128 GB)  (4 G...</td>\n",
       "      <td>₹15,499</td>\n",
       "      <td>-</td>\n",
       "      <td></td>\n",
       "      <td>4 GB</td>\n",
       "      <td>-</td>\n",
       "      <td>-</td>\n",
       "    </tr>\n",
       "    <tr>\n",
       "      <th>5</th>\n",
       "      <td>Redmi Note 9 Pro (Interstellar Black, 64 GB)  ...</td>\n",
       "      <td>₹15,990</td>\n",
       "      <td>-</td>\n",
       "      <td></td>\n",
       "      <td>4 GB</td>\n",
       "      <td>-</td>\n",
       "      <td>-</td>\n",
       "    </tr>\n",
       "    <tr>\n",
       "      <th>6</th>\n",
       "      <td>Panasonic ELUGA I6 (Black, 16 GB)  (2 GB RAM)</td>\n",
       "      <td>₹5,001</td>\n",
       "      <td>-</td>\n",
       "      <td>-</td>\n",
       "      <td>-</td>\n",
       "      <td>-</td>\n",
       "      <td>-</td>\n",
       "    </tr>\n",
       "    <tr>\n",
       "      <th>7</th>\n",
       "      <td>Nokia 125 DS  (Black)</td>\n",
       "      <td>₹2,299</td>\n",
       "      <td>-</td>\n",
       "      <td>-</td>\n",
       "      <td>-</td>\n",
       "      <td>-</td>\n",
       "      <td>-</td>\n",
       "    </tr>\n",
       "    <tr>\n",
       "      <th>8</th>\n",
       "      <td>REDMI Note 9 Pro Max (Glacier White, 64 GB)  (...</td>\n",
       "      <td>₹18,990</td>\n",
       "      <td>-</td>\n",
       "      <td></td>\n",
       "      <td>6 GB</td>\n",
       "      <td>-</td>\n",
       "      <td>-</td>\n",
       "    </tr>\n",
       "    <tr>\n",
       "      <th>9</th>\n",
       "      <td>Redmi Note 9 Pro (Glacier White, 64 GB)  (4 GB...</td>\n",
       "      <td>₹14,975</td>\n",
       "      <td>-</td>\n",
       "      <td></td>\n",
       "      <td>4 GB</td>\n",
       "      <td>-</td>\n",
       "      <td>-</td>\n",
       "    </tr>\n",
       "  </tbody>\n",
       "</table>\n",
       "</div>"
      ],
      "text/plain": [
       "                                        mobile title mobile price  \\\n",
       "0    REDMI 9 Power (Mighty Black, 64 GB)  (4 GB RAM)      ₹10,499   \n",
       "1     REDMI 9 Prime (Matte Black, 64 GB)  (4 GB RAM)       ₹9,999   \n",
       "2         Mi 10i (Atlantic Blue, 128 GB)  (6 GB RAM)      ₹22,470   \n",
       "3  Panasonic Eluga I8 (Charcoal Black, 32 GB)  (3...       ₹6,999   \n",
       "4  Redmi Note 9 Pro (Glacier White, 128 GB)  (4 G...      ₹15,499   \n",
       "5  Redmi Note 9 Pro (Interstellar Black, 64 GB)  ...      ₹15,990   \n",
       "6      Panasonic ELUGA I6 (Black, 16 GB)  (2 GB RAM)       ₹5,001   \n",
       "7                              Nokia 125 DS  (Black)       ₹2,299   \n",
       "8  REDMI Note 9 Pro Max (Glacier White, 64 GB)  (...      ₹18,990   \n",
       "9  Redmi Note 9 Pro (Glacier White, 64 GB)  (4 GB...      ₹14,975   \n",
       "\n",
       "  mobile storage1 mobile color mobile ram1 display size          resolution  \n",
       "0                                     4 GB               2340 x 1080$$pixel  \n",
       "1                                        -               2340 x 1080 Pixels  \n",
       "2               -                     6 GB            -                   -  \n",
       "3               -            -           -            -                   -  \n",
       "4               -                     4 GB            -                   -  \n",
       "5               -                     4 GB            -                   -  \n",
       "6               -            -           -            -                   -  \n",
       "7               -            -           -            -                   -  \n",
       "8               -                     6 GB            -                   -  \n",
       "9               -                     4 GB            -                   -  "
      ]
     },
     "execution_count": 17,
     "metadata": {},
     "output_type": "execute_result"
    }
   ],
   "source": [
    "df"
   ]
  },
  {
   "cell_type": "code",
   "execution_count": null,
   "metadata": {},
   "outputs": [],
   "source": []
  }
 ],
 "metadata": {
  "kernelspec": {
   "display_name": "Python 3",
   "language": "python",
   "name": "python3"
  },
  "language_info": {
   "codemirror_mode": {
    "name": "ipython",
    "version": 3
   },
   "file_extension": ".py",
   "mimetype": "text/x-python",
   "name": "python",
   "nbconvert_exporter": "python",
   "pygments_lexer": "ipython3",
   "version": "3.8.5"
  }
 },
 "nbformat": 4,
 "nbformat_minor": 4
}
