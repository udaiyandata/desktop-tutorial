{
 "cells": [
  {
   "cell_type": "code",
   "execution_count": 190,
   "metadata": {},
   "outputs": [],
   "source": [
    "#by using selenium and webdriver we are extract the data from website\n",
    "import pandas as pd\n",
    "import selenium\n",
    "from selenium import webdriver"
   ]
  },
  {
   "cell_type": "code",
   "execution_count": 191,
   "metadata": {},
   "outputs": [],
   "source": [
    "#we are using chrome browser as default\n",
    "driver = webdriver.Chrome(\"Chromedriver.exe\")"
   ]
  },
  {
   "cell_type": "code",
   "execution_count": 192,
   "metadata": {},
   "outputs": [],
   "source": [
    "#amazon website\n",
    "url = 'https://www.amazon.com/'\n",
    "driver.get(url)"
   ]
  },
  {
   "cell_type": "code",
   "execution_count": 193,
   "metadata": {},
   "outputs": [
    {
     "data": {
      "text/plain": [
       "<selenium.webdriver.remote.webelement.WebElement (session=\"3ce7eb339d675cadb87122665a00de67\", element=\"ff3ad524-4b34-4b10-9f34-3ed7b4d9e9cf\")>"
      ]
     },
     "execution_count": 193,
     "metadata": {},
     "output_type": "execute_result"
    }
   ],
   "source": [
    "#we are searching for specific name\n",
    "search_pro=driver.find_element_by_id(\"twotabsearchtextbox\")\n",
    "search_pro"
   ]
  },
  {
   "cell_type": "code",
   "execution_count": 194,
   "metadata": {},
   "outputs": [],
   "source": [
    "#sending words to search\n",
    "search_pro.send_keys(\"laptops\")"
   ]
  },
  {
   "cell_type": "code",
   "execution_count": 195,
   "metadata": {},
   "outputs": [],
   "source": [
    "#we are clicking the button\n",
    "search_btn = driver.find_element_by_xpath(\"//div[@class='nav-search-submit nav-sprite']\")\n",
    "search_btn.click()"
   ]
  },
  {
   "cell_type": "code",
   "execution_count": 196,
   "metadata": {},
   "outputs": [],
   "source": [
    "#now click the see more\n",
    "driver.find_element_by_xpath(\"//ul[@aria-labelledby='p_n_feature_four_browse-bin-title']/li[6]/span/div/a\").click()"
   ]
  },
  {
   "cell_type": "code",
   "execution_count": 197,
   "metadata": {},
   "outputs": [],
   "source": [
    "\n",
    "#we are searching for the i7 option\n",
    "for i in filter_button:\n",
    "    if i.text=='Intel Core i7':\n",
    "        i.click()\n",
    "        break"
   ]
  },
  {
   "cell_type": "code",
   "execution_count": null,
   "metadata": {},
   "outputs": [],
   "source": []
  },
  {
   "cell_type": "code",
   "execution_count": 198,
   "metadata": {},
   "outputs": [],
   "source": [
    "title = []\n",
    "rating = []\n",
    "price = []"
   ]
  },
  {
   "cell_type": "code",
   "execution_count": 199,
   "metadata": {},
   "outputs": [
    {
     "data": {
      "text/plain": [
       "[<selenium.webdriver.remote.webelement.WebElement (session=\"3ce7eb339d675cadb87122665a00de67\", element=\"6f1580c6-46f1-42fd-ac68-dcae146f85a6\")>,\n",
       " <selenium.webdriver.remote.webelement.WebElement (session=\"3ce7eb339d675cadb87122665a00de67\", element=\"8ed62c23-d31b-4a36-a600-341820f0c73d\")>,\n",
       " <selenium.webdriver.remote.webelement.WebElement (session=\"3ce7eb339d675cadb87122665a00de67\", element=\"5219e3c0-364e-41f6-b58d-de1bd0cbd7e7\")>,\n",
       " <selenium.webdriver.remote.webelement.WebElement (session=\"3ce7eb339d675cadb87122665a00de67\", element=\"e46f168e-4eac-4d8a-ac79-fd9d0e7bfc00\")>,\n",
       " <selenium.webdriver.remote.webelement.WebElement (session=\"3ce7eb339d675cadb87122665a00de67\", element=\"009fbdb6-d842-4f82-9b24-4ad5ace5463c\")>,\n",
       " <selenium.webdriver.remote.webelement.WebElement (session=\"3ce7eb339d675cadb87122665a00de67\", element=\"3ef05ca4-4d66-4d40-afd7-288f856f9983\")>,\n",
       " <selenium.webdriver.remote.webelement.WebElement (session=\"3ce7eb339d675cadb87122665a00de67\", element=\"ecc848c2-0922-4f94-9532-5d2acb4a7156\")>,\n",
       " <selenium.webdriver.remote.webelement.WebElement (session=\"3ce7eb339d675cadb87122665a00de67\", element=\"d0bc0642-1560-4c54-a64e-e356a448aba8\")>,\n",
       " <selenium.webdriver.remote.webelement.WebElement (session=\"3ce7eb339d675cadb87122665a00de67\", element=\"525f8a03-5b0f-4d66-a5db-f0b37870c6df\")>,\n",
       " <selenium.webdriver.remote.webelement.WebElement (session=\"3ce7eb339d675cadb87122665a00de67\", element=\"96d9cc02-f064-4ecf-b0dd-4f3a7c745c6b\")>,\n",
       " <selenium.webdriver.remote.webelement.WebElement (session=\"3ce7eb339d675cadb87122665a00de67\", element=\"7d3e91f4-ad07-4c05-a2a5-d75812c027a7\")>,\n",
       " <selenium.webdriver.remote.webelement.WebElement (session=\"3ce7eb339d675cadb87122665a00de67\", element=\"ee0d37cf-f890-4dc1-a294-220b342718c6\")>,\n",
       " <selenium.webdriver.remote.webelement.WebElement (session=\"3ce7eb339d675cadb87122665a00de67\", element=\"f85de015-5c8f-4560-aba5-987d5a89f20f\")>,\n",
       " <selenium.webdriver.remote.webelement.WebElement (session=\"3ce7eb339d675cadb87122665a00de67\", element=\"b4107b4f-0e8c-460a-9bb8-ad1361b7d03e\")>,\n",
       " <selenium.webdriver.remote.webelement.WebElement (session=\"3ce7eb339d675cadb87122665a00de67\", element=\"ceec0ce0-3346-4b7c-8cd9-633026a9bcc6\")>,\n",
       " <selenium.webdriver.remote.webelement.WebElement (session=\"3ce7eb339d675cadb87122665a00de67\", element=\"81e8b3f1-427d-409d-a33c-f7af48c6b6ec\")>,\n",
       " <selenium.webdriver.remote.webelement.WebElement (session=\"3ce7eb339d675cadb87122665a00de67\", element=\"953d0c22-571e-4b6b-969b-2bbe09d6bb2a\")>,\n",
       " <selenium.webdriver.remote.webelement.WebElement (session=\"3ce7eb339d675cadb87122665a00de67\", element=\"5d8d92f4-0dac-4e42-8e0d-3c9341136454\")>,\n",
       " <selenium.webdriver.remote.webelement.WebElement (session=\"3ce7eb339d675cadb87122665a00de67\", element=\"09e64591-86e5-4710-9c55-4ee612a8e7ce\")>,\n",
       " <selenium.webdriver.remote.webelement.WebElement (session=\"3ce7eb339d675cadb87122665a00de67\", element=\"7c2cbed8-69d4-400f-84ac-39650da4ff2b\")>,\n",
       " <selenium.webdriver.remote.webelement.WebElement (session=\"3ce7eb339d675cadb87122665a00de67\", element=\"762c4622-b764-4e6c-8ebd-bf5b1c0feed8\")>,\n",
       " <selenium.webdriver.remote.webelement.WebElement (session=\"3ce7eb339d675cadb87122665a00de67\", element=\"3f7288a8-88ac-4004-b817-c1e6b9f6b301\")>,\n",
       " <selenium.webdriver.remote.webelement.WebElement (session=\"3ce7eb339d675cadb87122665a00de67\", element=\"0d297fd0-e8c7-4860-9e13-c02ff0785bca\")>,\n",
       " <selenium.webdriver.remote.webelement.WebElement (session=\"3ce7eb339d675cadb87122665a00de67\", element=\"e446916a-5799-43af-b0ba-46a3a61eed88\")>]"
      ]
     },
     "execution_count": 199,
     "metadata": {},
     "output_type": "execute_result"
    }
   ],
   "source": [
    "#title tag\n",
    "titles_tags=driver.find_elements_by_xpath(\"//h2[@class='a-size-mini a-spacing-none a-color-base s-line-clamp-2']\")\n",
    "titles_tags"
   ]
  },
  {
   "cell_type": "code",
   "execution_count": 200,
   "metadata": {},
   "outputs": [
    {
     "data": {
      "text/plain": [
       "['2021 Newest Lenovo IdeaPad 3 14\" FHD Premium Laptop, Intel Core i5-1035G1 (Beat i7-8550U), 12GB RAM 512GB SSD, Bluetooth 5, Webcam WiFi HDMI Windows 10 w/Ghost Manta Accessories',\n",
       " 'iProda 14inch Laptop, Intel i3 Notebook (up to 2.4GHz), 8GB Memory, 256GB SSD, Full HD IPS 19201080 Display, Windows 10 Pro, Perfect PC for Student and Home use (Intel i3)',\n",
       " 'HP Stream 14-inch Laptop, Intel Celeron N4000, 4 GB RAM, 64 GB eMMC, Windows 10 Home in S Mode with Office 365 Personal for 1 Year (14-cb186nr, Brilliant Black) (9MV74UA#ABA)',\n",
       " '2021 Newest Dell Inspiron 3000 Laptop, 15.6 HD LED-Backlit Display, Intel Celeron Processor N4020, 8GB DDR4 RAM, 128GB PCIe SSD, Online Meeting Ready, Webcam, WiFi, HDMI, Bluetooth, Win10 Home, Black',\n",
       " 'Acer Aspire 5 Slim Laptop, 15.6 inches Full HD IPS Display, AMD Ryzen 3 3200U, Vega 3 Graphics, 4GB DDR4, 128GB SSD, Backlit Keyboard, Windows 10 in S Mode, A515-43-R19L, Silver',\n",
       " 'Acer Aspire 5 A515-55-378V, 15.6\" Full HD Display, 10th Gen Intel Core i3-1005G1 Processor (Up to 3.4GHz), 4GB DDR4, 128GB NVMe SSD, WiFi 6, HD Webcam, Backlit Keyboard, Windows 10 in S Mode',\n",
       " 'ASUS TUF TUF506IU-ES74 Gaming A15 Gaming Laptop, 15.6” 144Hz Full HD IPS-Type, AMD Ryzen 7 4800H, GeForce GTX 1660 Ti, 16GB DDR4, 512GB PCIe SSD, 90WHr Battery, RGB Backlit KB, Windows 10 Home',\n",
       " '2021 Newest Dell Inspiron 3000 Laptop, 15.6 HD LED-Backlit Display, Intel Pentium Silver N5030 Processor, 16GB DDR4 RAM, 256GB PCIe Solid State Drive, Online Meeting Ready, Webcam, Win10 Home, Black',\n",
       " '2021 Newest HP 15.6 FHD IPS Touchscreen Laptop,10th Gen Intel Quad-Core i5-1035G1 (Up to 3.60GHz, Beat i7-8550U), 16GB RAM, 512GB SSD, Fast charge, Webcam, HDMI, Wifi, Win10, w/Ghost Manta Accessories',\n",
       " 'Asus L510MA-DS04 15.6\" Celeron N4020 4 GB RAM 128 GB eMMC',\n",
       " 'SAMSUNG XE350XBA-K01US Chromebook 4 + Chrome OS 15.6\" Full HD Intel Celeron Processor N4000 4GB RAM 32Gb Emmc Gigabit Wi-Fi, Silver',\n",
       " '2021 HP Stream 14\" HD Thin and Light Laptop, Intel Celeron N4000 Processor, 4GB RAM, 64GB eMMC, HDMI, Webcam, WiFi, Bluetooth, 1 Year Microsoft 365, Windows 10 S, Rose Pink, W/ IFT Accessories',\n",
       " '2021 Newest HP Stream 14-inch HD Laptop, White, Intel N4020 up to 2.8 G, 4G RAM, 128G Space(64G eMMC+64G Micro SD), WiFi, Webcam, Bluetooth, Windows 10 S, Office 365 Personal for 1 Year, Allyflex MP',\n",
       " '2020 15.6 inch Laptop, IPS Display, Intel 64-bit Quad-core celeron_j3455 Processor, 8GB RAM, 256GB SSD, scalable 1TB SSD Solid State Drive, Chocolate Keyboard, Windows 10',\n",
       " 'Windows Laptop Computer 15.6 inch, 8GB RAM 128GB M.2 SSD Windows 10 Pro PC Laptops, Intel Celeron J4155 Quad Core Notebook, Support 5G WiFi, Mini HDMI Webcam, Grey',\n",
       " 'Microsoft Surface Laptop 4 13.5” Touch-Screen – AMD Ryzen 5 Surface Edition - 8GB Memory - 256GB Solid State Drive (Latest Model) - Platinum',\n",
       " 'HP Stream 11.6-inch HD Laptop, Intel Celeron N4000, 4 GB RAM, 32 GB eMMC, Windows 10 Home in S Mode with Office 365 Personal for 1 Year (11-ak0020nr, Diamond White)',\n",
       " 'Dell Inspiron 15 Laptop (2021 Latest Model), 15.6\" FHD Touchscreen, 10th Gen Intel Core i5-1035G1 Processor, 16GB RAM, 256GB PCIe SSD, Webcam, HDMI, Bluetooth, WiFi, Windows 10 Home, Black',\n",
       " 'Used Chromebook in Good Condition C720 Lightweight Laptop Computer 11.6 inches 4GB RAM 16GB eMMC - Celeron 2955U Ultra-Light Design Chrome OS Online Class',\n",
       " '2021 Newest HP 15.6 FHD IPS Touchscreen Laptop,10th Gen Intel Quad-Core i5-1035G1 (Up to 3.60GHz, Beat i7-8550U), 16GB RAM, 512GB SSD, Fast charge, Webcam, HDMI, Wifi, Win10, w/Ghost Manta Accessories',\n",
       " '2021 Newest HP 15.6\" HD Touchscreen Laptop Computer,Intel 10th Gen Core i3-1005G1(Up to 3.4GHz, Beat i5-7200U), 8GB RAM, 256GB SSD, Intel UHD Graphics, USB-A&C, Webcam, HDMI, WiFi, w/GM Accessories',\n",
       " 'Dell Inspiron 14 HD High Performance Laptop (2021 Latest Model), Intel Core i3-1005G1 Processor, 8GB RAM, 256GB SSD, Webcam, HDMI, Bluetooth, WiFi, USB 3.1, Wave MaxxAudio Pro, Windows 10 S, Black',\n",
       " 'Razer Blade 15 Advanced Gaming Laptop 2021: Intel Core i7-10875H 8-Core, NVIDIA GeForce RTX 3080, 15.6” 360Hz Full HD, 32GB RAM, 1TB SSD - CNC Aluminum - Chroma RGB - THX Spatial Audio - Thunderbolt 3',\n",
       " 'Video Conference Lighting Kit for Remote Working, Video Conferencing, Zoom Calls, Self Broadcasting, Live Streaming，Adjustable Video Light for Laptop with Tripod Stand & Suction Cup (Black)']"
      ]
     },
     "execution_count": 200,
     "metadata": {},
     "output_type": "execute_result"
    }
   ],
   "source": [
    "laptop_titles1=[]\n",
    "for i in titles_tags:\n",
    "    laptop_titles1.append(i.text)\n",
    "laptop_titles1"
   ]
  },
  {
   "cell_type": "code",
   "execution_count": 203,
   "metadata": {},
   "outputs": [
    {
     "data": {
      "text/plain": [
       "[<selenium.webdriver.remote.webelement.WebElement (session=\"3ce7eb339d675cadb87122665a00de67\", element=\"c9b5f5ab-d502-4ac7-9e6a-e30f715212e9\")>,\n",
       " <selenium.webdriver.remote.webelement.WebElement (session=\"3ce7eb339d675cadb87122665a00de67\", element=\"59fc6f45-a339-486e-93ee-1b84e4bc46d0\")>,\n",
       " <selenium.webdriver.remote.webelement.WebElement (session=\"3ce7eb339d675cadb87122665a00de67\", element=\"70f8b82a-d214-4957-bbac-c687a6a706e2\")>,\n",
       " <selenium.webdriver.remote.webelement.WebElement (session=\"3ce7eb339d675cadb87122665a00de67\", element=\"a7a039ea-5f9e-47b6-ab68-3f6687885436\")>,\n",
       " <selenium.webdriver.remote.webelement.WebElement (session=\"3ce7eb339d675cadb87122665a00de67\", element=\"08666ab4-d787-468c-85b5-29f896718d09\")>,\n",
       " <selenium.webdriver.remote.webelement.WebElement (session=\"3ce7eb339d675cadb87122665a00de67\", element=\"7fbc83d1-f09d-4b1a-9fa0-eea873a3ed26\")>,\n",
       " <selenium.webdriver.remote.webelement.WebElement (session=\"3ce7eb339d675cadb87122665a00de67\", element=\"4f9e7ab6-1d8a-4ede-ade7-7c05614835e2\")>,\n",
       " <selenium.webdriver.remote.webelement.WebElement (session=\"3ce7eb339d675cadb87122665a00de67\", element=\"644116eb-9132-4305-bbc8-9d2461b84474\")>,\n",
       " <selenium.webdriver.remote.webelement.WebElement (session=\"3ce7eb339d675cadb87122665a00de67\", element=\"4274ae90-972f-4e77-bc1e-3b9b9293092c\")>,\n",
       " <selenium.webdriver.remote.webelement.WebElement (session=\"3ce7eb339d675cadb87122665a00de67\", element=\"f2a4ad24-8127-4adc-9d16-49d33662d0d6\")>,\n",
       " <selenium.webdriver.remote.webelement.WebElement (session=\"3ce7eb339d675cadb87122665a00de67\", element=\"f64572c6-6c0f-4aba-9902-058277584588\")>,\n",
       " <selenium.webdriver.remote.webelement.WebElement (session=\"3ce7eb339d675cadb87122665a00de67\", element=\"7e104985-7e8c-49c9-80a6-7bd7eecb7512\")>,\n",
       " <selenium.webdriver.remote.webelement.WebElement (session=\"3ce7eb339d675cadb87122665a00de67\", element=\"a3dd4f1e-15d1-4285-9ad7-0b51bc68b023\")>,\n",
       " <selenium.webdriver.remote.webelement.WebElement (session=\"3ce7eb339d675cadb87122665a00de67\", element=\"73b8392f-9a26-4533-8e2a-3b4f9992b7f6\")>,\n",
       " <selenium.webdriver.remote.webelement.WebElement (session=\"3ce7eb339d675cadb87122665a00de67\", element=\"a244d626-ba91-4946-93ad-e7113a260b16\")>,\n",
       " <selenium.webdriver.remote.webelement.WebElement (session=\"3ce7eb339d675cadb87122665a00de67\", element=\"92644f35-518e-413a-bafe-7f254c0aa89b\")>,\n",
       " <selenium.webdriver.remote.webelement.WebElement (session=\"3ce7eb339d675cadb87122665a00de67\", element=\"2e0d60b1-0bb2-4dd5-a595-40b7fcbad576\")>,\n",
       " <selenium.webdriver.remote.webelement.WebElement (session=\"3ce7eb339d675cadb87122665a00de67\", element=\"0fef2ad9-4895-4f21-a025-a9b0ede5ec79\")>,\n",
       " <selenium.webdriver.remote.webelement.WebElement (session=\"3ce7eb339d675cadb87122665a00de67\", element=\"17d2cc7f-e685-48d8-8aca-47f674338f30\")>,\n",
       " <selenium.webdriver.remote.webelement.WebElement (session=\"3ce7eb339d675cadb87122665a00de67\", element=\"7fae2ff1-182e-47f2-a15f-1bb8c3f1f2aa\")>,\n",
       " <selenium.webdriver.remote.webelement.WebElement (session=\"3ce7eb339d675cadb87122665a00de67\", element=\"8a5e9f3d-fee4-4dec-9e14-f231033ef914\")>,\n",
       " <selenium.webdriver.remote.webelement.WebElement (session=\"3ce7eb339d675cadb87122665a00de67\", element=\"430f3aa0-7efe-4062-97f9-8ea53b132501\")>,\n",
       " <selenium.webdriver.remote.webelement.WebElement (session=\"3ce7eb339d675cadb87122665a00de67\", element=\"f0df1e5b-567b-46f5-8886-5d2b74a0a319\")>,\n",
       " <selenium.webdriver.remote.webelement.WebElement (session=\"3ce7eb339d675cadb87122665a00de67\", element=\"df0b1f30-6cfc-4f7b-b881-87dd412c6142\")>,\n",
       " <selenium.webdriver.remote.webelement.WebElement (session=\"3ce7eb339d675cadb87122665a00de67\", element=\"28ea1f50-d0c9-4351-8aef-f27db6cda733\")>,\n",
       " <selenium.webdriver.remote.webelement.WebElement (session=\"3ce7eb339d675cadb87122665a00de67\", element=\"a5f6ba35-ee5f-400a-82db-0cee918f2372\")>,\n",
       " <selenium.webdriver.remote.webelement.WebElement (session=\"3ce7eb339d675cadb87122665a00de67\", element=\"288fd64a-abe6-4859-8950-9c58900a3892\")>]"
      ]
     },
     "execution_count": 203,
     "metadata": {},
     "output_type": "execute_result"
    }
   ],
   "source": [
    "#price\n",
    "price_tags=driver.find_elements_by_xpath(\"//span[@class='a-price']\")\n",
    "price_tags"
   ]
  },
  {
   "cell_type": "code",
   "execution_count": 204,
   "metadata": {},
   "outputs": [
    {
     "data": {
      "text/plain": [
       "['$63999',\n",
       " '$38898',\n",
       " '$26700',\n",
       " '$44900',\n",
       " '$43100',\n",
       " '$60688',\n",
       " '$1,39900',\n",
       " '$59900',\n",
       " '$74900',\n",
       " '$60998',\n",
       " '',\n",
       " '',\n",
       " '$53900',\n",
       " '$74900',\n",
       " '$27554',\n",
       " '$23146',\n",
       " '$40820',\n",
       " '$33900',\n",
       " '$36900',\n",
       " '$23899',\n",
       " '$67900',\n",
       " '$16145',\n",
       " '$74900',\n",
       " '$57900',\n",
       " '$43900',\n",
       " '$2,99999',\n",
       " '$4999']"
      ]
     },
     "execution_count": 204,
     "metadata": {},
     "output_type": "execute_result"
    }
   ],
   "source": [
    "price_titles1=[]\n",
    "for i in price_tags:\n",
    "    price_titles1.append(i.text.replace('\\n',''))\n",
    "price_titles1"
   ]
  },
  {
   "cell_type": "code",
   "execution_count": 205,
   "metadata": {},
   "outputs": [
    {
     "data": {
      "text/plain": [
       "[<selenium.webdriver.remote.webelement.WebElement (session=\"3ce7eb339d675cadb87122665a00de67\", element=\"d517d601-e750-4820-aa17-c864eb36091a\")>,\n",
       " <selenium.webdriver.remote.webelement.WebElement (session=\"3ce7eb339d675cadb87122665a00de67\", element=\"dc3d9fd5-cefb-4d0e-96f8-0ef6e6402467\")>,\n",
       " <selenium.webdriver.remote.webelement.WebElement (session=\"3ce7eb339d675cadb87122665a00de67\", element=\"f9872fc4-76f1-4a29-bf00-c3fafc994d62\")>,\n",
       " <selenium.webdriver.remote.webelement.WebElement (session=\"3ce7eb339d675cadb87122665a00de67\", element=\"5141ed40-a716-4628-a442-7fa60d7b8462\")>,\n",
       " <selenium.webdriver.remote.webelement.WebElement (session=\"3ce7eb339d675cadb87122665a00de67\", element=\"6601543c-c081-44ea-aa74-365ba0e9ce8e\")>,\n",
       " <selenium.webdriver.remote.webelement.WebElement (session=\"3ce7eb339d675cadb87122665a00de67\", element=\"be09aa48-4ad2-419c-9862-56360be8f5da\")>,\n",
       " <selenium.webdriver.remote.webelement.WebElement (session=\"3ce7eb339d675cadb87122665a00de67\", element=\"bd0cf29b-9c5e-45aa-b26f-b1d0fab3997e\")>,\n",
       " <selenium.webdriver.remote.webelement.WebElement (session=\"3ce7eb339d675cadb87122665a00de67\", element=\"6930522f-4006-487b-b9d8-75bf1c6d1da5\")>,\n",
       " <selenium.webdriver.remote.webelement.WebElement (session=\"3ce7eb339d675cadb87122665a00de67\", element=\"3a4ed131-35e1-4846-9e8e-3032580f36f9\")>,\n",
       " <selenium.webdriver.remote.webelement.WebElement (session=\"3ce7eb339d675cadb87122665a00de67\", element=\"b82770f2-c189-45f8-8a71-e4f006a54a62\")>,\n",
       " <selenium.webdriver.remote.webelement.WebElement (session=\"3ce7eb339d675cadb87122665a00de67\", element=\"53ee84f0-3743-4e7e-b2f9-13d298273b4f\")>,\n",
       " <selenium.webdriver.remote.webelement.WebElement (session=\"3ce7eb339d675cadb87122665a00de67\", element=\"ecf67146-7470-42e8-9bd5-d1ee4781968f\")>,\n",
       " <selenium.webdriver.remote.webelement.WebElement (session=\"3ce7eb339d675cadb87122665a00de67\", element=\"b28ea900-574e-4a01-9c0a-368b407cc356\")>,\n",
       " <selenium.webdriver.remote.webelement.WebElement (session=\"3ce7eb339d675cadb87122665a00de67\", element=\"ad2f8edb-a422-423b-83da-f29394ff2699\")>,\n",
       " <selenium.webdriver.remote.webelement.WebElement (session=\"3ce7eb339d675cadb87122665a00de67\", element=\"a64ed908-106d-4e8e-80b8-f608429ad1cd\")>,\n",
       " <selenium.webdriver.remote.webelement.WebElement (session=\"3ce7eb339d675cadb87122665a00de67\", element=\"7e2e7ba2-4e46-4788-9f7e-9f0a9b91f4d5\")>,\n",
       " <selenium.webdriver.remote.webelement.WebElement (session=\"3ce7eb339d675cadb87122665a00de67\", element=\"aa9771ff-5785-4086-96ee-dfc0200aeedc\")>,\n",
       " <selenium.webdriver.remote.webelement.WebElement (session=\"3ce7eb339d675cadb87122665a00de67\", element=\"7f918015-e64d-4a02-9d54-6fca153084da\")>,\n",
       " <selenium.webdriver.remote.webelement.WebElement (session=\"3ce7eb339d675cadb87122665a00de67\", element=\"741a6b27-50d0-4a21-b691-c4b3f0dea4b4\")>,\n",
       " <selenium.webdriver.remote.webelement.WebElement (session=\"3ce7eb339d675cadb87122665a00de67\", element=\"ca466b6c-9dbf-4222-9331-b1f0e18d949a\")>,\n",
       " <selenium.webdriver.remote.webelement.WebElement (session=\"3ce7eb339d675cadb87122665a00de67\", element=\"60ceea62-704e-4646-bdbf-29faf4bf6ec5\")>]"
      ]
     },
     "execution_count": 205,
     "metadata": {},
     "output_type": "execute_result"
    }
   ],
   "source": [
    "#rating\n",
    "rating_tags=driver.find_elements_by_xpath(\"//i[@class='a-icon a-icon-star-small a-star-small-4-5 aok-align-bottom']\")\n",
    "rating_tags"
   ]
  },
  {
   "cell_type": "code",
   "execution_count": 206,
   "metadata": {},
   "outputs": [
    {
     "data": {
      "text/plain": [
       "['',\n",
       " '',\n",
       " '',\n",
       " '',\n",
       " '',\n",
       " '',\n",
       " '',\n",
       " '',\n",
       " '',\n",
       " '',\n",
       " '',\n",
       " '',\n",
       " '',\n",
       " '',\n",
       " '',\n",
       " '',\n",
       " '',\n",
       " '',\n",
       " '',\n",
       " '',\n",
       " '']"
      ]
     },
     "execution_count": 206,
     "metadata": {},
     "output_type": "execute_result"
    }
   ],
   "source": [
    "rating_titles1=[]\n",
    "for i in rating_tags:\n",
    "    rating_titles1.append(i.text)\n",
    "rating_titles1"
   ]
  },
  {
   "cell_type": "code",
   "execution_count": 207,
   "metadata": {},
   "outputs": [
    {
     "name": "stdout",
     "output_type": "stream",
     "text": [
      "24 27 21\n"
     ]
    }
   ],
   "source": [
    "print(len(laptop_titles1),len(price_titles1),len(rating_titles1))"
   ]
  },
  {
   "cell_type": "code",
   "execution_count": 209,
   "metadata": {},
   "outputs": [],
   "source": [
    "#data frame\n",
    "laptop=pd.DataFrame({})\n",
    "laptop['name']=laptop_titles1\n",
    "#laptop['price']=price_titles1\n",
    "#laptop['rating']=rating_titles1"
   ]
  },
  {
   "cell_type": "code",
   "execution_count": 210,
   "metadata": {},
   "outputs": [
    {
     "data": {
      "text/html": [
       "<div>\n",
       "<style scoped>\n",
       "    .dataframe tbody tr th:only-of-type {\n",
       "        vertical-align: middle;\n",
       "    }\n",
       "\n",
       "    .dataframe tbody tr th {\n",
       "        vertical-align: top;\n",
       "    }\n",
       "\n",
       "    .dataframe thead th {\n",
       "        text-align: right;\n",
       "    }\n",
       "</style>\n",
       "<table border=\"1\" class=\"dataframe\">\n",
       "  <thead>\n",
       "    <tr style=\"text-align: right;\">\n",
       "      <th></th>\n",
       "      <th>name</th>\n",
       "    </tr>\n",
       "  </thead>\n",
       "  <tbody>\n",
       "    <tr>\n",
       "      <th>0</th>\n",
       "      <td>2021 Newest Lenovo IdeaPad 3 14\" FHD Premium L...</td>\n",
       "    </tr>\n",
       "    <tr>\n",
       "      <th>1</th>\n",
       "      <td>iProda 14inch Laptop, Intel i3 Notebook (up to...</td>\n",
       "    </tr>\n",
       "    <tr>\n",
       "      <th>2</th>\n",
       "      <td>HP Stream 14-inch Laptop, Intel Celeron N4000,...</td>\n",
       "    </tr>\n",
       "    <tr>\n",
       "      <th>3</th>\n",
       "      <td>2021 Newest Dell Inspiron 3000 Laptop, 15.6 HD...</td>\n",
       "    </tr>\n",
       "    <tr>\n",
       "      <th>4</th>\n",
       "      <td>Acer Aspire 5 Slim Laptop, 15.6 inches Full HD...</td>\n",
       "    </tr>\n",
       "    <tr>\n",
       "      <th>5</th>\n",
       "      <td>Acer Aspire 5 A515-55-378V, 15.6\" Full HD Disp...</td>\n",
       "    </tr>\n",
       "    <tr>\n",
       "      <th>6</th>\n",
       "      <td>ASUS TUF TUF506IU-ES74 Gaming A15 Gaming Lapto...</td>\n",
       "    </tr>\n",
       "    <tr>\n",
       "      <th>7</th>\n",
       "      <td>2021 Newest Dell Inspiron 3000 Laptop, 15.6 HD...</td>\n",
       "    </tr>\n",
       "    <tr>\n",
       "      <th>8</th>\n",
       "      <td>2021 Newest HP 15.6 FHD IPS Touchscreen Laptop...</td>\n",
       "    </tr>\n",
       "    <tr>\n",
       "      <th>9</th>\n",
       "      <td>Asus L510MA-DS04 15.6\" Celeron N4020 4 GB RAM ...</td>\n",
       "    </tr>\n",
       "    <tr>\n",
       "      <th>10</th>\n",
       "      <td>SAMSUNG XE350XBA-K01US Chromebook 4 + Chrome O...</td>\n",
       "    </tr>\n",
       "    <tr>\n",
       "      <th>11</th>\n",
       "      <td>2021 HP Stream 14\" HD Thin and Light Laptop, I...</td>\n",
       "    </tr>\n",
       "    <tr>\n",
       "      <th>12</th>\n",
       "      <td>2021 Newest HP Stream 14-inch HD Laptop, White...</td>\n",
       "    </tr>\n",
       "    <tr>\n",
       "      <th>13</th>\n",
       "      <td>2020 15.6 inch Laptop, IPS Display, Intel 64-b...</td>\n",
       "    </tr>\n",
       "    <tr>\n",
       "      <th>14</th>\n",
       "      <td>Windows Laptop Computer 15.6 inch, 8GB RAM 128...</td>\n",
       "    </tr>\n",
       "    <tr>\n",
       "      <th>15</th>\n",
       "      <td>Microsoft Surface Laptop 4 13.5” Touch-Screen ...</td>\n",
       "    </tr>\n",
       "    <tr>\n",
       "      <th>16</th>\n",
       "      <td>HP Stream 11.6-inch HD Laptop, Intel Celeron N...</td>\n",
       "    </tr>\n",
       "    <tr>\n",
       "      <th>17</th>\n",
       "      <td>Dell Inspiron 15 Laptop (2021 Latest Model), 1...</td>\n",
       "    </tr>\n",
       "    <tr>\n",
       "      <th>18</th>\n",
       "      <td>Used Chromebook in Good Condition C720 Lightwe...</td>\n",
       "    </tr>\n",
       "    <tr>\n",
       "      <th>19</th>\n",
       "      <td>2021 Newest HP 15.6 FHD IPS Touchscreen Laptop...</td>\n",
       "    </tr>\n",
       "    <tr>\n",
       "      <th>20</th>\n",
       "      <td>2021 Newest HP 15.6\" HD Touchscreen Laptop Com...</td>\n",
       "    </tr>\n",
       "    <tr>\n",
       "      <th>21</th>\n",
       "      <td>Dell Inspiron 14 HD High Performance Laptop (2...</td>\n",
       "    </tr>\n",
       "    <tr>\n",
       "      <th>22</th>\n",
       "      <td>Razer Blade 15 Advanced Gaming Laptop 2021: In...</td>\n",
       "    </tr>\n",
       "    <tr>\n",
       "      <th>23</th>\n",
       "      <td>Video Conference Lighting Kit for Remote Worki...</td>\n",
       "    </tr>\n",
       "  </tbody>\n",
       "</table>\n",
       "</div>"
      ],
      "text/plain": [
       "                                                 name\n",
       "0   2021 Newest Lenovo IdeaPad 3 14\" FHD Premium L...\n",
       "1   iProda 14inch Laptop, Intel i3 Notebook (up to...\n",
       "2   HP Stream 14-inch Laptop, Intel Celeron N4000,...\n",
       "3   2021 Newest Dell Inspiron 3000 Laptop, 15.6 HD...\n",
       "4   Acer Aspire 5 Slim Laptop, 15.6 inches Full HD...\n",
       "5   Acer Aspire 5 A515-55-378V, 15.6\" Full HD Disp...\n",
       "6   ASUS TUF TUF506IU-ES74 Gaming A15 Gaming Lapto...\n",
       "7   2021 Newest Dell Inspiron 3000 Laptop, 15.6 HD...\n",
       "8   2021 Newest HP 15.6 FHD IPS Touchscreen Laptop...\n",
       "9   Asus L510MA-DS04 15.6\" Celeron N4020 4 GB RAM ...\n",
       "10  SAMSUNG XE350XBA-K01US Chromebook 4 + Chrome O...\n",
       "11  2021 HP Stream 14\" HD Thin and Light Laptop, I...\n",
       "12  2021 Newest HP Stream 14-inch HD Laptop, White...\n",
       "13  2020 15.6 inch Laptop, IPS Display, Intel 64-b...\n",
       "14  Windows Laptop Computer 15.6 inch, 8GB RAM 128...\n",
       "15  Microsoft Surface Laptop 4 13.5” Touch-Screen ...\n",
       "16  HP Stream 11.6-inch HD Laptop, Intel Celeron N...\n",
       "17  Dell Inspiron 15 Laptop (2021 Latest Model), 1...\n",
       "18  Used Chromebook in Good Condition C720 Lightwe...\n",
       "19  2021 Newest HP 15.6 FHD IPS Touchscreen Laptop...\n",
       "20  2021 Newest HP 15.6\" HD Touchscreen Laptop Com...\n",
       "21  Dell Inspiron 14 HD High Performance Laptop (2...\n",
       "22  Razer Blade 15 Advanced Gaming Laptop 2021: In...\n",
       "23  Video Conference Lighting Kit for Remote Worki..."
      ]
     },
     "execution_count": 210,
     "metadata": {},
     "output_type": "execute_result"
    }
   ],
   "source": [
    "laptop"
   ]
  },
  {
   "cell_type": "code",
   "execution_count": null,
   "metadata": {},
   "outputs": [],
   "source": []
  }
 ],
 "metadata": {
  "kernelspec": {
   "display_name": "Python 3",
   "language": "python",
   "name": "python3"
  },
  "language_info": {
   "codemirror_mode": {
    "name": "ipython",
    "version": 3
   },
   "file_extension": ".py",
   "mimetype": "text/x-python",
   "name": "python",
   "nbconvert_exporter": "python",
   "pygments_lexer": "ipython3",
   "version": "3.8.5"
  }
 },
 "nbformat": 4,
 "nbformat_minor": 4
}
