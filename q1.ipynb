{
 "cells": [
  {
   "cell_type": "markdown",
   "metadata": {},
   "source": [
    "# python program to scrape data for “Data Analyst” Job position in “Bangalore” location"
   ]
  },
  {
   "cell_type": "code",
   "execution_count": 134,
   "metadata": {},
   "outputs": [],
   "source": [
    "#by using selenium and webdriver we are extract the data from website\n",
    "import selenium\n",
    "import pandas as pd\n",
    "from selenium import webdriver"
   ]
  },
  {
   "cell_type": "code",
   "execution_count": 135,
   "metadata": {},
   "outputs": [],
   "source": [
    "#we are using chrome browser as default\n",
    "driver = webdriver.Chrome(\"Chromedriver.exe\")"
   ]
  },
  {
   "cell_type": "code",
   "execution_count": 136,
   "metadata": {},
   "outputs": [],
   "source": [
    "#nakuri website\n",
    "url = 'https://www.naukri.com/'\n",
    "driver.get(url)"
   ]
  },
  {
   "cell_type": "code",
   "execution_count": 137,
   "metadata": {},
   "outputs": [
    {
     "data": {
      "text/plain": [
       "<selenium.webdriver.remote.webelement.WebElement (session=\"cd787e4bbc2dd18167d6f7d89a17a26b\", element=\"b12e46b6-c76f-41c8-a699-43f9e6104b8e\")>"
      ]
     },
     "execution_count": 137,
     "metadata": {},
     "output_type": "execute_result"
    }
   ],
   "source": [
    "#in the search  place we are going to search any word\n",
    "search_job = driver.find_element_by_id(\"qsb-keyword-sugg\")\n",
    "search_job"
   ]
  },
  {
   "cell_type": "code",
   "execution_count": 138,
   "metadata": {},
   "outputs": [],
   "source": [
    "#we sending words for searching\n",
    "search_job.send_keys(\"Data Analyst\")"
   ]
  },
  {
   "cell_type": "code",
   "execution_count": 139,
   "metadata": {},
   "outputs": [
    {
     "data": {
      "text/plain": [
       "<selenium.webdriver.remote.webelement.WebElement (session=\"cd787e4bbc2dd18167d6f7d89a17a26b\", element=\"7b8dacd3-2557-4da8-98ee-4ebaeff4b1e6\")>"
      ]
     },
     "execution_count": 139,
     "metadata": {},
     "output_type": "execute_result"
    }
   ],
   "source": [
    "#in the search  place we are going to search any word\n",
    "search_location = driver.find_element_by_id(\"qsb-location-sugg\")\n",
    "search_location"
   ]
  },
  {
   "cell_type": "code",
   "execution_count": 140,
   "metadata": {},
   "outputs": [],
   "source": [
    "#we sending words for searching\n",
    "search_location.send_keys('Bangalore')"
   ]
  },
  {
   "cell_type": "code",
   "execution_count": 141,
   "metadata": {},
   "outputs": [],
   "source": [
    "#now we going to click the search button\n",
    "search_btn = driver.find_element_by_xpath(\"//button[@class='btn']\")\n",
    "search_btn.click()"
   ]
  },
  {
   "cell_type": "code",
   "execution_count": 161,
   "metadata": {},
   "outputs": [
    {
     "data": {
      "text/plain": [
       "[<selenium.webdriver.remote.webelement.WebElement (session=\"cd787e4bbc2dd18167d6f7d89a17a26b\", element=\"3d7f3577-0f96-4900-b0e6-f6474b95fc2b\")>,\n",
       " <selenium.webdriver.remote.webelement.WebElement (session=\"cd787e4bbc2dd18167d6f7d89a17a26b\", element=\"4f17c42a-9f9c-4e6f-9457-67201b118ba7\")>,\n",
       " <selenium.webdriver.remote.webelement.WebElement (session=\"cd787e4bbc2dd18167d6f7d89a17a26b\", element=\"fca3b11d-3ce1-4065-9f7e-055d190ad513\")>,\n",
       " <selenium.webdriver.remote.webelement.WebElement (session=\"cd787e4bbc2dd18167d6f7d89a17a26b\", element=\"7e5fc3ee-9383-444d-8b03-6532cc9b9093\")>,\n",
       " <selenium.webdriver.remote.webelement.WebElement (session=\"cd787e4bbc2dd18167d6f7d89a17a26b\", element=\"3c7e9f65-b500-4778-a80e-00c5e2ca30a1\")>,\n",
       " <selenium.webdriver.remote.webelement.WebElement (session=\"cd787e4bbc2dd18167d6f7d89a17a26b\", element=\"ca5e62c4-c855-4d7a-b585-0ca4e8632cc3\")>,\n",
       " <selenium.webdriver.remote.webelement.WebElement (session=\"cd787e4bbc2dd18167d6f7d89a17a26b\", element=\"80dfc5a2-0be0-43af-b3fc-11d510f1ba4f\")>,\n",
       " <selenium.webdriver.remote.webelement.WebElement (session=\"cd787e4bbc2dd18167d6f7d89a17a26b\", element=\"4963f779-6ce0-4159-a7d8-7114cfb57e97\")>,\n",
       " <selenium.webdriver.remote.webelement.WebElement (session=\"cd787e4bbc2dd18167d6f7d89a17a26b\", element=\"1396e46d-d4ff-493b-a96e-6f646d5a5b4a\")>,\n",
       " <selenium.webdriver.remote.webelement.WebElement (session=\"cd787e4bbc2dd18167d6f7d89a17a26b\", element=\"95b62d70-01ac-43ae-aa68-56d3663ee424\")>,\n",
       " <selenium.webdriver.remote.webelement.WebElement (session=\"cd787e4bbc2dd18167d6f7d89a17a26b\", element=\"ba0df8b7-15db-4b92-82ab-abbaf82fa1a7\")>,\n",
       " <selenium.webdriver.remote.webelement.WebElement (session=\"cd787e4bbc2dd18167d6f7d89a17a26b\", element=\"75a9fd13-e874-47d9-921e-b92c9c7d1127\")>,\n",
       " <selenium.webdriver.remote.webelement.WebElement (session=\"cd787e4bbc2dd18167d6f7d89a17a26b\", element=\"4a43cf9a-7c82-45d9-8ea1-110c4452089a\")>,\n",
       " <selenium.webdriver.remote.webelement.WebElement (session=\"cd787e4bbc2dd18167d6f7d89a17a26b\", element=\"38d40bd2-e6dc-4eef-8b88-8a2c20ba6522\")>,\n",
       " <selenium.webdriver.remote.webelement.WebElement (session=\"cd787e4bbc2dd18167d6f7d89a17a26b\", element=\"4cd92731-bb6e-4696-ac54-5874c15e8483\")>,\n",
       " <selenium.webdriver.remote.webelement.WebElement (session=\"cd787e4bbc2dd18167d6f7d89a17a26b\", element=\"b6b93399-b52e-4b02-8ab2-42aee054d1fe\")>,\n",
       " <selenium.webdriver.remote.webelement.WebElement (session=\"cd787e4bbc2dd18167d6f7d89a17a26b\", element=\"c3486202-b805-4010-b961-a92508f8652a\")>,\n",
       " <selenium.webdriver.remote.webelement.WebElement (session=\"cd787e4bbc2dd18167d6f7d89a17a26b\", element=\"a3f8d244-3878-4392-80cf-3ca9c6a35217\")>,\n",
       " <selenium.webdriver.remote.webelement.WebElement (session=\"cd787e4bbc2dd18167d6f7d89a17a26b\", element=\"c5635fbc-cb43-4b8d-a87a-72c74562994c\")>,\n",
       " <selenium.webdriver.remote.webelement.WebElement (session=\"cd787e4bbc2dd18167d6f7d89a17a26b\", element=\"12aa4d56-bbce-496d-85e3-6fa0945dd8a1\")>]"
      ]
     },
     "execution_count": 161,
     "metadata": {},
     "output_type": "execute_result"
    }
   ],
   "source": [
    "\n",
    "###we are extracting the title\n",
    "titles_tags=driver.find_elements_by_xpath(\"//a[@class='title fw500 ellipsis']\")\n",
    "titles_tags\n"
   ]
  },
  {
   "cell_type": "code",
   "execution_count": 179,
   "metadata": {},
   "outputs": [
    {
     "data": {
      "text/plain": [
       "['Data Scientist / Data Analyst -Business Analyst',\n",
       " 'Hiring Data Analysts For E commerce Platform || WFH',\n",
       " 'Data Analyst',\n",
       " 'Data Analyst',\n",
       " 'Hiring For Data Analyst/ MIS Reporting Analyst - Bangalore',\n",
       " 'DA - Urgent Opening For Data Analyst BFSI Domain - Pan India',\n",
       " 'Data Analyst - Informatica MDM',\n",
       " 'Data Analyst',\n",
       " 'Assistant Vice President - MIS & Reporting ( Business Data Analyst)',\n",
       " 'Data Analyst',\n",
       " 'Data Analyst',\n",
       " 'Data Analyst',\n",
       " 'Data Analyst',\n",
       " 'Data Analyst',\n",
       " 'Data Analyst',\n",
       " 'LTI Hiring Business Data Analyst - Risk Reporting',\n",
       " 'Sybase SQL with Post trade/ settlement Data Analyst',\n",
       " 'Senior/Regular Business Analyst / Data Analyst',\n",
       " 'Cybersecurity Data Analyst',\n",
       " 'Data Analyst']"
      ]
     },
     "execution_count": 179,
     "metadata": {},
     "output_type": "execute_result"
    }
   ],
   "source": [
    "job_titles1=[]\n",
    "for i in titles_tags:\n",
    "    job_titles1.append(i.text)\n",
    "job_titles1\n",
    "\n",
    "#job_titles1=[]\n",
    "#for i in titles_tags:\n",
    "#    job_titles1.append(i.text)\n",
    "#job_titles1"
   ]
  },
  {
   "cell_type": "code",
   "execution_count": 192,
   "metadata": {},
   "outputs": [
    {
     "data": {
      "text/plain": [
       "['Data Scientist / Data Analyst -Business Analyst',\n",
       " 'Hiring Data Analysts For E commerce Platform || WFH',\n",
       " 'Data Analyst',\n",
       " 'Data Analyst',\n",
       " 'Hiring For Data Analyst/ MIS Reporting Analyst - Bangalore',\n",
       " 'DA - Urgent Opening For Data Analyst BFSI Domain - Pan India',\n",
       " 'Data Analyst - Informatica MDM',\n",
       " 'Data Analyst',\n",
       " 'Assistant Vice President - MIS & Reporting ( Business Data Analyst)',\n",
       " 'Data Analyst',\n",
       " 'Data Analyst',\n",
       " 'Data Analyst',\n",
       " 'Data Analyst',\n",
       " 'Data Analyst',\n",
       " 'Data Analyst',\n",
       " 'LTI Hiring Business Data Analyst - Risk Reporting',\n",
       " 'Sybase SQL with Post trade/ settlement Data Analyst',\n",
       " 'Senior/Regular Business Analyst / Data Analyst',\n",
       " 'Cybersecurity Data Analyst',\n",
       " 'Data Analyst']"
      ]
     },
     "execution_count": 192,
     "metadata": {},
     "output_type": "execute_result"
    }
   ],
   "source": [
    "df=job_titles1\n",
    "df"
   ]
  },
  {
   "cell_type": "code",
   "execution_count": 163,
   "metadata": {},
   "outputs": [
    {
     "data": {
      "text/plain": [
       "20"
      ]
     },
     "execution_count": 163,
     "metadata": {},
     "output_type": "execute_result"
    }
   ],
   "source": [
    "len(job_titles1)"
   ]
  },
  {
   "cell_type": "code",
   "execution_count": 164,
   "metadata": {},
   "outputs": [
    {
     "data": {
      "text/plain": [
       "[<selenium.webdriver.remote.webelement.WebElement (session=\"cd787e4bbc2dd18167d6f7d89a17a26b\", element=\"a4027be4-ae75-46b5-a7f3-046c947d512b\")>,\n",
       " <selenium.webdriver.remote.webelement.WebElement (session=\"cd787e4bbc2dd18167d6f7d89a17a26b\", element=\"cecc19bc-3528-4542-adcc-24f787377a06\")>,\n",
       " <selenium.webdriver.remote.webelement.WebElement (session=\"cd787e4bbc2dd18167d6f7d89a17a26b\", element=\"8328d7f2-74ee-4f4e-82f8-ddf25a6d8253\")>,\n",
       " <selenium.webdriver.remote.webelement.WebElement (session=\"cd787e4bbc2dd18167d6f7d89a17a26b\", element=\"26d510a6-fc1d-4865-b1c9-e509764e5273\")>,\n",
       " <selenium.webdriver.remote.webelement.WebElement (session=\"cd787e4bbc2dd18167d6f7d89a17a26b\", element=\"c022e525-a2ce-454f-a948-92875ded7881\")>,\n",
       " <selenium.webdriver.remote.webelement.WebElement (session=\"cd787e4bbc2dd18167d6f7d89a17a26b\", element=\"eee1d0c8-cf09-4ecc-a495-1d73e79d7b72\")>,\n",
       " <selenium.webdriver.remote.webelement.WebElement (session=\"cd787e4bbc2dd18167d6f7d89a17a26b\", element=\"4987b8ae-290d-4473-a23f-d1098f455774\")>,\n",
       " <selenium.webdriver.remote.webelement.WebElement (session=\"cd787e4bbc2dd18167d6f7d89a17a26b\", element=\"e56b234f-7fb0-4f6e-bfb7-21cbf604dc5e\")>,\n",
       " <selenium.webdriver.remote.webelement.WebElement (session=\"cd787e4bbc2dd18167d6f7d89a17a26b\", element=\"2748946e-876f-4650-81bb-37f00c06d56f\")>,\n",
       " <selenium.webdriver.remote.webelement.WebElement (session=\"cd787e4bbc2dd18167d6f7d89a17a26b\", element=\"bc7c935d-f0a3-45df-909b-616a7c4147f2\")>,\n",
       " <selenium.webdriver.remote.webelement.WebElement (session=\"cd787e4bbc2dd18167d6f7d89a17a26b\", element=\"af54e111-780b-4e82-9c9c-83c3cb6c4f86\")>,\n",
       " <selenium.webdriver.remote.webelement.WebElement (session=\"cd787e4bbc2dd18167d6f7d89a17a26b\", element=\"b8fa87be-8158-4d45-85b2-e023fc8a307f\")>,\n",
       " <selenium.webdriver.remote.webelement.WebElement (session=\"cd787e4bbc2dd18167d6f7d89a17a26b\", element=\"1ed7102f-72d9-4ee4-95ee-6f1669cd9122\")>,\n",
       " <selenium.webdriver.remote.webelement.WebElement (session=\"cd787e4bbc2dd18167d6f7d89a17a26b\", element=\"3117bba1-164c-4872-9645-6af14019f56d\")>,\n",
       " <selenium.webdriver.remote.webelement.WebElement (session=\"cd787e4bbc2dd18167d6f7d89a17a26b\", element=\"0a978568-ee72-4c92-b83c-4dd4b74cd190\")>,\n",
       " <selenium.webdriver.remote.webelement.WebElement (session=\"cd787e4bbc2dd18167d6f7d89a17a26b\", element=\"ecc9cd14-8166-4b5b-9251-ee1c3045865b\")>,\n",
       " <selenium.webdriver.remote.webelement.WebElement (session=\"cd787e4bbc2dd18167d6f7d89a17a26b\", element=\"428eb9d6-0178-4f96-b6bc-c34eaf357467\")>,\n",
       " <selenium.webdriver.remote.webelement.WebElement (session=\"cd787e4bbc2dd18167d6f7d89a17a26b\", element=\"f1ad97f6-2719-4261-8a3a-0dbdbe377aa7\")>,\n",
       " <selenium.webdriver.remote.webelement.WebElement (session=\"cd787e4bbc2dd18167d6f7d89a17a26b\", element=\"c52cad81-e0b6-4773-bb28-5011d99887d7\")>,\n",
       " <selenium.webdriver.remote.webelement.WebElement (session=\"cd787e4bbc2dd18167d6f7d89a17a26b\", element=\"25a10539-0aa1-4723-baf1-10dd478d1b26\")>]"
      ]
     },
     "execution_count": 164,
     "metadata": {},
     "output_type": "execute_result"
    }
   ],
   "source": [
    "location_tage=driver.find_elements_by_xpath(\"//li[@class='fleft grey-text br2 placeHolderLi location']/span\")\n",
    "location_tage\n",
    "\n",
    "# we are extracting the location"
   ]
  },
  {
   "cell_type": "code",
   "execution_count": 165,
   "metadata": {},
   "outputs": [
    {
     "data": {
      "text/plain": [
       "['Mumbai, Hyderabad/Secunderabad, Pune, Gurgaon/Gurugram, Chennai, Bangalore/Bengaluru',\n",
       " 'Bangalore/Bengaluru',\n",
       " 'Bangalore/Bengaluru',\n",
       " 'Bangalore/Bengaluru',\n",
       " 'Bangalore/Bengaluru',\n",
       " 'Kolkata, Hyderabad/Secunderabad, Pune, Ahmedabad, Chennai, Bangalore/Bengaluru, Delhi / NCR, Mumbai (All Areas)',\n",
       " 'Bangalore/Bengaluru',\n",
       " 'Bangalore/Bengaluru',\n",
       " 'Mumbai, Bangalore/Bengaluru',\n",
       " 'Bangalore/Bengaluru',\n",
       " 'Bangalore/Bengaluru',\n",
       " 'Bangalore/Bengaluru',\n",
       " 'Bangalore/Bengaluru',\n",
       " 'Bangalore/Bengaluru',\n",
       " 'Kolkata, Pune, Chennai, Bangalore/Bengaluru, Delhi / NCR, Mumbai (All Areas)',\n",
       " 'Pune, Chennai, Bangalore/Bengaluru',\n",
       " 'Mumbai, Hyderabad/Secunderabad, Pune, Chennai, Bangalore/Bengaluru',\n",
       " 'Bangalore/Bengaluru',\n",
       " 'Bangalore/Bengaluru',\n",
       " 'Bangalore/Bengaluru']"
      ]
     },
     "execution_count": 165,
     "metadata": {},
     "output_type": "execute_result"
    }
   ],
   "source": [
    "job_titles2=[]\n",
    "for i in location_tage:\n",
    "    job_titles2.append(i.text)\n",
    "job_titles2"
   ]
  },
  {
   "cell_type": "code",
   "execution_count": 166,
   "metadata": {},
   "outputs": [
    {
     "data": {
      "text/plain": [
       "[<selenium.webdriver.remote.webelement.WebElement (session=\"cd787e4bbc2dd18167d6f7d89a17a26b\", element=\"b274c168-cb98-4fa4-98e8-f2041f4dd8cc\")>,\n",
       " <selenium.webdriver.remote.webelement.WebElement (session=\"cd787e4bbc2dd18167d6f7d89a17a26b\", element=\"214ca775-d3a3-4218-bce5-ae99ae0acea8\")>,\n",
       " <selenium.webdriver.remote.webelement.WebElement (session=\"cd787e4bbc2dd18167d6f7d89a17a26b\", element=\"5f7ba049-8289-47cf-b77b-eebddb2fb503\")>,\n",
       " <selenium.webdriver.remote.webelement.WebElement (session=\"cd787e4bbc2dd18167d6f7d89a17a26b\", element=\"2d50b4f6-f4d3-48dc-8702-70b263bd3d97\")>,\n",
       " <selenium.webdriver.remote.webelement.WebElement (session=\"cd787e4bbc2dd18167d6f7d89a17a26b\", element=\"c40113d4-aeb8-422e-ba70-ed7029f0c741\")>,\n",
       " <selenium.webdriver.remote.webelement.WebElement (session=\"cd787e4bbc2dd18167d6f7d89a17a26b\", element=\"51d41497-ed0d-4a0e-b6c7-e7be0acd6249\")>,\n",
       " <selenium.webdriver.remote.webelement.WebElement (session=\"cd787e4bbc2dd18167d6f7d89a17a26b\", element=\"d1710e79-14f4-489d-85ff-c6e928c7c160\")>,\n",
       " <selenium.webdriver.remote.webelement.WebElement (session=\"cd787e4bbc2dd18167d6f7d89a17a26b\", element=\"ef4d906e-6e92-4415-8a45-4e474c73f5a1\")>,\n",
       " <selenium.webdriver.remote.webelement.WebElement (session=\"cd787e4bbc2dd18167d6f7d89a17a26b\", element=\"9e8c278b-4bdf-4096-a5fb-72bce0948932\")>,\n",
       " <selenium.webdriver.remote.webelement.WebElement (session=\"cd787e4bbc2dd18167d6f7d89a17a26b\", element=\"42c79ca2-8275-4ea8-a8a9-e8488660244e\")>,\n",
       " <selenium.webdriver.remote.webelement.WebElement (session=\"cd787e4bbc2dd18167d6f7d89a17a26b\", element=\"60e8852d-8b67-4d5a-ac55-e2d6f145ee1e\")>,\n",
       " <selenium.webdriver.remote.webelement.WebElement (session=\"cd787e4bbc2dd18167d6f7d89a17a26b\", element=\"228b30e0-7a61-4f7a-8f7e-cbbd295a9fb0\")>,\n",
       " <selenium.webdriver.remote.webelement.WebElement (session=\"cd787e4bbc2dd18167d6f7d89a17a26b\", element=\"e261ff49-c5de-4825-9625-a33d81e4cf1c\")>,\n",
       " <selenium.webdriver.remote.webelement.WebElement (session=\"cd787e4bbc2dd18167d6f7d89a17a26b\", element=\"03ff16c5-e259-40cc-8720-90c85fec0a5f\")>,\n",
       " <selenium.webdriver.remote.webelement.WebElement (session=\"cd787e4bbc2dd18167d6f7d89a17a26b\", element=\"8c38ddfc-706c-4ddc-966e-fcba3f84c276\")>,\n",
       " <selenium.webdriver.remote.webelement.WebElement (session=\"cd787e4bbc2dd18167d6f7d89a17a26b\", element=\"853bf63e-165f-4b64-9059-d8b5668ed971\")>,\n",
       " <selenium.webdriver.remote.webelement.WebElement (session=\"cd787e4bbc2dd18167d6f7d89a17a26b\", element=\"78720df7-a269-4a90-bed1-106668443749\")>,\n",
       " <selenium.webdriver.remote.webelement.WebElement (session=\"cd787e4bbc2dd18167d6f7d89a17a26b\", element=\"df8a5a3f-e92f-417c-8e8f-4153663a9195\")>,\n",
       " <selenium.webdriver.remote.webelement.WebElement (session=\"cd787e4bbc2dd18167d6f7d89a17a26b\", element=\"7d9e98ef-fbd1-4024-b938-2961b266f762\")>,\n",
       " <selenium.webdriver.remote.webelement.WebElement (session=\"cd787e4bbc2dd18167d6f7d89a17a26b\", element=\"568f8133-952d-4059-950b-17ab133ce67f\")>]"
      ]
     },
     "execution_count": 166,
     "metadata": {},
     "output_type": "execute_result"
    }
   ],
   "source": [
    "#we are extract company name\n",
    "company_tage=driver.find_elements_by_xpath(\"//a[@class='subTitle ellipsis fleft']\")\n",
    "company_tage"
   ]
  },
  {
   "cell_type": "code",
   "execution_count": 167,
   "metadata": {},
   "outputs": [
    {
     "data": {
      "text/plain": [
       "['Inflexion Analytix Private Limited',\n",
       " 'Allegis Services India Pvt. Ltd.',\n",
       " 'Shell India Markets Private Limited',\n",
       " 'Applied Materials',\n",
       " 'PHARMACEUTICAL RESEARCH ASSOCIATES INDIA Pvt Ltd',\n",
       " 'Tata Consultancy Services Ltd.',\n",
       " 'Shell India Markets Private Limited',\n",
       " 'Shell India Markets Private Limited',\n",
       " 'INTERTRUSTVITEOS CORPORATE AND FUND SERVICES PVT. LTD.',\n",
       " 'Myntra Designs Pvt. Ltd.',\n",
       " 'Myntra Designs Pvt. Ltd.',\n",
       " 'Myntra Designs Pvt. Ltd.',\n",
       " 'Myntra Designs Pvt. Ltd.',\n",
       " 'Myntra Designs Pvt. Ltd.',\n",
       " 'SA Tech Software (I) Pvt. Ltd.',\n",
       " 'Larsen & Toubro Infotech Limited',\n",
       " 'Larsen & Toubro Infotech Limited',\n",
       " 'Luxoft',\n",
       " 'Huawei Technologies India Pvt Ltd',\n",
       " 'IBM India Pvt. Limited']"
      ]
     },
     "execution_count": 167,
     "metadata": {},
     "output_type": "execute_result"
    }
   ],
   "source": [
    "job_title3=[]\n",
    "for i in company_tage:\n",
    "    job_title3.append(i.text)\n",
    "job_title3\n",
    "\n"
   ]
  },
  {
   "cell_type": "code",
   "execution_count": 168,
   "metadata": {},
   "outputs": [
    {
     "data": {
      "text/plain": [
       "[<selenium.webdriver.remote.webelement.WebElement (session=\"cd787e4bbc2dd18167d6f7d89a17a26b\", element=\"3892849b-2347-4f55-b3d9-02c7e53e6327\")>,\n",
       " <selenium.webdriver.remote.webelement.WebElement (session=\"cd787e4bbc2dd18167d6f7d89a17a26b\", element=\"9a8cf5b9-7797-401e-aca5-f1c06f817a4c\")>,\n",
       " <selenium.webdriver.remote.webelement.WebElement (session=\"cd787e4bbc2dd18167d6f7d89a17a26b\", element=\"5f186146-8640-4a43-9d73-b2cc26923abd\")>,\n",
       " <selenium.webdriver.remote.webelement.WebElement (session=\"cd787e4bbc2dd18167d6f7d89a17a26b\", element=\"cbd8ea76-6167-4d13-a6ec-382aa6cfa1cf\")>,\n",
       " <selenium.webdriver.remote.webelement.WebElement (session=\"cd787e4bbc2dd18167d6f7d89a17a26b\", element=\"f9327018-4d19-48c5-b741-b5425a6bebab\")>,\n",
       " <selenium.webdriver.remote.webelement.WebElement (session=\"cd787e4bbc2dd18167d6f7d89a17a26b\", element=\"9468ebf4-2673-4339-a595-ddbdeaf56194\")>,\n",
       " <selenium.webdriver.remote.webelement.WebElement (session=\"cd787e4bbc2dd18167d6f7d89a17a26b\", element=\"6620304c-4d65-44aa-9374-234f67030595\")>,\n",
       " <selenium.webdriver.remote.webelement.WebElement (session=\"cd787e4bbc2dd18167d6f7d89a17a26b\", element=\"c63a264c-8050-4352-b587-c5733eb80795\")>,\n",
       " <selenium.webdriver.remote.webelement.WebElement (session=\"cd787e4bbc2dd18167d6f7d89a17a26b\", element=\"9c72409d-eace-4fd0-8a3b-79b82cbcd45f\")>,\n",
       " <selenium.webdriver.remote.webelement.WebElement (session=\"cd787e4bbc2dd18167d6f7d89a17a26b\", element=\"a9386f5a-a16b-408d-8c5d-5b282fb05da5\")>,\n",
       " <selenium.webdriver.remote.webelement.WebElement (session=\"cd787e4bbc2dd18167d6f7d89a17a26b\", element=\"ad7f7295-17d1-4732-81d3-941ac8a9403d\")>,\n",
       " <selenium.webdriver.remote.webelement.WebElement (session=\"cd787e4bbc2dd18167d6f7d89a17a26b\", element=\"e3e9f5a0-e96e-4127-80b8-fd10062007a0\")>,\n",
       " <selenium.webdriver.remote.webelement.WebElement (session=\"cd787e4bbc2dd18167d6f7d89a17a26b\", element=\"7353ff9d-2753-4d6a-9654-60f99ba5c762\")>,\n",
       " <selenium.webdriver.remote.webelement.WebElement (session=\"cd787e4bbc2dd18167d6f7d89a17a26b\", element=\"09c77769-17c5-4df2-9692-269c43a71e69\")>,\n",
       " <selenium.webdriver.remote.webelement.WebElement (session=\"cd787e4bbc2dd18167d6f7d89a17a26b\", element=\"f4615d71-ab68-445c-92aa-5f53639b9eeb\")>,\n",
       " <selenium.webdriver.remote.webelement.WebElement (session=\"cd787e4bbc2dd18167d6f7d89a17a26b\", element=\"51d991b9-397f-4355-bc13-002cc5e44586\")>,\n",
       " <selenium.webdriver.remote.webelement.WebElement (session=\"cd787e4bbc2dd18167d6f7d89a17a26b\", element=\"6d9e312e-c358-4414-9b37-283a5c1e4b05\")>,\n",
       " <selenium.webdriver.remote.webelement.WebElement (session=\"cd787e4bbc2dd18167d6f7d89a17a26b\", element=\"4ad0ee20-c905-420f-b4aa-89c33d848dd7\")>,\n",
       " <selenium.webdriver.remote.webelement.WebElement (session=\"cd787e4bbc2dd18167d6f7d89a17a26b\", element=\"28183475-8735-47e3-93ac-33343475588f\")>,\n",
       " <selenium.webdriver.remote.webelement.WebElement (session=\"cd787e4bbc2dd18167d6f7d89a17a26b\", element=\"bc329bab-0319-4b84-b420-ba03963ba9ec\")>]"
      ]
     },
     "execution_count": 168,
     "metadata": {},
     "output_type": "execute_result"
    }
   ],
   "source": [
    "#we extracting expreience from website\n",
    "exprience_tage=driver.find_elements_by_xpath(\"//li[@class='fleft grey-text br2 placeHolderLi experience']\")\n",
    "exprience_tage"
   ]
  },
  {
   "cell_type": "code",
   "execution_count": 169,
   "metadata": {},
   "outputs": [
    {
     "data": {
      "text/plain": [
       "['0-3 Yrs',\n",
       " '0-5 Yrs',\n",
       " '5-8 Yrs',\n",
       " '7-10 Yrs',\n",
       " '2-4 Yrs',\n",
       " '4-9 Yrs',\n",
       " '6-9 Yrs',\n",
       " '5-8 Yrs',\n",
       " '12-18 Yrs',\n",
       " '3-6 Yrs',\n",
       " '3-6 Yrs',\n",
       " '4-9 Yrs',\n",
       " '4-8 Yrs',\n",
       " '3-6 Yrs',\n",
       " '1-3 Yrs',\n",
       " '7-10 Yrs',\n",
       " '5-9 Yrs',\n",
       " '3-6 Yrs',\n",
       " '5-8 Yrs',\n",
       " '5-10 Yrs']"
      ]
     },
     "execution_count": 169,
     "metadata": {},
     "output_type": "execute_result"
    }
   ],
   "source": [
    "job_title4=[]\n",
    "for i in exprience_tage:\n",
    "    job_title4.append(i.text)\n",
    "job_title4\n"
   ]
  },
  {
   "cell_type": "code",
   "execution_count": 170,
   "metadata": {},
   "outputs": [
    {
     "name": "stdout",
     "output_type": "stream",
     "text": [
      "20 20 20 20\n"
     ]
    }
   ],
   "source": [
    "print(len(job_titles1),len(job_titles2),len(job_title3),len(job_title4))"
   ]
  },
  {
   "cell_type": "code",
   "execution_count": 171,
   "metadata": {},
   "outputs": [],
   "source": [
    "jobs=pd.DataFrame({})\n",
    "jobs['title']=job_titles1\n",
    "jobs['location']=job_titles2\n",
    "jobs['comapny']=job_title3\n",
    "jobs['exprience']=job_title4\n"
   ]
  },
  {
   "cell_type": "code",
   "execution_count": 189,
   "metadata": {},
   "outputs": [
    {
     "data": {
      "text/html": [
       "<div>\n",
       "<style scoped>\n",
       "    .dataframe tbody tr th:only-of-type {\n",
       "        vertical-align: middle;\n",
       "    }\n",
       "\n",
       "    .dataframe tbody tr th {\n",
       "        vertical-align: top;\n",
       "    }\n",
       "\n",
       "    .dataframe thead th {\n",
       "        text-align: right;\n",
       "    }\n",
       "</style>\n",
       "<table border=\"1\" class=\"dataframe\">\n",
       "  <thead>\n",
       "    <tr style=\"text-align: right;\">\n",
       "      <th></th>\n",
       "      <th>title</th>\n",
       "      <th>location</th>\n",
       "      <th>comapny</th>\n",
       "      <th>exprience</th>\n",
       "    </tr>\n",
       "  </thead>\n",
       "  <tbody>\n",
       "    <tr>\n",
       "      <th>0</th>\n",
       "      <td>Data Scientist / Data Analyst -Business Analyst</td>\n",
       "      <td>Mumbai, Hyderabad/Secunderabad, Pune, Gurgaon/...</td>\n",
       "      <td>Inflexion Analytix Private Limited</td>\n",
       "      <td>0-3 Yrs</td>\n",
       "    </tr>\n",
       "    <tr>\n",
       "      <th>1</th>\n",
       "      <td>Hiring Data Analysts For E commerce Platform |...</td>\n",
       "      <td>Bangalore/Bengaluru</td>\n",
       "      <td>Allegis Services India Pvt. Ltd.</td>\n",
       "      <td>0-5 Yrs</td>\n",
       "    </tr>\n",
       "    <tr>\n",
       "      <th>2</th>\n",
       "      <td>Data Analyst</td>\n",
       "      <td>Bangalore/Bengaluru</td>\n",
       "      <td>Shell India Markets Private Limited</td>\n",
       "      <td>5-8 Yrs</td>\n",
       "    </tr>\n",
       "    <tr>\n",
       "      <th>3</th>\n",
       "      <td>Data Analyst</td>\n",
       "      <td>Bangalore/Bengaluru</td>\n",
       "      <td>Applied Materials</td>\n",
       "      <td>7-10 Yrs</td>\n",
       "    </tr>\n",
       "    <tr>\n",
       "      <th>4</th>\n",
       "      <td>Hiring For Data Analyst/ MIS Reporting Analyst...</td>\n",
       "      <td>Bangalore/Bengaluru</td>\n",
       "      <td>PHARMACEUTICAL RESEARCH ASSOCIATES INDIA Pvt Ltd</td>\n",
       "      <td>2-4 Yrs</td>\n",
       "    </tr>\n",
       "    <tr>\n",
       "      <th>5</th>\n",
       "      <td>DA - Urgent Opening For Data Analyst BFSI Doma...</td>\n",
       "      <td>Kolkata, Hyderabad/Secunderabad, Pune, Ahmedab...</td>\n",
       "      <td>Tata Consultancy Services Ltd.</td>\n",
       "      <td>4-9 Yrs</td>\n",
       "    </tr>\n",
       "    <tr>\n",
       "      <th>6</th>\n",
       "      <td>Data Analyst - Informatica MDM</td>\n",
       "      <td>Bangalore/Bengaluru</td>\n",
       "      <td>Shell India Markets Private Limited</td>\n",
       "      <td>6-9 Yrs</td>\n",
       "    </tr>\n",
       "    <tr>\n",
       "      <th>7</th>\n",
       "      <td>Data Analyst</td>\n",
       "      <td>Bangalore/Bengaluru</td>\n",
       "      <td>Shell India Markets Private Limited</td>\n",
       "      <td>5-8 Yrs</td>\n",
       "    </tr>\n",
       "    <tr>\n",
       "      <th>8</th>\n",
       "      <td>Assistant Vice President - MIS &amp; Reporting ( B...</td>\n",
       "      <td>Mumbai, Bangalore/Bengaluru</td>\n",
       "      <td>INTERTRUSTVITEOS CORPORATE AND FUND SERVICES P...</td>\n",
       "      <td>12-18 Yrs</td>\n",
       "    </tr>\n",
       "    <tr>\n",
       "      <th>9</th>\n",
       "      <td>Data Analyst</td>\n",
       "      <td>Bangalore/Bengaluru</td>\n",
       "      <td>Myntra Designs Pvt. Ltd.</td>\n",
       "      <td>3-6 Yrs</td>\n",
       "    </tr>\n",
       "  </tbody>\n",
       "</table>\n",
       "</div>"
      ],
      "text/plain": [
       "                                               title  \\\n",
       "0    Data Scientist / Data Analyst -Business Analyst   \n",
       "1  Hiring Data Analysts For E commerce Platform |...   \n",
       "2                                       Data Analyst   \n",
       "3                                       Data Analyst   \n",
       "4  Hiring For Data Analyst/ MIS Reporting Analyst...   \n",
       "5  DA - Urgent Opening For Data Analyst BFSI Doma...   \n",
       "6                     Data Analyst - Informatica MDM   \n",
       "7                                       Data Analyst   \n",
       "8  Assistant Vice President - MIS & Reporting ( B...   \n",
       "9                                       Data Analyst   \n",
       "\n",
       "                                            location  \\\n",
       "0  Mumbai, Hyderabad/Secunderabad, Pune, Gurgaon/...   \n",
       "1                                Bangalore/Bengaluru   \n",
       "2                                Bangalore/Bengaluru   \n",
       "3                                Bangalore/Bengaluru   \n",
       "4                                Bangalore/Bengaluru   \n",
       "5  Kolkata, Hyderabad/Secunderabad, Pune, Ahmedab...   \n",
       "6                                Bangalore/Bengaluru   \n",
       "7                                Bangalore/Bengaluru   \n",
       "8                        Mumbai, Bangalore/Bengaluru   \n",
       "9                                Bangalore/Bengaluru   \n",
       "\n",
       "                                             comapny  exprience  \n",
       "0                 Inflexion Analytix Private Limited    0-3 Yrs  \n",
       "1                   Allegis Services India Pvt. Ltd.    0-5 Yrs  \n",
       "2                Shell India Markets Private Limited    5-8 Yrs  \n",
       "3                                  Applied Materials   7-10 Yrs  \n",
       "4   PHARMACEUTICAL RESEARCH ASSOCIATES INDIA Pvt Ltd    2-4 Yrs  \n",
       "5                     Tata Consultancy Services Ltd.    4-9 Yrs  \n",
       "6                Shell India Markets Private Limited    6-9 Yrs  \n",
       "7                Shell India Markets Private Limited    5-8 Yrs  \n",
       "8  INTERTRUSTVITEOS CORPORATE AND FUND SERVICES P...  12-18 Yrs  \n",
       "9                           Myntra Designs Pvt. Ltd.    3-6 Yrs  "
      ]
     },
     "execution_count": 189,
     "metadata": {},
     "output_type": "execute_result"
    }
   ],
   "source": [
    "df=jobs\n",
    "df.head(10)"
   ]
  },
  {
   "cell_type": "code",
   "execution_count": null,
   "metadata": {},
   "outputs": [],
   "source": []
  }
 ],
 "metadata": {
  "kernelspec": {
   "display_name": "Python 3",
   "language": "python",
   "name": "python3"
  },
  "language_info": {
   "codemirror_mode": {
    "name": "ipython",
    "version": 3
   },
   "file_extension": ".py",
   "mimetype": "text/x-python",
   "name": "python",
   "nbconvert_exporter": "python",
   "pygments_lexer": "ipython3",
   "version": "3.8.5"
  }
 },
 "nbformat": 4,
 "nbformat_minor": 4
}
